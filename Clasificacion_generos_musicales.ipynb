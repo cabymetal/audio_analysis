{
 "cells": [
  {
   "cell_type": "markdown",
   "metadata": {},
   "source": [
    "# Clasificación de géneros musicales utilizando Kmeans o Knn\n",
    "\n",
    "## Parte 1 (preparación de datos)\n",
    "Se enfoca en la estracción de características de audio de los archivos de audio que se van a utilizar, el objetivo es crear un archivo de datos csv para el entrenamiento de los modelos."
   ]
  },
  {
   "cell_type": "code",
   "execution_count": null,
   "metadata": {},
   "outputs": [],
   "source": [
    "import librosa\n",
    "import IPython.display as ipd\n",
    "import matplotlib.pyplot as plt\n",
    "import librosa.display as plt_dis\n",
    "import numpy as np\n",
    "import csv\n",
    "import os\n",
    "import tqdm\n",
    "import math\n",
    "import pandas as pd"
   ]
  },
  {
   "cell_type": "code",
   "execution_count": null,
   "metadata": {},
   "outputs": [],
   "source": [
    "#lee un archivo de audio y returna un numpy array con el contenido\n",
    "def read_audio_file(filename:str, sample_rate:None):\n",
    "    data, sr = librosa.load(filename, sr=sample_rate)\n",
    "    return data, sr\n",
    "\n",
    "# permite extraer características a partir de una señal de audio y retorna\n",
    "# una medida de tendencia de los datos por cada uno de los valores claves\n",
    "def get_features_form_audio_data(audio_data, sample_rate, method='median'):\n",
    "    rmse = librosa.feature.rms(y=audio_data)\n",
    "    chroma_stft = librosa.feature.chroma_stft(y=audio_data, sr=sample_rate)\n",
    "    spec_cent = librosa.feature.spectral_centroid(y=audio_data, sr=sample_rate)\n",
    "    spec_bw = librosa.feature.spectral_bandwidth(y=audio_data, sr=sample_rate)\n",
    "    rolloff = librosa.feature.spectral_rolloff(y=audio_data, sr=sample_rate)\n",
    "    zcr = librosa.feature.zero_crossing_rate(audio_data) #utilizar suma en vez de media\n",
    "    mfcc = librosa.feature.mfcc(y=audio_data, sr=sample_rate)\n",
    "    mfcc_array = []\n",
    "    if method == 'median':\n",
    "        rmse, chroma_stft, spec_cent, spec_bw, rolloff, zcr = np.median(rmse), np.median(chroma_stft), \\\n",
    "            np.median(spec_cent), np.median(spec_bw), np.median(rolloff), np.sum(zcr)\n",
    "        for freq in mfcc:\n",
    "            mfcc_array.append(np.median(freq))\n",
    "    else:\n",
    "        rmse, chroma_stft, spec_cent, spec_bw, rolloff, zcr = np.mean(rmse), np.mean(chroma_stft), \\\n",
    "            np.mean(spec_cent), np.mean(spec_bw), np.mean(rolloff), np.sum(zcr)\n",
    "        for freq in mfcc:\n",
    "            mfcc_array.append(np.mean(freq))\n",
    "    first, *others = mfcc_array #just for testing could be updated\n",
    "    return [rmse, chroma_stft, spec_cent, spec_bw, rolloff, zcr, first, others]\n",
    "\n",
    "def generate_spectogram_image(filename:str, audio_data:np.array, genre:str, image_folder:str='./spectogram_image'):\n",
    "    if not os.path.exists(image_folder):\n",
    "        os.mkdir(image_folder)\n",
    "    if not os.path.exists(f'{image_folder}/{genre}'):\n",
    "        os.mkdir(f'{image_folder}/{genre}')\n",
    "    \n",
    "    fig, ax = plt.subplots(figsize=(8,8))\n",
    "    spectogram_matrix = librosa.amplitude_to_db(np.abs(librosa.stft(audio_data)), ref=np.max)\n",
    "    colormesh = plt_dis.specshow(spectogram_matrix ,y_axis='linear', x_axis='time', sr=sr, cmap='inferno', ax=ax)\n",
    "    plt.savefig(f'{image_folder}/{genre}/{filename[:-3].replace(\".\", \"\")}.png')\n",
    "    plt.clf()\n",
    "    plt.close('all')\n",
    "\n",
    "def get_section_from_audio(audio_data, sr, seconds = 30):\n",
    "    dur = math.ceil(librosa.get_duration(y=audio_data, sr=sr))\n",
    "    steps = (dur // seconds) - 1\n",
    "    section = len(audio_data) // steps\n",
    "    for i in range(steps):\n",
    "        yield audio_data[section*i: section*(i+1)], f'part_{i}'\n",
    "    \n",
    "    "
   ]
  },
  {
   "cell_type": "code",
   "execution_count": null,
   "metadata": {},
   "outputs": [],
   "source": [
    "AUDIO_FILE = './assets/Audio/Death on the Balcony - Tempt Of Fate.wav'\n",
    "audio_data, sr = read_audio_file(AUDIO_FILE, 44100)\n",
    "ipd.Audio(audio_data, rate=sr)"
   ]
  },
  {
   "cell_type": "code",
   "execution_count": null,
   "metadata": {},
   "outputs": [],
   "source": [
    "max(audio_data), min(audio_data)"
   ]
  },
  {
   "cell_type": "code",
   "execution_count": null,
   "metadata": {},
   "outputs": [],
   "source": [
    "mfcc = librosa.feature.mfcc(y=audio_data, sr=sr)\n",
    "mfcc.shape"
   ]
  },
  {
   "cell_type": "markdown",
   "metadata": {},
   "source": [
    "Debido a la duración del audio este tipo de análisis se hacen complejos por este motivo se propone descomponer el audio en secciones para ello se utiliza la función `get_section_from_audio` que obtiene partes del audio de manera secuencial para generar la data."
   ]
  },
  {
   "cell_type": "code",
   "execution_count": null,
   "metadata": {},
   "outputs": [],
   "source": [
    "plt_dis.waveshow(audio_data, sr=sr)"
   ]
  },
  {
   "cell_type": "code",
   "execution_count": null,
   "metadata": {},
   "outputs": [],
   "source": [
    "spectogram_matrix = librosa.amplitude_to_db(np.abs(librosa.stft(audio_data)), ref=np.max)\n",
    "plt_dis.specshow(spectogram_matrix ,y_axis='linear', x_axis='time', sr=sr)"
   ]
  },
  {
   "cell_type": "markdown",
   "metadata": {},
   "source": [
    "## Extracción de variables\n",
    "Se crea un proceso en el cual a partir de los audios almacenados en la carpeta `assets/Audio/` son procesados en secciones de 30 segundos, para obtener variables que nos servirán para el análisis, de clasificación, este acercamiento se basa en la idea, en que este género musical que se analiza, tiene un patrón repetitivo durante toda la canción por lo que se espera que las partes analizadas tengan un patrón similar."
   ]
  },
  {
   "cell_type": "code",
   "execution_count": null,
   "metadata": {},
   "outputs": [],
   "source": [
    "BASE = './assets/Audio'\n",
    "header = \"filename;part;chroma_stft;rmse;spectral_centroid;spectral_bandwidth;rolloff;zero_crossing_rate\"\n",
    "for i in range(1, 21):\n",
    "    header += f';mfcc{i}'\n",
    "header += ';label'\n",
    "header = header.split(';')\n",
    "\n",
    "with open('out_dataset.csv', 'w', newline='') as file:\n",
    "    writer = csv.writer(file, delimiter=';')\n",
    "    writer.writerow(header)\n",
    "\n",
    "label = 0\n",
    "for filename in tqdm.tqdm(os.listdir(f'{BASE}')) :\n",
    "    complete_filename = f'{BASE}/{filename}'\n",
    "    audio_data, sr = read_audio_file(complete_filename, 44100)\n",
    "    section_generator = get_section_from_audio(audio_data,sr,15) \n",
    "    for section, part in section_generator:\n",
    "        \n",
    "        temp_filename = filename[:-3].replace(\".\", \"\") + '_' + part + '.wav'\n",
    "        #generar imagen de espectograma (futuros análisis)\n",
    "        generate_spectogram_image(temp_filename, section, 'spectograms', './assets')\n",
    "        \n",
    "        #extraer características del audio para crear un archivo csv\n",
    "        row = [filename, part] + get_features_form_audio_data(section, sr)\n",
    "        str_row = \";\".join([str(x) for x in row[:-1]])+ \";\"\n",
    "        str_row += \";\".join([str(x) for x in row[-1]])\n",
    "        str_row += f\";{str(label)}\"\n",
    "        \n",
    "        with  open('out_dataset.csv', 'a', newline='') as file:\n",
    "            writer = csv.writer(file, delimiter=';')\n",
    "            writer.writerow(str_row.split(';'))\n",
    "    label = label + 1\n",
    "        "
   ]
  },
  {
   "cell_type": "markdown",
   "metadata": {},
   "source": [
    "A esta data se le agrega una clasificación que se hizo a priori en el cual hay 4 posibles clasificaciones que se tomaron de manera manual en 4 grupos:\n",
    "\n",
    "|cluster | nombre | descripcion |\n",
    "|---|---|--------|\n",
    "| 1  |tranqui   | diria que son ritmos más para actividades tranquilas pero que mantienen el ritmo de ambiente de dance, no son lo suficientemente \"upbeat\" para inspirar fiesta pero si se podría llegar a mezclar con el grupo número 2 |\n",
    "| 2  |dance   | para escuchar por amantes del género en cualquier ambiente |\n",
    "| 3  |muy relax   | música dance pero para actividades tranquilas como estudio |\n",
    "| 4  |fiesta | música para escuchar en un ambiente bailable |"
   ]
  },
  {
   "cell_type": "code",
   "execution_count": null,
   "metadata": {},
   "outputs": [],
   "source": [
    "df = pd.read_csv('./out_dataset.csv', delimiter=';')\n",
    "df_clas = pd.read_excel('./clasificacion a priori.xlsx')"
   ]
  },
  {
   "cell_type": "code",
   "execution_count": null,
   "metadata": {},
   "outputs": [],
   "source": [
    "data = df_clas.iloc[:, [0, 4]].merge(df, how='right', left_on='Unnamed: 0', right_on='filename')"
   ]
  },
  {
   "cell_type": "code",
   "execution_count": null,
   "metadata": {},
   "outputs": [],
   "source": [
    "data.drop_duplicates(subset=['filename']).groupby(by='grupo', as_index=False).count().loc[:, ['grupo', 'filename']]"
   ]
  },
  {
   "cell_type": "markdown",
   "metadata": {},
   "source": [
    "## Detección de variables importantes por cluster\n",
    "\n",
    "Para cada uno de los grupos se busca determinar cuales son las variables que los representan mejor... *pendiente* para grupo 1 y 4"
   ]
  },
  {
   "cell_type": "markdown",
   "metadata": {},
   "source": [
    "## Parte 2\n",
    "\n",
    "tomar el archivo de entrada para entrenar los modelos de calsificación, examinaremos la data y realizaremos escalamiento en caso de ser necesario para algunas variables."
   ]
  },
  {
   "cell_type": "code",
   "execution_count": null,
   "metadata": {},
   "outputs": [],
   "source": [
    "df = pd.read_csv('./out_dataset.csv', delimiter=';')"
   ]
  },
  {
   "cell_type": "code",
   "execution_count": null,
   "metadata": {},
   "outputs": [],
   "source": [
    "df.head()"
   ]
  },
  {
   "cell_type": "code",
   "execution_count": null,
   "metadata": {
    "scrolled": false
   },
   "outputs": [],
   "source": [
    "df.describe()"
   ]
  },
  {
   "cell_type": "code",
   "execution_count": null,
   "metadata": {
    "scrolled": true
   },
   "outputs": [],
   "source": [
    "df.info()"
   ]
  },
  {
   "cell_type": "code",
   "execution_count": null,
   "metadata": {},
   "outputs": [],
   "source": [
    "df['mfcc1'].plot(kind='box', vert=False)"
   ]
  },
  {
   "cell_type": "code",
   "execution_count": null,
   "metadata": {},
   "outputs": [],
   "source": [
    "ax = df['mfcc1'].plot(kind='density')\n",
    "ax.axvline(df['mfcc1'].mean(), color=\"red\")\n",
    "ax.axvline(df['mfcc1'].median(), color=\"green\")"
   ]
  },
  {
   "cell_type": "code",
   "execution_count": null,
   "metadata": {},
   "outputs": [],
   "source": [
    "df['mfcc1'].plot(kind='hist')"
   ]
  },
  {
   "cell_type": "code",
   "execution_count": null,
   "metadata": {
    "scrolled": true
   },
   "outputs": [],
   "source": [
    "df.corr()"
   ]
  },
  {
   "cell_type": "markdown",
   "metadata": {},
   "source": [
    "## Parte 3 modelo de clasificación\n"
   ]
  },
  {
   "cell_type": "code",
   "execution_count": null,
   "metadata": {},
   "outputs": [],
   "source": [
    "df_clas = df.iloc[:, 2:-1]\n",
    "df_clas.head()"
   ]
  },
  {
   "cell_type": "code",
   "execution_count": null,
   "metadata": {},
   "outputs": [],
   "source": [
    "from sklearn.preprocessing import normalize\n",
    "from sklearn.cluster import KMeans\n",
    "from sklearn.model_selection import train_test_split\n",
    "from sklearn.neighbors import KNeighborsClassifier\n",
    "import matplotlib.pyplot as plt"
   ]
  },
  {
   "cell_type": "code",
   "execution_count": null,
   "metadata": {},
   "outputs": [],
   "source": [
    "df_clas = pd.DataFrame(normalize(df_clas), columns=df_clas.columns).drop_duplicates() #para modelos de clasificación valores duplicados son ruido\n",
    "\n",
    "kmeans = [KMeans(n_clusters=i) for i in range(1, 20)]\n",
    "score = [kmeans[i].fit(df_clas).score(df_clas) for i in range(len(kmeans))]\n",
    "\n",
    "\n",
    "plt.plot(range(1, 20),score)\n",
    "plt.xlabel('Number of Clusters')\n",
    "plt.ylabel('Score')\n",
    "plt.axvline(x = 4, color = 'r', label = 'punto de eficiencia')\n",
    "plt.axvline(x = 3, color = 'r', label = 'punto de eficiencia')\n",
    "plt.title('Elbow Curve')\n",
    "plt.show()"
   ]
  },
  {
   "cell_type": "markdown",
   "metadata": {},
   "source": [
    "Es un resultado interesante porque nos muestra que hay entre 3 o 4 grupos que se pueden extraer de la data que coinciden con la clasificación a priori que se realizó en el paso 2"
   ]
  },
  {
   "cell_type": "code",
   "execution_count": null,
   "metadata": {},
   "outputs": [],
   "source": [
    "model = KMeans(n_clusters=4)\n",
    "model.fit(df_clas)\n",
    "yhat = model.predict(df_clas)"
   ]
  },
  {
   "cell_type": "code",
   "execution_count": null,
   "metadata": {},
   "outputs": [],
   "source": [
    "centers = model.cluster_centers_\n",
    "centers = pd.DataFrame(centers)\n",
    "centers.columns = df_clas.columns\n",
    "centers"
   ]
  },
  {
   "cell_type": "code",
   "execution_count": null,
   "metadata": {},
   "outputs": [],
   "source": [
    "data2 = data.merge(df_clas, left_index=True, right_index=True)\n",
    "data2['yhat'] = yhat\n",
    "data2['grupo'] = data2['grupo']-1"
   ]
  },
  {
   "cell_type": "code",
   "execution_count": null,
   "metadata": {},
   "outputs": [],
   "source": [
    "np.mean(data2['yhat'] == data2['grupo'])"
   ]
  },
  {
   "cell_type": "markdown",
   "metadata": {},
   "source": [
    "## Se descarta KNN\n",
    "\n",
    "Por estos datos lo mejor es continuar con un acercamiento automático"
   ]
  },
  {
   "cell_type": "code",
   "execution_count": null,
   "metadata": {},
   "outputs": [],
   "source": [
    "X = df_clas\n",
    "y = data2['yhat']\n",
    "X_train, X_test, y_train, y_test = train_test_split(X, y, test_size=0.20, random_state=12) #replicability\n",
    "error = []\n",
    "for i in range(1, 25):\n",
    "    knn = KNeighborsClassifier(n_neighbors=i)\n",
    "    knn.fit(X_train, y_train)\n",
    "    pred_i = knn.predict(X_test)\n",
    "    error.append(np.mean(pred_i != y_test))\n",
    "\n",
    "#graficar resultados\n",
    "plt.figure(figsize=(12, 6))\n",
    "plt.plot(range(1, 25), error, color='black', marker='x',markersize=10)\n",
    "plt.title('Error del K medio (variables numericas)') #knn trabaja mejo\n",
    "plt.xlabel('Valor de K')\n",
    "plt.ylabel('Error medio')"
   ]
  }
 ],
 "metadata": {
  "kernelspec": {
   "display_name": "Python 3",
   "language": "python",
   "name": "python3"
  },
  "language_info": {
   "codemirror_mode": {
    "name": "ipython",
    "version": 3
   },
   "file_extension": ".py",
   "mimetype": "text/x-python",
   "name": "python",
   "nbconvert_exporter": "python",
   "pygments_lexer": "ipython3",
   "version": "3.8.10"
  }
 },
 "nbformat": 4,
 "nbformat_minor": 4
}
