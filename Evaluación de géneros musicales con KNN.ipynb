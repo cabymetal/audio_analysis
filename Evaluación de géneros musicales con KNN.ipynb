{
 "cells": [
  {
   "cell_type": "markdown",
   "metadata": {},
   "source": [
    "## Clasificación utilizando KNN\n",
    "\n",
    "En este notebook lo utilizaremos para comparar los resultados que arroja K-means con un acercamiento de KNN, al ser un tema de géneros musicales, la clasificación inicial ya contiene un bias pues la clasificación se realiza de manera subjetiva y se debe tener esto en cuenta, para el análisis de los resultados.\n",
    "\n",
    "Se toma la data de secciones de canción que contienen la **sección central** que se realizó en el notebook anterior"
   ]
  },
  {
   "cell_type": "code",
   "execution_count": 29,
   "metadata": {},
   "outputs": [
    {
     "data": {
      "text/html": [
       "<div>\n",
       "<style scoped>\n",
       "    .dataframe tbody tr th:only-of-type {\n",
       "        vertical-align: middle;\n",
       "    }\n",
       "\n",
       "    .dataframe tbody tr th {\n",
       "        vertical-align: top;\n",
       "    }\n",
       "\n",
       "    .dataframe thead th {\n",
       "        text-align: right;\n",
       "    }\n",
       "</style>\n",
       "<table border=\"1\" class=\"dataframe\">\n",
       "  <thead>\n",
       "    <tr style=\"text-align: right;\">\n",
       "      <th></th>\n",
       "      <th>Unnamed: 0</th>\n",
       "      <th>Unnamed: 0.1</th>\n",
       "      <th>grupo</th>\n",
       "      <th>filename</th>\n",
       "      <th>part</th>\n",
       "      <th>amplitude_envelope</th>\n",
       "      <th>chroma_stft</th>\n",
       "      <th>rmse</th>\n",
       "      <th>spectral_centroid</th>\n",
       "      <th>spectral_bandwidth</th>\n",
       "      <th>...</th>\n",
       "      <th>mfcc17</th>\n",
       "      <th>mfcc18</th>\n",
       "      <th>mfcc19</th>\n",
       "      <th>mfcc20</th>\n",
       "      <th>label</th>\n",
       "      <th>rmse_norm</th>\n",
       "      <th>spectral_centroid_norm</th>\n",
       "      <th>ratio</th>\n",
       "      <th>rank</th>\n",
       "      <th>parts_per_song</th>\n",
       "    </tr>\n",
       "  </thead>\n",
       "  <tbody>\n",
       "    <tr>\n",
       "      <th>0</th>\n",
       "      <td>5</td>\n",
       "      <td>Death on the Balcony - Tempt Of Fate.wav</td>\n",
       "      <td>1</td>\n",
       "      <td>Death on the Balcony - Tempt Of Fate.wav</td>\n",
       "      <td>part_5</td>\n",
       "      <td>0.822617</td>\n",
       "      <td>0.242730</td>\n",
       "      <td>0.389962</td>\n",
       "      <td>4207.524443</td>\n",
       "      <td>4478.295692</td>\n",
       "      <td>...</td>\n",
       "      <td>-3.063989</td>\n",
       "      <td>6.156282</td>\n",
       "      <td>4.394158</td>\n",
       "      <td>6.748927</td>\n",
       "      <td>0</td>\n",
       "      <td>0.745748</td>\n",
       "      <td>0.903526</td>\n",
       "      <td>1.211570</td>\n",
       "      <td>11.0</td>\n",
       "      <td>28.0</td>\n",
       "    </tr>\n",
       "    <tr>\n",
       "      <th>1</th>\n",
       "      <td>10</td>\n",
       "      <td>Death on the Balcony - Tempt Of Fate.wav</td>\n",
       "      <td>1</td>\n",
       "      <td>Death on the Balcony - Tempt Of Fate.wav</td>\n",
       "      <td>part_10</td>\n",
       "      <td>0.841110</td>\n",
       "      <td>0.246409</td>\n",
       "      <td>0.394201</td>\n",
       "      <td>3998.448896</td>\n",
       "      <td>4457.312863</td>\n",
       "      <td>...</td>\n",
       "      <td>-2.447684</td>\n",
       "      <td>5.184586</td>\n",
       "      <td>0.994026</td>\n",
       "      <td>3.922777</td>\n",
       "      <td>0</td>\n",
       "      <td>0.762745</td>\n",
       "      <td>0.782165</td>\n",
       "      <td>1.025461</td>\n",
       "      <td>16.0</td>\n",
       "      <td>28.0</td>\n",
       "    </tr>\n",
       "  </tbody>\n",
       "</table>\n",
       "<p>2 rows × 38 columns</p>\n",
       "</div>"
      ],
      "text/plain": [
       "   Unnamed: 0                              Unnamed: 0.1  grupo  \\\n",
       "0           5  Death on the Balcony - Tempt Of Fate.wav      1   \n",
       "1          10  Death on the Balcony - Tempt Of Fate.wav      1   \n",
       "\n",
       "                                   filename     part  amplitude_envelope  \\\n",
       "0  Death on the Balcony - Tempt Of Fate.wav   part_5            0.822617   \n",
       "1  Death on the Balcony - Tempt Of Fate.wav  part_10            0.841110   \n",
       "\n",
       "   chroma_stft      rmse  spectral_centroid  spectral_bandwidth  ...  \\\n",
       "0     0.242730  0.389962        4207.524443         4478.295692  ...   \n",
       "1     0.246409  0.394201        3998.448896         4457.312863  ...   \n",
       "\n",
       "     mfcc17    mfcc18    mfcc19    mfcc20  label  rmse_norm  \\\n",
       "0 -3.063989  6.156282  4.394158  6.748927      0   0.745748   \n",
       "1 -2.447684  5.184586  0.994026  3.922777      0   0.762745   \n",
       "\n",
       "   spectral_centroid_norm     ratio  rank  parts_per_song  \n",
       "0                0.903526  1.211570  11.0            28.0  \n",
       "1                0.782165  1.025461  16.0            28.0  \n",
       "\n",
       "[2 rows x 38 columns]"
      ]
     },
     "execution_count": 29,
     "metadata": {},
     "output_type": "execute_result"
    }
   ],
   "source": [
    "import pandas as pd\n",
    "from sklearn.preprocessing import MinMaxScaler\n",
    "import numpy as np\n",
    "import matplotlib.pyplot as plt\n",
    "df = pd.read_csv('./out_dataset_1.csv', delimiter=';')\n",
    "df.head(2)"
   ]
  },
  {
   "cell_type": "code",
   "execution_count": 30,
   "metadata": {},
   "outputs": [
    {
     "data": {
      "text/html": [
       "<div>\n",
       "<style scoped>\n",
       "    .dataframe tbody tr th:only-of-type {\n",
       "        vertical-align: middle;\n",
       "    }\n",
       "\n",
       "    .dataframe tbody tr th {\n",
       "        vertical-align: top;\n",
       "    }\n",
       "\n",
       "    .dataframe thead th {\n",
       "        text-align: right;\n",
       "    }\n",
       "</style>\n",
       "<table border=\"1\" class=\"dataframe\">\n",
       "  <thead>\n",
       "    <tr style=\"text-align: right;\">\n",
       "      <th></th>\n",
       "      <th>grupo</th>\n",
       "      <th>filename</th>\n",
       "    </tr>\n",
       "  </thead>\n",
       "  <tbody>\n",
       "    <tr>\n",
       "      <th>0</th>\n",
       "      <td>1</td>\n",
       "      <td>15</td>\n",
       "    </tr>\n",
       "    <tr>\n",
       "      <th>1</th>\n",
       "      <td>2</td>\n",
       "      <td>17</td>\n",
       "    </tr>\n",
       "    <tr>\n",
       "      <th>2</th>\n",
       "      <td>3</td>\n",
       "      <td>10</td>\n",
       "    </tr>\n",
       "    <tr>\n",
       "      <th>3</th>\n",
       "      <td>4</td>\n",
       "      <td>11</td>\n",
       "    </tr>\n",
       "  </tbody>\n",
       "</table>\n",
       "</div>"
      ],
      "text/plain": [
       "   grupo  filename\n",
       "0      1        15\n",
       "1      2        17\n",
       "2      3        10\n",
       "3      4        11"
      ]
     },
     "execution_count": 30,
     "metadata": {},
     "output_type": "execute_result"
    }
   ],
   "source": [
    "df.drop_duplicates(subset=['filename']).groupby(by='grupo', as_index=False).count().loc[:, ['grupo', 'filename']]"
   ]
  },
  {
   "cell_type": "code",
   "execution_count": 31,
   "metadata": {},
   "outputs": [],
   "source": [
    "df['grupo'] = df['grupo'] - 1"
   ]
  },
  {
   "cell_type": "code",
   "execution_count": 32,
   "metadata": {},
   "outputs": [],
   "source": [
    "df_clas = df.iloc[:, 2:-6]\n",
    "columns = ['filename', 'grupo', 'amplitude_envelope', 'rmse', 'zero_crossing_rate', 'spectral_centroid'] # se agrega una columna\n",
    "                                                                                             # que sirve de etiqueta\n",
    "                                                                                             # que es grupo\n",
    "mfcc_cols = [f'mfcc{x+1}' for x in range(13)]\n",
    "columns = columns + mfcc_cols"
   ]
  },
  {
   "cell_type": "code",
   "execution_count": 33,
   "metadata": {},
   "outputs": [
    {
     "data": {
      "text/plain": [
       "(824, 19)"
      ]
     },
     "execution_count": 33,
     "metadata": {},
     "output_type": "execute_result"
    }
   ],
   "source": [
    "df_clas = df_clas.loc[:, columns]\n",
    "df_clas.drop_duplicates(subset=[x for x in columns if x !='filename'], inplace=True)\n",
    "df_clas.shape\n"
   ]
  },
  {
   "cell_type": "code",
   "execution_count": 34,
   "metadata": {},
   "outputs": [
    {
     "data": {
      "text/plain": [
       "(805, 17)"
      ]
     },
     "execution_count": 34,
     "metadata": {},
     "output_type": "execute_result"
    }
   ],
   "source": [
    "df_clas_ = df_clas.set_index([pd.Series(range(0,824)),'filename' , 'grupo'])\n",
    "df_clas_.index.names = ['id', 'f', 'grupo']\n",
    "\n",
    "x = df_clas_.to_numpy()\n",
    "min_max_scaler = MinMaxScaler()\n",
    "x_scaled = min_max_scaler.fit_transform(x)\n",
    "df_clas_ = pd.DataFrame(x_scaled, columns=df_clas_.columns, index=df_clas_.index)\n",
    "df_clas_.drop_duplicates(inplace=True) #para modelos de clasificación valores duplicados son ruido\n",
    "df_clas_.shape"
   ]
  },
  {
   "cell_type": "code",
   "execution_count": 35,
   "metadata": {},
   "outputs": [
    {
     "data": {
      "text/html": [
       "<div>\n",
       "<style scoped>\n",
       "    .dataframe tbody tr th:only-of-type {\n",
       "        vertical-align: middle;\n",
       "    }\n",
       "\n",
       "    .dataframe tbody tr th {\n",
       "        vertical-align: top;\n",
       "    }\n",
       "\n",
       "    .dataframe thead th {\n",
       "        text-align: right;\n",
       "    }\n",
       "</style>\n",
       "<table border=\"1\" class=\"dataframe\">\n",
       "  <thead>\n",
       "    <tr style=\"text-align: right;\">\n",
       "      <th></th>\n",
       "      <th></th>\n",
       "      <th></th>\n",
       "      <th>amplitude_envelope</th>\n",
       "      <th>rmse</th>\n",
       "      <th>zero_crossing_rate</th>\n",
       "      <th>spectral_centroid</th>\n",
       "      <th>mfcc1</th>\n",
       "      <th>mfcc2</th>\n",
       "      <th>mfcc3</th>\n",
       "      <th>mfcc4</th>\n",
       "      <th>mfcc5</th>\n",
       "      <th>mfcc6</th>\n",
       "      <th>mfcc7</th>\n",
       "      <th>mfcc8</th>\n",
       "      <th>mfcc9</th>\n",
       "      <th>mfcc10</th>\n",
       "      <th>mfcc11</th>\n",
       "      <th>mfcc12</th>\n",
       "      <th>mfcc13</th>\n",
       "    </tr>\n",
       "    <tr>\n",
       "      <th>id</th>\n",
       "      <th>f</th>\n",
       "      <th>grupo</th>\n",
       "      <th></th>\n",
       "      <th></th>\n",
       "      <th></th>\n",
       "      <th></th>\n",
       "      <th></th>\n",
       "      <th></th>\n",
       "      <th></th>\n",
       "      <th></th>\n",
       "      <th></th>\n",
       "      <th></th>\n",
       "      <th></th>\n",
       "      <th></th>\n",
       "      <th></th>\n",
       "      <th></th>\n",
       "      <th></th>\n",
       "      <th></th>\n",
       "      <th></th>\n",
       "    </tr>\n",
       "  </thead>\n",
       "  <tbody>\n",
       "    <tr>\n",
       "      <th>0</th>\n",
       "      <th>Death on the Balcony - Tempt Of Fate.wav</th>\n",
       "      <th>0</th>\n",
       "      <td>0.827477</td>\n",
       "      <td>0.487434</td>\n",
       "      <td>0.220362</td>\n",
       "      <td>0.487761</td>\n",
       "      <td>0.761661</td>\n",
       "      <td>0.442777</td>\n",
       "      <td>0.572400</td>\n",
       "      <td>0.716906</td>\n",
       "      <td>0.585258</td>\n",
       "      <td>0.613386</td>\n",
       "      <td>0.638404</td>\n",
       "      <td>0.522682</td>\n",
       "      <td>0.647633</td>\n",
       "      <td>0.586720</td>\n",
       "      <td>0.689726</td>\n",
       "      <td>0.599855</td>\n",
       "      <td>0.710699</td>\n",
       "    </tr>\n",
       "    <tr>\n",
       "      <th>1</th>\n",
       "      <th>Death on the Balcony - Tempt Of Fate.wav</th>\n",
       "      <th>0</th>\n",
       "      <td>0.846159</td>\n",
       "      <td>0.494233</td>\n",
       "      <td>0.170798</td>\n",
       "      <td>0.460045</td>\n",
       "      <td>0.774409</td>\n",
       "      <td>0.494728</td>\n",
       "      <td>0.605403</td>\n",
       "      <td>0.714941</td>\n",
       "      <td>0.551760</td>\n",
       "      <td>0.574584</td>\n",
       "      <td>0.651360</td>\n",
       "      <td>0.578035</td>\n",
       "      <td>0.673465</td>\n",
       "      <td>0.552520</td>\n",
       "      <td>0.627821</td>\n",
       "      <td>0.545576</td>\n",
       "      <td>0.695615</td>\n",
       "    </tr>\n",
       "    <tr>\n",
       "      <th>2</th>\n",
       "      <th>Death on the Balcony - Tempt Of Fate.wav</th>\n",
       "      <th>0</th>\n",
       "      <td>0.846575</td>\n",
       "      <td>0.481144</td>\n",
       "      <td>0.195671</td>\n",
       "      <td>0.463654</td>\n",
       "      <td>0.804492</td>\n",
       "      <td>0.494404</td>\n",
       "      <td>0.491220</td>\n",
       "      <td>0.707361</td>\n",
       "      <td>0.600223</td>\n",
       "      <td>0.496904</td>\n",
       "      <td>0.616187</td>\n",
       "      <td>0.664911</td>\n",
       "      <td>0.711228</td>\n",
       "      <td>0.520859</td>\n",
       "      <td>0.623124</td>\n",
       "      <td>0.509122</td>\n",
       "      <td>0.681869</td>\n",
       "    </tr>\n",
       "    <tr>\n",
       "      <th>3</th>\n",
       "      <th>Death on the Balcony - Tempt Of Fate.wav</th>\n",
       "      <th>0</th>\n",
       "      <td>0.869959</td>\n",
       "      <td>0.363782</td>\n",
       "      <td>0.165357</td>\n",
       "      <td>0.413284</td>\n",
       "      <td>0.839015</td>\n",
       "      <td>0.569309</td>\n",
       "      <td>0.470292</td>\n",
       "      <td>0.636919</td>\n",
       "      <td>0.554298</td>\n",
       "      <td>0.504626</td>\n",
       "      <td>0.584298</td>\n",
       "      <td>0.602531</td>\n",
       "      <td>0.656849</td>\n",
       "      <td>0.403715</td>\n",
       "      <td>0.535277</td>\n",
       "      <td>0.443619</td>\n",
       "      <td>0.693582</td>\n",
       "    </tr>\n",
       "    <tr>\n",
       "      <th>4</th>\n",
       "      <th>Death on the Balcony - Tempt Of Fate.wav</th>\n",
       "      <th>0</th>\n",
       "      <td>0.869419</td>\n",
       "      <td>0.500944</td>\n",
       "      <td>0.202953</td>\n",
       "      <td>0.466112</td>\n",
       "      <td>0.767444</td>\n",
       "      <td>0.414556</td>\n",
       "      <td>0.607569</td>\n",
       "      <td>0.784520</td>\n",
       "      <td>0.586283</td>\n",
       "      <td>0.789201</td>\n",
       "      <td>0.588792</td>\n",
       "      <td>0.688735</td>\n",
       "      <td>0.677278</td>\n",
       "      <td>0.588979</td>\n",
       "      <td>0.683868</td>\n",
       "      <td>0.521175</td>\n",
       "      <td>0.689632</td>\n",
       "    </tr>\n",
       "  </tbody>\n",
       "</table>\n",
       "</div>"
      ],
      "text/plain": [
       "                                                   amplitude_envelope  \\\n",
       "id f                                        grupo                       \n",
       "0  Death on the Balcony - Tempt Of Fate.wav 0                0.827477   \n",
       "1  Death on the Balcony - Tempt Of Fate.wav 0                0.846159   \n",
       "2  Death on the Balcony - Tempt Of Fate.wav 0                0.846575   \n",
       "3  Death on the Balcony - Tempt Of Fate.wav 0                0.869959   \n",
       "4  Death on the Balcony - Tempt Of Fate.wav 0                0.869419   \n",
       "\n",
       "                                                       rmse  \\\n",
       "id f                                        grupo             \n",
       "0  Death on the Balcony - Tempt Of Fate.wav 0      0.487434   \n",
       "1  Death on the Balcony - Tempt Of Fate.wav 0      0.494233   \n",
       "2  Death on the Balcony - Tempt Of Fate.wav 0      0.481144   \n",
       "3  Death on the Balcony - Tempt Of Fate.wav 0      0.363782   \n",
       "4  Death on the Balcony - Tempt Of Fate.wav 0      0.500944   \n",
       "\n",
       "                                                   zero_crossing_rate  \\\n",
       "id f                                        grupo                       \n",
       "0  Death on the Balcony - Tempt Of Fate.wav 0                0.220362   \n",
       "1  Death on the Balcony - Tempt Of Fate.wav 0                0.170798   \n",
       "2  Death on the Balcony - Tempt Of Fate.wav 0                0.195671   \n",
       "3  Death on the Balcony - Tempt Of Fate.wav 0                0.165357   \n",
       "4  Death on the Balcony - Tempt Of Fate.wav 0                0.202953   \n",
       "\n",
       "                                                   spectral_centroid  \\\n",
       "id f                                        grupo                      \n",
       "0  Death on the Balcony - Tempt Of Fate.wav 0               0.487761   \n",
       "1  Death on the Balcony - Tempt Of Fate.wav 0               0.460045   \n",
       "2  Death on the Balcony - Tempt Of Fate.wav 0               0.463654   \n",
       "3  Death on the Balcony - Tempt Of Fate.wav 0               0.413284   \n",
       "4  Death on the Balcony - Tempt Of Fate.wav 0               0.466112   \n",
       "\n",
       "                                                      mfcc1     mfcc2  \\\n",
       "id f                                        grupo                       \n",
       "0  Death on the Balcony - Tempt Of Fate.wav 0      0.761661  0.442777   \n",
       "1  Death on the Balcony - Tempt Of Fate.wav 0      0.774409  0.494728   \n",
       "2  Death on the Balcony - Tempt Of Fate.wav 0      0.804492  0.494404   \n",
       "3  Death on the Balcony - Tempt Of Fate.wav 0      0.839015  0.569309   \n",
       "4  Death on the Balcony - Tempt Of Fate.wav 0      0.767444  0.414556   \n",
       "\n",
       "                                                      mfcc3     mfcc4  \\\n",
       "id f                                        grupo                       \n",
       "0  Death on the Balcony - Tempt Of Fate.wav 0      0.572400  0.716906   \n",
       "1  Death on the Balcony - Tempt Of Fate.wav 0      0.605403  0.714941   \n",
       "2  Death on the Balcony - Tempt Of Fate.wav 0      0.491220  0.707361   \n",
       "3  Death on the Balcony - Tempt Of Fate.wav 0      0.470292  0.636919   \n",
       "4  Death on the Balcony - Tempt Of Fate.wav 0      0.607569  0.784520   \n",
       "\n",
       "                                                      mfcc5     mfcc6  \\\n",
       "id f                                        grupo                       \n",
       "0  Death on the Balcony - Tempt Of Fate.wav 0      0.585258  0.613386   \n",
       "1  Death on the Balcony - Tempt Of Fate.wav 0      0.551760  0.574584   \n",
       "2  Death on the Balcony - Tempt Of Fate.wav 0      0.600223  0.496904   \n",
       "3  Death on the Balcony - Tempt Of Fate.wav 0      0.554298  0.504626   \n",
       "4  Death on the Balcony - Tempt Of Fate.wav 0      0.586283  0.789201   \n",
       "\n",
       "                                                      mfcc7     mfcc8  \\\n",
       "id f                                        grupo                       \n",
       "0  Death on the Balcony - Tempt Of Fate.wav 0      0.638404  0.522682   \n",
       "1  Death on the Balcony - Tempt Of Fate.wav 0      0.651360  0.578035   \n",
       "2  Death on the Balcony - Tempt Of Fate.wav 0      0.616187  0.664911   \n",
       "3  Death on the Balcony - Tempt Of Fate.wav 0      0.584298  0.602531   \n",
       "4  Death on the Balcony - Tempt Of Fate.wav 0      0.588792  0.688735   \n",
       "\n",
       "                                                      mfcc9    mfcc10  \\\n",
       "id f                                        grupo                       \n",
       "0  Death on the Balcony - Tempt Of Fate.wav 0      0.647633  0.586720   \n",
       "1  Death on the Balcony - Tempt Of Fate.wav 0      0.673465  0.552520   \n",
       "2  Death on the Balcony - Tempt Of Fate.wav 0      0.711228  0.520859   \n",
       "3  Death on the Balcony - Tempt Of Fate.wav 0      0.656849  0.403715   \n",
       "4  Death on the Balcony - Tempt Of Fate.wav 0      0.677278  0.588979   \n",
       "\n",
       "                                                     mfcc11    mfcc12  \\\n",
       "id f                                        grupo                       \n",
       "0  Death on the Balcony - Tempt Of Fate.wav 0      0.689726  0.599855   \n",
       "1  Death on the Balcony - Tempt Of Fate.wav 0      0.627821  0.545576   \n",
       "2  Death on the Balcony - Tempt Of Fate.wav 0      0.623124  0.509122   \n",
       "3  Death on the Balcony - Tempt Of Fate.wav 0      0.535277  0.443619   \n",
       "4  Death on the Balcony - Tempt Of Fate.wav 0      0.683868  0.521175   \n",
       "\n",
       "                                                     mfcc13  \n",
       "id f                                        grupo            \n",
       "0  Death on the Balcony - Tempt Of Fate.wav 0      0.710699  \n",
       "1  Death on the Balcony - Tempt Of Fate.wav 0      0.695615  \n",
       "2  Death on the Balcony - Tempt Of Fate.wav 0      0.681869  \n",
       "3  Death on the Balcony - Tempt Of Fate.wav 0      0.693582  \n",
       "4  Death on the Balcony - Tempt Of Fate.wav 0      0.689632  "
      ]
     },
     "execution_count": 35,
     "metadata": {},
     "output_type": "execute_result"
    }
   ],
   "source": [
    "df_clas_.head()"
   ]
  },
  {
   "cell_type": "markdown",
   "metadata": {},
   "source": [
    "## Seleccionar data de entrenamiento y la data de de test\n"
   ]
  },
  {
   "cell_type": "code",
   "execution_count": 36,
   "metadata": {},
   "outputs": [],
   "source": [
    "from sklearn.model_selection import train_test_split\n",
    "from sklearn.neighbors import KNeighborsClassifier\n",
    "\n",
    "X_train,X_test,y_train,y_test = train_test_split(\n",
    "                                                 df_clas_,\n",
    "                                                 df_clas_.reset_index(level=[0,1]).index, #grupo\n",
    "                                                 test_size=0.30, random_state=50) #replicability\n",
    "\n",
    "\n",
    "\n",
    "error_rate = []\n",
    "\n",
    "for i in range(1,30):\n",
    "    knn   = KNeighborsClassifier(n_neighbors=i)\n",
    "    knn.fit(X_train,y_train)\n",
    "    pred_i = knn.predict(X_test)\n",
    "    error_rate.append(np.mean(pred_i != y_test))"
   ]
  },
  {
   "cell_type": "code",
   "execution_count": 37,
   "metadata": {},
   "outputs": [
    {
     "data": {
      "text/plain": [
       "Text(0, 0.5, 'Error Rate')"
      ]
     },
     "execution_count": 37,
     "metadata": {},
     "output_type": "execute_result"
    },
    {
     "data": {
      "image/png": "[encoded data removed]",
      "text/plain": [
       "<Figure size 720x432 with 1 Axes>"
      ]
     },
     "metadata": {
      "needs_background": "light"
     },
     "output_type": "display_data"
    }
   ],
   "source": [
    "plt.figure(figsize=(10,6))\n",
    "plt.plot(range(1,30),error_rate,color='blue',linestyle='solid',marker='o',markerfacecolor='green',markersize=10)\n",
    "plt.title('Error Rate v/s K value')\n",
    "plt.xlabel('K')\n",
    "plt.ylabel('Error Rate')"
   ]
  },
  {
   "cell_type": "markdown",
   "metadata": {},
   "source": [
    "El mínimo `error` se obtiene con un K=1 aunque recordemos que no es un valor muy explicativo de la data dado que la primera clasificación se realizó a priori, refinando la clasificación a priori se podrían tener mejores resultados. dado que el error aumenta a mayor cantidad de vecinos\n",
    "\n",
    "### Evaluar los resultados"
   ]
  },
  {
   "cell_type": "code",
   "execution_count": 62,
   "metadata": {
    "scrolled": true
   },
   "outputs": [
    {
     "data": {
      "text/html": [
       "<div>\n",
       "<style scoped>\n",
       "    .dataframe tbody tr th:only-of-type {\n",
       "        vertical-align: middle;\n",
       "    }\n",
       "\n",
       "    .dataframe tbody tr th {\n",
       "        vertical-align: top;\n",
       "    }\n",
       "\n",
       "    .dataframe thead th {\n",
       "        text-align: right;\n",
       "    }\n",
       "</style>\n",
       "<table border=\"1\" class=\"dataframe\">\n",
       "  <thead>\n",
       "    <tr style=\"text-align: right;\">\n",
       "      <th></th>\n",
       "      <th></th>\n",
       "      <th></th>\n",
       "      <th>amplitude_envelope</th>\n",
       "      <th>rmse</th>\n",
       "      <th>zero_crossing_rate</th>\n",
       "      <th>spectral_centroid</th>\n",
       "      <th>mfcc1</th>\n",
       "      <th>mfcc2</th>\n",
       "      <th>mfcc3</th>\n",
       "      <th>mfcc4</th>\n",
       "      <th>mfcc5</th>\n",
       "      <th>mfcc6</th>\n",
       "      <th>mfcc7</th>\n",
       "      <th>mfcc8</th>\n",
       "      <th>mfcc9</th>\n",
       "      <th>mfcc10</th>\n",
       "      <th>mfcc11</th>\n",
       "      <th>mfcc12</th>\n",
       "      <th>mfcc13</th>\n",
       "    </tr>\n",
       "    <tr>\n",
       "      <th>id</th>\n",
       "      <th>f</th>\n",
       "      <th>grupo</th>\n",
       "      <th></th>\n",
       "      <th></th>\n",
       "      <th></th>\n",
       "      <th></th>\n",
       "      <th></th>\n",
       "      <th></th>\n",
       "      <th></th>\n",
       "      <th></th>\n",
       "      <th></th>\n",
       "      <th></th>\n",
       "      <th></th>\n",
       "      <th></th>\n",
       "      <th></th>\n",
       "      <th></th>\n",
       "      <th></th>\n",
       "      <th></th>\n",
       "      <th></th>\n",
       "    </tr>\n",
       "  </thead>\n",
       "  <tbody>\n",
       "    <tr>\n",
       "      <th>413</th>\n",
       "      <th>v_Future Force - What You Want (Mark!'s Epic Vocal).wav</th>\n",
       "      <th>1</th>\n",
       "      <td>0.370294</td>\n",
       "      <td>0.621441</td>\n",
       "      <td>0.239286</td>\n",
       "      <td>0.528438</td>\n",
       "      <td>0.708472</td>\n",
       "      <td>0.391454</td>\n",
       "      <td>0.501861</td>\n",
       "      <td>0.647700</td>\n",
       "      <td>0.513135</td>\n",
       "      <td>0.779211</td>\n",
       "      <td>0.490087</td>\n",
       "      <td>0.696512</td>\n",
       "      <td>0.573189</td>\n",
       "      <td>0.67657</td>\n",
       "      <td>0.462899</td>\n",
       "      <td>0.724671</td>\n",
       "      <td>0.613254</td>\n",
       "    </tr>\n",
       "    <tr>\n",
       "      <th>246</th>\n",
       "      <th>v_Full Intention - America (I Love America) (Dub American Style).wav</th>\n",
       "      <th>0</th>\n",
       "      <td>0.336437</td>\n",
       "      <td>0.498549</td>\n",
       "      <td>0.147514</td>\n",
       "      <td>0.377501</td>\n",
       "      <td>0.661905</td>\n",
       "      <td>0.546971</td>\n",
       "      <td>0.509942</td>\n",
       "      <td>0.671289</td>\n",
       "      <td>0.477929</td>\n",
       "      <td>0.490265</td>\n",
       "      <td>0.547519</td>\n",
       "      <td>0.569754</td>\n",
       "      <td>0.752923</td>\n",
       "      <td>0.63135</td>\n",
       "      <td>0.796008</td>\n",
       "      <td>0.532273</td>\n",
       "      <td>0.830898</td>\n",
       "    </tr>\n",
       "  </tbody>\n",
       "</table>\n",
       "</div>"
      ],
      "text/plain": [
       "                                                              amplitude_envelope  \\\n",
       "id  f                                                  grupo                       \n",
       "413 v_Future Force - What You Want (Mark!'s Epic Vo... 1                0.370294   \n",
       "246 v_Full Intention - America (I Love America) (Du... 0                0.336437   \n",
       "\n",
       "                                                                  rmse  \\\n",
       "id  f                                                  grupo             \n",
       "413 v_Future Force - What You Want (Mark!'s Epic Vo... 1      0.621441   \n",
       "246 v_Full Intention - America (I Love America) (Du... 0      0.498549   \n",
       "\n",
       "                                                              zero_crossing_rate  \\\n",
       "id  f                                                  grupo                       \n",
       "413 v_Future Force - What You Want (Mark!'s Epic Vo... 1                0.239286   \n",
       "246 v_Full Intention - America (I Love America) (Du... 0                0.147514   \n",
       "\n",
       "                                                              spectral_centroid  \\\n",
       "id  f                                                  grupo                      \n",
       "413 v_Future Force - What You Want (Mark!'s Epic Vo... 1               0.528438   \n",
       "246 v_Full Intention - America (I Love America) (Du... 0               0.377501   \n",
       "\n",
       "                                                                 mfcc1  \\\n",
       "id  f                                                  grupo             \n",
       "413 v_Future Force - What You Want (Mark!'s Epic Vo... 1      0.708472   \n",
       "246 v_Full Intention - America (I Love America) (Du... 0      0.661905   \n",
       "\n",
       "                                                                 mfcc2  \\\n",
       "id  f                                                  grupo             \n",
       "413 v_Future Force - What You Want (Mark!'s Epic Vo... 1      0.391454   \n",
       "246 v_Full Intention - America (I Love America) (Du... 0      0.546971   \n",
       "\n",
       "                                                                 mfcc3  \\\n",
       "id  f                                                  grupo             \n",
       "413 v_Future Force - What You Want (Mark!'s Epic Vo... 1      0.501861   \n",
       "246 v_Full Intention - America (I Love America) (Du... 0      0.509942   \n",
       "\n",
       "                                                                 mfcc4  \\\n",
       "id  f                                                  grupo             \n",
       "413 v_Future Force - What You Want (Mark!'s Epic Vo... 1      0.647700   \n",
       "246 v_Full Intention - America (I Love America) (Du... 0      0.671289   \n",
       "\n",
       "                                                                 mfcc5  \\\n",
       "id  f                                                  grupo             \n",
       "413 v_Future Force - What You Want (Mark!'s Epic Vo... 1      0.513135   \n",
       "246 v_Full Intention - America (I Love America) (Du... 0      0.477929   \n",
       "\n",
       "                                                                 mfcc6  \\\n",
       "id  f                                                  grupo             \n",
       "413 v_Future Force - What You Want (Mark!'s Epic Vo... 1      0.779211   \n",
       "246 v_Full Intention - America (I Love America) (Du... 0      0.490265   \n",
       "\n",
       "                                                                 mfcc7  \\\n",
       "id  f                                                  grupo             \n",
       "413 v_Future Force - What You Want (Mark!'s Epic Vo... 1      0.490087   \n",
       "246 v_Full Intention - America (I Love America) (Du... 0      0.547519   \n",
       "\n",
       "                                                                 mfcc8  \\\n",
       "id  f                                                  grupo             \n",
       "413 v_Future Force - What You Want (Mark!'s Epic Vo... 1      0.696512   \n",
       "246 v_Full Intention - America (I Love America) (Du... 0      0.569754   \n",
       "\n",
       "                                                                 mfcc9  \\\n",
       "id  f                                                  grupo             \n",
       "413 v_Future Force - What You Want (Mark!'s Epic Vo... 1      0.573189   \n",
       "246 v_Full Intention - America (I Love America) (Du... 0      0.752923   \n",
       "\n",
       "                                                               mfcc10  \\\n",
       "id  f                                                  grupo            \n",
       "413 v_Future Force - What You Want (Mark!'s Epic Vo... 1      0.67657   \n",
       "246 v_Full Intention - America (I Love America) (Du... 0      0.63135   \n",
       "\n",
       "                                                                mfcc11  \\\n",
       "id  f                                                  grupo             \n",
       "413 v_Future Force - What You Want (Mark!'s Epic Vo... 1      0.462899   \n",
       "246 v_Full Intention - America (I Love America) (Du... 0      0.796008   \n",
       "\n",
       "                                                                mfcc12  \\\n",
       "id  f                                                  grupo             \n",
       "413 v_Future Force - What You Want (Mark!'s Epic Vo... 1      0.724671   \n",
       "246 v_Full Intention - America (I Love America) (Du... 0      0.532273   \n",
       "\n",
       "                                                                mfcc13  \n",
       "id  f                                                  grupo            \n",
       "413 v_Future Force - What You Want (Mark!'s Epic Vo... 1      0.613254  \n",
       "246 v_Full Intention - America (I Love America) (Du... 0      0.830898  "
      ]
     },
     "execution_count": 62,
     "metadata": {},
     "output_type": "execute_result"
    }
   ],
   "source": [
    "knn   = KNeighborsClassifier(n_neighbors=1)\n",
    "knn.fit(X_train,y_train)\n",
    "pred_1 = knn.predict(X_test)\n",
    "error_rate.append(np.mean(pred_1 != y_test))\n",
    "\n",
    "X_test.loc[pred_i == y_test, :].head(2)\n"
   ]
  },
  {
   "cell_type": "markdown",
   "metadata": {},
   "source": [
    "## Visualizar los resultados\n",
    "\n",
    "Los resultados de aplicar PCA no nos dan buenos resultados de uevo por la clasificación inicial, en el ejercicio anterior se enconotró que un tramos de 15 segundos una canción puede tener secciones de diferentes grupos por eso una canción pude pertenecer a varios grupos a la vez"
   ]
  },
  {
   "cell_type": "code",
   "execution_count": 55,
   "metadata": {},
   "outputs": [
    {
     "name": "stdout",
     "output_type": "stream",
     "text": [
      "[0.2814771  0.22521385]\n",
      "[0.34497507 0.18441902]\n"
     ]
    }
   ],
   "source": [
    "from sklearn.decomposition import PCA\n",
    "pca = PCA(n_components=2)\n",
    "\n",
    "reduced_data = pca.fit_transform(X_train)\n",
    "reduced_data = pd.DataFrame(reduced_data, columns=['x', 'y'])\n",
    "reduced_data['yhat'] = f.to_frame().merge(X_train.reset_index([2]), left_index=True, right_on=['id'])['grupo'].tolist()\n",
    "reduced_data['yhat'] = reduced_data['yhat'].astype('category')\n",
    "reduced_data['f'] = f.to_frame().merge(X_train, left_index=True, right_on=['id'])['filename'].tolist()\n",
    "reduced_data['f'] = reduced_data['f'].astype('category')\n",
    "reduced_data['marker'] = 'circle'\n",
    "print(pca.explained_variance_ratio_)\n",
    "\n",
    "# apply the same for centers\n",
    "predictions = pca.fit_transform(X_test)\n",
    "predictions = pd.DataFrame(predictions, columns=['x', 'y'])\n",
    "predictions['yhat'] = pred_i\n",
    "predictions['yhat'] = predictions['yhat'].astype('category')\n",
    "predictions['f'] = f.to_frame().merge(X_test, left_index=True, right_on=['id'])['filename'].tolist()\n",
    "predictions['f'] = reduced_data['f'].astype('category')\n",
    "predictions['marker'] = \"x\"\n",
    "print(pca.explained_variance_ratio_)"
   ]
  },
  {
   "cell_type": "code",
   "execution_count": 58,
   "metadata": {},
   "outputs": [],
   "source": [
    "reduced_data = pd.concat([reduced_data, predictions])"
   ]
  },
  {
   "cell_type": "code",
   "execution_count": 59,
   "metadata": {
    "scrolled": true
   },
   "outputs": [
    {
     "data": {
      "application/vnd.plotly.v1+json": {
       "config": {
        "plotlyServerURL": "https://plot.ly"
       },
       "data": [
        {
         "customdata": [
          [
           -0.3367076025603395,
           -0.13155422573522402,
           0,
           "Death on the Balcony - Tempt Of Fate.wav",
           "circle",
           "#0044FF"
          ],
          [
           0.18854352609405453,
           0.4468232268275252,
           0,
           "Death on the Balcony - Tempt Of Fate.wav",
           "circle",
           "#0044FF"
          ],
          [
           -0.09508387448095464,
           -0.3555365249447886,
           0,
           "Death on the Balcony - Tempt Of Fate.wav",
           "circle",
           "#0044FF"
          ],
          [
           -0.055656114611694354,
           -0.12294737059760016,
           0,
           "Death on the Balcony - Tempt Of Fate.wav",
           "circle",
           "#0044FF"
          ],
          [
           -0.029994651341115206,
           -0.1164089535407332,
           0,
           "Death on the Balcony - Tempt Of Fate.wav",
           "circle",
           "#0044FF"
          ],
          [
           -0.19213267518308855,
           -0.3614811051715214,
           0,
           "Death on the Balcony - Tempt Of Fate.wav",
           "circle",
           "#0044FF"
          ],
          [
           -0.16804946774984925,
           0.07232867721225777,
           0,
           "Death on the Balcony - Tempt Of Fate.wav",
           "circle",
           "#0044FF"
          ],
          [
           0.2043629234461415,
           -0.3603948871683418,
           0,
           "Death on the Balcony - Tempt Of Fate.wav",
           "circle",
           "#0044FF"
          ],
          [
           -0.09334316146302869,
           -0.14858218179962585,
           0,
           "Death on the Balcony - Tempt Of Fate.wav",
           "circle",
           "#0044FF"
          ],
          [
           -0.07402257884260201,
           -0.10444996148426448,
           0,
           "Death on the Balcony - Tempt Of Fate.wav",
           "circle",
           "#0044FF"
          ],
          [
           -0.15319041928310556,
           0.07678649338722777,
           1,
           "Death on the Balcony - Tempt Of Fate.wav",
           "x",
           "#751017"
          ],
          [
           0.014603712145763097,
           0.1642112008155044,
           0,
           "Death on the Balcony - Tempt Of Fate.wav",
           "x",
           "#0044FF"
          ],
          [
           0.3313067814884628,
           -0.022948847155993754,
           1,
           "Death on the Balcony - Tempt Of Fate.wav",
           "x",
           "#751017"
          ],
          [
           0.3880620172730879,
           0.012357694316355387,
           1,
           "Death on the Balcony - Tempt Of Fate.wav",
           "x",
           "#751017"
          ],
          [
           0.30442741754343833,
           -0.0923551306765735,
           1,
           "Death on the Balcony - Tempt Of Fate.wav",
           "x",
           "#751017"
          ],
          [
           0.2166608714471727,
           0.5005883214558078,
           0,
           "Death on the Balcony - Tempt Of Fate.wav",
           "x",
           "#0044FF"
          ],
          [
           0.0313924414132578,
           0.06796402926363444,
           3,
           "Death on the Balcony - Tempt Of Fate.wav",
           "x",
           "#6b1075"
          ],
          [
           -0.02160692579019205,
           0.24027814879325513,
           2,
           "Death on the Balcony - Tempt Of Fate.wav",
           "x",
           "#48a832"
          ],
          [
           0.004073069994493144,
           0.06177411453561114,
           2,
           "Death on the Balcony - Tempt Of Fate.wav",
           "x",
           "#48a832"
          ],
          [
           0.14826570437144745,
           -0.05611614118144774,
           1,
           "Death on the Balcony - Tempt Of Fate.wav",
           "x",
           "#751017"
          ]
         ],
         "hovertemplate": "<b>%{customdata[3]}</b><br>(%{x:.3f},%{y:.3f})<extra>%{customdata[2]}</extra>",
         "marker": {
          "color": [
           "#0044FF",
           "#0044FF",
           "#0044FF",
           "#0044FF",
           "#0044FF",
           "#0044FF",
           "#0044FF",
           "#0044FF",
           "#0044FF",
           "#0044FF",
           "#751017",
           "#0044FF",
           "#751017",
           "#751017",
           "#751017",
           "#0044FF",
           "#6b1075",
           "#48a832",
           "#48a832",
           "#751017"
          ],
          "symbol": [
           "circle",
           "circle",
           "circle",
           "circle",
           "circle",
           "circle",
           "circle",
           "circle",
           "circle",
           "circle",
           "x",
           "x",
           "x",
           "x",
           "x",
           "x",
           "x",
           "x",
           "x",
           "x"
          ]
         },
         "mode": "markers",
         "name": "0",
         "text": [
          "Death on the Balcony - Tempt Of Fate.wav",
          "Death on the Balcony - Tempt Of Fate.wav",
          "Death on the Balcony - Tempt Of Fate.wav",
          "Death on the Balcony - Tempt Of Fate.wav",
          "Death on the Balcony - Tempt Of Fate.wav",
          "Death on the Balcony - Tempt Of Fate.wav",
          "Death on the Balcony - Tempt Of Fate.wav",
          "Death on the Balcony - Tempt Of Fate.wav",
          "Death on the Balcony - Tempt Of Fate.wav",
          "Death on the Balcony - Tempt Of Fate.wav",
          "Death on the Balcony - Tempt Of Fate.wav",
          "Death on the Balcony - Tempt Of Fate.wav",
          "Death on the Balcony - Tempt Of Fate.wav",
          "Death on the Balcony - Tempt Of Fate.wav",
          "Death on the Balcony - Tempt Of Fate.wav",
          "Death on the Balcony - Tempt Of Fate.wav",
          "Death on the Balcony - Tempt Of Fate.wav",
          "Death on the Balcony - Tempt Of Fate.wav",
          "Death on the Balcony - Tempt Of Fate.wav",
          "Death on the Balcony - Tempt Of Fate.wav"
         ],
         "type": "scatter",
         "x": [
          -0.3367076025603395,
          0.18854352609405453,
          -0.09508387448095464,
          -0.055656114611694354,
          -0.029994651341115206,
          -0.19213267518308855,
          -0.16804946774984925,
          0.2043629234461415,
          -0.09334316146302869,
          -0.07402257884260201,
          -0.15319041928310556,
          0.014603712145763097,
          0.3313067814884628,
          0.3880620172730879,
          0.30442741754343833,
          0.2166608714471727,
          0.0313924414132578,
          -0.02160692579019205,
          0.004073069994493144,
          0.14826570437144745
         ],
         "y": [
          -0.13155422573522402,
          0.4468232268275252,
          -0.3555365249447886,
          -0.12294737059760016,
          -0.1164089535407332,
          -0.3614811051715214,
          0.07232867721225777,
          -0.3603948871683418,
          -0.14858218179962585,
          -0.10444996148426448,
          0.07678649338722777,
          0.1642112008155044,
          -0.022948847155993754,
          0.012357694316355387,
          -0.0923551306765735,
          0.5005883214558078,
          0.06796402926363444,
          0.24027814879325513,
          0.06177411453561114,
          -0.05611614118144774
         ]
        },
        {
         "customdata": [
          [
           -0.07824992598094171,
           0.14148169526956292,
           1,
           "Detlef - Kinky Tail.wav",
           "circle",
           "#751017"
          ],
          [
           -0.1908940355921832,
           0.45369873946480327,
           1,
           "Detlef - Kinky Tail.wav",
           "circle",
           "#751017"
          ],
          [
           0.20826504888654584,
           -0.21159098933129178,
           1,
           "Detlef - Kinky Tail.wav",
           "circle",
           "#751017"
          ],
          [
           -0.2811599103261965,
           0.5178904589032622,
           1,
           "Detlef - Kinky Tail.wav",
           "circle",
           "#751017"
          ],
          [
           -0.0765980279583952,
           -0.1766908278179292,
           1,
           "Detlef - Kinky Tail.wav",
           "circle",
           "#751017"
          ],
          [
           -0.16579653992842747,
           -0.2252948472022602,
           1,
           "Detlef - Kinky Tail.wav",
           "circle",
           "#751017"
          ],
          [
           0.0956350046468532,
           -0.04790274292456259,
           1,
           "Detlef - Kinky Tail.wav",
           "circle",
           "#751017"
          ],
          [
           -0.2087997534722006,
           0.1073361459966492,
           1,
           "Detlef - Kinky Tail.wav",
           "circle",
           "#751017"
          ],
          [
           -0.2598257423679903,
           0.4574826120570055,
           1,
           "Detlef - Kinky Tail.wav",
           "circle",
           "#751017"
          ],
          [
           0.49238019947295913,
           -0.3752297272890821,
           1,
           "Detlef - Kinky Tail.wav",
           "circle",
           "#751017"
          ],
          [
           -0.0428159719376126,
           -0.1949150102400854,
           1,
           "Detlef - Kinky Tail.wav",
           "x",
           "#751017"
          ],
          [
           -0.4919455515006657,
           -0.29471944798831023,
           0,
           "Detlef - Kinky Tail.wav",
           "x",
           "#0044FF"
          ],
          [
           0.08352750613444748,
           0.051026337140182634,
           1,
           "Detlef - Kinky Tail.wav",
           "x",
           "#751017"
          ],
          [
           -0.23999515320848427,
           0.2783128908393267,
           3,
           "Detlef - Kinky Tail.wav",
           "x",
           "#6b1075"
          ],
          [
           0.4062258420658834,
           -0.036618663116046196,
           1,
           "Detlef - Kinky Tail.wav",
           "x",
           "#751017"
          ],
          [
           -0.0030005346266055387,
           0.34799091038258506,
           0,
           "Detlef - Kinky Tail.wav",
           "x",
           "#0044FF"
          ],
          [
           0.02718124620582358,
           -0.01955184519842718,
           3,
           "Detlef - Kinky Tail.wav",
           "x",
           "#6b1075"
          ],
          [
           0.07259327303851398,
           -0.04297360873903879,
           1,
           "Detlef - Kinky Tail.wav",
           "x",
           "#751017"
          ],
          [
           0.5468633817827563,
           -0.39551664584327195,
           0,
           "Detlef - Kinky Tail.wav",
           "x",
           "#0044FF"
          ],
          [
           0.6462457007942417,
           0.1392927666253729,
           0,
           "Detlef - Kinky Tail.wav",
           "x",
           "#0044FF"
          ]
         ],
         "hovertemplate": "<b>%{customdata[3]}</b><br>(%{x:.3f},%{y:.3f})<extra>%{customdata[2]}</extra>",
         "marker": {
          "color": [
           "#751017",
           "#751017",
           "#751017",
           "#751017",
           "#751017",
           "#751017",
           "#751017",
           "#751017",
           "#751017",
           "#751017",
           "#751017",
           "#0044FF",
           "#751017",
           "#6b1075",
           "#751017",
           "#0044FF",
           "#6b1075",
           "#751017",
           "#0044FF",
           "#0044FF"
          ],
          "symbol": [
           "circle",
           "circle",
           "circle",
           "circle",
           "circle",
           "circle",
           "circle",
           "circle",
           "circle",
           "circle",
           "x",
           "x",
           "x",
           "x",
           "x",
           "x",
           "x",
           "x",
           "x",
           "x"
          ]
         },
         "mode": "markers",
         "name": "1",
         "text": [
          "Detlef - Kinky Tail.wav",
          "Detlef - Kinky Tail.wav",
          "Detlef - Kinky Tail.wav",
          "Detlef - Kinky Tail.wav",
          "Detlef - Kinky Tail.wav",
          "Detlef - Kinky Tail.wav",
          "Detlef - Kinky Tail.wav",
          "Detlef - Kinky Tail.wav",
          "Detlef - Kinky Tail.wav",
          "Detlef - Kinky Tail.wav",
          "Detlef - Kinky Tail.wav",
          "Detlef - Kinky Tail.wav",
          "Detlef - Kinky Tail.wav",
          "Detlef - Kinky Tail.wav",
          "Detlef - Kinky Tail.wav",
          "Detlef - Kinky Tail.wav",
          "Detlef - Kinky Tail.wav",
          "Detlef - Kinky Tail.wav",
          "Detlef - Kinky Tail.wav",
          "Detlef - Kinky Tail.wav"
         ],
         "type": "scatter",
         "x": [
          -0.07824992598094171,
          -0.1908940355921832,
          0.20826504888654584,
          -0.2811599103261965,
          -0.0765980279583952,
          -0.16579653992842747,
          0.0956350046468532,
          -0.2087997534722006,
          -0.2598257423679903,
          0.49238019947295913,
          -0.0428159719376126,
          -0.4919455515006657,
          0.08352750613444748,
          -0.23999515320848427,
          0.4062258420658834,
          -0.0030005346266055387,
          0.02718124620582358,
          0.07259327303851398,
          0.5468633817827563,
          0.6462457007942417
         ],
         "y": [
          0.14148169526956292,
          0.45369873946480327,
          -0.21159098933129178,
          0.5178904589032622,
          -0.1766908278179292,
          -0.2252948472022602,
          -0.04790274292456259,
          0.1073361459966492,
          0.4574826120570055,
          -0.3752297272890821,
          -0.1949150102400854,
          -0.29471944798831023,
          0.051026337140182634,
          0.2783128908393267,
          -0.036618663116046196,
          0.34799091038258506,
          -0.01955184519842718,
          -0.04297360873903879,
          -0.39551664584327195,
          0.1392927666253729
         ]
        },
        {
         "customdata": [
          [
           -0.0802354307085237,
           -0.16607595947363693,
           0,
           "Ebo Taylor & Pat Thomas & Henrik Schwarz -  Ene Nyame 'A' Mensuro (Henrik Schwarz Blend).wav",
           "circle",
           "#0044FF"
          ],
          [
           0.6470982375038586,
           0.4037653649485385,
           0,
           "Ebo Taylor & Pat Thomas & Henrik Schwarz -  Ene Nyame 'A' Mensuro (Henrik Schwarz Blend).wav",
           "circle",
           "#0044FF"
          ],
          [
           0.1119167521371902,
           -0.20807222458005176,
           0,
           "Ebo Taylor & Pat Thomas & Henrik Schwarz -  Ene Nyame 'A' Mensuro (Henrik Schwarz Blend).wav",
           "circle",
           "#0044FF"
          ],
          [
           0.0917536429757319,
           -0.028473789481617915,
           0,
           "Ebo Taylor & Pat Thomas & Henrik Schwarz -  Ene Nyame 'A' Mensuro (Henrik Schwarz Blend).wav",
           "circle",
           "#0044FF"
          ],
          [
           -0.7348441608899666,
           0.2716948289775202,
           0,
           "Ebo Taylor & Pat Thomas & Henrik Schwarz -  Ene Nyame 'A' Mensuro (Henrik Schwarz Blend).wav",
           "circle",
           "#0044FF"
          ],
          [
           -0.3824087158620301,
           -0.1422157716715037,
           0,
           "Ebo Taylor & Pat Thomas & Henrik Schwarz -  Ene Nyame 'A' Mensuro (Henrik Schwarz Blend).wav",
           "circle",
           "#0044FF"
          ],
          [
           -0.2043881358137045,
           -0.17206469942291405,
           0,
           "Ebo Taylor & Pat Thomas & Henrik Schwarz -  Ene Nyame 'A' Mensuro (Henrik Schwarz Blend).wav",
           "circle",
           "#0044FF"
          ],
          [
           0.2476514860985597,
           -0.47227961759246045,
           0,
           "Ebo Taylor & Pat Thomas & Henrik Schwarz -  Ene Nyame 'A' Mensuro (Henrik Schwarz Blend).wav",
           "circle",
           "#0044FF"
          ],
          [
           1.4852126220139268,
           0.4688290383274623,
           0,
           "Ebo Taylor & Pat Thomas & Henrik Schwarz -  Ene Nyame 'A' Mensuro (Henrik Schwarz Blend).wav",
           "circle",
           "#0044FF"
          ],
          [
           -0.020456658501719554,
           -0.16850125503988922,
           0,
           "Ebo Taylor & Pat Thomas & Henrik Schwarz -  Ene Nyame 'A' Mensuro (Henrik Schwarz Blend).wav",
           "circle",
           "#0044FF"
          ],
          [
           -0.11775476619644105,
           -0.35187865968977156,
           0,
           "Ebo Taylor & Pat Thomas & Henrik Schwarz -  Ene Nyame 'A' Mensuro (Henrik Schwarz Blend).wav",
           "circle",
           "#0044FF"
          ],
          [
           0.012911931256103416,
           -0.22081112531103353,
           0,
           "Ebo Taylor & Pat Thomas & Henrik Schwarz -  Ene Nyame 'A' Mensuro (Henrik Schwarz Blend).wav",
           "circle",
           "#0044FF"
          ],
          [
           0.03638968042528831,
           -0.08858950784262883,
           0,
           "Ebo Taylor & Pat Thomas & Henrik Schwarz -  Ene Nyame 'A' Mensuro (Henrik Schwarz Blend).wav",
           "circle",
           "#0044FF"
          ],
          [
           -0.04335164305385253,
           -0.00016191381815797238,
           1,
           "Ebo Taylor & Pat Thomas & Henrik Schwarz -  Ene Nyame 'A' Mensuro (Henrik Schwarz Blend).wav",
           "x",
           "#751017"
          ],
          [
           -0.16570511083461997,
           -0.18790099439785055,
           2,
           "Ebo Taylor & Pat Thomas & Henrik Schwarz -  Ene Nyame 'A' Mensuro (Henrik Schwarz Blend).wav",
           "x",
           "#48a832"
          ],
          [
           0.18939002402173416,
           0.11655144345768705,
           2,
           "Ebo Taylor & Pat Thomas & Henrik Schwarz -  Ene Nyame 'A' Mensuro (Henrik Schwarz Blend).wav",
           "x",
           "#48a832"
          ],
          [
           -0.8901210573570258,
           -1.3497104740181067e-05,
           0,
           "Ebo Taylor & Pat Thomas & Henrik Schwarz -  Ene Nyame 'A' Mensuro (Henrik Schwarz Blend).wav",
           "x",
           "#0044FF"
          ],
          [
           -0.1588212334455725,
           -0.3942325428947609,
           0,
           "Ebo Taylor & Pat Thomas & Henrik Schwarz -  Ene Nyame 'A' Mensuro (Henrik Schwarz Blend).wav",
           "x",
           "#0044FF"
          ],
          [
           -0.242528863880495,
           -0.6905248422930589,
           0,
           "Ebo Taylor & Pat Thomas & Henrik Schwarz -  Ene Nyame 'A' Mensuro (Henrik Schwarz Blend).wav",
           "x",
           "#0044FF"
          ],
          [
           -0.2767195053734809,
           -0.4165087123908388,
           0,
           "Ebo Taylor & Pat Thomas & Henrik Schwarz -  Ene Nyame 'A' Mensuro (Henrik Schwarz Blend).wav",
           "x",
           "#0044FF"
          ],
          [
           -0.026312205630815405,
           0.06245812083265595,
           2,
           "Ebo Taylor & Pat Thomas & Henrik Schwarz -  Ene Nyame 'A' Mensuro (Henrik Schwarz Blend).wav",
           "x",
           "#48a832"
          ],
          [
           0.3106811307910648,
           0.05166599639628557,
           1,
           "Ebo Taylor & Pat Thomas & Henrik Schwarz -  Ene Nyame 'A' Mensuro (Henrik Schwarz Blend).wav",
           "x",
           "#751017"
          ],
          [
           0.2595322131462502,
           -0.003414361940466784,
           2,
           "Ebo Taylor & Pat Thomas & Henrik Schwarz -  Ene Nyame 'A' Mensuro (Henrik Schwarz Blend).wav",
           "x",
           "#48a832"
          ],
          [
           -0.1520254017748551,
           0.2559811708039671,
           1,
           "Ebo Taylor & Pat Thomas & Henrik Schwarz -  Ene Nyame 'A' Mensuro (Henrik Schwarz Blend).wav",
           "x",
           "#751017"
          ],
          [
           0.20293608995073878,
           0.11266335566194191,
           1,
           "Ebo Taylor & Pat Thomas & Henrik Schwarz -  Ene Nyame 'A' Mensuro (Henrik Schwarz Blend).wav",
           "x",
           "#751017"
          ],
          [
           -0.38292401367161394,
           0.4310525993587091,
           3,
           "Ebo Taylor & Pat Thomas & Henrik Schwarz -  Ene Nyame 'A' Mensuro (Henrik Schwarz Blend).wav",
           "x",
           "#6b1075"
          ]
         ],
         "hovertemplate": "<b>%{customdata[3]}</b><br>(%{x:.3f},%{y:.3f})<extra>%{customdata[2]}</extra>",
         "marker": {
          "color": [
           "#0044FF",
           "#0044FF",
           "#0044FF",
           "#0044FF",
           "#0044FF",
           "#0044FF",
           "#0044FF",
           "#0044FF",
           "#0044FF",
           "#0044FF",
           "#0044FF",
           "#0044FF",
           "#0044FF",
           "#751017",
           "#48a832",
           "#48a832",
           "#0044FF",
           "#0044FF",
           "#0044FF",
           "#0044FF",
           "#48a832",
           "#751017",
           "#48a832",
           "#751017",
           "#751017",
           "#6b1075"
          ],
          "symbol": [
           "circle",
           "circle",
           "circle",
           "circle",
           "circle",
           "circle",
           "circle",
           "circle",
           "circle",
           "circle",
           "circle",
           "circle",
           "circle",
           "x",
           "x",
           "x",
           "x",
           "x",
           "x",
           "x",
           "x",
           "x",
           "x",
           "x",
           "x",
           "x"
          ]
         },
         "mode": "markers",
         "name": "2",
         "text": [
          "Ebo Taylor & Pat Thomas & Henrik Schwarz -  Ene Nyame 'A' Mensuro (Henrik Schwarz Blend).wav",
          "Ebo Taylor & Pat Thomas & Henrik Schwarz -  Ene Nyame 'A' Mensuro (Henrik Schwarz Blend).wav",
          "Ebo Taylor & Pat Thomas & Henrik Schwarz -  Ene Nyame 'A' Mensuro (Henrik Schwarz Blend).wav",
          "Ebo Taylor & Pat Thomas & Henrik Schwarz -  Ene Nyame 'A' Mensuro (Henrik Schwarz Blend).wav",
          "Ebo Taylor & Pat Thomas & Henrik Schwarz -  Ene Nyame 'A' Mensuro (Henrik Schwarz Blend).wav",
          "Ebo Taylor & Pat Thomas & Henrik Schwarz -  Ene Nyame 'A' Mensuro (Henrik Schwarz Blend).wav",
          "Ebo Taylor & Pat Thomas & Henrik Schwarz -  Ene Nyame 'A' Mensuro (Henrik Schwarz Blend).wav",
          "Ebo Taylor & Pat Thomas & Henrik Schwarz -  Ene Nyame 'A' Mensuro (Henrik Schwarz Blend).wav",
          "Ebo Taylor & Pat Thomas & Henrik Schwarz -  Ene Nyame 'A' Mensuro (Henrik Schwarz Blend).wav",
          "Ebo Taylor & Pat Thomas & Henrik Schwarz -  Ene Nyame 'A' Mensuro (Henrik Schwarz Blend).wav",
          "Ebo Taylor & Pat Thomas & Henrik Schwarz -  Ene Nyame 'A' Mensuro (Henrik Schwarz Blend).wav",
          "Ebo Taylor & Pat Thomas & Henrik Schwarz -  Ene Nyame 'A' Mensuro (Henrik Schwarz Blend).wav",
          "Ebo Taylor & Pat Thomas & Henrik Schwarz -  Ene Nyame 'A' Mensuro (Henrik Schwarz Blend).wav",
          "Ebo Taylor & Pat Thomas & Henrik Schwarz -  Ene Nyame 'A' Mensuro (Henrik Schwarz Blend).wav",
          "Ebo Taylor & Pat Thomas & Henrik Schwarz -  Ene Nyame 'A' Mensuro (Henrik Schwarz Blend).wav",
          "Ebo Taylor & Pat Thomas & Henrik Schwarz -  Ene Nyame 'A' Mensuro (Henrik Schwarz Blend).wav",
          "Ebo Taylor & Pat Thomas & Henrik Schwarz -  Ene Nyame 'A' Mensuro (Henrik Schwarz Blend).wav",
          "Ebo Taylor & Pat Thomas & Henrik Schwarz -  Ene Nyame 'A' Mensuro (Henrik Schwarz Blend).wav",
          "Ebo Taylor & Pat Thomas & Henrik Schwarz -  Ene Nyame 'A' Mensuro (Henrik Schwarz Blend).wav",
          "Ebo Taylor & Pat Thomas & Henrik Schwarz -  Ene Nyame 'A' Mensuro (Henrik Schwarz Blend).wav",
          "Ebo Taylor & Pat Thomas & Henrik Schwarz -  Ene Nyame 'A' Mensuro (Henrik Schwarz Blend).wav",
          "Ebo Taylor & Pat Thomas & Henrik Schwarz -  Ene Nyame 'A' Mensuro (Henrik Schwarz Blend).wav",
          "Ebo Taylor & Pat Thomas & Henrik Schwarz -  Ene Nyame 'A' Mensuro (Henrik Schwarz Blend).wav",
          "Ebo Taylor & Pat Thomas & Henrik Schwarz -  Ene Nyame 'A' Mensuro (Henrik Schwarz Blend).wav",
          "Ebo Taylor & Pat Thomas & Henrik Schwarz -  Ene Nyame 'A' Mensuro (Henrik Schwarz Blend).wav",
          "Ebo Taylor & Pat Thomas & Henrik Schwarz -  Ene Nyame 'A' Mensuro (Henrik Schwarz Blend).wav"
         ],
         "type": "scatter",
         "x": [
          -0.0802354307085237,
          0.6470982375038586,
          0.1119167521371902,
          0.0917536429757319,
          -0.7348441608899666,
          -0.3824087158620301,
          -0.2043881358137045,
          0.2476514860985597,
          1.4852126220139268,
          -0.020456658501719554,
          -0.11775476619644105,
          0.012911931256103416,
          0.03638968042528831,
          -0.04335164305385253,
          -0.16570511083461997,
          0.18939002402173416,
          -0.8901210573570258,
          -0.1588212334455725,
          -0.242528863880495,
          -0.2767195053734809,
          -0.026312205630815405,
          0.3106811307910648,
          0.2595322131462502,
          -0.1520254017748551,
          0.20293608995073878,
          -0.38292401367161394
         ],
         "y": [
          -0.16607595947363693,
          0.4037653649485385,
          -0.20807222458005176,
          -0.028473789481617915,
          0.2716948289775202,
          -0.1422157716715037,
          -0.17206469942291405,
          -0.47227961759246045,
          0.4688290383274623,
          -0.16850125503988922,
          -0.35187865968977156,
          -0.22081112531103353,
          -0.08858950784262883,
          -0.00016191381815797238,
          -0.18790099439785055,
          0.11655144345768705,
          -1.3497104740181067e-05,
          -0.3942325428947609,
          -0.6905248422930589,
          -0.4165087123908388,
          0.06245812083265595,
          0.05166599639628557,
          -0.003414361940466784,
          0.2559811708039671,
          0.11266335566194191,
          0.4310525993587091
         ]
        },
        {
         "customdata": [
          [
           -0.24448909509828876,
           -0.07033533826541624,
           0,
           "Hot Since 82 - Play The Room.wav",
           "circle",
           "#0044FF"
          ],
          [
           -0.14714814066506351,
           -0.11945458280261144,
           0,
           "Hot Since 82 - Play The Room.wav",
           "circle",
           "#0044FF"
          ],
          [
           -0.2067734183800922,
           -0.055917044185421844,
           0,
           "Hot Since 82 - Play The Room.wav",
           "circle",
           "#0044FF"
          ],
          [
           0.0339127496969304,
           -0.19000707497716182,
           0,
           "Hot Since 82 - Play The Room.wav",
           "circle",
           "#0044FF"
          ],
          [
           0.07996511540852132,
           -0.03250954546752108,
           0,
           "Hot Since 82 - Play The Room.wav",
           "circle",
           "#0044FF"
          ],
          [
           -0.14356046419991314,
           0.4759917041934254,
           0,
           "Hot Since 82 - Play The Room.wav",
           "circle",
           "#0044FF"
          ],
          [
           -0.2565086431818425,
           -0.2348067753633853,
           0,
           "Hot Since 82 - Play The Room.wav",
           "circle",
           "#0044FF"
          ],
          [
           -0.30017877829172274,
           0.4780370825613999,
           0,
           "Hot Since 82 - Play The Room.wav",
           "circle",
           "#0044FF"
          ],
          [
           0.43412567233817356,
           0.08244334966082967,
           0,
           "Hot Since 82 - Play The Room.wav",
           "circle",
           "#0044FF"
          ],
          [
           -0.6630347940413857,
           -0.10485945626246695,
           0,
           "Hot Since 82 - Play The Room.wav",
           "circle",
           "#0044FF"
          ],
          [
           0.10306209509051095,
           -0.1007076001084811,
           0,
           "Hot Since 82 - Play The Room.wav",
           "circle",
           "#0044FF"
          ],
          [
           0.14627701669286702,
           0.017859755240697994,
           0,
           "Hot Since 82 - Play The Room.wav",
           "circle",
           "#0044FF"
          ],
          [
           -0.16509932343473543,
           0.32169079191601324,
           0,
           "Hot Since 82 - Play The Room.wav",
           "circle",
           "#0044FF"
          ],
          [
           -0.1971774654218814,
           -0.33698876135166944,
           0,
           "Hot Since 82 - Play The Room.wav",
           "circle",
           "#0044FF"
          ],
          [
           -0.2122206018804677,
           -0.12149258829379503,
           0,
           "Hot Since 82 - Play The Room.wav",
           "circle",
           "#0044FF"
          ],
          [
           0.3661403403373175,
           0.268924175600537,
           0,
           "Hot Since 82 - Play The Room.wav",
           "circle",
           "#0044FF"
          ],
          [
           0.11764219322770754,
           -0.07924756228038622,
           1,
           "Hot Since 82 - Play The Room.wav",
           "x",
           "#751017"
          ],
          [
           0.4168628664235634,
           -0.049010028696575614,
           1,
           "Hot Since 82 - Play The Room.wav",
           "x",
           "#751017"
          ],
          [
           -0.06598313579494011,
           0.06807806124151881,
           3,
           "Hot Since 82 - Play The Room.wav",
           "x",
           "#6b1075"
          ],
          [
           0.344010636607291,
           -0.059840998674115804,
           2,
           "Hot Since 82 - Play The Room.wav",
           "x",
           "#48a832"
          ],
          [
           0.20944881434995577,
           -0.004429374211875229,
           3,
           "Hot Since 82 - Play The Room.wav",
           "x",
           "#6b1075"
          ],
          [
           0.12738266370769177,
           0.21424253640959529,
           1,
           "Hot Since 82 - Play The Room.wav",
           "x",
           "#751017"
          ],
          [
           -0.2307734547494021,
           0.11282989967448631,
           1,
           "Hot Since 82 - Play The Room.wav",
           "x",
           "#751017"
          ],
          [
           0.22579033558446782,
           0.019171622947167052,
           2,
           "Hot Since 82 - Play The Room.wav",
           "x",
           "#48a832"
          ],
          [
           -0.2452093541329985,
           -0.40234183085974096,
           2,
           "Hot Since 82 - Play The Room.wav",
           "x",
           "#48a832"
          ],
          [
           0.2619710741594396,
           0.6515099225766383,
           0,
           "Hot Since 82 - Play The Room.wav",
           "x",
           "#0044FF"
          ],
          [
           0.038540417300920324,
           -0.16011586805774794,
           1,
           "Hot Since 82 - Play The Room.wav",
           "x",
           "#751017"
          ],
          [
           -0.22197381201071967,
           -0.42989557467441886,
           2,
           "Hot Since 82 - Play The Room.wav",
           "x",
           "#48a832"
          ],
          [
           0.5330521348218719,
           -0.2546670195914705,
           0,
           "Hot Since 82 - Play The Room.wav",
           "x",
           "#0044FF"
          ],
          [
           0.09105137673158245,
           -0.027238654374880628,
           1,
           "Hot Since 82 - Play The Room.wav",
           "x",
           "#751017"
          ],
          [
           -0.02590543609741255,
           0.15118053651395044,
           1,
           "Hot Since 82 - Play The Room.wav",
           "x",
           "#751017"
          ],
          [
           0.6641677393188862,
           0.030191930976573148,
           0,
           "Hot Since 82 - Play The Room.wav",
           "x",
           "#0044FF"
          ]
         ],
         "hovertemplate": "<b>%{customdata[3]}</b><br>(%{x:.3f},%{y:.3f})<extra>%{customdata[2]}</extra>",
         "marker": {
          "color": [
           "#0044FF",
           "#0044FF",
           "#0044FF",
           "#0044FF",
           "#0044FF",
           "#0044FF",
           "#0044FF",
           "#0044FF",
           "#0044FF",
           "#0044FF",
           "#0044FF",
           "#0044FF",
           "#0044FF",
           "#0044FF",
           "#0044FF",
           "#0044FF",
           "#751017",
           "#751017",
           "#6b1075",
           "#48a832",
           "#6b1075",
           "#751017",
           "#751017",
           "#48a832",
           "#48a832",
           "#0044FF",
           "#751017",
           "#48a832",
           "#0044FF",
           "#751017",
           "#751017",
           "#0044FF"
          ],
          "symbol": [
           "circle",
           "circle",
           "circle",
           "circle",
           "circle",
           "circle",
           "circle",
           "circle",
           "circle",
           "circle",
           "circle",
           "circle",
           "circle",
           "circle",
           "circle",
           "circle",
           "x",
           "x",
           "x",
           "x",
           "x",
           "x",
           "x",
           "x",
           "x",
           "x",
           "x",
           "x",
           "x",
           "x",
           "x",
           "x"
          ]
         },
         "mode": "markers",
         "name": "3",
         "text": [
          "Hot Since 82 - Play The Room.wav",
          "Hot Since 82 - Play The Room.wav",
          "Hot Since 82 - Play The Room.wav",
          "Hot Since 82 - Play The Room.wav",
          "Hot Since 82 - Play The Room.wav",
          "Hot Since 82 - Play The Room.wav",
          "Hot Since 82 - Play The Room.wav",
          "Hot Since 82 - Play The Room.wav",
          "Hot Since 82 - Play The Room.wav",
          "Hot Since 82 - Play The Room.wav",
          "Hot Since 82 - Play The Room.wav",
          "Hot Since 82 - Play The Room.wav",
          "Hot Since 82 - Play The Room.wav",
          "Hot Since 82 - Play The Room.wav",
          "Hot Since 82 - Play The Room.wav",
          "Hot Since 82 - Play The Room.wav",
          "Hot Since 82 - Play The Room.wav",
          "Hot Since 82 - Play The Room.wav",
          "Hot Since 82 - Play The Room.wav",
          "Hot Since 82 - Play The Room.wav",
          "Hot Since 82 - Play The Room.wav",
          "Hot Since 82 - Play The Room.wav",
          "Hot Since 82 - Play The Room.wav",
          "Hot Since 82 - Play The Room.wav",
          "Hot Since 82 - Play The Room.wav",
          "Hot Since 82 - Play The Room.wav",
          "Hot Since 82 - Play The Room.wav",
          "Hot Since 82 - Play The Room.wav",
          "Hot Since 82 - Play The Room.wav",
          "Hot Since 82 - Play The Room.wav",
          "Hot Since 82 - Play The Room.wav",
          "Hot Since 82 - Play The Room.wav"
         ],
         "type": "scatter",
         "x": [
          -0.24448909509828876,
          -0.14714814066506351,
          -0.2067734183800922,
          0.0339127496969304,
          0.07996511540852132,
          -0.14356046419991314,
          -0.2565086431818425,
          -0.30017877829172274,
          0.43412567233817356,
          -0.6630347940413857,
          0.10306209509051095,
          0.14627701669286702,
          -0.16509932343473543,
          -0.1971774654218814,
          -0.2122206018804677,
          0.3661403403373175,
          0.11764219322770754,
          0.4168628664235634,
          -0.06598313579494011,
          0.344010636607291,
          0.20944881434995577,
          0.12738266370769177,
          -0.2307734547494021,
          0.22579033558446782,
          -0.2452093541329985,
          0.2619710741594396,
          0.038540417300920324,
          -0.22197381201071967,
          0.5330521348218719,
          0.09105137673158245,
          -0.02590543609741255,
          0.6641677393188862
         ],
         "y": [
          -0.07033533826541624,
          -0.11945458280261144,
          -0.055917044185421844,
          -0.19000707497716182,
          -0.03250954546752108,
          0.4759917041934254,
          -0.2348067753633853,
          0.4780370825613999,
          0.08244334966082967,
          -0.10485945626246695,
          -0.1007076001084811,
          0.017859755240697994,
          0.32169079191601324,
          -0.33698876135166944,
          -0.12149258829379503,
          0.268924175600537,
          -0.07924756228038622,
          -0.049010028696575614,
          0.06807806124151881,
          -0.059840998674115804,
          -0.004429374211875229,
          0.21424253640959529,
          0.11282989967448631,
          0.019171622947167052,
          -0.40234183085974096,
          0.6515099225766383,
          -0.16011586805774794,
          -0.42989557467441886,
          -0.2546670195914705,
          -0.027238654374880628,
          0.15118053651395044,
          0.030191930976573148
         ]
        },
        {
         "customdata": [
          [
           -0.7375960126347227,
           0.4723270550981914,
           0,
           "Hot Since 82 - Veins.wav",
           "circle",
           "#0044FF"
          ],
          [
           -0.13678581755764965,
           0.24006035082163718,
           0,
           "Hot Since 82 - Veins.wav",
           "circle",
           "#0044FF"
          ],
          [
           0.017193589434104994,
           -0.11763321145962208,
           0,
           "Hot Since 82 - Veins.wav",
           "circle",
           "#0044FF"
          ],
          [
           0.0964920380629949,
           0.0038493812029820025,
           0,
           "Hot Since 82 - Veins.wav",
           "circle",
           "#0044FF"
          ],
          [
           -0.07423978720548823,
           0.09949390663124344,
           0,
           "Hot Since 82 - Veins.wav",
           "circle",
           "#0044FF"
          ],
          [
           -0.17323496044940534,
           0.47172751414689124,
           0,
           "Hot Since 82 - Veins.wav",
           "circle",
           "#0044FF"
          ],
          [
           0.02035430305550605,
           -0.24957886138719207,
           0,
           "Hot Since 82 - Veins.wav",
           "circle",
           "#0044FF"
          ],
          [
           0.06506592493486751,
           -0.15911134833472831,
           0,
           "Hot Since 82 - Veins.wav",
           "circle",
           "#0044FF"
          ],
          [
           -0.026520047058377134,
           -0.08640576373958575,
           0,
           "Hot Since 82 - Veins.wav",
           "circle",
           "#0044FF"
          ],
          [
           0.16932261206765764,
           -0.11544276106624694,
           0,
           "Hot Since 82 - Veins.wav",
           "circle",
           "#0044FF"
          ],
          [
           0.025801187414652024,
           0.012508496250135632,
           0,
           "Hot Since 82 - Veins.wav",
           "circle",
           "#0044FF"
          ],
          [
           0.23329304228611264,
           -0.16967312477352128,
           0,
           "Hot Since 82 - Veins.wav",
           "circle",
           "#0044FF"
          ],
          [
           0.02670356947752794,
           -0.029577931740206367,
           3,
           "Hot Since 82 - Veins.wav",
           "x",
           "#6b1075"
          ],
          [
           -0.9009652396339507,
           0.011250738765469484,
           0,
           "Hot Since 82 - Veins.wav",
           "x",
           "#0044FF"
          ],
          [
           -0.2049361222139954,
           0.2804157702271403,
           0,
           "Hot Since 82 - Veins.wav",
           "x",
           "#0044FF"
          ],
          [
           -0.43846902219153644,
           -0.28794016788877286,
           0,
           "Hot Since 82 - Veins.wav",
           "x",
           "#0044FF"
          ],
          [
           0.007333328068622968,
           0.29797927278984,
           0,
           "Hot Since 82 - Veins.wav",
           "x",
           "#0044FF"
          ],
          [
           -0.22679563940858252,
           0.09138705567746783,
           1,
           "Hot Since 82 - Veins.wav",
           "x",
           "#751017"
          ],
          [
           -0.1013971410516314,
           0.034029000885569274,
           3,
           "Hot Since 82 - Veins.wav",
           "x",
           "#6b1075"
          ],
          [
           -0.16211057411535976,
           0.09144978514412992,
           1,
           "Hot Since 82 - Veins.wav",
           "x",
           "#751017"
          ],
          [
           0.3500223426579206,
           0.023630210941730283,
           2,
           "Hot Since 82 - Veins.wav",
           "x",
           "#48a832"
          ],
          [
           -0.08971288466405676,
           -0.3888506739770985,
           2,
           "Hot Since 82 - Veins.wav",
           "x",
           "#48a832"
          ],
          [
           -0.06059300204775357,
           0.04978834611629684,
           3,
           "Hot Since 82 - Veins.wav",
           "x",
           "#6b1075"
          ],
          [
           0.414266889748157,
           -0.4322294518284802,
           0,
           "Hot Since 82 - Veins.wav",
           "x",
           "#0044FF"
          ]
         ],
         "hovertemplate": "<b>%{customdata[3]}</b><br>(%{x:.3f},%{y:.3f})<extra>%{customdata[2]}</extra>",
         "marker": {
          "color": [
           "#0044FF",
           "#0044FF",
           "#0044FF",
           "#0044FF",
           "#0044FF",
           "#0044FF",
           "#0044FF",
           "#0044FF",
           "#0044FF",
           "#0044FF",
           "#0044FF",
           "#0044FF",
           "#6b1075",
           "#0044FF",
           "#0044FF",
           "#0044FF",
           "#0044FF",
           "#751017",
           "#6b1075",
           "#751017",
           "#48a832",
           "#48a832",
           "#6b1075",
           "#0044FF"
          ],
          "symbol": [
           "circle",
           "circle",
           "circle",
           "circle",
           "circle",
           "circle",
           "circle",
           "circle",
           "circle",
           "circle",
           "circle",
           "circle",
           "x",
           "x",
           "x",
           "x",
           "x",
           "x",
           "x",
           "x",
           "x",
           "x",
           "x",
           "x"
          ]
         },
         "mode": "markers",
         "name": "4",
         "text": [
          "Hot Since 82 - Veins.wav",
          "Hot Since 82 - Veins.wav",
          "Hot Since 82 - Veins.wav",
          "Hot Since 82 - Veins.wav",
          "Hot Since 82 - Veins.wav",
          "Hot Since 82 - Veins.wav",
          "Hot Since 82 - Veins.wav",
          "Hot Since 82 - Veins.wav",
          "Hot Since 82 - Veins.wav",
          "Hot Since 82 - Veins.wav",
          "Hot Since 82 - Veins.wav",
          "Hot Since 82 - Veins.wav",
          "Hot Since 82 - Veins.wav",
          "Hot Since 82 - Veins.wav",
          "Hot Since 82 - Veins.wav",
          "Hot Since 82 - Veins.wav",
          "Hot Since 82 - Veins.wav",
          "Hot Since 82 - Veins.wav",
          "Hot Since 82 - Veins.wav",
          "Hot Since 82 - Veins.wav",
          "Hot Since 82 - Veins.wav",
          "Hot Since 82 - Veins.wav",
          "Hot Since 82 - Veins.wav",
          "Hot Since 82 - Veins.wav"
         ],
         "type": "scatter",
         "x": [
          -0.7375960126347227,
          -0.13678581755764965,
          0.017193589434104994,
          0.0964920380629949,
          -0.07423978720548823,
          -0.17323496044940534,
          0.02035430305550605,
          0.06506592493486751,
          -0.026520047058377134,
          0.16932261206765764,
          0.025801187414652024,
          0.23329304228611264,
          0.02670356947752794,
          -0.9009652396339507,
          -0.2049361222139954,
          -0.43846902219153644,
          0.007333328068622968,
          -0.22679563940858252,
          -0.1013971410516314,
          -0.16211057411535976,
          0.3500223426579206,
          -0.08971288466405676,
          -0.06059300204775357,
          0.414266889748157
         ],
         "y": [
          0.4723270550981914,
          0.24006035082163718,
          -0.11763321145962208,
          0.0038493812029820025,
          0.09949390663124344,
          0.47172751414689124,
          -0.24957886138719207,
          -0.15911134833472831,
          -0.08640576373958575,
          -0.11544276106624694,
          0.012508496250135632,
          -0.16967312477352128,
          -0.029577931740206367,
          0.011250738765469484,
          0.2804157702271403,
          -0.28794016788877286,
          0.29797927278984,
          0.09138705567746783,
          0.034029000885569274,
          0.09144978514412992,
          0.023630210941730283,
          -0.3888506739770985,
          0.04978834611629684,
          -0.4322294518284802
         ]
        },
        {
         "customdata": [
          [
           -0.08811048261187558,
           0.0825838595325399,
           0,
           "Hot Since 82 ft Alex Mills - The Core.wav",
           "circle",
           "#0044FF"
          ],
          [
           0.5956167587325868,
           0.06392856759339664,
           0,
           "Hot Since 82 ft Alex Mills - The Core.wav",
           "circle",
           "#0044FF"
          ],
          [
           -0.07427017981722187,
           -0.09011154314674236,
           0,
           "Hot Since 82 ft Alex Mills - The Core.wav",
           "circle",
           "#0044FF"
          ],
          [
           -0.1255405492331486,
           0.07724646368797157,
           0,
           "Hot Since 82 ft Alex Mills - The Core.wav",
           "circle",
           "#0044FF"
          ],
          [
           0.735766115105658,
           0.09030231426342104,
           0,
           "Hot Since 82 ft Alex Mills - The Core.wav",
           "circle",
           "#0044FF"
          ],
          [
           -0.0033536824557025445,
           0.18809151645051603,
           0,
           "Hot Since 82 ft Alex Mills - The Core.wav",
           "circle",
           "#0044FF"
          ],
          [
           -0.3124149592660817,
           0.49583678943543363,
           0,
           "Hot Since 82 ft Alex Mills - The Core.wav",
           "circle",
           "#0044FF"
          ],
          [
           0.05320176777317227,
           0.2581898903396823,
           0,
           "Hot Since 82 ft Alex Mills - The Core.wav",
           "circle",
           "#0044FF"
          ],
          [
           -0.26398759969201213,
           -0.13791759939409207,
           0,
           "Hot Since 82 ft Alex Mills - The Core.wav",
           "circle",
           "#0044FF"
          ],
          [
           -0.11150028431171927,
           -0.13598255961342773,
           0,
           "Hot Since 82 ft Alex Mills - The Core.wav",
           "circle",
           "#0044FF"
          ],
          [
           0.22173506430053067,
           -0.22424544448390965,
           0,
           "Hot Since 82 ft Alex Mills - The Core.wav",
           "circle",
           "#0044FF"
          ],
          [
           -0.34156995076177454,
           -0.4220356334270255,
           0,
           "Hot Since 82 ft Alex Mills - The Core.wav",
           "circle",
           "#0044FF"
          ],
          [
           0.04878714493653392,
           -0.16461475854661725,
           0,
           "Hot Since 82 ft Alex Mills - The Core.wav",
           "x",
           "#0044FF"
          ],
          [
           -0.024859444318550694,
           0.026738422499497202,
           3,
           "Hot Since 82 ft Alex Mills - The Core.wav",
           "x",
           "#6b1075"
          ],
          [
           0.02175860528287172,
           0.007235160859169165,
           3,
           "Hot Since 82 ft Alex Mills - The Core.wav",
           "x",
           "#6b1075"
          ],
          [
           0.1409127178921833,
           0.3264187918793256,
           0,
           "Hot Since 82 ft Alex Mills - The Core.wav",
           "x",
           "#0044FF"
          ],
          [
           -0.04475641714402722,
           0.14727732723515252,
           1,
           "Hot Since 82 ft Alex Mills - The Core.wav",
           "x",
           "#751017"
          ],
          [
           0.22472327813424153,
           0.05325141858205197,
           2,
           "Hot Since 82 ft Alex Mills - The Core.wav",
           "x",
           "#48a832"
          ],
          [
           0.33064114827457863,
           -0.31296833577845196,
           2,
           "Hot Since 82 ft Alex Mills - The Core.wav",
           "x",
           "#48a832"
          ],
          [
           -0.11502173454527034,
           -0.09414481669230561,
           3,
           "Hot Since 82 ft Alex Mills - The Core.wav",
           "x",
           "#6b1075"
          ],
          [
           -0.14775566472964435,
           0.339133544923908,
           0,
           "Hot Since 82 ft Alex Mills - The Core.wav",
           "x",
           "#0044FF"
          ],
          [
           0.039158887987937804,
           0.06890130999984925,
           3,
           "Hot Since 82 ft Alex Mills - The Core.wav",
           "x",
           "#6b1075"
          ],
          [
           -0.1911223710794637,
           0.04075754604497913,
           1,
           "Hot Since 82 ft Alex Mills - The Core.wav",
           "x",
           "#751017"
          ],
          [
           0.3548399700698964,
           0.2586003149884289,
           0,
           "Hot Since 82 ft Alex Mills - The Core.wav",
           "x",
           "#0044FF"
          ]
         ],
         "hovertemplate": "<b>%{customdata[3]}</b><br>(%{x:.3f},%{y:.3f})<extra>%{customdata[2]}</extra>",
         "marker": {
          "color": [
           "#0044FF",
           "#0044FF",
           "#0044FF",
           "#0044FF",
           "#0044FF",
           "#0044FF",
           "#0044FF",
           "#0044FF",
           "#0044FF",
           "#0044FF",
           "#0044FF",
           "#0044FF",
           "#0044FF",
           "#6b1075",
           "#6b1075",
           "#0044FF",
           "#751017",
           "#48a832",
           "#48a832",
           "#6b1075",
           "#0044FF",
           "#6b1075",
           "#751017",
           "#0044FF"
          ],
          "symbol": [
           "circle",
           "circle",
           "circle",
           "circle",
           "circle",
           "circle",
           "circle",
           "circle",
           "circle",
           "circle",
           "circle",
           "circle",
           "x",
           "x",
           "x",
           "x",
           "x",
           "x",
           "x",
           "x",
           "x",
           "x",
           "x",
           "x"
          ]
         },
         "mode": "markers",
         "name": "5",
         "text": [
          "Hot Since 82 ft Alex Mills - The Core.wav",
          "Hot Since 82 ft Alex Mills - The Core.wav",
          "Hot Since 82 ft Alex Mills - The Core.wav",
          "Hot Since 82 ft Alex Mills - The Core.wav",
          "Hot Since 82 ft Alex Mills - The Core.wav",
          "Hot Since 82 ft Alex Mills - The Core.wav",
          "Hot Since 82 ft Alex Mills - The Core.wav",
          "Hot Since 82 ft Alex Mills - The Core.wav",
          "Hot Since 82 ft Alex Mills - The Core.wav",
          "Hot Since 82 ft Alex Mills - The Core.wav",
          "Hot Since 82 ft Alex Mills - The Core.wav",
          "Hot Since 82 ft Alex Mills - The Core.wav",
          "Hot Since 82 ft Alex Mills - The Core.wav",
          "Hot Since 82 ft Alex Mills - The Core.wav",
          "Hot Since 82 ft Alex Mills - The Core.wav",
          "Hot Since 82 ft Alex Mills - The Core.wav",
          "Hot Since 82 ft Alex Mills - The Core.wav",
          "Hot Since 82 ft Alex Mills - The Core.wav",
          "Hot Since 82 ft Alex Mills - The Core.wav",
          "Hot Since 82 ft Alex Mills - The Core.wav",
          "Hot Since 82 ft Alex Mills - The Core.wav",
          "Hot Since 82 ft Alex Mills - The Core.wav",
          "Hot Since 82 ft Alex Mills - The Core.wav",
          "Hot Since 82 ft Alex Mills - The Core.wav"
         ],
         "type": "scatter",
         "x": [
          -0.08811048261187558,
          0.5956167587325868,
          -0.07427017981722187,
          -0.1255405492331486,
          0.735766115105658,
          -0.0033536824557025445,
          -0.3124149592660817,
          0.05320176777317227,
          -0.26398759969201213,
          -0.11150028431171927,
          0.22173506430053067,
          -0.34156995076177454,
          0.04878714493653392,
          -0.024859444318550694,
          0.02175860528287172,
          0.1409127178921833,
          -0.04475641714402722,
          0.22472327813424153,
          0.33064114827457863,
          -0.11502173454527034,
          -0.14775566472964435,
          0.039158887987937804,
          -0.1911223710794637,
          0.3548399700698964
         ],
         "y": [
          0.0825838595325399,
          0.06392856759339664,
          -0.09011154314674236,
          0.07724646368797157,
          0.09030231426342104,
          0.18809151645051603,
          0.49583678943543363,
          0.2581898903396823,
          -0.13791759939409207,
          -0.13598255961342773,
          -0.22424544448390965,
          -0.4220356334270255,
          -0.16461475854661725,
          0.026738422499497202,
          0.007235160859169165,
          0.3264187918793256,
          0.14727732723515252,
          0.05325141858205197,
          -0.31296833577845196,
          -0.09414481669230561,
          0.339133544923908,
          0.06890130999984925,
          0.04075754604497913,
          0.2586003149884289
         ]
        },
        {
         "customdata": [
          [
           -0.15892445739493005,
           -0.08888509086431287,
           0,
           "Onur Ozman - I Am Crying (Hot Since 82 Remix).wav",
           "circle",
           "#0044FF"
          ],
          [
           0.4206917423389683,
           0.060287770135263395,
           0,
           "Onur Ozman - I Am Crying (Hot Since 82 Remix).wav",
           "circle",
           "#0044FF"
          ],
          [
           -0.14902529047293117,
           0.009787782809451738,
           0,
           "Onur Ozman - I Am Crying (Hot Since 82 Remix).wav",
           "circle",
           "#0044FF"
          ],
          [
           0.4423340445454686,
           -0.14922853492923405,
           0,
           "Onur Ozman - I Am Crying (Hot Since 82 Remix).wav",
           "circle",
           "#0044FF"
          ],
          [
           -0.08890082309099384,
           0.05997662319123395,
           0,
           "Onur Ozman - I Am Crying (Hot Since 82 Remix).wav",
           "circle",
           "#0044FF"
          ],
          [
           -0.34145089721057187,
           0.35494136426147843,
           0,
           "Onur Ozman - I Am Crying (Hot Since 82 Remix).wav",
           "circle",
           "#0044FF"
          ],
          [
           0.38179815374203097,
           -0.23545116677252728,
           0,
           "Onur Ozman - I Am Crying (Hot Since 82 Remix).wav",
           "circle",
           "#0044FF"
          ],
          [
           0.2988601551186572,
           -0.3341740789435468,
           0,
           "Onur Ozman - I Am Crying (Hot Since 82 Remix).wav",
           "circle",
           "#0044FF"
          ],
          [
           -0.25781262257175197,
           -0.24084733499909458,
           0,
           "Onur Ozman - I Am Crying (Hot Since 82 Remix).wav",
           "circle",
           "#0044FF"
          ],
          [
           0.022596079463733237,
           0.019250899924209065,
           1,
           "Onur Ozman - I Am Crying (Hot Since 82 Remix).wav",
           "x",
           "#751017"
          ],
          [
           -0.1104214471663276,
           0.25576436294321653,
           2,
           "Onur Ozman - I Am Crying (Hot Since 82 Remix).wav",
           "x",
           "#48a832"
          ],
          [
           0.16344013577266633,
           0.015506301914867208,
           2,
           "Onur Ozman - I Am Crying (Hot Since 82 Remix).wav",
           "x",
           "#48a832"
          ],
          [
           -0.03700457396871794,
           0.10569473455788228,
           3,
           "Onur Ozman - I Am Crying (Hot Since 82 Remix).wav",
           "x",
           "#6b1075"
          ],
          [
           0.6636724024642232,
           0.28736464390923405,
           0,
           "Onur Ozman - I Am Crying (Hot Since 82 Remix).wav",
           "x",
           "#0044FF"
          ],
          [
           -0.679875789501221,
           -0.18662125557657477,
           0,
           "Onur Ozman - I Am Crying (Hot Since 82 Remix).wav",
           "x",
           "#0044FF"
          ],
          [
           -0.5606488271146961,
           0.235607564161329,
           2,
           "Onur Ozman - I Am Crying (Hot Since 82 Remix).wav",
           "x",
           "#48a832"
          ],
          [
           -0.23848811730999614,
           0.2355606471500346,
           0,
           "Onur Ozman - I Am Crying (Hot Since 82 Remix).wav",
           "x",
           "#0044FF"
          ],
          [
           -0.13148324847216486,
           -0.10083357364847957,
           3,
           "Onur Ozman - I Am Crying (Hot Since 82 Remix).wav",
           "x",
           "#6b1075"
          ]
         ],
         "hovertemplate": "<b>%{customdata[3]}</b><br>(%{x:.3f},%{y:.3f})<extra>%{customdata[2]}</extra>",
         "marker": {
          "color": [
           "#0044FF",
           "#0044FF",
           "#0044FF",
           "#0044FF",
           "#0044FF",
           "#0044FF",
           "#0044FF",
           "#0044FF",
           "#0044FF",
           "#751017",
           "#48a832",
           "#48a832",
           "#6b1075",
           "#0044FF",
           "#0044FF",
           "#48a832",
           "#0044FF",
           "#6b1075"
          ],
          "symbol": [
           "circle",
           "circle",
           "circle",
           "circle",
           "circle",
           "circle",
           "circle",
           "circle",
           "circle",
           "x",
           "x",
           "x",
           "x",
           "x",
           "x",
           "x",
           "x",
           "x"
          ]
         },
         "mode": "markers",
         "name": "6",
         "text": [
          "Onur Ozman - I Am Crying (Hot Since 82 Remix).wav",
          "Onur Ozman - I Am Crying (Hot Since 82 Remix).wav",
          "Onur Ozman - I Am Crying (Hot Since 82 Remix).wav",
          "Onur Ozman - I Am Crying (Hot Since 82 Remix).wav",
          "Onur Ozman - I Am Crying (Hot Since 82 Remix).wav",
          "Onur Ozman - I Am Crying (Hot Since 82 Remix).wav",
          "Onur Ozman - I Am Crying (Hot Since 82 Remix).wav",
          "Onur Ozman - I Am Crying (Hot Since 82 Remix).wav",
          "Onur Ozman - I Am Crying (Hot Since 82 Remix).wav",
          "Onur Ozman - I Am Crying (Hot Since 82 Remix).wav",
          "Onur Ozman - I Am Crying (Hot Since 82 Remix).wav",
          "Onur Ozman - I Am Crying (Hot Since 82 Remix).wav",
          "Onur Ozman - I Am Crying (Hot Since 82 Remix).wav",
          "Onur Ozman - I Am Crying (Hot Since 82 Remix).wav",
          "Onur Ozman - I Am Crying (Hot Since 82 Remix).wav",
          "Onur Ozman - I Am Crying (Hot Since 82 Remix).wav",
          "Onur Ozman - I Am Crying (Hot Since 82 Remix).wav",
          "Onur Ozman - I Am Crying (Hot Since 82 Remix).wav"
         ],
         "type": "scatter",
         "x": [
          -0.15892445739493005,
          0.4206917423389683,
          -0.14902529047293117,
          0.4423340445454686,
          -0.08890082309099384,
          -0.34145089721057187,
          0.38179815374203097,
          0.2988601551186572,
          -0.25781262257175197,
          0.022596079463733237,
          -0.1104214471663276,
          0.16344013577266633,
          -0.03700457396871794,
          0.6636724024642232,
          -0.679875789501221,
          -0.5606488271146961,
          -0.23848811730999614,
          -0.13148324847216486
         ],
         "y": [
          -0.08888509086431287,
          0.060287770135263395,
          0.009787782809451738,
          -0.14922853492923405,
          0.05997662319123395,
          0.35494136426147843,
          -0.23545116677252728,
          -0.3341740789435468,
          -0.24084733499909458,
          0.019250899924209065,
          0.25576436294321653,
          0.015506301914867208,
          0.10569473455788228,
          0.28736464390923405,
          -0.18662125557657477,
          0.235607564161329,
          0.2355606471500346,
          -0.10083357364847957
         ]
        },
        {
         "customdata": [
          [
           -0.33038977461089203,
           -0.32019077670996815,
           1,
           "Pet Shop Boys - Twenty Something (Kornel Kovacs remix).wav",
           "circle",
           "#751017"
          ],
          [
           0.09423321641808448,
           -0.38185969601320285,
           1,
           "Pet Shop Boys - Twenty Something (Kornel Kovacs remix).wav",
           "circle",
           "#751017"
          ],
          [
           0.07407673004094274,
           -0.06595146489433099,
           1,
           "Pet Shop Boys - Twenty Something (Kornel Kovacs remix).wav",
           "circle",
           "#751017"
          ],
          [
           0.10691257058904963,
           -0.07574120960435692,
           1,
           "Pet Shop Boys - Twenty Something (Kornel Kovacs remix).wav",
           "circle",
           "#751017"
          ],
          [
           -0.40595654838458173,
           -0.5574645784588284,
           1,
           "Pet Shop Boys - Twenty Something (Kornel Kovacs remix).wav",
           "circle",
           "#751017"
          ],
          [
           0.00710519436365804,
           0.4168692823636002,
           1,
           "Pet Shop Boys - Twenty Something (Kornel Kovacs remix).wav",
           "circle",
           "#751017"
          ],
          [
           -0.7120390322673976,
           0.2706470563752887,
           1,
           "Pet Shop Boys - Twenty Something (Kornel Kovacs remix).wav",
           "circle",
           "#751017"
          ],
          [
           -0.14807668159118084,
           -0.0729151200018574,
           1,
           "Pet Shop Boys - Twenty Something (Kornel Kovacs remix).wav",
           "circle",
           "#751017"
          ],
          [
           -0.24782591228765316,
           -0.19801920784132215,
           1,
           "Pet Shop Boys - Twenty Something (Kornel Kovacs remix).wav",
           "circle",
           "#751017"
          ],
          [
           -0.07877316390460426,
           0.1334594120975545,
           3,
           "Pet Shop Boys - Twenty Something (Kornel Kovacs remix).wav",
           "x",
           "#6b1075"
          ],
          [
           0.23204964817037296,
           -0.08652294527330597,
           3,
           "Pet Shop Boys - Twenty Something (Kornel Kovacs remix).wav",
           "x",
           "#6b1075"
          ],
          [
           0.4084988012822491,
           -0.8438714117343324,
           0,
           "Pet Shop Boys - Twenty Something (Kornel Kovacs remix).wav",
           "x",
           "#0044FF"
          ],
          [
           -0.17916938095258458,
           0.2705483772981416,
           3,
           "Pet Shop Boys - Twenty Something (Kornel Kovacs remix).wav",
           "x",
           "#6b1075"
          ],
          [
           0.6956821322532478,
           -0.08508296633788573,
           0,
           "Pet Shop Boys - Twenty Something (Kornel Kovacs remix).wav",
           "x",
           "#0044FF"
          ],
          [
           -0.13796522352213994,
           0.02015148487512632,
           1,
           "Pet Shop Boys - Twenty Something (Kornel Kovacs remix).wav",
           "x",
           "#751017"
          ],
          [
           0.2711277102670966,
           0.10835171137164433,
           2,
           "Pet Shop Boys - Twenty Something (Kornel Kovacs remix).wav",
           "x",
           "#48a832"
          ],
          [
           -0.1198355270885773,
           -0.23959332041303827,
           1,
           "Pet Shop Boys - Twenty Something (Kornel Kovacs remix).wav",
           "x",
           "#751017"
          ],
          [
           0.703604254848113,
           -0.06288528045595819,
           0,
           "Pet Shop Boys - Twenty Something (Kornel Kovacs remix).wav",
           "x",
           "#0044FF"
          ]
         ],
         "hovertemplate": "<b>%{customdata[3]}</b><br>(%{x:.3f},%{y:.3f})<extra>%{customdata[2]}</extra>",
         "marker": {
          "color": [
           "#751017",
           "#751017",
           "#751017",
           "#751017",
           "#751017",
           "#751017",
           "#751017",
           "#751017",
           "#751017",
           "#6b1075",
           "#6b1075",
           "#0044FF",
           "#6b1075",
           "#0044FF",
           "#751017",
           "#48a832",
           "#751017",
           "#0044FF"
          ],
          "symbol": [
           "circle",
           "circle",
           "circle",
           "circle",
           "circle",
           "circle",
           "circle",
           "circle",
           "circle",
           "x",
           "x",
           "x",
           "x",
           "x",
           "x",
           "x",
           "x",
           "x"
          ]
         },
         "mode": "markers",
         "name": "7",
         "text": [
          "Pet Shop Boys - Twenty Something (Kornel Kovacs remix).wav",
          "Pet Shop Boys - Twenty Something (Kornel Kovacs remix).wav",
          "Pet Shop Boys - Twenty Something (Kornel Kovacs remix).wav",
          "Pet Shop Boys - Twenty Something (Kornel Kovacs remix).wav",
          "Pet Shop Boys - Twenty Something (Kornel Kovacs remix).wav",
          "Pet Shop Boys - Twenty Something (Kornel Kovacs remix).wav",
          "Pet Shop Boys - Twenty Something (Kornel Kovacs remix).wav",
          "Pet Shop Boys - Twenty Something (Kornel Kovacs remix).wav",
          "Pet Shop Boys - Twenty Something (Kornel Kovacs remix).wav",
          "Pet Shop Boys - Twenty Something (Kornel Kovacs remix).wav",
          "Pet Shop Boys - Twenty Something (Kornel Kovacs remix).wav",
          "Pet Shop Boys - Twenty Something (Kornel Kovacs remix).wav",
          "Pet Shop Boys - Twenty Something (Kornel Kovacs remix).wav",
          "Pet Shop Boys - Twenty Something (Kornel Kovacs remix).wav",
          "Pet Shop Boys - Twenty Something (Kornel Kovacs remix).wav",
          "Pet Shop Boys - Twenty Something (Kornel Kovacs remix).wav",
          "Pet Shop Boys - Twenty Something (Kornel Kovacs remix).wav",
          "Pet Shop Boys - Twenty Something (Kornel Kovacs remix).wav"
         ],
         "type": "scatter",
         "x": [
          -0.33038977461089203,
          0.09423321641808448,
          0.07407673004094274,
          0.10691257058904963,
          -0.40595654838458173,
          0.00710519436365804,
          -0.7120390322673976,
          -0.14807668159118084,
          -0.24782591228765316,
          -0.07877316390460426,
          0.23204964817037296,
          0.4084988012822491,
          -0.17916938095258458,
          0.6956821322532478,
          -0.13796522352213994,
          0.2711277102670966,
          -0.1198355270885773,
          0.703604254848113
         ],
         "y": [
          -0.32019077670996815,
          -0.38185969601320285,
          -0.06595146489433099,
          -0.07574120960435692,
          -0.5574645784588284,
          0.4168692823636002,
          0.2706470563752887,
          -0.0729151200018574,
          -0.19801920784132215,
          0.1334594120975545,
          -0.08652294527330597,
          -0.8438714117343324,
          0.2705483772981416,
          -0.08508296633788573,
          0.02015148487512632,
          0.10835171137164433,
          -0.23959332041303827,
          -0.06288528045595819
         ]
        },
        {
         "customdata": [
          [
           0.07424051892975075,
           0.042783694894038674,
           1,
           "Phil Weeks - Love 2 Love.wav",
           "circle",
           "#751017"
          ],
          [
           -0.05223867343166072,
           -0.10529255814551039,
           1,
           "Phil Weeks - Love 2 Love.wav",
           "circle",
           "#751017"
          ],
          [
           -0.18442896489799726,
           0.2164748309843483,
           1,
           "Phil Weeks - Love 2 Love.wav",
           "circle",
           "#751017"
          ],
          [
           0.43127715745837253,
           -0.2380168402337692,
           1,
           "Phil Weeks - Love 2 Love.wav",
           "circle",
           "#751017"
          ],
          [
           -0.24666964972934807,
           -0.05109101783246938,
           1,
           "Phil Weeks - Love 2 Love.wav",
           "circle",
           "#751017"
          ],
          [
           -0.10000241367380847,
           -0.3032740266894161,
           1,
           "Phil Weeks - Love 2 Love.wav",
           "circle",
           "#751017"
          ],
          [
           -0.010083926469216842,
           -0.11453947491270905,
           1,
           "Phil Weeks - Love 2 Love.wav",
           "circle",
           "#751017"
          ],
          [
           -0.10132558929489759,
           -0.22678465624594757,
           1,
           "Phil Weeks - Love 2 Love.wav",
           "circle",
           "#751017"
          ],
          [
           -0.1014409500789767,
           -0.09037840207427612,
           1,
           "Phil Weeks - Love 2 Love.wav",
           "circle",
           "#751017"
          ],
          [
           0.03728972087050422,
           -0.2768680297629406,
           1,
           "Phil Weeks - Love 2 Love.wav",
           "circle",
           "#751017"
          ],
          [
           0.08224195066380231,
           -0.22092599731818927,
           1,
           "Phil Weeks - Love 2 Love.wav",
           "circle",
           "#751017"
          ],
          [
           -0.10433281148344044,
           0.15923771070067733,
           1,
           "Phil Weeks - Love 2 Love.wav",
           "circle",
           "#751017"
          ],
          [
           -0.15002385676334243,
           -0.009764966793115542,
           1,
           "Phil Weeks - Love 2 Love.wav",
           "x",
           "#751017"
          ],
          [
           -0.6170069756628532,
           -0.3245305550275655,
           0,
           "Phil Weeks - Love 2 Love.wav",
           "x",
           "#0044FF"
          ],
          [
           -0.6161981898387431,
           0.3635762384501778,
           3,
           "Phil Weeks - Love 2 Love.wav",
           "x",
           "#6b1075"
          ],
          [
           0.030346028007761087,
           -0.04095921802213332,
           2,
           "Phil Weeks - Love 2 Love.wav",
           "x",
           "#48a832"
          ],
          [
           0.15848021781367191,
           -0.004395935148347557,
           1,
           "Phil Weeks - Love 2 Love.wav",
           "x",
           "#751017"
          ],
          [
           -0.00573025796523541,
           0.0025826318471935204,
           3,
           "Phil Weeks - Love 2 Love.wav",
           "x",
           "#6b1075"
          ],
          [
           -0.02599447703018142,
           0.3502089342890967,
           0,
           "Phil Weeks - Love 2 Love.wav",
           "x",
           "#0044FF"
          ],
          [
           -0.05603547000164174,
           -0.16712821642527811,
           1,
           "Phil Weeks - Love 2 Love.wav",
           "x",
           "#751017"
          ],
          [
           -0.1786767375647323,
           -0.2685019144148514,
           2,
           "Phil Weeks - Love 2 Love.wav",
           "x",
           "#48a832"
          ],
          [
           -0.09735525418387808,
           0.23033154669222383,
           0,
           "Phil Weeks - Love 2 Love.wav",
           "x",
           "#0044FF"
          ],
          [
           -0.25649906547303086,
           -0.30025361805852147,
           0,
           "Phil Weeks - Love 2 Love.wav",
           "x",
           "#0044FF"
          ],
          [
           -0.10529322780036524,
           0.16173443908332064,
           1,
           "Phil Weeks - Love 2 Love.wav",
           "x",
           "#751017"
          ]
         ],
         "hovertemplate": "<b>%{customdata[3]}</b><br>(%{x:.3f},%{y:.3f})<extra>%{customdata[2]}</extra>",
         "marker": {
          "color": [
           "#751017",
           "#751017",
           "#751017",
           "#751017",
           "#751017",
           "#751017",
           "#751017",
           "#751017",
           "#751017",
           "#751017",
           "#751017",
           "#751017",
           "#751017",
           "#0044FF",
           "#6b1075",
           "#48a832",
           "#751017",
           "#6b1075",
           "#0044FF",
           "#751017",
           "#48a832",
           "#0044FF",
           "#0044FF",
           "#751017"
          ],
          "symbol": [
           "circle",
           "circle",
           "circle",
           "circle",
           "circle",
           "circle",
           "circle",
           "circle",
           "circle",
           "circle",
           "circle",
           "circle",
           "x",
           "x",
           "x",
           "x",
           "x",
           "x",
           "x",
           "x",
           "x",
           "x",
           "x",
           "x"
          ]
         },
         "mode": "markers",
         "name": "8",
         "text": [
          "Phil Weeks - Love 2 Love.wav",
          "Phil Weeks - Love 2 Love.wav",
          "Phil Weeks - Love 2 Love.wav",
          "Phil Weeks - Love 2 Love.wav",
          "Phil Weeks - Love 2 Love.wav",
          "Phil Weeks - Love 2 Love.wav",
          "Phil Weeks - Love 2 Love.wav",
          "Phil Weeks - Love 2 Love.wav",
          "Phil Weeks - Love 2 Love.wav",
          "Phil Weeks - Love 2 Love.wav",
          "Phil Weeks - Love 2 Love.wav",
          "Phil Weeks - Love 2 Love.wav",
          "Phil Weeks - Love 2 Love.wav",
          "Phil Weeks - Love 2 Love.wav",
          "Phil Weeks - Love 2 Love.wav",
          "Phil Weeks - Love 2 Love.wav",
          "Phil Weeks - Love 2 Love.wav",
          "Phil Weeks - Love 2 Love.wav",
          "Phil Weeks - Love 2 Love.wav",
          "Phil Weeks - Love 2 Love.wav",
          "Phil Weeks - Love 2 Love.wav",
          "Phil Weeks - Love 2 Love.wav",
          "Phil Weeks - Love 2 Love.wav",
          "Phil Weeks - Love 2 Love.wav"
         ],
         "type": "scatter",
         "x": [
          0.07424051892975075,
          -0.05223867343166072,
          -0.18442896489799726,
          0.43127715745837253,
          -0.24666964972934807,
          -0.10000241367380847,
          -0.010083926469216842,
          -0.10132558929489759,
          -0.1014409500789767,
          0.03728972087050422,
          0.08224195066380231,
          -0.10433281148344044,
          -0.15002385676334243,
          -0.6170069756628532,
          -0.6161981898387431,
          0.030346028007761087,
          0.15848021781367191,
          -0.00573025796523541,
          -0.02599447703018142,
          -0.05603547000164174,
          -0.1786767375647323,
          -0.09735525418387808,
          -0.25649906547303086,
          -0.10529322780036524
         ],
         "y": [
          0.042783694894038674,
          -0.10529255814551039,
          0.2164748309843483,
          -0.2380168402337692,
          -0.05109101783246938,
          -0.3032740266894161,
          -0.11453947491270905,
          -0.22678465624594757,
          -0.09037840207427612,
          -0.2768680297629406,
          -0.22092599731818927,
          0.15923771070067733,
          -0.009764966793115542,
          -0.3245305550275655,
          0.3635762384501778,
          -0.04095921802213332,
          -0.004395935148347557,
          0.0025826318471935204,
          0.3502089342890967,
          -0.16712821642527811,
          -0.2685019144148514,
          0.23033154669222383,
          -0.30025361805852147,
          0.16173443908332064
         ]
        },
        {
         "customdata": [
          [
           0.08441766453369155,
           -0.14460447145838934,
           1,
           "Prunk - Another Vibe (Original Mix).wav",
           "circle",
           "#751017"
          ],
          [
           -0.1155764856388708,
           -0.20784729353077555,
           1,
           "Prunk - Another Vibe (Original Mix).wav",
           "circle",
           "#751017"
          ],
          [
           -0.009540938715339328,
           -0.18166736318477247,
           1,
           "Prunk - Another Vibe (Original Mix).wav",
           "circle",
           "#751017"
          ],
          [
           0.041938136917758814,
           -0.143839691394676,
           1,
           "Prunk - Another Vibe (Original Mix).wav",
           "circle",
           "#751017"
          ],
          [
           -0.012872192199282489,
           0.07916473955236261,
           1,
           "Prunk - Another Vibe (Original Mix).wav",
           "circle",
           "#751017"
          ],
          [
           -0.2591429271731225,
           -0.040637439599402546,
           1,
           "Prunk - Another Vibe (Original Mix).wav",
           "circle",
           "#751017"
          ],
          [
           0.03782757997683255,
           -0.07179429324665723,
           1,
           "Prunk - Another Vibe (Original Mix).wav",
           "circle",
           "#751017"
          ],
          [
           0.18971582546783333,
           -0.2857776237246537,
           1,
           "Prunk - Another Vibe (Original Mix).wav",
           "circle",
           "#751017"
          ],
          [
           0.5735921225785516,
           -0.32695667493292924,
           1,
           "Prunk - Another Vibe (Original Mix).wav",
           "circle",
           "#751017"
          ],
          [
           0.723126444538587,
           0.14744289692707455,
           1,
           "Prunk - Another Vibe (Original Mix).wav",
           "circle",
           "#751017"
          ],
          [
           -0.6566421941216707,
           -0.16318438278495284,
           1,
           "Prunk - Another Vibe (Original Mix).wav",
           "circle",
           "#751017"
          ],
          [
           0.5599264810646953,
           -0.3917813830738838,
           1,
           "Prunk - Another Vibe (Original Mix).wav",
           "circle",
           "#751017"
          ],
          [
           -0.7054498387599228,
           0.32404580267461686,
           1,
           "Prunk - Another Vibe (Original Mix).wav",
           "circle",
           "#751017"
          ],
          [
           -0.26840238923545057,
           0.17672235988941998,
           3,
           "Prunk - Another Vibe (Original Mix).wav",
           "x",
           "#6b1075"
          ],
          [
           0.035964696228847085,
           -0.025432987572638625,
           1,
           "Prunk - Another Vibe (Original Mix).wav",
           "x",
           "#751017"
          ],
          [
           -0.18963934946392746,
           -0.47896371735869997,
           0,
           "Prunk - Another Vibe (Original Mix).wav",
           "x",
           "#0044FF"
          ],
          [
           0.16995845554574196,
           -0.38815628502075433,
           0,
           "Prunk - Another Vibe (Original Mix).wav",
           "x",
           "#0044FF"
          ],
          [
           -0.08337358582386932,
           0.04187463567868962,
           3,
           "Prunk - Another Vibe (Original Mix).wav",
           "x",
           "#6b1075"
          ],
          [
           0.4404194211160816,
           -0.377434279007666,
           3,
           "Prunk - Another Vibe (Original Mix).wav",
           "x",
           "#6b1075"
          ],
          [
           0.2874350826447944,
           0.09462793670358205,
           1,
           "Prunk - Another Vibe (Original Mix).wav",
           "x",
           "#751017"
          ],
          [
           -0.1312658248925353,
           -0.33324406896771874,
           0,
           "Prunk - Another Vibe (Original Mix).wav",
           "x",
           "#0044FF"
          ],
          [
           0.01989967772690051,
           -0.007508621712715275,
           1,
           "Prunk - Another Vibe (Original Mix).wav",
           "x",
           "#751017"
          ],
          [
           0.31880087283835257,
           -0.6079829089276417,
           0,
           "Prunk - Another Vibe (Original Mix).wav",
           "x",
           "#0044FF"
          ],
          [
           0.06456582692457427,
           -0.4055119250623834,
           0,
           "Prunk - Another Vibe (Original Mix).wav",
           "x",
           "#0044FF"
          ],
          [
           -0.26380604961403814,
           0.29164912336208937,
           0,
           "Prunk - Another Vibe (Original Mix).wav",
           "x",
           "#0044FF"
          ],
          [
           0.31436676624646126,
           -0.05687650576053646,
           3,
           "Prunk - Another Vibe (Original Mix).wav",
           "x",
           "#6b1075"
          ]
         ],
         "hovertemplate": "<b>%{customdata[3]}</b><br>(%{x:.3f},%{y:.3f})<extra>%{customdata[2]}</extra>",
         "marker": {
          "color": [
           "#751017",
           "#751017",
           "#751017",
           "#751017",
           "#751017",
           "#751017",
           "#751017",
           "#751017",
           "#751017",
           "#751017",
           "#751017",
           "#751017",
           "#751017",
           "#6b1075",
           "#751017",
           "#0044FF",
           "#0044FF",
           "#6b1075",
           "#6b1075",
           "#751017",
           "#0044FF",
           "#751017",
           "#0044FF",
           "#0044FF",
           "#0044FF",
           "#6b1075"
          ],
          "symbol": [
           "circle",
           "circle",
           "circle",
           "circle",
           "circle",
           "circle",
           "circle",
           "circle",
           "circle",
           "circle",
           "circle",
           "circle",
           "circle",
           "x",
           "x",
           "x",
           "x",
           "x",
           "x",
           "x",
           "x",
           "x",
           "x",
           "x",
           "x",
           "x"
          ]
         },
         "mode": "markers",
         "name": "9",
         "text": [
          "Prunk - Another Vibe (Original Mix).wav",
          "Prunk - Another Vibe (Original Mix).wav",
          "Prunk - Another Vibe (Original Mix).wav",
          "Prunk - Another Vibe (Original Mix).wav",
          "Prunk - Another Vibe (Original Mix).wav",
          "Prunk - Another Vibe (Original Mix).wav",
          "Prunk - Another Vibe (Original Mix).wav",
          "Prunk - Another Vibe (Original Mix).wav",
          "Prunk - Another Vibe (Original Mix).wav",
          "Prunk - Another Vibe (Original Mix).wav",
          "Prunk - Another Vibe (Original Mix).wav",
          "Prunk - Another Vibe (Original Mix).wav",
          "Prunk - Another Vibe (Original Mix).wav",
          "Prunk - Another Vibe (Original Mix).wav",
          "Prunk - Another Vibe (Original Mix).wav",
          "Prunk - Another Vibe (Original Mix).wav",
          "Prunk - Another Vibe (Original Mix).wav",
          "Prunk - Another Vibe (Original Mix).wav",
          "Prunk - Another Vibe (Original Mix).wav",
          "Prunk - Another Vibe (Original Mix).wav",
          "Prunk - Another Vibe (Original Mix).wav",
          "Prunk - Another Vibe (Original Mix).wav",
          "Prunk - Another Vibe (Original Mix).wav",
          "Prunk - Another Vibe (Original Mix).wav",
          "Prunk - Another Vibe (Original Mix).wav",
          "Prunk - Another Vibe (Original Mix).wav"
         ],
         "type": "scatter",
         "x": [
          0.08441766453369155,
          -0.1155764856388708,
          -0.009540938715339328,
          0.041938136917758814,
          -0.012872192199282489,
          -0.2591429271731225,
          0.03782757997683255,
          0.18971582546783333,
          0.5735921225785516,
          0.723126444538587,
          -0.6566421941216707,
          0.5599264810646953,
          -0.7054498387599228,
          -0.26840238923545057,
          0.035964696228847085,
          -0.18963934946392746,
          0.16995845554574196,
          -0.08337358582386932,
          0.4404194211160816,
          0.2874350826447944,
          -0.1312658248925353,
          0.01989967772690051,
          0.31880087283835257,
          0.06456582692457427,
          -0.26380604961403814,
          0.31436676624646126
         ],
         "y": [
          -0.14460447145838934,
          -0.20784729353077555,
          -0.18166736318477247,
          -0.143839691394676,
          0.07916473955236261,
          -0.040637439599402546,
          -0.07179429324665723,
          -0.2857776237246537,
          -0.32695667493292924,
          0.14744289692707455,
          -0.16318438278495284,
          -0.3917813830738838,
          0.32404580267461686,
          0.17672235988941998,
          -0.025432987572638625,
          -0.47896371735869997,
          -0.38815628502075433,
          0.04187463567868962,
          -0.377434279007666,
          0.09462793670358205,
          -0.33324406896771874,
          -0.007508621712715275,
          -0.6079829089276417,
          -0.4055119250623834,
          0.29164912336208937,
          -0.05687650576053646
         ]
        },
        {
         "customdata": [
          [
           -0.04233151055278039,
           0.2841390796204114,
           2,
           "Sabb & Forrest - One Of Us (Dennis Ferrer Remix).wav",
           "circle",
           "#48a832"
          ],
          [
           -0.17462702657137227,
           -0.29648903051728737,
           2,
           "Sabb & Forrest - One Of Us (Dennis Ferrer Remix).wav",
           "circle",
           "#48a832"
          ],
          [
           -0.44365282681384305,
           -0.08591916970519486,
           2,
           "Sabb & Forrest - One Of Us (Dennis Ferrer Remix).wav",
           "circle",
           "#48a832"
          ],
          [
           0.0639525000020347,
           -0.08937277419543264,
           2,
           "Sabb & Forrest - One Of Us (Dennis Ferrer Remix).wav",
           "circle",
           "#48a832"
          ],
          [
           0.46148189378829835,
           -0.21902860288148357,
           2,
           "Sabb & Forrest - One Of Us (Dennis Ferrer Remix).wav",
           "circle",
           "#48a832"
          ],
          [
           -0.09530104269632662,
           -0.0022928585011118244,
           2,
           "Sabb & Forrest - One Of Us (Dennis Ferrer Remix).wav",
           "circle",
           "#48a832"
          ],
          [
           0.10765195292020596,
           0.1749282609176431,
           2,
           "Sabb & Forrest - One Of Us (Dennis Ferrer Remix).wav",
           "circle",
           "#48a832"
          ],
          [
           -0.10116040560699502,
           0.3952135810544849,
           2,
           "Sabb & Forrest - One Of Us (Dennis Ferrer Remix).wav",
           "circle",
           "#48a832"
          ],
          [
           0.471365459067009,
           -0.31580858734219697,
           2,
           "Sabb & Forrest - One Of Us (Dennis Ferrer Remix).wav",
           "circle",
           "#48a832"
          ],
          [
           -0.3052943800531652,
           0.2752832449345254,
           2,
           "Sabb & Forrest - One Of Us (Dennis Ferrer Remix).wav",
           "circle",
           "#48a832"
          ],
          [
           0.39531939247411657,
           -0.17546218548266784,
           2,
           "Sabb & Forrest - One Of Us (Dennis Ferrer Remix).wav",
           "circle",
           "#48a832"
          ],
          [
           0.031141303449170054,
           0.007133278751353137,
           2,
           "Sabb & Forrest - One Of Us (Dennis Ferrer Remix).wav",
           "x",
           "#48a832"
          ],
          [
           0.47515647109469905,
           0.3815512371964486,
           0,
           "Sabb & Forrest - One Of Us (Dennis Ferrer Remix).wav",
           "x",
           "#0044FF"
          ],
          [
           0.006948244982712072,
           0.179586760882992,
           1,
           "Sabb & Forrest - One Of Us (Dennis Ferrer Remix).wav",
           "x",
           "#751017"
          ],
          [
           -0.1445678759814109,
           0.06173050922089401,
           1,
           "Sabb & Forrest - One Of Us (Dennis Ferrer Remix).wav",
           "x",
           "#751017"
          ],
          [
           -0.5408412263923364,
           -0.026655945607938148,
           0,
           "Sabb & Forrest - One Of Us (Dennis Ferrer Remix).wav",
           "x",
           "#0044FF"
          ],
          [
           0.14191829862933672,
           -0.1368879458584817,
           3,
           "Sabb & Forrest - One Of Us (Dennis Ferrer Remix).wav",
           "x",
           "#6b1075"
          ],
          [
           0.09084478251591185,
           0.162891568883315,
           1,
           "Sabb & Forrest - One Of Us (Dennis Ferrer Remix).wav",
           "x",
           "#751017"
          ],
          [
           -0.3925463873784888,
           0.4074566234345395,
           3,
           "Sabb & Forrest - One Of Us (Dennis Ferrer Remix).wav",
           "x",
           "#6b1075"
          ],
          [
           -0.15642495615826452,
           0.22307747177512824,
           1,
           "Sabb & Forrest - One Of Us (Dennis Ferrer Remix).wav",
           "x",
           "#751017"
          ],
          [
           -0.09062405994594183,
           -0.04843178237277447,
           3,
           "Sabb & Forrest - One Of Us (Dennis Ferrer Remix).wav",
           "x",
           "#6b1075"
          ],
          [
           -0.10997304835627714,
           0.482366260953138,
           2,
           "Sabb & Forrest - One Of Us (Dennis Ferrer Remix).wav",
           "x",
           "#48a832"
          ]
         ],
         "hovertemplate": "<b>%{customdata[3]}</b><br>(%{x:.3f},%{y:.3f})<extra>%{customdata[2]}</extra>",
         "marker": {
          "color": [
           "#48a832",
           "#48a832",
           "#48a832",
           "#48a832",
           "#48a832",
           "#48a832",
           "#48a832",
           "#48a832",
           "#48a832",
           "#48a832",
           "#48a832",
           "#48a832",
           "#0044FF",
           "#751017",
           "#751017",
           "#0044FF",
           "#6b1075",
           "#751017",
           "#6b1075",
           "#751017",
           "#6b1075",
           "#48a832"
          ],
          "symbol": [
           "circle",
           "circle",
           "circle",
           "circle",
           "circle",
           "circle",
           "circle",
           "circle",
           "circle",
           "circle",
           "circle",
           "x",
           "x",
           "x",
           "x",
           "x",
           "x",
           "x",
           "x",
           "x",
           "x",
           "x"
          ]
         },
         "mode": "markers",
         "name": "10",
         "text": [
          "Sabb & Forrest - One Of Us (Dennis Ferrer Remix).wav",
          "Sabb & Forrest - One Of Us (Dennis Ferrer Remix).wav",
          "Sabb & Forrest - One Of Us (Dennis Ferrer Remix).wav",
          "Sabb & Forrest - One Of Us (Dennis Ferrer Remix).wav",
          "Sabb & Forrest - One Of Us (Dennis Ferrer Remix).wav",
          "Sabb & Forrest - One Of Us (Dennis Ferrer Remix).wav",
          "Sabb & Forrest - One Of Us (Dennis Ferrer Remix).wav",
          "Sabb & Forrest - One Of Us (Dennis Ferrer Remix).wav",
          "Sabb & Forrest - One Of Us (Dennis Ferrer Remix).wav",
          "Sabb & Forrest - One Of Us (Dennis Ferrer Remix).wav",
          "Sabb & Forrest - One Of Us (Dennis Ferrer Remix).wav",
          "Sabb & Forrest - One Of Us (Dennis Ferrer Remix).wav",
          "Sabb & Forrest - One Of Us (Dennis Ferrer Remix).wav",
          "Sabb & Forrest - One Of Us (Dennis Ferrer Remix).wav",
          "Sabb & Forrest - One Of Us (Dennis Ferrer Remix).wav",
          "Sabb & Forrest - One Of Us (Dennis Ferrer Remix).wav",
          "Sabb & Forrest - One Of Us (Dennis Ferrer Remix).wav",
          "Sabb & Forrest - One Of Us (Dennis Ferrer Remix).wav",
          "Sabb & Forrest - One Of Us (Dennis Ferrer Remix).wav",
          "Sabb & Forrest - One Of Us (Dennis Ferrer Remix).wav",
          "Sabb & Forrest - One Of Us (Dennis Ferrer Remix).wav",
          "Sabb & Forrest - One Of Us (Dennis Ferrer Remix).wav"
         ],
         "type": "scatter",
         "x": [
          -0.04233151055278039,
          -0.17462702657137227,
          -0.44365282681384305,
          0.0639525000020347,
          0.46148189378829835,
          -0.09530104269632662,
          0.10765195292020596,
          -0.10116040560699502,
          0.471365459067009,
          -0.3052943800531652,
          0.39531939247411657,
          0.031141303449170054,
          0.47515647109469905,
          0.006948244982712072,
          -0.1445678759814109,
          -0.5408412263923364,
          0.14191829862933672,
          0.09084478251591185,
          -0.3925463873784888,
          -0.15642495615826452,
          -0.09062405994594183,
          -0.10997304835627714
         ],
         "y": [
          0.2841390796204114,
          -0.29648903051728737,
          -0.08591916970519486,
          -0.08937277419543264,
          -0.21902860288148357,
          -0.0022928585011118244,
          0.1749282609176431,
          0.3952135810544849,
          -0.31580858734219697,
          0.2752832449345254,
          -0.17546218548266784,
          0.007133278751353137,
          0.3815512371964486,
          0.179586760882992,
          0.06173050922089401,
          -0.026655945607938148,
          -0.1368879458584817,
          0.162891568883315,
          0.4074566234345395,
          0.22307747177512824,
          -0.04843178237277447,
          0.482366260953138
         ]
        },
        {
         "customdata": [
          [
           0.02707836176476396,
           0.3761800443957655,
           2,
           "Sade - Pearls (Timo Jahns Remix).wav",
           "circle",
           "#48a832"
          ],
          [
           -0.16509295194573576,
           0.07626833209030288,
           2,
           "Sade - Pearls (Timo Jahns Remix).wav",
           "circle",
           "#48a832"
          ],
          [
           0.2219289388854499,
           -0.3773574664340459,
           2,
           "Sade - Pearls (Timo Jahns Remix).wav",
           "circle",
           "#48a832"
          ],
          [
           -0.48309139691993,
           -0.1546491405093262,
           2,
           "Sade - Pearls (Timo Jahns Remix).wav",
           "circle",
           "#48a832"
          ],
          [
           0.019552460822000975,
           0.3455679581865035,
           2,
           "Sade - Pearls (Timo Jahns Remix).wav",
           "circle",
           "#48a832"
          ],
          [
           0.26629963460762385,
           -0.12177319777298752,
           2,
           "Sade - Pearls (Timo Jahns Remix).wav",
           "circle",
           "#48a832"
          ],
          [
           -0.07193037924613245,
           -0.40524319769152894,
           2,
           "Sade - Pearls (Timo Jahns Remix).wav",
           "circle",
           "#48a832"
          ],
          [
           -0.07588501897960348,
           -0.03154558882608476,
           2,
           "Sade - Pearls (Timo Jahns Remix).wav",
           "circle",
           "#48a832"
          ],
          [
           -0.08169332781095992,
           -0.042446697112344806,
           2,
           "Sade - Pearls (Timo Jahns Remix).wav",
           "circle",
           "#48a832"
          ],
          [
           -0.14434145216715216,
           0.4819596639640862,
           2,
           "Sade - Pearls (Timo Jahns Remix).wav",
           "circle",
           "#48a832"
          ],
          [
           0.12331442030372858,
           0.5864499445036678,
           2,
           "Sade - Pearls (Timo Jahns Remix).wav",
           "circle",
           "#48a832"
          ],
          [
           0.13257597069976867,
           -0.011566473051687341,
           2,
           "Sade - Pearls (Timo Jahns Remix).wav",
           "circle",
           "#48a832"
          ],
          [
           0.0638086246307533,
           -0.20567207475718938,
           2,
           "Sade - Pearls (Timo Jahns Remix).wav",
           "circle",
           "#48a832"
          ],
          [
           -0.23536550072473308,
           -0.3868098427417697,
           2,
           "Sade - Pearls (Timo Jahns Remix).wav",
           "x",
           "#48a832"
          ],
          [
           -0.34640138273413207,
           -0.32510241180369515,
           2,
           "Sade - Pearls (Timo Jahns Remix).wav",
           "x",
           "#48a832"
          ],
          [
           0.16321082638507695,
           0.03997967576832114,
           3,
           "Sade - Pearls (Timo Jahns Remix).wav",
           "x",
           "#6b1075"
          ],
          [
           0.07070007564909625,
           0.11977055655350385,
           0,
           "Sade - Pearls (Timo Jahns Remix).wav",
           "x",
           "#0044FF"
          ],
          [
           0.5794500586238787,
           -0.0462203216441537,
           3,
           "Sade - Pearls (Timo Jahns Remix).wav",
           "x",
           "#6b1075"
          ],
          [
           0.22575001023527466,
           0.09880445252812883,
           1,
           "Sade - Pearls (Timo Jahns Remix).wav",
           "x",
           "#751017"
          ],
          [
           -0.8516442958111315,
           -0.026958984066746537,
           0,
           "Sade - Pearls (Timo Jahns Remix).wav",
           "x",
           "#0044FF"
          ],
          [
           -0.46429259482987456,
           -0.24917244893850463,
           2,
           "Sade - Pearls (Timo Jahns Remix).wav",
           "x",
           "#48a832"
          ],
          [
           -0.12317539410905343,
           0.20769005484836944,
           1,
           "Sade - Pearls (Timo Jahns Remix).wav",
           "x",
           "#751017"
          ],
          [
           -0.18243447099323473,
           0.0979638577575447,
           3,
           "Sade - Pearls (Timo Jahns Remix).wav",
           "x",
           "#6b1075"
          ],
          [
           -0.7694400291568787,
           -0.14622676169119617,
           0,
           "Sade - Pearls (Timo Jahns Remix).wav",
           "x",
           "#0044FF"
          ],
          [
           0.080950528577295,
           0.8779201743332131,
           0,
           "Sade - Pearls (Timo Jahns Remix).wav",
           "x",
           "#0044FF"
          ],
          [
           0.241141353601746,
           0.246318238768971,
           0,
           "Sade - Pearls (Timo Jahns Remix).wav",
           "x",
           "#0044FF"
          ]
         ],
         "hovertemplate": "<b>%{customdata[3]}</b><br>(%{x:.3f},%{y:.3f})<extra>%{customdata[2]}</extra>",
         "marker": {
          "color": [
           "#48a832",
           "#48a832",
           "#48a832",
           "#48a832",
           "#48a832",
           "#48a832",
           "#48a832",
           "#48a832",
           "#48a832",
           "#48a832",
           "#48a832",
           "#48a832",
           "#48a832",
           "#48a832",
           "#48a832",
           "#6b1075",
           "#0044FF",
           "#6b1075",
           "#751017",
           "#0044FF",
           "#48a832",
           "#751017",
           "#6b1075",
           "#0044FF",
           "#0044FF",
           "#0044FF"
          ],
          "symbol": [
           "circle",
           "circle",
           "circle",
           "circle",
           "circle",
           "circle",
           "circle",
           "circle",
           "circle",
           "circle",
           "circle",
           "circle",
           "circle",
           "x",
           "x",
           "x",
           "x",
           "x",
           "x",
           "x",
           "x",
           "x",
           "x",
           "x",
           "x",
           "x"
          ]
         },
         "mode": "markers",
         "name": "11",
         "text": [
          "Sade - Pearls (Timo Jahns Remix).wav",
          "Sade - Pearls (Timo Jahns Remix).wav",
          "Sade - Pearls (Timo Jahns Remix).wav",
          "Sade - Pearls (Timo Jahns Remix).wav",
          "Sade - Pearls (Timo Jahns Remix).wav",
          "Sade - Pearls (Timo Jahns Remix).wav",
          "Sade - Pearls (Timo Jahns Remix).wav",
          "Sade - Pearls (Timo Jahns Remix).wav",
          "Sade - Pearls (Timo Jahns Remix).wav",
          "Sade - Pearls (Timo Jahns Remix).wav",
          "Sade - Pearls (Timo Jahns Remix).wav",
          "Sade - Pearls (Timo Jahns Remix).wav",
          "Sade - Pearls (Timo Jahns Remix).wav",
          "Sade - Pearls (Timo Jahns Remix).wav",
          "Sade - Pearls (Timo Jahns Remix).wav",
          "Sade - Pearls (Timo Jahns Remix).wav",
          "Sade - Pearls (Timo Jahns Remix).wav",
          "Sade - Pearls (Timo Jahns Remix).wav",
          "Sade - Pearls (Timo Jahns Remix).wav",
          "Sade - Pearls (Timo Jahns Remix).wav",
          "Sade - Pearls (Timo Jahns Remix).wav",
          "Sade - Pearls (Timo Jahns Remix).wav",
          "Sade - Pearls (Timo Jahns Remix).wav",
          "Sade - Pearls (Timo Jahns Remix).wav",
          "Sade - Pearls (Timo Jahns Remix).wav",
          "Sade - Pearls (Timo Jahns Remix).wav"
         ],
         "type": "scatter",
         "x": [
          0.02707836176476396,
          -0.16509295194573576,
          0.2219289388854499,
          -0.48309139691993,
          0.019552460822000975,
          0.26629963460762385,
          -0.07193037924613245,
          -0.07588501897960348,
          -0.08169332781095992,
          -0.14434145216715216,
          0.12331442030372858,
          0.13257597069976867,
          0.0638086246307533,
          -0.23536550072473308,
          -0.34640138273413207,
          0.16321082638507695,
          0.07070007564909625,
          0.5794500586238787,
          0.22575001023527466,
          -0.8516442958111315,
          -0.46429259482987456,
          -0.12317539410905343,
          -0.18243447099323473,
          -0.7694400291568787,
          0.080950528577295,
          0.241141353601746
         ],
         "y": [
          0.3761800443957655,
          0.07626833209030288,
          -0.3773574664340459,
          -0.1546491405093262,
          0.3455679581865035,
          -0.12177319777298752,
          -0.40524319769152894,
          -0.03154558882608476,
          -0.042446697112344806,
          0.4819596639640862,
          0.5864499445036678,
          -0.011566473051687341,
          -0.20567207475718938,
          -0.3868098427417697,
          -0.32510241180369515,
          0.03997967576832114,
          0.11977055655350385,
          -0.0462203216441537,
          0.09880445252812883,
          -0.026958984066746537,
          -0.24917244893850463,
          0.20769005484836944,
          0.0979638577575447,
          -0.14622676169119617,
          0.8779201743332131,
          0.246318238768971
         ]
        },
        {
         "customdata": [
          [
           -0.19765079664779195,
           -0.3561218835171933,
           0,
           "Siopis ft Metrika - Linda (Lemos & Pan Remix).wav",
           "circle",
           "#0044FF"
          ],
          [
           -0.020099724581226164,
           0.27985832517802883,
           0,
           "Siopis ft Metrika - Linda (Lemos & Pan Remix).wav",
           "circle",
           "#0044FF"
          ],
          [
           0.1831520022679391,
           -0.1562647934854294,
           0,
           "Siopis ft Metrika - Linda (Lemos & Pan Remix).wav",
           "circle",
           "#0044FF"
          ],
          [
           -0.1413933678759956,
           -0.3850413560083611,
           0,
           "Siopis ft Metrika - Linda (Lemos & Pan Remix).wav",
           "circle",
           "#0044FF"
          ],
          [
           0.35760582109547534,
           -0.018346424705594777,
           0,
           "Siopis ft Metrika - Linda (Lemos & Pan Remix).wav",
           "circle",
           "#0044FF"
          ],
          [
           -0.10421509686161712,
           0.18493998012745058,
           0,
           "Siopis ft Metrika - Linda (Lemos & Pan Remix).wav",
           "circle",
           "#0044FF"
          ],
          [
           0.20543242625935465,
           -0.06485494800195975,
           0,
           "Siopis ft Metrika - Linda (Lemos & Pan Remix).wav",
           "circle",
           "#0044FF"
          ],
          [
           0.812493411800553,
           0.834445391321115,
           0,
           "Siopis ft Metrika - Linda (Lemos & Pan Remix).wav",
           "circle",
           "#0044FF"
          ],
          [
           -0.3171556074120491,
           0.3374031174407748,
           0,
           "Siopis ft Metrika - Linda (Lemos & Pan Remix).wav",
           "circle",
           "#0044FF"
          ],
          [
           -0.49155597936056566,
           0.3241473768983962,
           3,
           "Siopis ft Metrika - Linda (Lemos & Pan Remix).wav",
           "x",
           "#6b1075"
          ],
          [
           0.3076850370893468,
           0.11497134940070858,
           2,
           "Siopis ft Metrika - Linda (Lemos & Pan Remix).wav",
           "x",
           "#48a832"
          ],
          [
           -0.007064011480152552,
           0.026072378222612238,
           1,
           "Siopis ft Metrika - Linda (Lemos & Pan Remix).wav",
           "x",
           "#751017"
          ],
          [
           0.017796519537594452,
           0.0422395357815777,
           1,
           "Siopis ft Metrika - Linda (Lemos & Pan Remix).wav",
           "x",
           "#751017"
          ],
          [
           -0.20889200145843212,
           0.3285983734455684,
           0,
           "Siopis ft Metrika - Linda (Lemos & Pan Remix).wav",
           "x",
           "#0044FF"
          ],
          [
           0.6753709228470045,
           -0.03833570758395962,
           0,
           "Siopis ft Metrika - Linda (Lemos & Pan Remix).wav",
           "x",
           "#0044FF"
          ],
          [
           -0.24775138434365895,
           0.27310751998811866,
           2,
           "Siopis ft Metrika - Linda (Lemos & Pan Remix).wav",
           "x",
           "#48a832"
          ],
          [
           0.11937905218487337,
           -0.05868865638105454,
           3,
           "Siopis ft Metrika - Linda (Lemos & Pan Remix).wav",
           "x",
           "#6b1075"
          ],
          [
           0.6280089249923965,
           -0.4129383352008332,
           0,
           "Siopis ft Metrika - Linda (Lemos & Pan Remix).wav",
           "x",
           "#0044FF"
          ]
         ],
         "hovertemplate": "<b>%{customdata[3]}</b><br>(%{x:.3f},%{y:.3f})<extra>%{customdata[2]}</extra>",
         "marker": {
          "color": [
           "#0044FF",
           "#0044FF",
           "#0044FF",
           "#0044FF",
           "#0044FF",
           "#0044FF",
           "#0044FF",
           "#0044FF",
           "#0044FF",
           "#6b1075",
           "#48a832",
           "#751017",
           "#751017",
           "#0044FF",
           "#0044FF",
           "#48a832",
           "#6b1075",
           "#0044FF"
          ],
          "symbol": [
           "circle",
           "circle",
           "circle",
           "circle",
           "circle",
           "circle",
           "circle",
           "circle",
           "circle",
           "x",
           "x",
           "x",
           "x",
           "x",
           "x",
           "x",
           "x",
           "x"
          ]
         },
         "mode": "markers",
         "name": "12",
         "text": [
          "Siopis ft Metrika - Linda (Lemos & Pan Remix).wav",
          "Siopis ft Metrika - Linda (Lemos & Pan Remix).wav",
          "Siopis ft Metrika - Linda (Lemos & Pan Remix).wav",
          "Siopis ft Metrika - Linda (Lemos & Pan Remix).wav",
          "Siopis ft Metrika - Linda (Lemos & Pan Remix).wav",
          "Siopis ft Metrika - Linda (Lemos & Pan Remix).wav",
          "Siopis ft Metrika - Linda (Lemos & Pan Remix).wav",
          "Siopis ft Metrika - Linda (Lemos & Pan Remix).wav",
          "Siopis ft Metrika - Linda (Lemos & Pan Remix).wav",
          "Siopis ft Metrika - Linda (Lemos & Pan Remix).wav",
          "Siopis ft Metrika - Linda (Lemos & Pan Remix).wav",
          "Siopis ft Metrika - Linda (Lemos & Pan Remix).wav",
          "Siopis ft Metrika - Linda (Lemos & Pan Remix).wav",
          "Siopis ft Metrika - Linda (Lemos & Pan Remix).wav",
          "Siopis ft Metrika - Linda (Lemos & Pan Remix).wav",
          "Siopis ft Metrika - Linda (Lemos & Pan Remix).wav",
          "Siopis ft Metrika - Linda (Lemos & Pan Remix).wav",
          "Siopis ft Metrika - Linda (Lemos & Pan Remix).wav"
         ],
         "type": "scatter",
         "x": [
          -0.19765079664779195,
          -0.020099724581226164,
          0.1831520022679391,
          -0.1413933678759956,
          0.35760582109547534,
          -0.10421509686161712,
          0.20543242625935465,
          0.812493411800553,
          -0.3171556074120491,
          -0.49155597936056566,
          0.3076850370893468,
          -0.007064011480152552,
          0.017796519537594452,
          -0.20889200145843212,
          0.6753709228470045,
          -0.24775138434365895,
          0.11937905218487337,
          0.6280089249923965
         ],
         "y": [
          -0.3561218835171933,
          0.27985832517802883,
          -0.1562647934854294,
          -0.3850413560083611,
          -0.018346424705594777,
          0.18493998012745058,
          -0.06485494800195975,
          0.834445391321115,
          0.3374031174407748,
          0.3241473768983962,
          0.11497134940070858,
          0.026072378222612238,
          0.0422395357815777,
          0.3285983734455684,
          -0.03833570758395962,
          0.27310751998811866,
          -0.05868865638105454,
          -0.4129383352008332
         ]
        },
        {
         "customdata": [
          [
           0.07861365895590063,
           -0.05890542026433598,
           2,
           "Soule & Marshall Booze Jr - Walk On By.wav",
           "circle",
           "#48a832"
          ],
          [
           0.5642665432142676,
           0.01289659478950541,
           2,
           "Soule & Marshall Booze Jr - Walk On By.wav",
           "circle",
           "#48a832"
          ],
          [
           -0.0047666001043591335,
           -0.11016452991659954,
           2,
           "Soule & Marshall Booze Jr - Walk On By.wav",
           "circle",
           "#48a832"
          ],
          [
           -0.2537833207125253,
           -0.1728409932776713,
           2,
           "Soule & Marshall Booze Jr - Walk On By.wav",
           "circle",
           "#48a832"
          ],
          [
           -0.035157198741509854,
           -0.09682888490330628,
           2,
           "Soule & Marshall Booze Jr - Walk On By.wav",
           "circle",
           "#48a832"
          ],
          [
           0.17869910115196735,
           -0.10486847335433377,
           2,
           "Soule & Marshall Booze Jr - Walk On By.wav",
           "circle",
           "#48a832"
          ],
          [
           0.3548020341275401,
           -0.13343397147904992,
           2,
           "Soule & Marshall Booze Jr - Walk On By.wav",
           "x",
           "#48a832"
          ],
          [
           0.7436968724115441,
           -0.08335898019583844,
           0,
           "Soule & Marshall Booze Jr - Walk On By.wav",
           "x",
           "#0044FF"
          ],
          [
           -0.2704288282060751,
           -0.35946328812578093,
           0,
           "Soule & Marshall Booze Jr - Walk On By.wav",
           "x",
           "#0044FF"
          ],
          [
           0.0751482703726295,
           -0.07407933991795497,
           1,
           "Soule & Marshall Booze Jr - Walk On By.wav",
           "x",
           "#751017"
          ],
          [
           -0.14442154892577244,
           -0.08170525097092471,
           3,
           "Soule & Marshall Booze Jr - Walk On By.wav",
           "x",
           "#6b1075"
          ],
          [
           0.08223007410544475,
           -0.1318825168902596,
           1,
           "Soule & Marshall Booze Jr - Walk On By.wav",
           "x",
           "#751017"
          ]
         ],
         "hovertemplate": "<b>%{customdata[3]}</b><br>(%{x:.3f},%{y:.3f})<extra>%{customdata[2]}</extra>",
         "marker": {
          "color": [
           "#48a832",
           "#48a832",
           "#48a832",
           "#48a832",
           "#48a832",
           "#48a832",
           "#48a832",
           "#0044FF",
           "#0044FF",
           "#751017",
           "#6b1075",
           "#751017"
          ],
          "symbol": [
           "circle",
           "circle",
           "circle",
           "circle",
           "circle",
           "circle",
           "x",
           "x",
           "x",
           "x",
           "x",
           "x"
          ]
         },
         "mode": "markers",
         "name": "13",
         "text": [
          "Soule & Marshall Booze Jr - Walk On By.wav",
          "Soule & Marshall Booze Jr - Walk On By.wav",
          "Soule & Marshall Booze Jr - Walk On By.wav",
          "Soule & Marshall Booze Jr - Walk On By.wav",
          "Soule & Marshall Booze Jr - Walk On By.wav",
          "Soule & Marshall Booze Jr - Walk On By.wav",
          "Soule & Marshall Booze Jr - Walk On By.wav",
          "Soule & Marshall Booze Jr - Walk On By.wav",
          "Soule & Marshall Booze Jr - Walk On By.wav",
          "Soule & Marshall Booze Jr - Walk On By.wav",
          "Soule & Marshall Booze Jr - Walk On By.wav",
          "Soule & Marshall Booze Jr - Walk On By.wav"
         ],
         "type": "scatter",
         "x": [
          0.07861365895590063,
          0.5642665432142676,
          -0.0047666001043591335,
          -0.2537833207125253,
          -0.035157198741509854,
          0.17869910115196735,
          0.3548020341275401,
          0.7436968724115441,
          -0.2704288282060751,
          0.0751482703726295,
          -0.14442154892577244,
          0.08223007410544475
         ],
         "y": [
          -0.05890542026433598,
          0.01289659478950541,
          -0.11016452991659954,
          -0.1728409932776713,
          -0.09682888490330628,
          -0.10486847335433377,
          -0.13343397147904992,
          -0.08335898019583844,
          -0.35946328812578093,
          -0.07407933991795497,
          -0.08170525097092471,
          -0.1318825168902596
         ]
        },
        {
         "customdata": [
          [
           -0.018359019719064024,
           -0.03575363971672141,
           2,
           "The Fog - Been A Long Time (Rhythm Masters Main Mix).wav",
           "circle",
           "#48a832"
          ],
          [
           -0.6606605585378771,
           -0.00843715101516801,
           2,
           "The Fog - Been A Long Time (Rhythm Masters Main Mix).wav",
           "circle",
           "#48a832"
          ],
          [
           -0.06532814921865406,
           0.3753236715862346,
           2,
           "The Fog - Been A Long Time (Rhythm Masters Main Mix).wav",
           "circle",
           "#48a832"
          ],
          [
           -0.14872033536131699,
           -0.06607828601857334,
           2,
           "The Fog - Been A Long Time (Rhythm Masters Main Mix).wav",
           "circle",
           "#48a832"
          ],
          [
           -0.09211474675658274,
           -0.11318306744139574,
           2,
           "The Fog - Been A Long Time (Rhythm Masters Main Mix).wav",
           "circle",
           "#48a832"
          ],
          [
           -0.25775281018886387,
           -0.2005255654220951,
           2,
           "The Fog - Been A Long Time (Rhythm Masters Main Mix).wav",
           "circle",
           "#48a832"
          ],
          [
           0.38556545985080115,
           -0.5117411011524184,
           2,
           "The Fog - Been A Long Time (Rhythm Masters Main Mix).wav",
           "circle",
           "#48a832"
          ],
          [
           0.2847695043530844,
           -0.22881209980239628,
           2,
           "The Fog - Been A Long Time (Rhythm Masters Main Mix).wav",
           "circle",
           "#48a832"
          ],
          [
           0.005440421234094457,
           -0.15878256397059304,
           2,
           "The Fog - Been A Long Time (Rhythm Masters Main Mix).wav",
           "circle",
           "#48a832"
          ],
          [
           -0.0450666621393584,
           0.363286044060166,
           2,
           "The Fog - Been A Long Time (Rhythm Masters Main Mix).wav",
           "circle",
           "#48a832"
          ],
          [
           -0.28529725415206314,
           0.15120971740082093,
           2,
           "The Fog - Been A Long Time (Rhythm Masters Main Mix).wav",
           "circle",
           "#48a832"
          ],
          [
           -0.2069989379001273,
           0.07920398230601035,
           2,
           "The Fog - Been A Long Time (Rhythm Masters Main Mix).wav",
           "circle",
           "#48a832"
          ],
          [
           0.2140153261649499,
           -0.04090100699719442,
           2,
           "The Fog - Been A Long Time (Rhythm Masters Main Mix).wav",
           "x",
           "#48a832"
          ],
          [
           0.6233177726556416,
           -0.1812479016510992,
           1,
           "The Fog - Been A Long Time (Rhythm Masters Main Mix).wav",
           "x",
           "#751017"
          ],
          [
           -0.7131975101543696,
           -0.2947972111759542,
           0,
           "The Fog - Been A Long Time (Rhythm Masters Main Mix).wav",
           "x",
           "#0044FF"
          ],
          [
           -0.45167921160709057,
           -0.19488145858938427,
           2,
           "The Fog - Been A Long Time (Rhythm Masters Main Mix).wav",
           "x",
           "#48a832"
          ],
          [
           -0.7874816215367026,
           -0.04193417239708985,
           0,
           "The Fog - Been A Long Time (Rhythm Masters Main Mix).wav",
           "x",
           "#0044FF"
          ],
          [
           0.09388061279978213,
           -0.0016133867593985597,
           2,
           "The Fog - Been A Long Time (Rhythm Masters Main Mix).wav",
           "x",
           "#48a832"
          ],
          [
           0.03488036080524997,
           -0.018803677328259,
           2,
           "The Fog - Been A Long Time (Rhythm Masters Main Mix).wav",
           "x",
           "#48a832"
          ],
          [
           0.840903899582665,
           -0.1925238069914063,
           0,
           "The Fog - Been A Long Time (Rhythm Masters Main Mix).wav",
           "x",
           "#0044FF"
          ],
          [
           0.69776031059393,
           0.013520835357073435,
           0,
           "The Fog - Been A Long Time (Rhythm Masters Main Mix).wav",
           "x",
           "#0044FF"
          ],
          [
           -0.18169637924959317,
           -0.0612827113158108,
           3,
           "The Fog - Been A Long Time (Rhythm Masters Main Mix).wav",
           "x",
           "#6b1075"
          ],
          [
           0.03797487619586056,
           0.36312599474817936,
           0,
           "The Fog - Been A Long Time (Rhythm Masters Main Mix).wav",
           "x",
           "#0044FF"
          ],
          [
           0.006528031264102572,
           0.32922205919537567,
           0,
           "The Fog - Been A Long Time (Rhythm Masters Main Mix).wav",
           "x",
           "#0044FF"
          ]
         ],
         "hovertemplate": "<b>%{customdata[3]}</b><br>(%{x:.3f},%{y:.3f})<extra>%{customdata[2]}</extra>",
         "marker": {
          "color": [
           "#48a832",
           "#48a832",
           "#48a832",
           "#48a832",
           "#48a832",
           "#48a832",
           "#48a832",
           "#48a832",
           "#48a832",
           "#48a832",
           "#48a832",
           "#48a832",
           "#48a832",
           "#751017",
           "#0044FF",
           "#48a832",
           "#0044FF",
           "#48a832",
           "#48a832",
           "#0044FF",
           "#0044FF",
           "#6b1075",
           "#0044FF",
           "#0044FF"
          ],
          "symbol": [
           "circle",
           "circle",
           "circle",
           "circle",
           "circle",
           "circle",
           "circle",
           "circle",
           "circle",
           "circle",
           "circle",
           "circle",
           "x",
           "x",
           "x",
           "x",
           "x",
           "x",
           "x",
           "x",
           "x",
           "x",
           "x",
           "x"
          ]
         },
         "mode": "markers",
         "name": "14",
         "text": [
          "The Fog - Been A Long Time (Rhythm Masters Main Mix).wav",
          "The Fog - Been A Long Time (Rhythm Masters Main Mix).wav",
          "The Fog - Been A Long Time (Rhythm Masters Main Mix).wav",
          "The Fog - Been A Long Time (Rhythm Masters Main Mix).wav",
          "The Fog - Been A Long Time (Rhythm Masters Main Mix).wav",
          "The Fog - Been A Long Time (Rhythm Masters Main Mix).wav",
          "The Fog - Been A Long Time (Rhythm Masters Main Mix).wav",
          "The Fog - Been A Long Time (Rhythm Masters Main Mix).wav",
          "The Fog - Been A Long Time (Rhythm Masters Main Mix).wav",
          "The Fog - Been A Long Time (Rhythm Masters Main Mix).wav",
          "The Fog - Been A Long Time (Rhythm Masters Main Mix).wav",
          "The Fog - Been A Long Time (Rhythm Masters Main Mix).wav",
          "The Fog - Been A Long Time (Rhythm Masters Main Mix).wav",
          "The Fog - Been A Long Time (Rhythm Masters Main Mix).wav",
          "The Fog - Been A Long Time (Rhythm Masters Main Mix).wav",
          "The Fog - Been A Long Time (Rhythm Masters Main Mix).wav",
          "The Fog - Been A Long Time (Rhythm Masters Main Mix).wav",
          "The Fog - Been A Long Time (Rhythm Masters Main Mix).wav",
          "The Fog - Been A Long Time (Rhythm Masters Main Mix).wav",
          "The Fog - Been A Long Time (Rhythm Masters Main Mix).wav",
          "The Fog - Been A Long Time (Rhythm Masters Main Mix).wav",
          "The Fog - Been A Long Time (Rhythm Masters Main Mix).wav",
          "The Fog - Been A Long Time (Rhythm Masters Main Mix).wav",
          "The Fog - Been A Long Time (Rhythm Masters Main Mix).wav"
         ],
         "type": "scatter",
         "x": [
          -0.018359019719064024,
          -0.6606605585378771,
          -0.06532814921865406,
          -0.14872033536131699,
          -0.09211474675658274,
          -0.25775281018886387,
          0.38556545985080115,
          0.2847695043530844,
          0.005440421234094457,
          -0.0450666621393584,
          -0.28529725415206314,
          -0.2069989379001273,
          0.2140153261649499,
          0.6233177726556416,
          -0.7131975101543696,
          -0.45167921160709057,
          -0.7874816215367026,
          0.09388061279978213,
          0.03488036080524997,
          0.840903899582665,
          0.69776031059393,
          -0.18169637924959317,
          0.03797487619586056,
          0.006528031264102572
         ],
         "y": [
          -0.03575363971672141,
          -0.00843715101516801,
          0.3753236715862346,
          -0.06607828601857334,
          -0.11318306744139574,
          -0.2005255654220951,
          -0.5117411011524184,
          -0.22881209980239628,
          -0.15878256397059304,
          0.363286044060166,
          0.15120971740082093,
          0.07920398230601035,
          -0.04090100699719442,
          -0.1812479016510992,
          -0.2947972111759542,
          -0.19488145858938427,
          -0.04193417239708985,
          -0.0016133867593985597,
          -0.018803677328259,
          -0.1925238069914063,
          0.013520835357073435,
          -0.0612827113158108,
          0.36312599474817936,
          0.32922205919537567
         ]
        },
        {
         "customdata": [
          [
           -0.496111097104312,
           -0.3110624219049059,
           0,
           "v_Full Intention - America (I Love America) (Dub American Style).wav",
           "circle",
           "#0044FF"
          ],
          [
           0.12361657712545637,
           -0.18063642051302667,
           0,
           "v_Full Intention - America (I Love America) (Dub American Style).wav",
           "circle",
           "#0044FF"
          ],
          [
           0.17523798932509643,
           -0.20251804500298495,
           0,
           "v_Full Intention - America (I Love America) (Dub American Style).wav",
           "circle",
           "#0044FF"
          ],
          [
           -0.16023464705100274,
           -0.18477485057306675,
           0,
           "v_Full Intention - America (I Love America) (Dub American Style).wav",
           "circle",
           "#0044FF"
          ],
          [
           0.06377702449116877,
           -0.1797490190132866,
           0,
           "v_Full Intention - America (I Love America) (Dub American Style).wav",
           "circle",
           "#0044FF"
          ],
          [
           -0.11606594320154881,
           -0.012080116262602731,
           0,
           "v_Full Intention - America (I Love America) (Dub American Style).wav",
           "circle",
           "#0044FF"
          ],
          [
           -0.4995250957183734,
           -0.7474543289384853,
           0,
           "v_Full Intention - America (I Love America) (Dub American Style).wav",
           "circle",
           "#0044FF"
          ],
          [
           -0.36085461356874654,
           -0.2812859621315522,
           0,
           "v_Full Intention - America (I Love America) (Dub American Style).wav",
           "circle",
           "#0044FF"
          ],
          [
           -0.2254801613533651,
           -0.17083934013574348,
           0,
           "v_Full Intention - America (I Love America) (Dub American Style).wav",
           "circle",
           "#0044FF"
          ],
          [
           0.16752746451804992,
           -0.0408636891301531,
           0,
           "v_Full Intention - America (I Love America) (Dub American Style).wav",
           "circle",
           "#0044FF"
          ],
          [
           0.46493254678657464,
           0.629147179559154,
           0,
           "v_Full Intention - America (I Love America) (Dub American Style).wav",
           "circle",
           "#0044FF"
          ],
          [
           -0.15766256663531805,
           -0.0991598403666497,
           0,
           "v_Full Intention - America (I Love America) (Dub American Style).wav",
           "circle",
           "#0044FF"
          ],
          [
           -0.20717134485422672,
           0.18573403513121384,
           0,
           "v_Full Intention - America (I Love America) (Dub American Style).wav",
           "circle",
           "#0044FF"
          ],
          [
           0.429926023416483,
           -0.23002104868254528,
           0,
           "v_Full Intention - America (I Love America) (Dub American Style).wav",
           "circle",
           "#0044FF"
          ],
          [
           0.10784931342685344,
           -0.057441364841373084,
           0,
           "v_Full Intention - America (I Love America) (Dub American Style).wav",
           "circle",
           "#0044FF"
          ],
          [
           -0.021847992306363424,
           0.2385749431861426,
           0,
           "v_Full Intention - America (I Love America) (Dub American Style).wav",
           "x",
           "#0044FF"
          ],
          [
           0.032261202924489626,
           -0.013255462941003798,
           1,
           "v_Full Intention - America (I Love America) (Dub American Style).wav",
           "x",
           "#751017"
          ],
          [
           -0.17893483141923586,
           0.09196008307805016,
           1,
           "v_Full Intention - America (I Love America) (Dub American Style).wav",
           "x",
           "#751017"
          ],
          [
           -0.2577039643243943,
           -0.6916782780698649,
           0,
           "v_Full Intention - America (I Love America) (Dub American Style).wav",
           "x",
           "#0044FF"
          ],
          [
           0.03553475165588297,
           0.31000206925160073,
           0,
           "v_Full Intention - America (I Love America) (Dub American Style).wav",
           "x",
           "#0044FF"
          ],
          [
           -0.15924891729077711,
           0.32697722417951913,
           3,
           "v_Full Intention - America (I Love America) (Dub American Style).wav",
           "x",
           "#6b1075"
          ],
          [
           0.23965584850844474,
           -0.0793026622131529,
           1,
           "v_Full Intention - America (I Love America) (Dub American Style).wav",
           "x",
           "#751017"
          ],
          [
           -0.15408146126027272,
           -0.022614960574794944,
           3,
           "v_Full Intention - America (I Love America) (Dub American Style).wav",
           "x",
           "#6b1075"
          ],
          [
           0.5111568310210807,
           -0.14124328416986154,
           3,
           "v_Full Intention - America (I Love America) (Dub American Style).wav",
           "x",
           "#6b1075"
          ],
          [
           -0.16842245139436726,
           0.14217629517431912,
           3,
           "v_Full Intention - America (I Love America) (Dub American Style).wav",
           "x",
           "#6b1075"
          ],
          [
           -0.03674989400201669,
           -0.323409226733862,
           2,
           "v_Full Intention - America (I Love America) (Dub American Style).wav",
           "x",
           "#48a832"
          ],
          [
           -0.541970283046084,
           0.29824952610103067,
           3,
           "v_Full Intention - America (I Love America) (Dub American Style).wav",
           "x",
           "#6b1075"
          ],
          [
           -0.8121818014668735,
           -0.09737437903829264,
           0,
           "v_Full Intention - America (I Love America) (Dub American Style).wav",
           "x",
           "#0044FF"
          ],
          [
           -0.9066581402013947,
           0.08580870061729075,
           0,
           "v_Full Intention - America (I Love America) (Dub American Style).wav",
           "x",
           "#0044FF"
          ],
          [
           -0.01193596006677306,
           0.02989238874471614,
           1,
           "v_Full Intention - America (I Love America) (Dub American Style).wav",
           "x",
           "#751017"
          ]
         ],
         "hovertemplate": "<b>%{customdata[3]}</b><br>(%{x:.3f},%{y:.3f})<extra>%{customdata[2]}</extra>",
         "marker": {
          "color": [
           "#0044FF",
           "#0044FF",
           "#0044FF",
           "#0044FF",
           "#0044FF",
           "#0044FF",
           "#0044FF",
           "#0044FF",
           "#0044FF",
           "#0044FF",
           "#0044FF",
           "#0044FF",
           "#0044FF",
           "#0044FF",
           "#0044FF",
           "#0044FF",
           "#751017",
           "#751017",
           "#0044FF",
           "#0044FF",
           "#6b1075",
           "#751017",
           "#6b1075",
           "#6b1075",
           "#6b1075",
           "#48a832",
           "#6b1075",
           "#0044FF",
           "#0044FF",
           "#751017"
          ],
          "symbol": [
           "circle",
           "circle",
           "circle",
           "circle",
           "circle",
           "circle",
           "circle",
           "circle",
           "circle",
           "circle",
           "circle",
           "circle",
           "circle",
           "circle",
           "circle",
           "x",
           "x",
           "x",
           "x",
           "x",
           "x",
           "x",
           "x",
           "x",
           "x",
           "x",
           "x",
           "x",
           "x",
           "x"
          ]
         },
         "mode": "markers",
         "name": "15",
         "text": [
          "v_Full Intention - America (I Love America) (Dub American Style).wav",
          "v_Full Intention - America (I Love America) (Dub American Style).wav",
          "v_Full Intention - America (I Love America) (Dub American Style).wav",
          "v_Full Intention - America (I Love America) (Dub American Style).wav",
          "v_Full Intention - America (I Love America) (Dub American Style).wav",
          "v_Full Intention - America (I Love America) (Dub American Style).wav",
          "v_Full Intention - America (I Love America) (Dub American Style).wav",
          "v_Full Intention - America (I Love America) (Dub American Style).wav",
          "v_Full Intention - America (I Love America) (Dub American Style).wav",
          "v_Full Intention - America (I Love America) (Dub American Style).wav",
          "v_Full Intention - America (I Love America) (Dub American Style).wav",
          "v_Full Intention - America (I Love America) (Dub American Style).wav",
          "v_Full Intention - America (I Love America) (Dub American Style).wav",
          "v_Full Intention - America (I Love America) (Dub American Style).wav",
          "v_Full Intention - America (I Love America) (Dub American Style).wav",
          "v_Full Intention - America (I Love America) (Dub American Style).wav",
          "v_Full Intention - America (I Love America) (Dub American Style).wav",
          "v_Full Intention - America (I Love America) (Dub American Style).wav",
          "v_Full Intention - America (I Love America) (Dub American Style).wav",
          "v_Full Intention - America (I Love America) (Dub American Style).wav",
          "v_Full Intention - America (I Love America) (Dub American Style).wav",
          "v_Full Intention - America (I Love America) (Dub American Style).wav",
          "v_Full Intention - America (I Love America) (Dub American Style).wav",
          "v_Full Intention - America (I Love America) (Dub American Style).wav",
          "v_Full Intention - America (I Love America) (Dub American Style).wav",
          "v_Full Intention - America (I Love America) (Dub American Style).wav",
          "v_Full Intention - America (I Love America) (Dub American Style).wav",
          "v_Full Intention - America (I Love America) (Dub American Style).wav",
          "v_Full Intention - America (I Love America) (Dub American Style).wav",
          "v_Full Intention - America (I Love America) (Dub American Style).wav"
         ],
         "type": "scatter",
         "x": [
          -0.496111097104312,
          0.12361657712545637,
          0.17523798932509643,
          -0.16023464705100274,
          0.06377702449116877,
          -0.11606594320154881,
          -0.4995250957183734,
          -0.36085461356874654,
          -0.2254801613533651,
          0.16752746451804992,
          0.46493254678657464,
          -0.15766256663531805,
          -0.20717134485422672,
          0.429926023416483,
          0.10784931342685344,
          -0.021847992306363424,
          0.032261202924489626,
          -0.17893483141923586,
          -0.2577039643243943,
          0.03553475165588297,
          -0.15924891729077711,
          0.23965584850844474,
          -0.15408146126027272,
          0.5111568310210807,
          -0.16842245139436726,
          -0.03674989400201669,
          -0.541970283046084,
          -0.8121818014668735,
          -0.9066581402013947,
          -0.01193596006677306
         ],
         "y": [
          -0.3110624219049059,
          -0.18063642051302667,
          -0.20251804500298495,
          -0.18477485057306675,
          -0.1797490190132866,
          -0.012080116262602731,
          -0.7474543289384853,
          -0.2812859621315522,
          -0.17083934013574348,
          -0.0408636891301531,
          0.629147179559154,
          -0.0991598403666497,
          0.18573403513121384,
          -0.23002104868254528,
          -0.057441364841373084,
          0.2385749431861426,
          -0.013255462941003798,
          0.09196008307805016,
          -0.6916782780698649,
          0.31000206925160073,
          0.32697722417951913,
          -0.0793026622131529,
          -0.022614960574794944,
          -0.14124328416986154,
          0.14217629517431912,
          -0.323409226733862,
          0.29824952610103067,
          -0.09737437903829264,
          0.08580870061729075,
          0.02989238874471614
         ]
        },
        {
         "customdata": [
          [
           -0.31265088616028447,
           0.2033257379205665,
           3,
           "v_Full Intention - America (I Love America) (Full Length 12_ Vocal Mix).wav",
           "circle",
           "#6b1075"
          ],
          [
           -0.07438505889534773,
           -0.12163648417170933,
           3,
           "v_Full Intention - America (I Love America) (Full Length 12_ Vocal Mix).wav",
           "circle",
           "#6b1075"
          ],
          [
           -0.22788958385889624,
           -0.03494259466579443,
           3,
           "v_Full Intention - America (I Love America) (Full Length 12_ Vocal Mix).wav",
           "circle",
           "#6b1075"
          ],
          [
           -0.036881352387779856,
           -0.21539166092867365,
           3,
           "v_Full Intention - America (I Love America) (Full Length 12_ Vocal Mix).wav",
           "circle",
           "#6b1075"
          ],
          [
           -0.15016264011031477,
           0.05628362604169268,
           3,
           "v_Full Intention - America (I Love America) (Full Length 12_ Vocal Mix).wav",
           "circle",
           "#6b1075"
          ],
          [
           0.7618754225664266,
           0.6452214520630551,
           3,
           "v_Full Intention - America (I Love America) (Full Length 12_ Vocal Mix).wav",
           "circle",
           "#6b1075"
          ],
          [
           -0.22826963106483714,
           -0.12156589693672148,
           3,
           "v_Full Intention - America (I Love America) (Full Length 12_ Vocal Mix).wav",
           "circle",
           "#6b1075"
          ],
          [
           -0.08660199000609856,
           -0.0730393021152382,
           3,
           "v_Full Intention - America (I Love America) (Full Length 12_ Vocal Mix).wav",
           "circle",
           "#6b1075"
          ],
          [
           -0.8190809140056255,
           -0.07792116538790943,
           0,
           "v_Full Intention - America (I Love America) (Full Length 12_ Vocal Mix).wav",
           "x",
           "#0044FF"
          ],
          [
           0.2268408713267798,
           -0.12205624725241039,
           2,
           "v_Full Intention - America (I Love America) (Full Length 12_ Vocal Mix).wav",
           "x",
           "#48a832"
          ],
          [
           0.3655027039154034,
           -0.010131407199924575,
           2,
           "v_Full Intention - America (I Love America) (Full Length 12_ Vocal Mix).wav",
           "x",
           "#48a832"
          ],
          [
           -0.004937377499797743,
           0.06769465117652684,
           1,
           "v_Full Intention - America (I Love America) (Full Length 12_ Vocal Mix).wav",
           "x",
           "#751017"
          ],
          [
           0.027097616513375132,
           0.05307608203173248,
           1,
           "v_Full Intention - America (I Love America) (Full Length 12_ Vocal Mix).wav",
           "x",
           "#751017"
          ],
          [
           -0.3669459239892822,
           0.3433774789837645,
           3,
           "v_Full Intention - America (I Love America) (Full Length 12_ Vocal Mix).wav",
           "x",
           "#6b1075"
          ],
          [
           0.32325551619877724,
           0.14127139253736698,
           0,
           "v_Full Intention - America (I Love America) (Full Length 12_ Vocal Mix).wav",
           "x",
           "#0044FF"
          ],
          [
           0.7194834033000089,
           0.061266833665045706,
           0,
           "v_Full Intention - America (I Love America) (Full Length 12_ Vocal Mix).wav",
           "x",
           "#0044FF"
          ]
         ],
         "hovertemplate": "<b>%{customdata[3]}</b><br>(%{x:.3f},%{y:.3f})<extra>%{customdata[2]}</extra>",
         "marker": {
          "color": [
           "#6b1075",
           "#6b1075",
           "#6b1075",
           "#6b1075",
           "#6b1075",
           "#6b1075",
           "#6b1075",
           "#6b1075",
           "#0044FF",
           "#48a832",
           "#48a832",
           "#751017",
           "#751017",
           "#6b1075",
           "#0044FF",
           "#0044FF"
          ],
          "symbol": [
           "circle",
           "circle",
           "circle",
           "circle",
           "circle",
           "circle",
           "circle",
           "circle",
           "x",
           "x",
           "x",
           "x",
           "x",
           "x",
           "x",
           "x"
          ]
         },
         "mode": "markers",
         "name": "16",
         "text": [
          "v_Full Intention - America (I Love America) (Full Length 12_ Vocal Mix).wav",
          "v_Full Intention - America (I Love America) (Full Length 12_ Vocal Mix).wav",
          "v_Full Intention - America (I Love America) (Full Length 12_ Vocal Mix).wav",
          "v_Full Intention - America (I Love America) (Full Length 12_ Vocal Mix).wav",
          "v_Full Intention - America (I Love America) (Full Length 12_ Vocal Mix).wav",
          "v_Full Intention - America (I Love America) (Full Length 12_ Vocal Mix).wav",
          "v_Full Intention - America (I Love America) (Full Length 12_ Vocal Mix).wav",
          "v_Full Intention - America (I Love America) (Full Length 12_ Vocal Mix).wav",
          "v_Full Intention - America (I Love America) (Full Length 12_ Vocal Mix).wav",
          "v_Full Intention - America (I Love America) (Full Length 12_ Vocal Mix).wav",
          "v_Full Intention - America (I Love America) (Full Length 12_ Vocal Mix).wav",
          "v_Full Intention - America (I Love America) (Full Length 12_ Vocal Mix).wav",
          "v_Full Intention - America (I Love America) (Full Length 12_ Vocal Mix).wav",
          "v_Full Intention - America (I Love America) (Full Length 12_ Vocal Mix).wav",
          "v_Full Intention - America (I Love America) (Full Length 12_ Vocal Mix).wav",
          "v_Full Intention - America (I Love America) (Full Length 12_ Vocal Mix).wav"
         ],
         "type": "scatter",
         "x": [
          -0.31265088616028447,
          -0.07438505889534773,
          -0.22788958385889624,
          -0.036881352387779856,
          -0.15016264011031477,
          0.7618754225664266,
          -0.22826963106483714,
          -0.08660199000609856,
          -0.8190809140056255,
          0.2268408713267798,
          0.3655027039154034,
          -0.004937377499797743,
          0.027097616513375132,
          -0.3669459239892822,
          0.32325551619877724,
          0.7194834033000089
         ],
         "y": [
          0.2033257379205665,
          -0.12163648417170933,
          -0.03494259466579443,
          -0.21539166092867365,
          0.05628362604169268,
          0.6452214520630551,
          -0.12156589693672148,
          -0.0730393021152382,
          -0.07792116538790943,
          -0.12205624725241039,
          -0.010131407199924575,
          0.06769465117652684,
          0.05307608203173248,
          0.3433774789837645,
          0.14127139253736698,
          0.061266833665045706
         ]
        },
        {
         "customdata": [
          [
           -0.11598900867935474,
           0.04988789071099636,
           3,
           "v_Full Intention - America (I Love America) (Johnick Henry St. Captain Mix).wav",
           "circle",
           "#6b1075"
          ],
          [
           -0.4527405835181799,
           0.33664667916149743,
           3,
           "v_Full Intention - America (I Love America) (Johnick Henry St. Captain Mix).wav",
           "circle",
           "#6b1075"
          ],
          [
           0.2652204477430536,
           -0.12500432461306824,
           3,
           "v_Full Intention - America (I Love America) (Johnick Henry St. Captain Mix).wav",
           "circle",
           "#6b1075"
          ],
          [
           0.04862736678376704,
           -0.3516875456115541,
           3,
           "v_Full Intention - America (I Love America) (Johnick Henry St. Captain Mix).wav",
           "circle",
           "#6b1075"
          ],
          [
           0.04504864277487248,
           -0.0630582130006498,
           3,
           "v_Full Intention - America (I Love America) (Johnick Henry St. Captain Mix).wav",
           "circle",
           "#6b1075"
          ],
          [
           0.24482571496440114,
           -0.20576916965459133,
           3,
           "v_Full Intention - America (I Love America) (Johnick Henry St. Captain Mix).wav",
           "circle",
           "#6b1075"
          ],
          [
           0.3055923048880003,
           0.7235667341893822,
           3,
           "v_Full Intention - America (I Love America) (Johnick Henry St. Captain Mix).wav",
           "circle",
           "#6b1075"
          ],
          [
           -0.18563267922124344,
           -0.09435811319003032,
           3,
           "v_Full Intention - America (I Love America) (Johnick Henry St. Captain Mix).wav",
           "circle",
           "#6b1075"
          ],
          [
           0.02768592565009301,
           -0.12466175905070431,
           3,
           "v_Full Intention - America (I Love America) (Johnick Henry St. Captain Mix).wav",
           "circle",
           "#6b1075"
          ],
          [
           -0.7408520572782703,
           0.040385332957113045,
           0,
           "v_Full Intention - America (I Love America) (Johnick Henry St. Captain Mix).wav",
           "x",
           "#0044FF"
          ],
          [
           0.07296274685684327,
           0.8806352721393963,
           0,
           "v_Full Intention - America (I Love America) (Johnick Henry St. Captain Mix).wav",
           "x",
           "#0044FF"
          ],
          [
           0.5086518992897461,
           0.296506027853758,
           0,
           "v_Full Intention - America (I Love America) (Johnick Henry St. Captain Mix).wav",
           "x",
           "#0044FF"
          ],
          [
           -0.031754149109731976,
           0.07268417308073961,
           3,
           "v_Full Intention - America (I Love America) (Johnick Henry St. Captain Mix).wav",
           "x",
           "#6b1075"
          ],
          [
           0.5308269154202945,
           0.3563309805382184,
           0,
           "v_Full Intention - America (I Love America) (Johnick Henry St. Captain Mix).wav",
           "x",
           "#0044FF"
          ],
          [
           -0.14825550428318748,
           0.0036518545114942965,
           1,
           "v_Full Intention - America (I Love America) (Johnick Henry St. Captain Mix).wav",
           "x",
           "#751017"
          ],
          [
           -0.8670720472651932,
           0.002763518177840385,
           0,
           "v_Full Intention - America (I Love America) (Johnick Henry St. Captain Mix).wav",
           "x",
           "#0044FF"
          ],
          [
           -0.13941431053483314,
           0.05211946204168804,
           1,
           "v_Full Intention - America (I Love America) (Johnick Henry St. Captain Mix).wav",
           "x",
           "#751017"
          ],
          [
           0.14589686545562972,
           0.08663810248187208,
           3,
           "v_Full Intention - America (I Love America) (Johnick Henry St. Captain Mix).wav",
           "x",
           "#6b1075"
          ]
         ],
         "hovertemplate": "<b>%{customdata[3]}</b><br>(%{x:.3f},%{y:.3f})<extra>%{customdata[2]}</extra>",
         "marker": {
          "color": [
           "#6b1075",
           "#6b1075",
           "#6b1075",
           "#6b1075",
           "#6b1075",
           "#6b1075",
           "#6b1075",
           "#6b1075",
           "#6b1075",
           "#0044FF",
           "#0044FF",
           "#0044FF",
           "#6b1075",
           "#0044FF",
           "#751017",
           "#0044FF",
           "#751017",
           "#6b1075"
          ],
          "symbol": [
           "circle",
           "circle",
           "circle",
           "circle",
           "circle",
           "circle",
           "circle",
           "circle",
           "circle",
           "x",
           "x",
           "x",
           "x",
           "x",
           "x",
           "x",
           "x",
           "x"
          ]
         },
         "mode": "markers",
         "name": "17",
         "text": [
          "v_Full Intention - America (I Love America) (Johnick Henry St. Captain Mix).wav",
          "v_Full Intention - America (I Love America) (Johnick Henry St. Captain Mix).wav",
          "v_Full Intention - America (I Love America) (Johnick Henry St. Captain Mix).wav",
          "v_Full Intention - America (I Love America) (Johnick Henry St. Captain Mix).wav",
          "v_Full Intention - America (I Love America) (Johnick Henry St. Captain Mix).wav",
          "v_Full Intention - America (I Love America) (Johnick Henry St. Captain Mix).wav",
          "v_Full Intention - America (I Love America) (Johnick Henry St. Captain Mix).wav",
          "v_Full Intention - America (I Love America) (Johnick Henry St. Captain Mix).wav",
          "v_Full Intention - America (I Love America) (Johnick Henry St. Captain Mix).wav",
          "v_Full Intention - America (I Love America) (Johnick Henry St. Captain Mix).wav",
          "v_Full Intention - America (I Love America) (Johnick Henry St. Captain Mix).wav",
          "v_Full Intention - America (I Love America) (Johnick Henry St. Captain Mix).wav",
          "v_Full Intention - America (I Love America) (Johnick Henry St. Captain Mix).wav",
          "v_Full Intention - America (I Love America) (Johnick Henry St. Captain Mix).wav",
          "v_Full Intention - America (I Love America) (Johnick Henry St. Captain Mix).wav",
          "v_Full Intention - America (I Love America) (Johnick Henry St. Captain Mix).wav",
          "v_Full Intention - America (I Love America) (Johnick Henry St. Captain Mix).wav",
          "v_Full Intention - America (I Love America) (Johnick Henry St. Captain Mix).wav"
         ],
         "type": "scatter",
         "x": [
          -0.11598900867935474,
          -0.4527405835181799,
          0.2652204477430536,
          0.04862736678376704,
          0.04504864277487248,
          0.24482571496440114,
          0.3055923048880003,
          -0.18563267922124344,
          0.02768592565009301,
          -0.7408520572782703,
          0.07296274685684327,
          0.5086518992897461,
          -0.031754149109731976,
          0.5308269154202945,
          -0.14825550428318748,
          -0.8670720472651932,
          -0.13941431053483314,
          0.14589686545562972
         ],
         "y": [
          0.04988789071099636,
          0.33664667916149743,
          -0.12500432461306824,
          -0.3516875456115541,
          -0.0630582130006498,
          -0.20576916965459133,
          0.7235667341893822,
          -0.09435811319003032,
          -0.12466175905070431,
          0.040385332957113045,
          0.8806352721393963,
          0.296506027853758,
          0.07268417308073961,
          0.3563309805382184,
          0.0036518545114942965,
          0.002763518177840385,
          0.05211946204168804,
          0.08663810248187208
         ]
        },
        {
         "customdata": [
          [
           0.45995242786134133,
           -0.24795365019608553,
           3,
           "v_Full Intention - America (I Love America) (Nevins Goldfinger Mix).wav",
           "circle",
           "#6b1075"
          ],
          [
           -0.14276834117893467,
           0.05701419938604119,
           3,
           "v_Full Intention - America (I Love America) (Nevins Goldfinger Mix).wav",
           "circle",
           "#6b1075"
          ],
          [
           0.7827874280536998,
           -0.21144233528093173,
           3,
           "v_Full Intention - America (I Love America) (Nevins Goldfinger Mix).wav",
           "circle",
           "#6b1075"
          ],
          [
           0.4549414884248452,
           0.07293013311502182,
           3,
           "v_Full Intention - America (I Love America) (Nevins Goldfinger Mix).wav",
           "circle",
           "#6b1075"
          ],
          [
           -0.042584441376343506,
           0.3088187782959669,
           3,
           "v_Full Intention - America (I Love America) (Nevins Goldfinger Mix).wav",
           "circle",
           "#6b1075"
          ],
          [
           -0.19137674384702177,
           -0.06713614433956623,
           3,
           "v_Full Intention - America (I Love America) (Nevins Goldfinger Mix).wav",
           "circle",
           "#6b1075"
          ],
          [
           0.22515157709096376,
           -0.17452430213706208,
           3,
           "v_Full Intention - America (I Love America) (Nevins Goldfinger Mix).wav",
           "circle",
           "#6b1075"
          ],
          [
           -0.3552284551962617,
           -0.1792238105224958,
           3,
           "v_Full Intention - America (I Love America) (Nevins Goldfinger Mix).wav",
           "circle",
           "#6b1075"
          ],
          [
           0.3204216046846983,
           0.1479627967952669,
           3,
           "v_Full Intention - America (I Love America) (Nevins Goldfinger Mix).wav",
           "circle",
           "#6b1075"
          ],
          [
           -0.19864416953428962,
           -0.0969969182786065,
           3,
           "v_Full Intention - America (I Love America) (Nevins Goldfinger Mix).wav",
           "circle",
           "#6b1075"
          ],
          [
           -0.22314922045094654,
           0.24555493693535266,
           3,
           "v_Full Intention - America (I Love America) (Nevins Goldfinger Mix).wav",
           "circle",
           "#6b1075"
          ],
          [
           -0.6639707519648331,
           0.5709072445842832,
           3,
           "v_Full Intention - America (I Love America) (Nevins Goldfinger Mix).wav",
           "circle",
           "#6b1075"
          ],
          [
           -0.01888347487115254,
           -0.11646124634464813,
           3,
           "v_Full Intention - America (I Love America) (Nevins Goldfinger Mix).wav",
           "x",
           "#6b1075"
          ],
          [
           0.11712508479337988,
           0.11725770795108194,
           1,
           "v_Full Intention - America (I Love America) (Nevins Goldfinger Mix).wav",
           "x",
           "#751017"
          ],
          [
           0.24151510378918242,
           -0.1436077851696084,
           1,
           "v_Full Intention - America (I Love America) (Nevins Goldfinger Mix).wav",
           "x",
           "#751017"
          ],
          [
           0.4007224377472321,
           0.2918506863181685,
           0,
           "v_Full Intention - America (I Love America) (Nevins Goldfinger Mix).wav",
           "x",
           "#0044FF"
          ],
          [
           -0.2784890788154111,
           -0.4654812783139827,
           2,
           "v_Full Intention - America (I Love America) (Nevins Goldfinger Mix).wav",
           "x",
           "#48a832"
          ],
          [
           0.1110987774297108,
           -0.05847553480252873,
           0,
           "v_Full Intention - America (I Love America) (Nevins Goldfinger Mix).wav",
           "x",
           "#0044FF"
          ],
          [
           -0.42145135048825016,
           0.285266351982415,
           1,
           "v_Full Intention - America (I Love America) (Nevins Goldfinger Mix).wav",
           "x",
           "#751017"
          ],
          [
           0.6374021958166719,
           -0.3541671117547799,
           0,
           "v_Full Intention - America (I Love America) (Nevins Goldfinger Mix).wav",
           "x",
           "#0044FF"
          ],
          [
           0.11113074810676654,
           0.02758265848326815,
           1,
           "v_Full Intention - America (I Love America) (Nevins Goldfinger Mix).wav",
           "x",
           "#751017"
          ],
          [
           0.015722518265178186,
           0.040168710388287045,
           1,
           "v_Full Intention - America (I Love America) (Nevins Goldfinger Mix).wav",
           "x",
           "#751017"
          ],
          [
           0.07323380708891696,
           0.15706076522177423,
           1,
           "v_Full Intention - America (I Love America) (Nevins Goldfinger Mix).wav",
           "x",
           "#751017"
          ],
          [
           -0.19447880019488664,
           -0.406933177022288,
           0,
           "v_Full Intention - America (I Love America) (Nevins Goldfinger Mix).wav",
           "x",
           "#0044FF"
          ]
         ],
         "hovertemplate": "<b>%{customdata[3]}</b><br>(%{x:.3f},%{y:.3f})<extra>%{customdata[2]}</extra>",
         "marker": {
          "color": [
           "#6b1075",
           "#6b1075",
           "#6b1075",
           "#6b1075",
           "#6b1075",
           "#6b1075",
           "#6b1075",
           "#6b1075",
           "#6b1075",
           "#6b1075",
           "#6b1075",
           "#6b1075",
           "#6b1075",
           "#751017",
           "#751017",
           "#0044FF",
           "#48a832",
           "#0044FF",
           "#751017",
           "#0044FF",
           "#751017",
           "#751017",
           "#751017",
           "#0044FF"
          ],
          "symbol": [
           "circle",
           "circle",
           "circle",
           "circle",
           "circle",
           "circle",
           "circle",
           "circle",
           "circle",
           "circle",
           "circle",
           "circle",
           "x",
           "x",
           "x",
           "x",
           "x",
           "x",
           "x",
           "x",
           "x",
           "x",
           "x",
           "x"
          ]
         },
         "mode": "markers",
         "name": "18",
         "text": [
          "v_Full Intention - America (I Love America) (Nevins Goldfinger Mix).wav",
          "v_Full Intention - America (I Love America) (Nevins Goldfinger Mix).wav",
          "v_Full Intention - America (I Love America) (Nevins Goldfinger Mix).wav",
          "v_Full Intention - America (I Love America) (Nevins Goldfinger Mix).wav",
          "v_Full Intention - America (I Love America) (Nevins Goldfinger Mix).wav",
          "v_Full Intention - America (I Love America) (Nevins Goldfinger Mix).wav",
          "v_Full Intention - America (I Love America) (Nevins Goldfinger Mix).wav",
          "v_Full Intention - America (I Love America) (Nevins Goldfinger Mix).wav",
          "v_Full Intention - America (I Love America) (Nevins Goldfinger Mix).wav",
          "v_Full Intention - America (I Love America) (Nevins Goldfinger Mix).wav",
          "v_Full Intention - America (I Love America) (Nevins Goldfinger Mix).wav",
          "v_Full Intention - America (I Love America) (Nevins Goldfinger Mix).wav",
          "v_Full Intention - America (I Love America) (Nevins Goldfinger Mix).wav",
          "v_Full Intention - America (I Love America) (Nevins Goldfinger Mix).wav",
          "v_Full Intention - America (I Love America) (Nevins Goldfinger Mix).wav",
          "v_Full Intention - America (I Love America) (Nevins Goldfinger Mix).wav",
          "v_Full Intention - America (I Love America) (Nevins Goldfinger Mix).wav",
          "v_Full Intention - America (I Love America) (Nevins Goldfinger Mix).wav",
          "v_Full Intention - America (I Love America) (Nevins Goldfinger Mix).wav",
          "v_Full Intention - America (I Love America) (Nevins Goldfinger Mix).wav",
          "v_Full Intention - America (I Love America) (Nevins Goldfinger Mix).wav",
          "v_Full Intention - America (I Love America) (Nevins Goldfinger Mix).wav",
          "v_Full Intention - America (I Love America) (Nevins Goldfinger Mix).wav",
          "v_Full Intention - America (I Love America) (Nevins Goldfinger Mix).wav"
         ],
         "type": "scatter",
         "x": [
          0.45995242786134133,
          -0.14276834117893467,
          0.7827874280536998,
          0.4549414884248452,
          -0.042584441376343506,
          -0.19137674384702177,
          0.22515157709096376,
          -0.3552284551962617,
          0.3204216046846983,
          -0.19864416953428962,
          -0.22314922045094654,
          -0.6639707519648331,
          -0.01888347487115254,
          0.11712508479337988,
          0.24151510378918242,
          0.4007224377472321,
          -0.2784890788154111,
          0.1110987774297108,
          -0.42145135048825016,
          0.6374021958166719,
          0.11113074810676654,
          0.015722518265178186,
          0.07323380708891696,
          -0.19447880019488664
         ],
         "y": [
          -0.24795365019608553,
          0.05701419938604119,
          -0.21144233528093173,
          0.07293013311502182,
          0.3088187782959669,
          -0.06713614433956623,
          -0.17452430213706208,
          -0.1792238105224958,
          0.1479627967952669,
          -0.0969969182786065,
          0.24555493693535266,
          0.5709072445842832,
          -0.11646124634464813,
          0.11725770795108194,
          -0.1436077851696084,
          0.2918506863181685,
          -0.4654812783139827,
          -0.05847553480252873,
          0.285266351982415,
          -0.3541671117547799,
          0.02758265848326815,
          0.040168710388287045,
          0.15706076522177423,
          -0.406933177022288
         ]
        },
        {
         "customdata": [
          [
           0.5797723861971947,
           -0.5215905479065737,
           3,
           "v_Full Intention - America (I Love America) (Original Sugar Daddy 12_ Mix).wav",
           "circle",
           "#6b1075"
          ],
          [
           -0.046029201086901395,
           -0.059719280662921655,
           3,
           "v_Full Intention - America (I Love America) (Original Sugar Daddy 12_ Mix).wav",
           "circle",
           "#6b1075"
          ],
          [
           -4.6313121594813356e-05,
           -0.07639158787551797,
           3,
           "v_Full Intention - America (I Love America) (Original Sugar Daddy 12_ Mix).wav",
           "circle",
           "#6b1075"
          ],
          [
           -0.043887244362905975,
           -0.1256129955047074,
           3,
           "v_Full Intention - America (I Love America) (Original Sugar Daddy 12_ Mix).wav",
           "circle",
           "#6b1075"
          ],
          [
           -0.1305373617350619,
           0.10706563353371745,
           3,
           "v_Full Intention - America (I Love America) (Original Sugar Daddy 12_ Mix).wav",
           "circle",
           "#6b1075"
          ],
          [
           0.0653885641382378,
           -0.35633576257231797,
           3,
           "v_Full Intention - America (I Love America) (Original Sugar Daddy 12_ Mix).wav",
           "circle",
           "#6b1075"
          ],
          [
           -0.0877542780027324,
           -0.157547887525474,
           3,
           "v_Full Intention - America (I Love America) (Original Sugar Daddy 12_ Mix).wav",
           "circle",
           "#6b1075"
          ],
          [
           0.11659929033664113,
           -0.17538186714232246,
           3,
           "v_Full Intention - America (I Love America) (Original Sugar Daddy 12_ Mix).wav",
           "circle",
           "#6b1075"
          ],
          [
           -0.012624053168079546,
           -0.10331959868319875,
           3,
           "v_Full Intention - America (I Love America) (Original Sugar Daddy 12_ Mix).wav",
           "circle",
           "#6b1075"
          ],
          [
           -0.00804644388078538,
           0.006592756284535318,
           3,
           "v_Full Intention - America (I Love America) (Original Sugar Daddy 12_ Mix).wav",
           "circle",
           "#6b1075"
          ],
          [
           -0.673546237023344,
           -0.058132798356716704,
           3,
           "v_Full Intention - America (I Love America) (Original Sugar Daddy 12_ Mix).wav",
           "circle",
           "#6b1075"
          ],
          [
           0.07433407632282446,
           -0.2545151879780155,
           3,
           "v_Full Intention - America (I Love America) (Original Sugar Daddy 12_ Mix).wav",
           "circle",
           "#6b1075"
          ],
          [
           0.04298622428583459,
           -0.24809864934675963,
           3,
           "v_Full Intention - America (I Love America) (Original Sugar Daddy 12_ Mix).wav",
           "circle",
           "#6b1075"
          ],
          [
           -0.06018514927266556,
           -0.009458010026026954,
           3,
           "v_Full Intention - America (I Love America) (Original Sugar Daddy 12_ Mix).wav",
           "circle",
           "#6b1075"
          ],
          [
           -0.08962630380662076,
           -0.41771309564038384,
           0,
           "v_Full Intention - America (I Love America) (Original Sugar Daddy 12_ Mix).wav",
           "x",
           "#0044FF"
          ],
          [
           0.03855812049020802,
           0.1567046846719184,
           1,
           "v_Full Intention - America (I Love America) (Original Sugar Daddy 12_ Mix).wav",
           "x",
           "#751017"
          ],
          [
           -0.3918879125116548,
           -0.2784998564208836,
           2,
           "v_Full Intention - America (I Love America) (Original Sugar Daddy 12_ Mix).wav",
           "x",
           "#48a832"
          ],
          [
           -0.45813623125221997,
           -0.10762998501232043,
           0,
           "v_Full Intention - America (I Love America) (Original Sugar Daddy 12_ Mix).wav",
           "x",
           "#0044FF"
          ],
          [
           0.03754431761126795,
           0.043191285970493716,
           3,
           "v_Full Intention - America (I Love America) (Original Sugar Daddy 12_ Mix).wav",
           "x",
           "#6b1075"
          ],
          [
           -0.23067008909970219,
           0.16326901292030305,
           0,
           "v_Full Intention - America (I Love America) (Original Sugar Daddy 12_ Mix).wav",
           "x",
           "#0044FF"
          ],
          [
           -0.14786312514755173,
           -0.31148734071051726,
           2,
           "v_Full Intention - America (I Love America) (Original Sugar Daddy 12_ Mix).wav",
           "x",
           "#48a832"
          ],
          [
           -0.20515471833243715,
           -0.21810350785455018,
           0,
           "v_Full Intention - America (I Love America) (Original Sugar Daddy 12_ Mix).wav",
           "x",
           "#0044FF"
          ],
          [
           0.0863827635980365,
           0.03300741511285302,
           2,
           "v_Full Intention - America (I Love America) (Original Sugar Daddy 12_ Mix).wav",
           "x",
           "#48a832"
          ],
          [
           0.12304132109169845,
           0.09267034560698159,
           3,
           "v_Full Intention - America (I Love America) (Original Sugar Daddy 12_ Mix).wav",
           "x",
           "#6b1075"
          ],
          [
           -0.18254072813683642,
           0.3069973920055513,
           0,
           "v_Full Intention - America (I Love America) (Original Sugar Daddy 12_ Mix).wav",
           "x",
           "#0044FF"
          ],
          [
           0.1474093243845052,
           -0.23302790189026057,
           0,
           "v_Full Intention - America (I Love America) (Original Sugar Daddy 12_ Mix).wav",
           "x",
           "#0044FF"
          ],
          [
           -0.4117220470920123,
           0.00301440168663121,
           2,
           "v_Full Intention - America (I Love America) (Original Sugar Daddy 12_ Mix).wav",
           "x",
           "#48a832"
          ],
          [
           -0.20269229071242922,
           0.30190123472387553,
           0,
           "v_Full Intention - America (I Love America) (Original Sugar Daddy 12_ Mix).wav",
           "x",
           "#0044FF"
          ]
         ],
         "hovertemplate": "<b>%{customdata[3]}</b><br>(%{x:.3f},%{y:.3f})<extra>%{customdata[2]}</extra>",
         "marker": {
          "color": [
           "#6b1075",
           "#6b1075",
           "#6b1075",
           "#6b1075",
           "#6b1075",
           "#6b1075",
           "#6b1075",
           "#6b1075",
           "#6b1075",
           "#6b1075",
           "#6b1075",
           "#6b1075",
           "#6b1075",
           "#6b1075",
           "#0044FF",
           "#751017",
           "#48a832",
           "#0044FF",
           "#6b1075",
           "#0044FF",
           "#48a832",
           "#0044FF",
           "#48a832",
           "#6b1075",
           "#0044FF",
           "#0044FF",
           "#48a832",
           "#0044FF"
          ],
          "symbol": [
           "circle",
           "circle",
           "circle",
           "circle",
           "circle",
           "circle",
           "circle",
           "circle",
           "circle",
           "circle",
           "circle",
           "circle",
           "circle",
           "circle",
           "x",
           "x",
           "x",
           "x",
           "x",
           "x",
           "x",
           "x",
           "x",
           "x",
           "x",
           "x",
           "x",
           "x"
          ]
         },
         "mode": "markers",
         "name": "19",
         "text": [
          "v_Full Intention - America (I Love America) (Original Sugar Daddy 12_ Mix).wav",
          "v_Full Intention - America (I Love America) (Original Sugar Daddy 12_ Mix).wav",
          "v_Full Intention - America (I Love America) (Original Sugar Daddy 12_ Mix).wav",
          "v_Full Intention - America (I Love America) (Original Sugar Daddy 12_ Mix).wav",
          "v_Full Intention - America (I Love America) (Original Sugar Daddy 12_ Mix).wav",
          "v_Full Intention - America (I Love America) (Original Sugar Daddy 12_ Mix).wav",
          "v_Full Intention - America (I Love America) (Original Sugar Daddy 12_ Mix).wav",
          "v_Full Intention - America (I Love America) (Original Sugar Daddy 12_ Mix).wav",
          "v_Full Intention - America (I Love America) (Original Sugar Daddy 12_ Mix).wav",
          "v_Full Intention - America (I Love America) (Original Sugar Daddy 12_ Mix).wav",
          "v_Full Intention - America (I Love America) (Original Sugar Daddy 12_ Mix).wav",
          "v_Full Intention - America (I Love America) (Original Sugar Daddy 12_ Mix).wav",
          "v_Full Intention - America (I Love America) (Original Sugar Daddy 12_ Mix).wav",
          "v_Full Intention - America (I Love America) (Original Sugar Daddy 12_ Mix).wav",
          "v_Full Intention - America (I Love America) (Original Sugar Daddy 12_ Mix).wav",
          "v_Full Intention - America (I Love America) (Original Sugar Daddy 12_ Mix).wav",
          "v_Full Intention - America (I Love America) (Original Sugar Daddy 12_ Mix).wav",
          "v_Full Intention - America (I Love America) (Original Sugar Daddy 12_ Mix).wav",
          "v_Full Intention - America (I Love America) (Original Sugar Daddy 12_ Mix).wav",
          "v_Full Intention - America (I Love America) (Original Sugar Daddy 12_ Mix).wav",
          "v_Full Intention - America (I Love America) (Original Sugar Daddy 12_ Mix).wav",
          "v_Full Intention - America (I Love America) (Original Sugar Daddy 12_ Mix).wav",
          "v_Full Intention - America (I Love America) (Original Sugar Daddy 12_ Mix).wav",
          "v_Full Intention - America (I Love America) (Original Sugar Daddy 12_ Mix).wav",
          "v_Full Intention - America (I Love America) (Original Sugar Daddy 12_ Mix).wav",
          "v_Full Intention - America (I Love America) (Original Sugar Daddy 12_ Mix).wav",
          "v_Full Intention - America (I Love America) (Original Sugar Daddy 12_ Mix).wav",
          "v_Full Intention - America (I Love America) (Original Sugar Daddy 12_ Mix).wav"
         ],
         "type": "scatter",
         "x": [
          0.5797723861971947,
          -0.046029201086901395,
          -4.6313121594813356e-05,
          -0.043887244362905975,
          -0.1305373617350619,
          0.0653885641382378,
          -0.0877542780027324,
          0.11659929033664113,
          -0.012624053168079546,
          -0.00804644388078538,
          -0.673546237023344,
          0.07433407632282446,
          0.04298622428583459,
          -0.06018514927266556,
          -0.08962630380662076,
          0.03855812049020802,
          -0.3918879125116548,
          -0.45813623125221997,
          0.03754431761126795,
          -0.23067008909970219,
          -0.14786312514755173,
          -0.20515471833243715,
          0.0863827635980365,
          0.12304132109169845,
          -0.18254072813683642,
          0.1474093243845052,
          -0.4117220470920123,
          -0.20269229071242922
         ],
         "y": [
          -0.5215905479065737,
          -0.059719280662921655,
          -0.07639158787551797,
          -0.1256129955047074,
          0.10706563353371745,
          -0.35633576257231797,
          -0.157547887525474,
          -0.17538186714232246,
          -0.10331959868319875,
          0.006592756284535318,
          -0.058132798356716704,
          -0.2545151879780155,
          -0.24809864934675963,
          -0.009458010026026954,
          -0.41771309564038384,
          0.1567046846719184,
          -0.2784998564208836,
          -0.10762998501232043,
          0.043191285970493716,
          0.16326901292030305,
          -0.31148734071051726,
          -0.21810350785455018,
          0.03300741511285302,
          0.09267034560698159,
          0.3069973920055513,
          -0.23302790189026057,
          0.00301440168663121,
          0.30190123472387553
         ]
        },
        {
         "customdata": [
          [
           0.10635060394641105,
           -0.05994932290739569,
           3,
           "v_Full Intention - America (I Love America) (The Don's Hands Across America Mix).wav",
           "circle",
           "#6b1075"
          ],
          [
           0.6147703291695078,
           0.6064139135966731,
           3,
           "v_Full Intention - America (I Love America) (The Don's Hands Across America Mix).wav",
           "circle",
           "#6b1075"
          ],
          [
           -0.09555195168935757,
           0.4708176029422123,
           3,
           "v_Full Intention - America (I Love America) (The Don's Hands Across America Mix).wav",
           "circle",
           "#6b1075"
          ],
          [
           -0.4685541171278257,
           -0.021084435323127922,
           3,
           "v_Full Intention - America (I Love America) (The Don's Hands Across America Mix).wav",
           "circle",
           "#6b1075"
          ],
          [
           -0.17530714656089427,
           -0.3477237988432361,
           3,
           "v_Full Intention - America (I Love America) (The Don's Hands Across America Mix).wav",
           "circle",
           "#6b1075"
          ],
          [
           -0.23631016422103057,
           0.16348760863289105,
           3,
           "v_Full Intention - America (I Love America) (The Don's Hands Across America Mix).wav",
           "x",
           "#6b1075"
          ],
          [
           -0.821871009733362,
           -0.17534586621857984,
           0,
           "v_Full Intention - America (I Love America) (The Don's Hands Across America Mix).wav",
           "x",
           "#0044FF"
          ],
          [
           -0.4511955152047517,
           -0.41791896640395826,
           2,
           "v_Full Intention - America (I Love America) (The Don's Hands Across America Mix).wav",
           "x",
           "#48a832"
          ],
          [
           0.1563469540606633,
           -0.13661466080782586,
           3,
           "v_Full Intention - America (I Love America) (The Don's Hands Across America Mix).wav",
           "x",
           "#6b1075"
          ],
          [
           -0.055306156433074065,
           0.05112184124101414,
           3,
           "v_Full Intention - America (I Love America) (The Don's Hands Across America Mix).wav",
           "x",
           "#6b1075"
          ]
         ],
         "hovertemplate": "<b>%{customdata[3]}</b><br>(%{x:.3f},%{y:.3f})<extra>%{customdata[2]}</extra>",
         "marker": {
          "color": [
           "#6b1075",
           "#6b1075",
           "#6b1075",
           "#6b1075",
           "#6b1075",
           "#6b1075",
           "#0044FF",
           "#48a832",
           "#6b1075",
           "#6b1075"
          ],
          "symbol": [
           "circle",
           "circle",
           "circle",
           "circle",
           "circle",
           "x",
           "x",
           "x",
           "x",
           "x"
          ]
         },
         "mode": "markers",
         "name": "20",
         "text": [
          "v_Full Intention - America (I Love America) (The Don's Hands Across America Mix).wav",
          "v_Full Intention - America (I Love America) (The Don's Hands Across America Mix).wav",
          "v_Full Intention - America (I Love America) (The Don's Hands Across America Mix).wav",
          "v_Full Intention - America (I Love America) (The Don's Hands Across America Mix).wav",
          "v_Full Intention - America (I Love America) (The Don's Hands Across America Mix).wav",
          "v_Full Intention - America (I Love America) (The Don's Hands Across America Mix).wav",
          "v_Full Intention - America (I Love America) (The Don's Hands Across America Mix).wav",
          "v_Full Intention - America (I Love America) (The Don's Hands Across America Mix).wav",
          "v_Full Intention - America (I Love America) (The Don's Hands Across America Mix).wav",
          "v_Full Intention - America (I Love America) (The Don's Hands Across America Mix).wav"
         ],
         "type": "scatter",
         "x": [
          0.10635060394641105,
          0.6147703291695078,
          -0.09555195168935757,
          -0.4685541171278257,
          -0.17530714656089427,
          -0.23631016422103057,
          -0.821871009733362,
          -0.4511955152047517,
          0.1563469540606633,
          -0.055306156433074065
         ],
         "y": [
          -0.05994932290739569,
          0.6064139135966731,
          0.4708176029422123,
          -0.021084435323127922,
          -0.3477237988432361,
          0.16348760863289105,
          -0.17534586621857984,
          -0.41791896640395826,
          -0.13661466080782586,
          0.05112184124101414
         ]
        },
        {
         "customdata": [
          [
           0.2645969529508306,
           -0.24454037453926122,
           3,
           "v_Full Intention - America (I Love America) (Todd Terry Mix).wav",
           "circle",
           "#6b1075"
          ],
          [
           0.09589868720234793,
           -0.19626952306539422,
           3,
           "v_Full Intention - America (I Love America) (Todd Terry Mix).wav",
           "circle",
           "#6b1075"
          ],
          [
           0.16790835367267837,
           -0.17043057861427427,
           3,
           "v_Full Intention - America (I Love America) (Todd Terry Mix).wav",
           "circle",
           "#6b1075"
          ],
          [
           0.10255521313000904,
           -0.08714637839086899,
           3,
           "v_Full Intention - America (I Love America) (Todd Terry Mix).wav",
           "circle",
           "#6b1075"
          ],
          [
           -0.08265804484455584,
           -0.1189034297019472,
           3,
           "v_Full Intention - America (I Love America) (Todd Terry Mix).wav",
           "circle",
           "#6b1075"
          ],
          [
           0.0071883535206107825,
           -0.006860051479745066,
           3,
           "v_Full Intention - America (I Love America) (Todd Terry Mix).wav",
           "circle",
           "#6b1075"
          ],
          [
           0.0415447784240952,
           -0.45380677005900294,
           0,
           "v_Full Intention - America (I Love America) (Todd Terry Mix).wav",
           "x",
           "#0044FF"
          ],
          [
           0.2270175569519465,
           0.10227888742966067,
           2,
           "v_Full Intention - America (I Love America) (Todd Terry Mix).wav",
           "x",
           "#48a832"
          ],
          [
           -0.2002881616868249,
           -0.02403252466899333,
           3,
           "v_Full Intention - America (I Love America) (Todd Terry Mix).wav",
           "x",
           "#6b1075"
          ],
          [
           0.34262510770670757,
           -0.12297614271543032,
           3,
           "v_Full Intention - America (I Love America) (Todd Terry Mix).wav",
           "x",
           "#6b1075"
          ],
          [
           -0.05416766774774408,
           0.11597498040513873,
           1,
           "v_Full Intention - America (I Love America) (Todd Terry Mix).wav",
           "x",
           "#751017"
          ],
          [
           0.9609817441127556,
           -0.19564883989612833,
           0,
           "v_Full Intention - America (I Love America) (Todd Terry Mix).wav",
           "x",
           "#0044FF"
          ]
         ],
         "hovertemplate": "<b>%{customdata[3]}</b><br>(%{x:.3f},%{y:.3f})<extra>%{customdata[2]}</extra>",
         "marker": {
          "color": [
           "#6b1075",
           "#6b1075",
           "#6b1075",
           "#6b1075",
           "#6b1075",
           "#6b1075",
           "#0044FF",
           "#48a832",
           "#6b1075",
           "#6b1075",
           "#751017",
           "#0044FF"
          ],
          "symbol": [
           "circle",
           "circle",
           "circle",
           "circle",
           "circle",
           "circle",
           "x",
           "x",
           "x",
           "x",
           "x",
           "x"
          ]
         },
         "mode": "markers",
         "name": "21",
         "text": [
          "v_Full Intention - America (I Love America) (Todd Terry Mix).wav",
          "v_Full Intention - America (I Love America) (Todd Terry Mix).wav",
          "v_Full Intention - America (I Love America) (Todd Terry Mix).wav",
          "v_Full Intention - America (I Love America) (Todd Terry Mix).wav",
          "v_Full Intention - America (I Love America) (Todd Terry Mix).wav",
          "v_Full Intention - America (I Love America) (Todd Terry Mix).wav",
          "v_Full Intention - America (I Love America) (Todd Terry Mix).wav",
          "v_Full Intention - America (I Love America) (Todd Terry Mix).wav",
          "v_Full Intention - America (I Love America) (Todd Terry Mix).wav",
          "v_Full Intention - America (I Love America) (Todd Terry Mix).wav",
          "v_Full Intention - America (I Love America) (Todd Terry Mix).wav",
          "v_Full Intention - America (I Love America) (Todd Terry Mix).wav"
         ],
         "type": "scatter",
         "x": [
          0.2645969529508306,
          0.09589868720234793,
          0.16790835367267837,
          0.10255521313000904,
          -0.08265804484455584,
          0.0071883535206107825,
          0.0415447784240952,
          0.2270175569519465,
          -0.2002881616868249,
          0.34262510770670757,
          -0.05416766774774408,
          0.9609817441127556
         ],
         "y": [
          -0.24454037453926122,
          -0.19626952306539422,
          -0.17043057861427427,
          -0.08714637839086899,
          -0.1189034297019472,
          -0.006860051479745066,
          -0.45380677005900294,
          0.10227888742966067,
          -0.02403252466899333,
          -0.12297614271543032,
          0.11597498040513873,
          -0.19564883989612833
         ]
        },
        {
         "customdata": [
          [
           -0.03612682060395798,
           -0.070050377627957,
           3,
           "v_Full Intention - America (I Love America) (UBQ's State Side Mix).wav",
           "circle",
           "#6b1075"
          ],
          [
           0.06373040589823083,
           -0.18743927844837563,
           3,
           "v_Full Intention - America (I Love America) (UBQ's State Side Mix).wav",
           "circle",
           "#6b1075"
          ],
          [
           -0.1575264980310497,
           0.4634146233685834,
           3,
           "v_Full Intention - America (I Love America) (UBQ's State Side Mix).wav",
           "circle",
           "#6b1075"
          ],
          [
           -0.27504143003202847,
           -0.409656584803678,
           3,
           "v_Full Intention - America (I Love America) (UBQ's State Side Mix).wav",
           "circle",
           "#6b1075"
          ],
          [
           0.6974130756115536,
           0.6452709074930016,
           3,
           "v_Full Intention - America (I Love America) (UBQ's State Side Mix).wav",
           "circle",
           "#6b1075"
          ],
          [
           -0.8345570679539299,
           0.32924418847472264,
           3,
           "v_Full Intention - America (I Love America) (UBQ's State Side Mix).wav",
           "circle",
           "#6b1075"
          ],
          [
           -0.018133718720376422,
           -0.21229550190532245,
           3,
           "v_Full Intention - America (I Love America) (UBQ's State Side Mix).wav",
           "circle",
           "#6b1075"
          ],
          [
           -0.23321755215609422,
           0.40116649151317085,
           3,
           "v_Full Intention - America (I Love America) (UBQ's State Side Mix).wav",
           "circle",
           "#6b1075"
          ],
          [
           -0.117915705700879,
           -0.08347229367802861,
           3,
           "v_Full Intention - America (I Love America) (UBQ's State Side Mix).wav",
           "circle",
           "#6b1075"
          ],
          [
           0.6824895851775691,
           -0.3867326480857655,
           3,
           "v_Full Intention - America (I Love America) (UBQ's State Side Mix).wav",
           "circle",
           "#6b1075"
          ],
          [
           -0.05292395050589486,
           -0.26635102152917445,
           3,
           "v_Full Intention - America (I Love America) (UBQ's State Side Mix).wav",
           "circle",
           "#6b1075"
          ],
          [
           0.24516654284550474,
           0.2774287720581527,
           1,
           "v_Full Intention - America (I Love America) (UBQ's State Side Mix).wav",
           "x",
           "#751017"
          ],
          [
           0.3696128950956355,
           0.19826229948319332,
           0,
           "v_Full Intention - America (I Love America) (UBQ's State Side Mix).wav",
           "x",
           "#0044FF"
          ],
          [
           0.1824363916687658,
           0.3941651712449933,
           0,
           "v_Full Intention - America (I Love America) (UBQ's State Side Mix).wav",
           "x",
           "#0044FF"
          ],
          [
           0.6562208511219808,
           0.28301852307429226,
           0,
           "v_Full Intention - America (I Love America) (UBQ's State Side Mix).wav",
           "x",
           "#0044FF"
          ],
          [
           0.04848148633317798,
           -0.7608248080733905,
           0,
           "v_Full Intention - America (I Love America) (UBQ's State Side Mix).wav",
           "x",
           "#0044FF"
          ],
          [
           0.49606893635692184,
           -0.5642183543707163,
           3,
           "v_Full Intention - America (I Love America) (UBQ's State Side Mix).wav",
           "x",
           "#6b1075"
          ]
         ],
         "hovertemplate": "<b>%{customdata[3]}</b><br>(%{x:.3f},%{y:.3f})<extra>%{customdata[2]}</extra>",
         "marker": {
          "color": [
           "#6b1075",
           "#6b1075",
           "#6b1075",
           "#6b1075",
           "#6b1075",
           "#6b1075",
           "#6b1075",
           "#6b1075",
           "#6b1075",
           "#6b1075",
           "#6b1075",
           "#751017",
           "#0044FF",
           "#0044FF",
           "#0044FF",
           "#0044FF",
           "#6b1075"
          ],
          "symbol": [
           "circle",
           "circle",
           "circle",
           "circle",
           "circle",
           "circle",
           "circle",
           "circle",
           "circle",
           "circle",
           "circle",
           "x",
           "x",
           "x",
           "x",
           "x",
           "x"
          ]
         },
         "mode": "markers",
         "name": "22",
         "text": [
          "v_Full Intention - America (I Love America) (UBQ's State Side Mix).wav",
          "v_Full Intention - America (I Love America) (UBQ's State Side Mix).wav",
          "v_Full Intention - America (I Love America) (UBQ's State Side Mix).wav",
          "v_Full Intention - America (I Love America) (UBQ's State Side Mix).wav",
          "v_Full Intention - America (I Love America) (UBQ's State Side Mix).wav",
          "v_Full Intention - America (I Love America) (UBQ's State Side Mix).wav",
          "v_Full Intention - America (I Love America) (UBQ's State Side Mix).wav",
          "v_Full Intention - America (I Love America) (UBQ's State Side Mix).wav",
          "v_Full Intention - America (I Love America) (UBQ's State Side Mix).wav",
          "v_Full Intention - America (I Love America) (UBQ's State Side Mix).wav",
          "v_Full Intention - America (I Love America) (UBQ's State Side Mix).wav",
          "v_Full Intention - America (I Love America) (UBQ's State Side Mix).wav",
          "v_Full Intention - America (I Love America) (UBQ's State Side Mix).wav",
          "v_Full Intention - America (I Love America) (UBQ's State Side Mix).wav",
          "v_Full Intention - America (I Love America) (UBQ's State Side Mix).wav",
          "v_Full Intention - America (I Love America) (UBQ's State Side Mix).wav",
          "v_Full Intention - America (I Love America) (UBQ's State Side Mix).wav"
         ],
         "type": "scatter",
         "x": [
          -0.03612682060395798,
          0.06373040589823083,
          -0.1575264980310497,
          -0.27504143003202847,
          0.6974130756115536,
          -0.8345570679539299,
          -0.018133718720376422,
          -0.23321755215609422,
          -0.117915705700879,
          0.6824895851775691,
          -0.05292395050589486,
          0.24516654284550474,
          0.3696128950956355,
          0.1824363916687658,
          0.6562208511219808,
          0.04848148633317798,
          0.49606893635692184
         ],
         "y": [
          -0.070050377627957,
          -0.18743927844837563,
          0.4634146233685834,
          -0.409656584803678,
          0.6452709074930016,
          0.32924418847472264,
          -0.21229550190532245,
          0.40116649151317085,
          -0.08347229367802861,
          -0.3867326480857655,
          -0.26635102152917445,
          0.2774287720581527,
          0.19826229948319332,
          0.3941651712449933,
          0.28301852307429226,
          -0.7608248080733905,
          -0.5642183543707163
         ]
        },
        {
         "customdata": [
          [
           -0.11329025425094814,
           0.023487877709054136,
           3,
           "v_Full Intention - America (I Love America) (_Rude Dog_ Mix).wav",
           "circle",
           "#6b1075"
          ],
          [
           0.011629848304696912,
           0.022525558827498845,
           3,
           "v_Full Intention - America (I Love America) (_Rude Dog_ Mix).wav",
           "circle",
           "#6b1075"
          ],
          [
           0.05912863365257048,
           -0.10181729242951709,
           3,
           "v_Full Intention - America (I Love America) (_Rude Dog_ Mix).wav",
           "circle",
           "#6b1075"
          ],
          [
           -0.22397163261175154,
           -0.1334704986941263,
           3,
           "v_Full Intention - America (I Love America) (_Rude Dog_ Mix).wav",
           "circle",
           "#6b1075"
          ],
          [
           0.21680559346270137,
           0.7636258107990226,
           3,
           "v_Full Intention - America (I Love America) (_Rude Dog_ Mix).wav",
           "circle",
           "#6b1075"
          ],
          [
           0.09082322002092628,
           -0.2981744638712986,
           3,
           "v_Full Intention - America (I Love America) (_Rude Dog_ Mix).wav",
           "circle",
           "#6b1075"
          ],
          [
           -0.03907682715894277,
           -0.027243440861891323,
           3,
           "v_Full Intention - America (I Love America) (_Rude Dog_ Mix).wav",
           "circle",
           "#6b1075"
          ],
          [
           -0.2411396992327476,
           -0.11175139475517554,
           3,
           "v_Full Intention - America (I Love America) (_Rude Dog_ Mix).wav",
           "circle",
           "#6b1075"
          ]
         ],
         "hovertemplate": "<b>%{customdata[3]}</b><br>(%{x:.3f},%{y:.3f})<extra>%{customdata[2]}</extra>",
         "marker": {
          "color": [
           "#6b1075",
           "#6b1075",
           "#6b1075",
           "#6b1075",
           "#6b1075",
           "#6b1075",
           "#6b1075",
           "#6b1075"
          ],
          "symbol": [
           "circle",
           "circle",
           "circle",
           "circle",
           "circle",
           "circle",
           "circle",
           "circle"
          ]
         },
         "mode": "markers",
         "name": "23",
         "text": [
          "v_Full Intention - America (I Love America) (_Rude Dog_ Mix).wav",
          "v_Full Intention - America (I Love America) (_Rude Dog_ Mix).wav",
          "v_Full Intention - America (I Love America) (_Rude Dog_ Mix).wav",
          "v_Full Intention - America (I Love America) (_Rude Dog_ Mix).wav",
          "v_Full Intention - America (I Love America) (_Rude Dog_ Mix).wav",
          "v_Full Intention - America (I Love America) (_Rude Dog_ Mix).wav",
          "v_Full Intention - America (I Love America) (_Rude Dog_ Mix).wav",
          "v_Full Intention - America (I Love America) (_Rude Dog_ Mix).wav"
         ],
         "type": "scatter",
         "x": [
          -0.11329025425094814,
          0.011629848304696912,
          0.05912863365257048,
          -0.22397163261175154,
          0.21680559346270137,
          0.09082322002092628,
          -0.03907682715894277,
          -0.2411396992327476
         ],
         "y": [
          0.023487877709054136,
          0.022525558827498845,
          -0.10181729242951709,
          -0.1334704986941263,
          0.7636258107990226,
          -0.2981744638712986,
          -0.027243440861891323,
          -0.11175139475517554
         ]
        },
        {
         "customdata": [
          [
           -0.09144068626166027,
           -0.297966213516242,
           0,
           "v_Future Force - What You Want (Alex Neri Dub Experience).wav",
           "circle",
           "#0044FF"
          ],
          [
           -0.26054387306210935,
           0.2267065285854151,
           0,
           "v_Future Force - What You Want (Alex Neri Dub Experience).wav",
           "circle",
           "#0044FF"
          ],
          [
           -0.176429124729526,
           0.23790864212042448,
           0,
           "v_Future Force - What You Want (Alex Neri Dub Experience).wav",
           "circle",
           "#0044FF"
          ],
          [
           0.534378226144179,
           -0.15850530000025637,
           0,
           "v_Future Force - What You Want (Alex Neri Dub Experience).wav",
           "circle",
           "#0044FF"
          ],
          [
           -0.05919858601102445,
           -0.14603728616014958,
           0,
           "v_Future Force - What You Want (Alex Neri Dub Experience).wav",
           "circle",
           "#0044FF"
          ],
          [
           -0.029323968158826222,
           -0.2960024459702025,
           0,
           "v_Future Force - What You Want (Alex Neri Dub Experience).wav",
           "circle",
           "#0044FF"
          ],
          [
           -0.051260160417830145,
           -0.13817814752094382,
           0,
           "v_Future Force - What You Want (Alex Neri Dub Experience).wav",
           "circle",
           "#0044FF"
          ],
          [
           -0.22892030853608986,
           -0.11209141159988048,
           0,
           "v_Future Force - What You Want (Alex Neri Dub Experience).wav",
           "circle",
           "#0044FF"
          ],
          [
           -0.011672428870707005,
           -0.06542756675132196,
           0,
           "v_Future Force - What You Want (Alex Neri Dub Experience).wav",
           "circle",
           "#0044FF"
          ],
          [
           -0.15828996763440759,
           0.02629030175383842,
           0,
           "v_Future Force - What You Want (Alex Neri Dub Experience).wav",
           "circle",
           "#0044FF"
          ],
          [
           0.08937937523420188,
           0.014288333452014308,
           0,
           "v_Future Force - What You Want (Alex Neri Dub Experience).wav",
           "circle",
           "#0044FF"
          ],
          [
           0.04223292781875341,
           -0.20332504901056211,
           0,
           "v_Future Force - What You Want (Alex Neri Dub Experience).wav",
           "circle",
           "#0044FF"
          ]
         ],
         "hovertemplate": "<b>%{customdata[3]}</b><br>(%{x:.3f},%{y:.3f})<extra>%{customdata[2]}</extra>",
         "marker": {
          "color": [
           "#0044FF",
           "#0044FF",
           "#0044FF",
           "#0044FF",
           "#0044FF",
           "#0044FF",
           "#0044FF",
           "#0044FF",
           "#0044FF",
           "#0044FF",
           "#0044FF",
           "#0044FF"
          ],
          "symbol": [
           "circle",
           "circle",
           "circle",
           "circle",
           "circle",
           "circle",
           "circle",
           "circle",
           "circle",
           "circle",
           "circle",
           "circle"
          ]
         },
         "mode": "markers",
         "name": "24",
         "text": [
          "v_Future Force - What You Want (Alex Neri Dub Experience).wav",
          "v_Future Force - What You Want (Alex Neri Dub Experience).wav",
          "v_Future Force - What You Want (Alex Neri Dub Experience).wav",
          "v_Future Force - What You Want (Alex Neri Dub Experience).wav",
          "v_Future Force - What You Want (Alex Neri Dub Experience).wav",
          "v_Future Force - What You Want (Alex Neri Dub Experience).wav",
          "v_Future Force - What You Want (Alex Neri Dub Experience).wav",
          "v_Future Force - What You Want (Alex Neri Dub Experience).wav",
          "v_Future Force - What You Want (Alex Neri Dub Experience).wav",
          "v_Future Force - What You Want (Alex Neri Dub Experience).wav",
          "v_Future Force - What You Want (Alex Neri Dub Experience).wav",
          "v_Future Force - What You Want (Alex Neri Dub Experience).wav"
         ],
         "type": "scatter",
         "x": [
          -0.09144068626166027,
          -0.26054387306210935,
          -0.176429124729526,
          0.534378226144179,
          -0.05919858601102445,
          -0.029323968158826222,
          -0.051260160417830145,
          -0.22892030853608986,
          -0.011672428870707005,
          -0.15828996763440759,
          0.08937937523420188,
          0.04223292781875341
         ],
         "y": [
          -0.297966213516242,
          0.2267065285854151,
          0.23790864212042448,
          -0.15850530000025637,
          -0.14603728616014958,
          -0.2960024459702025,
          -0.13817814752094382,
          -0.11209141159988048,
          -0.06542756675132196,
          0.02629030175383842,
          0.014288333452014308,
          -0.20332504901056211
         ]
        },
        {
         "customdata": [
          [
           -0.16240093214556495,
           0.04598237884190034,
           3,
           "v_Future Force - What You Want (Karmasutra Funky Express).wav",
           "circle",
           "#6b1075"
          ],
          [
           -0.218624194153118,
           -0.0811049187204623,
           3,
           "v_Future Force - What You Want (Karmasutra Funky Express).wav",
           "circle",
           "#6b1075"
          ],
          [
           -0.19188214762193656,
           -0.2815902908000729,
           3,
           "v_Future Force - What You Want (Karmasutra Funky Express).wav",
           "circle",
           "#6b1075"
          ],
          [
           0.26800140017857743,
           -0.16106038897515906,
           3,
           "v_Future Force - What You Want (Karmasutra Funky Express).wav",
           "circle",
           "#6b1075"
          ],
          [
           0.5046436664969043,
           0.716591385863138,
           3,
           "v_Future Force - What You Want (Karmasutra Funky Express).wav",
           "circle",
           "#6b1075"
          ],
          [
           0.2248173900207766,
           -0.2584474625716527,
           3,
           "v_Future Force - What You Want (Karmasutra Funky Express).wav",
           "circle",
           "#6b1075"
          ],
          [
           0.11569179140428215,
           0.24718991447741973,
           3,
           "v_Future Force - What You Want (Karmasutra Funky Express).wav",
           "circle",
           "#6b1075"
          ],
          [
           0.5972524380503152,
           0.6620896990274422,
           3,
           "v_Future Force - What You Want (Karmasutra Funky Express).wav",
           "circle",
           "#6b1075"
          ],
          [
           0.22453296591153957,
           -0.1711839200615904,
           3,
           "v_Future Force - What You Want (Karmasutra Funky Express).wav",
           "circle",
           "#6b1075"
          ],
          [
           -0.33580328859977876,
           -0.18500590552784116,
           3,
           "v_Future Force - What You Want (Karmasutra Funky Express).wav",
           "circle",
           "#6b1075"
          ],
          [
           -0.03773284980475519,
           -0.3078864878993876,
           3,
           "v_Future Force - What You Want (Karmasutra Funky Express).wav",
           "circle",
           "#6b1075"
          ],
          [
           0.06384916638054225,
           -0.18421395898890558,
           3,
           "v_Future Force - What You Want (Karmasutra Funky Express).wav",
           "circle",
           "#6b1075"
          ]
         ],
         "hovertemplate": "<b>%{customdata[3]}</b><br>(%{x:.3f},%{y:.3f})<extra>%{customdata[2]}</extra>",
         "marker": {
          "color": [
           "#6b1075",
           "#6b1075",
           "#6b1075",
           "#6b1075",
           "#6b1075",
           "#6b1075",
           "#6b1075",
           "#6b1075",
           "#6b1075",
           "#6b1075",
           "#6b1075",
           "#6b1075"
          ],
          "symbol": [
           "circle",
           "circle",
           "circle",
           "circle",
           "circle",
           "circle",
           "circle",
           "circle",
           "circle",
           "circle",
           "circle",
           "circle"
          ]
         },
         "mode": "markers",
         "name": "25",
         "text": [
          "v_Future Force - What You Want (Karmasutra Funky Express).wav",
          "v_Future Force - What You Want (Karmasutra Funky Express).wav",
          "v_Future Force - What You Want (Karmasutra Funky Express).wav",
          "v_Future Force - What You Want (Karmasutra Funky Express).wav",
          "v_Future Force - What You Want (Karmasutra Funky Express).wav",
          "v_Future Force - What You Want (Karmasutra Funky Express).wav",
          "v_Future Force - What You Want (Karmasutra Funky Express).wav",
          "v_Future Force - What You Want (Karmasutra Funky Express).wav",
          "v_Future Force - What You Want (Karmasutra Funky Express).wav",
          "v_Future Force - What You Want (Karmasutra Funky Express).wav",
          "v_Future Force - What You Want (Karmasutra Funky Express).wav",
          "v_Future Force - What You Want (Karmasutra Funky Express).wav"
         ],
         "type": "scatter",
         "x": [
          -0.16240093214556495,
          -0.218624194153118,
          -0.19188214762193656,
          0.26800140017857743,
          0.5046436664969043,
          0.2248173900207766,
          0.11569179140428215,
          0.5972524380503152,
          0.22453296591153957,
          -0.33580328859977876,
          -0.03773284980475519,
          0.06384916638054225
         ],
         "y": [
          0.04598237884190034,
          -0.0811049187204623,
          -0.2815902908000729,
          -0.16106038897515906,
          0.716591385863138,
          -0.2584474625716527,
          0.24718991447741973,
          0.6620896990274422,
          -0.1711839200615904,
          -0.18500590552784116,
          -0.3078864878993876,
          -0.18421395898890558
         ]
        },
        {
         "customdata": [
          [
           -0.7509636772303837,
           0.3089156622503182,
           1,
           "v_Future Force - What You Want (Mark!'s Epic Vocal).wav",
           "circle",
           "#751017"
          ],
          [
           -0.3671806791369792,
           0.3503058569215429,
           1,
           "v_Future Force - What You Want (Mark!'s Epic Vocal).wav",
           "circle",
           "#751017"
          ],
          [
           0.5128718817738983,
           -0.10289179947107427,
           1,
           "v_Future Force - What You Want (Mark!'s Epic Vocal).wav",
           "circle",
           "#751017"
          ],
          [
           0.009562359331349432,
           -0.5234435677499487,
           1,
           "v_Future Force - What You Want (Mark!'s Epic Vocal).wav",
           "circle",
           "#751017"
          ],
          [
           0.04230632429537842,
           -0.10141632050530532,
           1,
           "v_Future Force - What You Want (Mark!'s Epic Vocal).wav",
           "circle",
           "#751017"
          ],
          [
           0.0931392996182487,
           -0.11762501760490428,
           1,
           "v_Future Force - What You Want (Mark!'s Epic Vocal).wav",
           "circle",
           "#751017"
          ],
          [
           -0.013277165072586257,
           -0.11143690832877862,
           1,
           "v_Future Force - What You Want (Mark!'s Epic Vocal).wav",
           "circle",
           "#751017"
          ],
          [
           -0.039892445226638325,
           -0.3383331551491162,
           1,
           "v_Future Force - What You Want (Mark!'s Epic Vocal).wav",
           "circle",
           "#751017"
          ],
          [
           -0.052006066883052086,
           -0.09606734111859061,
           1,
           "v_Future Force - What You Want (Mark!'s Epic Vocal).wav",
           "circle",
           "#751017"
          ],
          [
           0.6970571238063892,
           -0.25641551585174954,
           1,
           "v_Future Force - What You Want (Mark!'s Epic Vocal).wav",
           "circle",
           "#751017"
          ],
          [
           -0.11502396496027213,
           -0.022134767099901632,
           1,
           "v_Future Force - What You Want (Mark!'s Epic Vocal).wav",
           "circle",
           "#751017"
          ],
          [
           0.4818346964070586,
           -0.14422667033359834,
           1,
           "v_Future Force - What You Want (Mark!'s Epic Vocal).wav",
           "circle",
           "#751017"
          ],
          [
           0.08923212018472162,
           -0.09051519244452816,
           1,
           "v_Future Force - What You Want (Mark!'s Epic Vocal).wav",
           "circle",
           "#751017"
          ]
         ],
         "hovertemplate": "<b>%{customdata[3]}</b><br>(%{x:.3f},%{y:.3f})<extra>%{customdata[2]}</extra>",
         "marker": {
          "color": [
           "#751017",
           "#751017",
           "#751017",
           "#751017",
           "#751017",
           "#751017",
           "#751017",
           "#751017",
           "#751017",
           "#751017",
           "#751017",
           "#751017",
           "#751017"
          ],
          "symbol": [
           "circle",
           "circle",
           "circle",
           "circle",
           "circle",
           "circle",
           "circle",
           "circle",
           "circle",
           "circle",
           "circle",
           "circle",
           "circle"
          ]
         },
         "mode": "markers",
         "name": "26",
         "text": [
          "v_Future Force - What You Want (Mark!'s Epic Vocal).wav",
          "v_Future Force - What You Want (Mark!'s Epic Vocal).wav",
          "v_Future Force - What You Want (Mark!'s Epic Vocal).wav",
          "v_Future Force - What You Want (Mark!'s Epic Vocal).wav",
          "v_Future Force - What You Want (Mark!'s Epic Vocal).wav",
          "v_Future Force - What You Want (Mark!'s Epic Vocal).wav",
          "v_Future Force - What You Want (Mark!'s Epic Vocal).wav",
          "v_Future Force - What You Want (Mark!'s Epic Vocal).wav",
          "v_Future Force - What You Want (Mark!'s Epic Vocal).wav",
          "v_Future Force - What You Want (Mark!'s Epic Vocal).wav",
          "v_Future Force - What You Want (Mark!'s Epic Vocal).wav",
          "v_Future Force - What You Want (Mark!'s Epic Vocal).wav",
          "v_Future Force - What You Want (Mark!'s Epic Vocal).wav"
         ],
         "type": "scatter",
         "x": [
          -0.7509636772303837,
          -0.3671806791369792,
          0.5128718817738983,
          0.009562359331349432,
          0.04230632429537842,
          0.0931392996182487,
          -0.013277165072586257,
          -0.039892445226638325,
          -0.052006066883052086,
          0.6970571238063892,
          -0.11502396496027213,
          0.4818346964070586,
          0.08923212018472162
         ],
         "y": [
          0.3089156622503182,
          0.3503058569215429,
          -0.10289179947107427,
          -0.5234435677499487,
          -0.10141632050530532,
          -0.11762501760490428,
          -0.11143690832877862,
          -0.3383331551491162,
          -0.09606734111859061,
          -0.25641551585174954,
          -0.022134767099901632,
          -0.14422667033359834,
          -0.09051519244452816
         ]
        },
        {
         "customdata": [
          [
           0.05976517415067634,
           -0.06606697069467188,
           3,
           "v_Future Force - What You Want (Mark!'s Massive Vocal).wav",
           "circle",
           "#6b1075"
          ],
          [
           0.017747724416537308,
           -0.118896311095844,
           3,
           "v_Future Force - What You Want (Mark!'s Massive Vocal).wav",
           "circle",
           "#6b1075"
          ],
          [
           0.03294074623634598,
           -0.04619748773205886,
           3,
           "v_Future Force - What You Want (Mark!'s Massive Vocal).wav",
           "circle",
           "#6b1075"
          ],
          [
           0.008604268148936004,
           -0.2542066904698662,
           3,
           "v_Future Force - What You Want (Mark!'s Massive Vocal).wav",
           "circle",
           "#6b1075"
          ],
          [
           -0.29492103459844876,
           -0.2663099009037166,
           3,
           "v_Future Force - What You Want (Mark!'s Massive Vocal).wav",
           "circle",
           "#6b1075"
          ],
          [
           0.12902285797217064,
           -0.3000641351001804,
           3,
           "v_Future Force - What You Want (Mark!'s Massive Vocal).wav",
           "circle",
           "#6b1075"
          ],
          [
           0.04060182199341334,
           -0.0968458394890252,
           3,
           "v_Future Force - What You Want (Mark!'s Massive Vocal).wav",
           "circle",
           "#6b1075"
          ],
          [
           0.06024789608941834,
           0.5191006266499244,
           3,
           "v_Future Force - What You Want (Mark!'s Massive Vocal).wav",
           "circle",
           "#6b1075"
          ],
          [
           0.11923090731638247,
           -0.11434455521686955,
           3,
           "v_Future Force - What You Want (Mark!'s Massive Vocal).wav",
           "circle",
           "#6b1075"
          ],
          [
           0.10114997623410713,
           -0.11400991291655618,
           3,
           "v_Future Force - What You Want (Mark!'s Massive Vocal).wav",
           "circle",
           "#6b1075"
          ],
          [
           -0.132358938594678,
           0.4887899453395263,
           3,
           "v_Future Force - What You Want (Mark!'s Massive Vocal).wav",
           "circle",
           "#6b1075"
          ],
          [
           -0.025017709227808195,
           -0.27803278156033623,
           3,
           "v_Future Force - What You Want (Mark!'s Massive Vocal).wav",
           "circle",
           "#6b1075"
          ],
          [
           -0.17526019656156866,
           0.05663302845566715,
           3,
           "v_Future Force - What You Want (Mark!'s Massive Vocal).wav",
           "circle",
           "#6b1075"
          ],
          [
           0.3471125360422826,
           -0.2687538260615061,
           3,
           "v_Future Force - What You Want (Mark!'s Massive Vocal).wav",
           "circle",
           "#6b1075"
          ],
          [
           0.08470183767310685,
           0.02929061818928457,
           3,
           "v_Future Force - What You Want (Mark!'s Massive Vocal).wav",
           "circle",
           "#6b1075"
          ],
          [
           -0.19511537864488404,
           -0.12971452939437414,
           3,
           "v_Future Force - What You Want (Mark!'s Massive Vocal).wav",
           "circle",
           "#6b1075"
          ],
          [
           -0.3008807581349237,
           0.3231091026936753,
           3,
           "v_Future Force - What You Want (Mark!'s Massive Vocal).wav",
           "circle",
           "#6b1075"
          ],
          [
           0.3769305299021617,
           -0.06996993736748172,
           3,
           "v_Future Force - What You Want (Mark!'s Massive Vocal).wav",
           "circle",
           "#6b1075"
          ]
         ],
         "hovertemplate": "<b>%{customdata[3]}</b><br>(%{x:.3f},%{y:.3f})<extra>%{customdata[2]}</extra>",
         "marker": {
          "color": [
           "#6b1075",
           "#6b1075",
           "#6b1075",
           "#6b1075",
           "#6b1075",
           "#6b1075",
           "#6b1075",
           "#6b1075",
           "#6b1075",
           "#6b1075",
           "#6b1075",
           "#6b1075",
           "#6b1075",
           "#6b1075",
           "#6b1075",
           "#6b1075",
           "#6b1075",
           "#6b1075"
          ],
          "symbol": [
           "circle",
           "circle",
           "circle",
           "circle",
           "circle",
           "circle",
           "circle",
           "circle",
           "circle",
           "circle",
           "circle",
           "circle",
           "circle",
           "circle",
           "circle",
           "circle",
           "circle",
           "circle"
          ]
         },
         "mode": "markers",
         "name": "27",
         "text": [
          "v_Future Force - What You Want (Mark!'s Massive Vocal).wav",
          "v_Future Force - What You Want (Mark!'s Massive Vocal).wav",
          "v_Future Force - What You Want (Mark!'s Massive Vocal).wav",
          "v_Future Force - What You Want (Mark!'s Massive Vocal).wav",
          "v_Future Force - What You Want (Mark!'s Massive Vocal).wav",
          "v_Future Force - What You Want (Mark!'s Massive Vocal).wav",
          "v_Future Force - What You Want (Mark!'s Massive Vocal).wav",
          "v_Future Force - What You Want (Mark!'s Massive Vocal).wav",
          "v_Future Force - What You Want (Mark!'s Massive Vocal).wav",
          "v_Future Force - What You Want (Mark!'s Massive Vocal).wav",
          "v_Future Force - What You Want (Mark!'s Massive Vocal).wav",
          "v_Future Force - What You Want (Mark!'s Massive Vocal).wav",
          "v_Future Force - What You Want (Mark!'s Massive Vocal).wav",
          "v_Future Force - What You Want (Mark!'s Massive Vocal).wav",
          "v_Future Force - What You Want (Mark!'s Massive Vocal).wav",
          "v_Future Force - What You Want (Mark!'s Massive Vocal).wav",
          "v_Future Force - What You Want (Mark!'s Massive Vocal).wav",
          "v_Future Force - What You Want (Mark!'s Massive Vocal).wav"
         ],
         "type": "scatter",
         "x": [
          0.05976517415067634,
          0.017747724416537308,
          0.03294074623634598,
          0.008604268148936004,
          -0.29492103459844876,
          0.12902285797217064,
          0.04060182199341334,
          0.06024789608941834,
          0.11923090731638247,
          0.10114997623410713,
          -0.132358938594678,
          -0.025017709227808195,
          -0.17526019656156866,
          0.3471125360422826,
          0.08470183767310685,
          -0.19511537864488404,
          -0.3008807581349237,
          0.3769305299021617
         ],
         "y": [
          -0.06606697069467188,
          -0.118896311095844,
          -0.04619748773205886,
          -0.2542066904698662,
          -0.2663099009037166,
          -0.3000641351001804,
          -0.0968458394890252,
          0.5191006266499244,
          -0.11434455521686955,
          -0.11400991291655618,
          0.4887899453395263,
          -0.27803278156033623,
          0.05663302845566715,
          -0.2687538260615061,
          0.02929061818928457,
          -0.12971452939437414,
          0.3231091026936753,
          -0.06996993736748172
         ]
        },
        {
         "customdata": [
          [
           0.1317842137549777,
           -0.038642588902725,
           3,
           "v_Future Force - What You Want (Richie Jones Club Mix).wav",
           "circle",
           "#6b1075"
          ],
          [
           -0.15056499940351975,
           -0.029787017549786722,
           3,
           "v_Future Force - What You Want (Richie Jones Club Mix).wav",
           "circle",
           "#6b1075"
          ],
          [
           -0.038081388557265505,
           0.2328853390226196,
           3,
           "v_Future Force - What You Want (Richie Jones Club Mix).wav",
           "circle",
           "#6b1075"
          ],
          [
           -0.20544042090954348,
           -0.05768329405408162,
           3,
           "v_Future Force - What You Want (Richie Jones Club Mix).wav",
           "circle",
           "#6b1075"
          ],
          [
           -0.18055591491654518,
           -0.35363026747302306,
           3,
           "v_Future Force - What You Want (Richie Jones Club Mix).wav",
           "circle",
           "#6b1075"
          ],
          [
           -0.2929401770505685,
           -0.21337055155016185,
           3,
           "v_Future Force - What You Want (Richie Jones Club Mix).wav",
           "circle",
           "#6b1075"
          ],
          [
           0.2305438060487891,
           -0.03650940932465289,
           3,
           "v_Future Force - What You Want (Richie Jones Club Mix).wav",
           "circle",
           "#6b1075"
          ],
          [
           -0.16714490907416285,
           0.0981900486579816,
           3,
           "v_Future Force - What You Want (Richie Jones Club Mix).wav",
           "circle",
           "#6b1075"
          ],
          [
           -0.0005131284376953003,
           -0.12008044503905119,
           3,
           "v_Future Force - What You Want (Richie Jones Club Mix).wav",
           "circle",
           "#6b1075"
          ],
          [
           -0.18307745478331347,
           -0.4656799334964839,
           3,
           "v_Future Force - What You Want (Richie Jones Club Mix).wav",
           "circle",
           "#6b1075"
          ],
          [
           -0.12065607356253828,
           0.09540169944121721,
           3,
           "v_Future Force - What You Want (Richie Jones Club Mix).wav",
           "circle",
           "#6b1075"
          ],
          [
           -0.10977943514436783,
           0.3764737994042077,
           3,
           "v_Future Force - What You Want (Richie Jones Club Mix).wav",
           "circle",
           "#6b1075"
          ],
          [
           -0.10138466645875942,
           -0.1440598691443358,
           3,
           "v_Future Force - What You Want (Richie Jones Club Mix).wav",
           "circle",
           "#6b1075"
          ]
         ],
         "hovertemplate": "<b>%{customdata[3]}</b><br>(%{x:.3f},%{y:.3f})<extra>%{customdata[2]}</extra>",
         "marker": {
          "color": [
           "#6b1075",
           "#6b1075",
           "#6b1075",
           "#6b1075",
           "#6b1075",
           "#6b1075",
           "#6b1075",
           "#6b1075",
           "#6b1075",
           "#6b1075",
           "#6b1075",
           "#6b1075",
           "#6b1075"
          ],
          "symbol": [
           "circle",
           "circle",
           "circle",
           "circle",
           "circle",
           "circle",
           "circle",
           "circle",
           "circle",
           "circle",
           "circle",
           "circle",
           "circle"
          ]
         },
         "mode": "markers",
         "name": "28",
         "text": [
          "v_Future Force - What You Want (Richie Jones Club Mix).wav",
          "v_Future Force - What You Want (Richie Jones Club Mix).wav",
          "v_Future Force - What You Want (Richie Jones Club Mix).wav",
          "v_Future Force - What You Want (Richie Jones Club Mix).wav",
          "v_Future Force - What You Want (Richie Jones Club Mix).wav",
          "v_Future Force - What You Want (Richie Jones Club Mix).wav",
          "v_Future Force - What You Want (Richie Jones Club Mix).wav",
          "v_Future Force - What You Want (Richie Jones Club Mix).wav",
          "v_Future Force - What You Want (Richie Jones Club Mix).wav",
          "v_Future Force - What You Want (Richie Jones Club Mix).wav",
          "v_Future Force - What You Want (Richie Jones Club Mix).wav",
          "v_Future Force - What You Want (Richie Jones Club Mix).wav",
          "v_Future Force - What You Want (Richie Jones Club Mix).wav"
         ],
         "type": "scatter",
         "x": [
          0.1317842137549777,
          -0.15056499940351975,
          -0.038081388557265505,
          -0.20544042090954348,
          -0.18055591491654518,
          -0.2929401770505685,
          0.2305438060487891,
          -0.16714490907416285,
          -0.0005131284376953003,
          -0.18307745478331347,
          -0.12065607356253828,
          -0.10977943514436783,
          -0.10138466645875942
         ],
         "y": [
          -0.038642588902725,
          -0.029787017549786722,
          0.2328853390226196,
          -0.05768329405408162,
          -0.35363026747302306,
          -0.21337055155016185,
          -0.03650940932465289,
          0.0981900486579816,
          -0.12008044503905119,
          -0.4656799334964839,
          0.09540169944121721,
          0.3764737994042077,
          -0.1440598691443358
         ]
        },
        {
         "customdata": [
          [
           0.13506981922406097,
           -0.302039319836954,
           2,
           "v_Future Force - What You Want (Richie Jones Dub).wav",
           "circle",
           "#48a832"
          ],
          [
           -0.23714441536185576,
           -0.24423837592429123,
           2,
           "v_Future Force - What You Want (Richie Jones Dub).wav",
           "circle",
           "#48a832"
          ],
          [
           -0.08260244190931479,
           -0.14664657006389442,
           2,
           "v_Future Force - What You Want (Richie Jones Dub).wav",
           "circle",
           "#48a832"
          ],
          [
           0.017682947917813444,
           -0.11624531437268766,
           2,
           "v_Future Force - What You Want (Richie Jones Dub).wav",
           "circle",
           "#48a832"
          ],
          [
           -0.2125056069069177,
           0.20887253467811834,
           2,
           "v_Future Force - What You Want (Richie Jones Dub).wav",
           "circle",
           "#48a832"
          ],
          [
           0.028365112938317085,
           -0.16492264726222575,
           2,
           "v_Future Force - What You Want (Richie Jones Dub).wav",
           "circle",
           "#48a832"
          ],
          [
           -0.0304563411870366,
           0.17258523907443032,
           2,
           "v_Future Force - What You Want (Richie Jones Dub).wav",
           "circle",
           "#48a832"
          ],
          [
           -0.13657839510201117,
           0.039452639551779356,
           2,
           "v_Future Force - What You Want (Richie Jones Dub).wav",
           "circle",
           "#48a832"
          ],
          [
           -0.44180965710831827,
           -0.045085355779877816,
           2,
           "v_Future Force - What You Want (Richie Jones Dub).wav",
           "circle",
           "#48a832"
          ]
         ],
         "hovertemplate": "<b>%{customdata[3]}</b><br>(%{x:.3f},%{y:.3f})<extra>%{customdata[2]}</extra>",
         "marker": {
          "color": [
           "#48a832",
           "#48a832",
           "#48a832",
           "#48a832",
           "#48a832",
           "#48a832",
           "#48a832",
           "#48a832",
           "#48a832"
          ],
          "symbol": [
           "circle",
           "circle",
           "circle",
           "circle",
           "circle",
           "circle",
           "circle",
           "circle",
           "circle"
          ]
         },
         "mode": "markers",
         "name": "29",
         "text": [
          "v_Future Force - What You Want (Richie Jones Dub).wav",
          "v_Future Force - What You Want (Richie Jones Dub).wav",
          "v_Future Force - What You Want (Richie Jones Dub).wav",
          "v_Future Force - What You Want (Richie Jones Dub).wav",
          "v_Future Force - What You Want (Richie Jones Dub).wav",
          "v_Future Force - What You Want (Richie Jones Dub).wav",
          "v_Future Force - What You Want (Richie Jones Dub).wav",
          "v_Future Force - What You Want (Richie Jones Dub).wav",
          "v_Future Force - What You Want (Richie Jones Dub).wav"
         ],
         "type": "scatter",
         "x": [
          0.13506981922406097,
          -0.23714441536185576,
          -0.08260244190931479,
          0.017682947917813444,
          -0.2125056069069177,
          0.028365112938317085,
          -0.0304563411870366,
          -0.13657839510201117,
          -0.44180965710831827
         ],
         "y": [
          -0.302039319836954,
          -0.24423837592429123,
          -0.14664657006389442,
          -0.11624531437268766,
          0.20887253467811834,
          -0.16492264726222575,
          0.17258523907443032,
          0.039452639551779356,
          -0.045085355779877816
         ]
        },
        {
         "customdata": [
          [
           -0.20345532007912795,
           0.2632556059316813,
           1,
           "v_Future Force - What You Want (Rim Job Dub).wav",
           "circle",
           "#751017"
          ],
          [
           0.08648711051572716,
           0.13368256984181423,
           1,
           "v_Future Force - What You Want (Rim Job Dub).wav",
           "circle",
           "#751017"
          ],
          [
           0.1147357086474196,
           0.18158915017223418,
           1,
           "v_Future Force - What You Want (Rim Job Dub).wav",
           "circle",
           "#751017"
          ],
          [
           -0.3460767888901223,
           0.3374575160085024,
           1,
           "v_Future Force - What You Want (Rim Job Dub).wav",
           "circle",
           "#751017"
          ],
          [
           0.3732326037890649,
           0.3020327188905881,
           1,
           "v_Future Force - What You Want (Rim Job Dub).wav",
           "circle",
           "#751017"
          ]
         ],
         "hovertemplate": "<b>%{customdata[3]}</b><br>(%{x:.3f},%{y:.3f})<extra>%{customdata[2]}</extra>",
         "marker": {
          "color": [
           "#751017",
           "#751017",
           "#751017",
           "#751017",
           "#751017"
          ],
          "symbol": [
           "circle",
           "circle",
           "circle",
           "circle",
           "circle"
          ]
         },
         "mode": "markers",
         "name": "30",
         "text": [
          "v_Future Force - What You Want (Rim Job Dub).wav",
          "v_Future Force - What You Want (Rim Job Dub).wav",
          "v_Future Force - What You Want (Rim Job Dub).wav",
          "v_Future Force - What You Want (Rim Job Dub).wav",
          "v_Future Force - What You Want (Rim Job Dub).wav"
         ],
         "type": "scatter",
         "x": [
          -0.20345532007912795,
          0.08648711051572716,
          0.1147357086474196,
          -0.3460767888901223,
          0.3732326037890649
         ],
         "y": [
          0.2632556059316813,
          0.13368256984181423,
          0.18158915017223418,
          0.3374575160085024,
          0.3020327188905881
         ]
        },
        {
         "customdata": [
          [
           -0.011219649298171708,
           -0.06491132165457607,
           1,
           "v_PSB - Before (12RDJD 6431 A).wav",
           "circle",
           "#751017"
          ],
          [
           -0.21219260903560158,
           0.03771350129358066,
           1,
           "v_PSB - Before (12RDJD 6431 A).wav",
           "circle",
           "#751017"
          ],
          [
           0.046976744301970755,
           -0.06214908135131451,
           1,
           "v_PSB - Before (12RDJD 6431 A).wav",
           "circle",
           "#751017"
          ],
          [
           -0.8278461538685518,
           0.26938987800806685,
           1,
           "v_PSB - Before (12RDJD 6431 A).wav",
           "circle",
           "#751017"
          ],
          [
           -0.22365365735769935,
           -0.22977276890803738,
           1,
           "v_PSB - Before (12RDJD 6431 A).wav",
           "circle",
           "#751017"
          ],
          [
           0.03271026926148122,
           -0.0724743918601422,
           1,
           "v_PSB - Before (12RDJD 6431 A).wav",
           "circle",
           "#751017"
          ],
          [
           -0.2165746671265789,
           0.5426093989583961,
           1,
           "v_PSB - Before (12RDJD 6431 A).wav",
           "circle",
           "#751017"
          ],
          [
           0.44425095326135283,
           0.4769087751576573,
           1,
           "v_PSB - Before (12RDJD 6431 A).wav",
           "circle",
           "#751017"
          ],
          [
           0.009676601439494933,
           -0.15478381024593096,
           1,
           "v_PSB - Before (12RDJD 6431 A).wav",
           "circle",
           "#751017"
          ],
          [
           -0.3376108701773573,
           0.3966077993163954,
           1,
           "v_PSB - Before (12RDJD 6431 A).wav",
           "circle",
           "#751017"
          ]
         ],
         "hovertemplate": "<b>%{customdata[3]}</b><br>(%{x:.3f},%{y:.3f})<extra>%{customdata[2]}</extra>",
         "marker": {
          "color": [
           "#751017",
           "#751017",
           "#751017",
           "#751017",
           "#751017",
           "#751017",
           "#751017",
           "#751017",
           "#751017",
           "#751017"
          ],
          "symbol": [
           "circle",
           "circle",
           "circle",
           "circle",
           "circle",
           "circle",
           "circle",
           "circle",
           "circle",
           "circle"
          ]
         },
         "mode": "markers",
         "name": "31",
         "text": [
          "v_PSB - Before (12RDJD 6431 A).wav",
          "v_PSB - Before (12RDJD 6431 A).wav",
          "v_PSB - Before (12RDJD 6431 A).wav",
          "v_PSB - Before (12RDJD 6431 A).wav",
          "v_PSB - Before (12RDJD 6431 A).wav",
          "v_PSB - Before (12RDJD 6431 A).wav",
          "v_PSB - Before (12RDJD 6431 A).wav",
          "v_PSB - Before (12RDJD 6431 A).wav",
          "v_PSB - Before (12RDJD 6431 A).wav",
          "v_PSB - Before (12RDJD 6431 A).wav"
         ],
         "type": "scatter",
         "x": [
          -0.011219649298171708,
          -0.21219260903560158,
          0.046976744301970755,
          -0.8278461538685518,
          -0.22365365735769935,
          0.03271026926148122,
          -0.2165746671265789,
          0.44425095326135283,
          0.009676601439494933,
          -0.3376108701773573
         ],
         "y": [
          -0.06491132165457607,
          0.03771350129358066,
          -0.06214908135131451,
          0.26938987800806685,
          -0.22977276890803738,
          -0.0724743918601422,
          0.5426093989583961,
          0.4769087751576573,
          -0.15478381024593096,
          0.3966077993163954
         ]
        },
        {
         "customdata": [
          [
           0.03087569259515593,
           -0.16570044282033128,
           1,
           "v_PSB - Before (12RDJD 6431 B).wav",
           "circle",
           "#751017"
          ],
          [
           0.30830596712664277,
           -0.2042677638011252,
           1,
           "v_PSB - Before (12RDJD 6431 B).wav",
           "circle",
           "#751017"
          ],
          [
           -0.15456284926574174,
           0.07762569016648191,
           1,
           "v_PSB - Before (12RDJD 6431 B).wav",
           "circle",
           "#751017"
          ],
          [
           -0.3915244631125185,
           -0.2559489096208408,
           1,
           "v_PSB - Before (12RDJD 6431 B).wav",
           "circle",
           "#751017"
          ],
          [
           -0.4635107896740161,
           -0.09318727615656551,
           1,
           "v_PSB - Before (12RDJD 6431 B).wav",
           "circle",
           "#751017"
          ],
          [
           0.0679307311397896,
           -0.132927152736523,
           1,
           "v_PSB - Before (12RDJD 6431 B).wav",
           "circle",
           "#751017"
          ],
          [
           0.023860068386741623,
           -0.09663556561190909,
           1,
           "v_PSB - Before (12RDJD 6431 B).wav",
           "circle",
           "#751017"
          ],
          [
           -0.16858434599196787,
           -0.20035608231048252,
           1,
           "v_PSB - Before (12RDJD 6431 B).wav",
           "circle",
           "#751017"
          ],
          [
           0.7305807958226822,
           0.8999985511294059,
           1,
           "v_PSB - Before (12RDJD 6431 B).wav",
           "circle",
           "#751017"
          ],
          [
           0.1430005181918958,
           -0.31443553072544916,
           1,
           "v_PSB - Before (12RDJD 6431 B).wav",
           "circle",
           "#751017"
          ],
          [
           0.7143726643916681,
           0.07794368970545776,
           1,
           "v_PSB - Before (12RDJD 6431 B).wav",
           "circle",
           "#751017"
          ],
          [
           -0.0846667264880219,
           -0.02822003110046203,
           1,
           "v_PSB - Before (12RDJD 6431 B).wav",
           "circle",
           "#751017"
          ],
          [
           -0.06601037235975206,
           -0.1965271107219688,
           1,
           "v_PSB - Before (12RDJD 6431 B).wav",
           "circle",
           "#751017"
          ]
         ],
         "hovertemplate": "<b>%{customdata[3]}</b><br>(%{x:.3f},%{y:.3f})<extra>%{customdata[2]}</extra>",
         "marker": {
          "color": [
           "#751017",
           "#751017",
           "#751017",
           "#751017",
           "#751017",
           "#751017",
           "#751017",
           "#751017",
           "#751017",
           "#751017",
           "#751017",
           "#751017",
           "#751017"
          ],
          "symbol": [
           "circle",
           "circle",
           "circle",
           "circle",
           "circle",
           "circle",
           "circle",
           "circle",
           "circle",
           "circle",
           "circle",
           "circle",
           "circle"
          ]
         },
         "mode": "markers",
         "name": "32",
         "text": [
          "v_PSB - Before (12RDJD 6431 B).wav",
          "v_PSB - Before (12RDJD 6431 B).wav",
          "v_PSB - Before (12RDJD 6431 B).wav",
          "v_PSB - Before (12RDJD 6431 B).wav",
          "v_PSB - Before (12RDJD 6431 B).wav",
          "v_PSB - Before (12RDJD 6431 B).wav",
          "v_PSB - Before (12RDJD 6431 B).wav",
          "v_PSB - Before (12RDJD 6431 B).wav",
          "v_PSB - Before (12RDJD 6431 B).wav",
          "v_PSB - Before (12RDJD 6431 B).wav",
          "v_PSB - Before (12RDJD 6431 B).wav",
          "v_PSB - Before (12RDJD 6431 B).wav",
          "v_PSB - Before (12RDJD 6431 B).wav"
         ],
         "type": "scatter",
         "x": [
          0.03087569259515593,
          0.30830596712664277,
          -0.15456284926574174,
          -0.3915244631125185,
          -0.4635107896740161,
          0.0679307311397896,
          0.023860068386741623,
          -0.16858434599196787,
          0.7305807958226822,
          0.1430005181918958,
          0.7143726643916681,
          -0.0846667264880219,
          -0.06601037235975206
         ],
         "y": [
          -0.16570044282033128,
          -0.2042677638011252,
          0.07762569016648191,
          -0.2559489096208408,
          -0.09318727615656551,
          -0.132927152736523,
          -0.09663556561190909,
          -0.20035608231048252,
          0.8999985511294059,
          -0.31443553072544916,
          0.07794368970545776,
          -0.02822003110046203,
          -0.1965271107219688
         ]
        },
        {
         "customdata": [
          [
           0.043491148693629626,
           0.3703815036707273,
           0,
           "v_PSB - Before (12RDJD 6431 C1).wav",
           "circle",
           "#0044FF"
          ],
          [
           -0.027314961547288238,
           -0.10647657478821655,
           0,
           "v_PSB - Before (12RDJD 6431 C1).wav",
           "circle",
           "#0044FF"
          ],
          [
           0.36370415499389297,
           -0.10667460121245348,
           0,
           "v_PSB - Before (12RDJD 6431 C1).wav",
           "circle",
           "#0044FF"
          ],
          [
           0.6613855046190927,
           -0.23353079905805169,
           0,
           "v_PSB - Before (12RDJD 6431 C1).wav",
           "circle",
           "#0044FF"
          ],
          [
           0.3449166233590834,
           0.2183218342740129,
           0,
           "v_PSB - Before (12RDJD 6431 C1).wav",
           "circle",
           "#0044FF"
          ],
          [
           -0.287701997011428,
           0.1583927843099122,
           0,
           "v_PSB - Before (12RDJD 6431 C1).wav",
           "circle",
           "#0044FF"
          ],
          [
           -0.16997973551068943,
           -0.05799632393512222,
           0,
           "v_PSB - Before (12RDJD 6431 C1).wav",
           "circle",
           "#0044FF"
          ],
          [
           -0.11066750788196292,
           0.7820089284848626,
           0,
           "v_PSB - Before (12RDJD 6431 C1).wav",
           "circle",
           "#0044FF"
          ],
          [
           -0.08903534916969554,
           -0.12158133281570148,
           0,
           "v_PSB - Before (12RDJD 6431 C1).wav",
           "circle",
           "#0044FF"
          ],
          [
           -0.032265330788574395,
           -0.07406882391999306,
           0,
           "v_PSB - Before (12RDJD 6431 C1).wav",
           "circle",
           "#0044FF"
          ],
          [
           0.6541828024514301,
           -0.06154513634511676,
           0,
           "v_PSB - Before (12RDJD 6431 C1).wav",
           "circle",
           "#0044FF"
          ]
         ],
         "hovertemplate": "<b>%{customdata[3]}</b><br>(%{x:.3f},%{y:.3f})<extra>%{customdata[2]}</extra>",
         "marker": {
          "color": [
           "#0044FF",
           "#0044FF",
           "#0044FF",
           "#0044FF",
           "#0044FF",
           "#0044FF",
           "#0044FF",
           "#0044FF",
           "#0044FF",
           "#0044FF",
           "#0044FF"
          ],
          "symbol": [
           "circle",
           "circle",
           "circle",
           "circle",
           "circle",
           "circle",
           "circle",
           "circle",
           "circle",
           "circle",
           "circle"
          ]
         },
         "mode": "markers",
         "name": "33",
         "text": [
          "v_PSB - Before (12RDJD 6431 C1).wav",
          "v_PSB - Before (12RDJD 6431 C1).wav",
          "v_PSB - Before (12RDJD 6431 C1).wav",
          "v_PSB - Before (12RDJD 6431 C1).wav",
          "v_PSB - Before (12RDJD 6431 C1).wav",
          "v_PSB - Before (12RDJD 6431 C1).wav",
          "v_PSB - Before (12RDJD 6431 C1).wav",
          "v_PSB - Before (12RDJD 6431 C1).wav",
          "v_PSB - Before (12RDJD 6431 C1).wav",
          "v_PSB - Before (12RDJD 6431 C1).wav",
          "v_PSB - Before (12RDJD 6431 C1).wav"
         ],
         "type": "scatter",
         "x": [
          0.043491148693629626,
          -0.027314961547288238,
          0.36370415499389297,
          0.6613855046190927,
          0.3449166233590834,
          -0.287701997011428,
          -0.16997973551068943,
          -0.11066750788196292,
          -0.08903534916969554,
          -0.032265330788574395,
          0.6541828024514301
         ],
         "y": [
          0.3703815036707273,
          -0.10647657478821655,
          -0.10667460121245348,
          -0.23353079905805169,
          0.2183218342740129,
          0.1583927843099122,
          -0.05799632393512222,
          0.7820089284848626,
          -0.12158133281570148,
          -0.07406882391999306,
          -0.06154513634511676
         ]
        },
        {
         "customdata": [
          [
           -0.10117746906692864,
           0.0075733868514490515,
           1,
           "v_PSB - Before (12RDJD 6431 C2).wav",
           "circle",
           "#751017"
          ],
          [
           -0.0008863580236808424,
           -0.019948316815411,
           1,
           "v_PSB - Before (12RDJD 6431 C2).wav",
           "circle",
           "#751017"
          ],
          [
           0.027633038204435488,
           0.16777765711042328,
           1,
           "v_PSB - Before (12RDJD 6431 C2).wav",
           "circle",
           "#751017"
          ],
          [
           0.6221140015224225,
           -0.3036566135691983,
           1,
           "v_PSB - Before (12RDJD 6431 C2).wav",
           "circle",
           "#751017"
          ],
          [
           -0.0415379413157978,
           -0.04334185273102148,
           1,
           "v_PSB - Before (12RDJD 6431 C2).wav",
           "circle",
           "#751017"
          ],
          [
           -0.018742078400433605,
           -0.2007872035078545,
           1,
           "v_PSB - Before (12RDJD 6431 C2).wav",
           "circle",
           "#751017"
          ],
          [
           0.4302631208363917,
           0.7454309367511341,
           1,
           "v_PSB - Before (12RDJD 6431 C2).wav",
           "circle",
           "#751017"
          ],
          [
           0.650107136381637,
           -0.19239322643738324,
           1,
           "v_PSB - Before (12RDJD 6431 C2).wav",
           "circle",
           "#751017"
          ]
         ],
         "hovertemplate": "<b>%{customdata[3]}</b><br>(%{x:.3f},%{y:.3f})<extra>%{customdata[2]}</extra>",
         "marker": {
          "color": [
           "#751017",
           "#751017",
           "#751017",
           "#751017",
           "#751017",
           "#751017",
           "#751017",
           "#751017"
          ],
          "symbol": [
           "circle",
           "circle",
           "circle",
           "circle",
           "circle",
           "circle",
           "circle",
           "circle"
          ]
         },
         "mode": "markers",
         "name": "34",
         "text": [
          "v_PSB - Before (12RDJD 6431 C2).wav",
          "v_PSB - Before (12RDJD 6431 C2).wav",
          "v_PSB - Before (12RDJD 6431 C2).wav",
          "v_PSB - Before (12RDJD 6431 C2).wav",
          "v_PSB - Before (12RDJD 6431 C2).wav",
          "v_PSB - Before (12RDJD 6431 C2).wav",
          "v_PSB - Before (12RDJD 6431 C2).wav",
          "v_PSB - Before (12RDJD 6431 C2).wav"
         ],
         "type": "scatter",
         "x": [
          -0.10117746906692864,
          -0.0008863580236808424,
          0.027633038204435488,
          0.6221140015224225,
          -0.0415379413157978,
          -0.018742078400433605,
          0.4302631208363917,
          0.650107136381637
         ],
         "y": [
          0.0075733868514490515,
          -0.019948316815411,
          0.16777765711042328,
          -0.3036566135691983,
          -0.04334185273102148,
          -0.2007872035078545,
          0.7454309367511341,
          -0.19239322643738324
         ]
        },
        {
         "customdata": [
          [
           0.6453674180219069,
           -0.1675605275241052,
           2,
           "v_PSB - Before (12RDJD 6431 D).wav",
           "circle",
           "#48a832"
          ],
          [
           0.13325758138844546,
           -0.2440021752489748,
           2,
           "v_PSB - Before (12RDJD 6431 D).wav",
           "circle",
           "#48a832"
          ],
          [
           -0.3496815460280463,
           -0.5111695984509576,
           2,
           "v_PSB - Before (12RDJD 6431 D).wav",
           "circle",
           "#48a832"
          ],
          [
           0.3079798226046777,
           -0.21250619128847623,
           2,
           "v_PSB - Before (12RDJD 6431 D).wav",
           "circle",
           "#48a832"
          ],
          [
           -0.011748847443871082,
           -0.1851097058311779,
           2,
           "v_PSB - Before (12RDJD 6431 D).wav",
           "circle",
           "#48a832"
          ],
          [
           -0.12185018412442093,
           -0.05879841654799582,
           2,
           "v_PSB - Before (12RDJD 6431 D).wav",
           "circle",
           "#48a832"
          ],
          [
           -0.061066085220092194,
           -0.003178537269847299,
           2,
           "v_PSB - Before (12RDJD 6431 D).wav",
           "circle",
           "#48a832"
          ],
          [
           -0.13035609386109206,
           0.034803497964782354,
           2,
           "v_PSB - Before (12RDJD 6431 D).wav",
           "circle",
           "#48a832"
          ],
          [
           -0.12932872100158183,
           0.047612763444810684,
           2,
           "v_PSB - Before (12RDJD 6431 D).wav",
           "circle",
           "#48a832"
          ],
          [
           0.3361855193994323,
           -0.1376168279203327,
           2,
           "v_PSB - Before (12RDJD 6431 D).wav",
           "circle",
           "#48a832"
          ],
          [
           0.6619023565243051,
           -0.3396530292815834,
           2,
           "v_PSB - Before (12RDJD 6431 D).wav",
           "circle",
           "#48a832"
          ],
          [
           -0.7371539482875965,
           0.4850721976820964,
           2,
           "v_PSB - Before (12RDJD 6431 D).wav",
           "circle",
           "#48a832"
          ],
          [
           -0.07881866553207897,
           -0.19033845162496482,
           2,
           "v_PSB - Before (12RDJD 6431 D).wav",
           "circle",
           "#48a832"
          ]
         ],
         "hovertemplate": "<b>%{customdata[3]}</b><br>(%{x:.3f},%{y:.3f})<extra>%{customdata[2]}</extra>",
         "marker": {
          "color": [
           "#48a832",
           "#48a832",
           "#48a832",
           "#48a832",
           "#48a832",
           "#48a832",
           "#48a832",
           "#48a832",
           "#48a832",
           "#48a832",
           "#48a832",
           "#48a832",
           "#48a832"
          ],
          "symbol": [
           "circle",
           "circle",
           "circle",
           "circle",
           "circle",
           "circle",
           "circle",
           "circle",
           "circle",
           "circle",
           "circle",
           "circle",
           "circle"
          ]
         },
         "mode": "markers",
         "name": "35",
         "text": [
          "v_PSB - Before (12RDJD 6431 D).wav",
          "v_PSB - Before (12RDJD 6431 D).wav",
          "v_PSB - Before (12RDJD 6431 D).wav",
          "v_PSB - Before (12RDJD 6431 D).wav",
          "v_PSB - Before (12RDJD 6431 D).wav",
          "v_PSB - Before (12RDJD 6431 D).wav",
          "v_PSB - Before (12RDJD 6431 D).wav",
          "v_PSB - Before (12RDJD 6431 D).wav",
          "v_PSB - Before (12RDJD 6431 D).wav",
          "v_PSB - Before (12RDJD 6431 D).wav",
          "v_PSB - Before (12RDJD 6431 D).wav",
          "v_PSB - Before (12RDJD 6431 D).wav",
          "v_PSB - Before (12RDJD 6431 D).wav"
         ],
         "type": "scatter",
         "x": [
          0.6453674180219069,
          0.13325758138844546,
          -0.3496815460280463,
          0.3079798226046777,
          -0.011748847443871082,
          -0.12185018412442093,
          -0.061066085220092194,
          -0.13035609386109206,
          -0.12932872100158183,
          0.3361855193994323,
          0.6619023565243051,
          -0.7371539482875965,
          -0.07881866553207897
         ],
         "y": [
          -0.1675605275241052,
          -0.2440021752489748,
          -0.5111695984509576,
          -0.21250619128847623,
          -0.1851097058311779,
          -0.05879841654799582,
          -0.003178537269847299,
          0.034803497964782354,
          0.047612763444810684,
          -0.1376168279203327,
          -0.3396530292815834,
          0.4850721976820964,
          -0.19033845162496482
         ]
        },
        {
         "customdata": [
          [
           -0.42952398951955795,
           -0.0995687464447702,
           1,
           "v_PSB - Before (8828366 A1).wav",
           "circle",
           "#751017"
          ],
          [
           -0.12858100737469516,
           -0.0277110416436426,
           1,
           "v_PSB - Before (8828366 A1).wav",
           "circle",
           "#751017"
          ],
          [
           0.24301169094744793,
           0.9105325627510047,
           1,
           "v_PSB - Before (8828366 A1).wav",
           "circle",
           "#751017"
          ],
          [
           0.08419102181153237,
           -0.0400532810612271,
           1,
           "v_PSB - Before (8828366 A1).wav",
           "circle",
           "#751017"
          ],
          [
           0.07013294945083313,
           -0.047670249828299815,
           1,
           "v_PSB - Before (8828366 A1).wav",
           "circle",
           "#751017"
          ],
          [
           -0.22924285924966206,
           -0.09803531795906369,
           1,
           "v_PSB - Before (8828366 A1).wav",
           "circle",
           "#751017"
          ]
         ],
         "hovertemplate": "<b>%{customdata[3]}</b><br>(%{x:.3f},%{y:.3f})<extra>%{customdata[2]}</extra>",
         "marker": {
          "color": [
           "#751017",
           "#751017",
           "#751017",
           "#751017",
           "#751017",
           "#751017"
          ],
          "symbol": [
           "circle",
           "circle",
           "circle",
           "circle",
           "circle",
           "circle"
          ]
         },
         "mode": "markers",
         "name": "36",
         "text": [
          "v_PSB - Before (8828366 A1).wav",
          "v_PSB - Before (8828366 A1).wav",
          "v_PSB - Before (8828366 A1).wav",
          "v_PSB - Before (8828366 A1).wav",
          "v_PSB - Before (8828366 A1).wav",
          "v_PSB - Before (8828366 A1).wav"
         ],
         "type": "scatter",
         "x": [
          -0.42952398951955795,
          -0.12858100737469516,
          0.24301169094744793,
          0.08419102181153237,
          0.07013294945083313,
          -0.22924285924966206
         ],
         "y": [
          -0.0995687464447702,
          -0.0277110416436426,
          0.9105325627510047,
          -0.0400532810612271,
          -0.047670249828299815,
          -0.09803531795906369
         ]
        },
        {
         "customdata": [
          [
           -0.031162613436728333,
           0.3191598725754393,
           2,
           "v_PSB - Before (8828366 A2).wav",
           "circle",
           "#48a832"
          ],
          [
           -0.26344063425144054,
           -0.25312444732017336,
           2,
           "v_PSB - Before (8828366 A2).wav",
           "circle",
           "#48a832"
          ],
          [
           0.13897285824326935,
           0.6714214337811764,
           2,
           "v_PSB - Before (8828366 A2).wav",
           "circle",
           "#48a832"
          ],
          [
           -0.3943027776389443,
           -0.13981494552399187,
           2,
           "v_PSB - Before (8828366 A2).wav",
           "circle",
           "#48a832"
          ],
          [
           0.20189554094678427,
           -0.21688264506288807,
           2,
           "v_PSB - Before (8828366 A2).wav",
           "circle",
           "#48a832"
          ],
          [
           -0.5949700437891564,
           0.11970076991181455,
           2,
           "v_PSB - Before (8828366 A2).wav",
           "circle",
           "#48a832"
          ],
          [
           0.09168660261483967,
           -0.06262632321943687,
           2,
           "v_PSB - Before (8828366 A2).wav",
           "circle",
           "#48a832"
          ],
          [
           0.19707721975130962,
           0.5755625657743229,
           2,
           "v_PSB - Before (8828366 A2).wav",
           "circle",
           "#48a832"
          ],
          [
           0.004573431087676164,
           -0.028880685266146698,
           2,
           "v_PSB - Before (8828366 A2).wav",
           "circle",
           "#48a832"
          ],
          [
           -0.0627572777589301,
           0.2728601531025858,
           2,
           "v_PSB - Before (8828366 A2).wav",
           "circle",
           "#48a832"
          ],
          [
           0.16184496044726865,
           -0.2242371585810977,
           2,
           "v_PSB - Before (8828366 A2).wav",
           "circle",
           "#48a832"
          ],
          [
           0.1390951438399337,
           0.5560616764518026,
           2,
           "v_PSB - Before (8828366 A2).wav",
           "circle",
           "#48a832"
          ],
          [
           0.014122867479651718,
           -0.11166044236798975,
           2,
           "v_PSB - Before (8828366 A2).wav",
           "circle",
           "#48a832"
          ],
          [
           0.12969861242792788,
           -0.014756140030522736,
           2,
           "v_PSB - Before (8828366 A2).wav",
           "circle",
           "#48a832"
          ]
         ],
         "hovertemplate": "<b>%{customdata[3]}</b><br>(%{x:.3f},%{y:.3f})<extra>%{customdata[2]}</extra>",
         "marker": {
          "color": [
           "#48a832",
           "#48a832",
           "#48a832",
           "#48a832",
           "#48a832",
           "#48a832",
           "#48a832",
           "#48a832",
           "#48a832",
           "#48a832",
           "#48a832",
           "#48a832",
           "#48a832",
           "#48a832"
          ],
          "symbol": [
           "circle",
           "circle",
           "circle",
           "circle",
           "circle",
           "circle",
           "circle",
           "circle",
           "circle",
           "circle",
           "circle",
           "circle",
           "circle",
           "circle"
          ]
         },
         "mode": "markers",
         "name": "37",
         "text": [
          "v_PSB - Before (8828366 A2).wav",
          "v_PSB - Before (8828366 A2).wav",
          "v_PSB - Before (8828366 A2).wav",
          "v_PSB - Before (8828366 A2).wav",
          "v_PSB - Before (8828366 A2).wav",
          "v_PSB - Before (8828366 A2).wav",
          "v_PSB - Before (8828366 A2).wav",
          "v_PSB - Before (8828366 A2).wav",
          "v_PSB - Before (8828366 A2).wav",
          "v_PSB - Before (8828366 A2).wav",
          "v_PSB - Before (8828366 A2).wav",
          "v_PSB - Before (8828366 A2).wav",
          "v_PSB - Before (8828366 A2).wav",
          "v_PSB - Before (8828366 A2).wav"
         ],
         "type": "scatter",
         "x": [
          -0.031162613436728333,
          -0.26344063425144054,
          0.13897285824326935,
          -0.3943027776389443,
          0.20189554094678427,
          -0.5949700437891564,
          0.09168660261483967,
          0.19707721975130962,
          0.004573431087676164,
          -0.0627572777589301,
          0.16184496044726865,
          0.1390951438399337,
          0.014122867479651718,
          0.12969861242792788
         ],
         "y": [
          0.3191598725754393,
          -0.25312444732017336,
          0.6714214337811764,
          -0.13981494552399187,
          -0.21688264506288807,
          0.11970076991181455,
          -0.06262632321943687,
          0.5755625657743229,
          -0.028880685266146698,
          0.2728601531025858,
          -0.2242371585810977,
          0.5560616764518026,
          -0.11166044236798975,
          -0.014756140030522736
         ]
        },
        {
         "customdata": [
          [
           -0.0323651871580174,
           0.0017063333208224797,
           0,
           "v_PSB - Before (8828366 A3).wav",
           "circle",
           "#0044FF"
          ],
          [
           0.3195111231460485,
           -0.13223472496132516,
           0,
           "v_PSB - Before (8828366 A3).wav",
           "circle",
           "#0044FF"
          ],
          [
           0.6167595126626045,
           -0.18908919059684734,
           0,
           "v_PSB - Before (8828366 A3).wav",
           "circle",
           "#0044FF"
          ],
          [
           0.28753974493667733,
           0.02311488164349225,
           0,
           "v_PSB - Before (8828366 A3).wav",
           "circle",
           "#0044FF"
          ],
          [
           0.21340667083617035,
           -0.3959141157420796,
           0,
           "v_PSB - Before (8828366 A3).wav",
           "circle",
           "#0044FF"
          ],
          [
           0.05117276900366259,
           0.3532299222258789,
           0,
           "v_PSB - Before (8828366 A3).wav",
           "circle",
           "#0044FF"
          ],
          [
           -0.11432873884250508,
           -0.0711200287629308,
           0,
           "v_PSB - Before (8828366 A3).wav",
           "circle",
           "#0044FF"
          ],
          [
           -0.09899922656738987,
           0.13386572913374484,
           0,
           "v_PSB - Before (8828366 A3).wav",
           "circle",
           "#0044FF"
          ],
          [
           0.4399212791741547,
           -0.23119553316484584,
           0,
           "v_PSB - Before (8828366 A3).wav",
           "circle",
           "#0044FF"
          ],
          [
           0.13985078222644237,
           0.3620805377197365,
           0,
           "v_PSB - Before (8828366 A3).wav",
           "circle",
           "#0044FF"
          ]
         ],
         "hovertemplate": "<b>%{customdata[3]}</b><br>(%{x:.3f},%{y:.3f})<extra>%{customdata[2]}</extra>",
         "marker": {
          "color": [
           "#0044FF",
           "#0044FF",
           "#0044FF",
           "#0044FF",
           "#0044FF",
           "#0044FF",
           "#0044FF",
           "#0044FF",
           "#0044FF",
           "#0044FF"
          ],
          "symbol": [
           "circle",
           "circle",
           "circle",
           "circle",
           "circle",
           "circle",
           "circle",
           "circle",
           "circle",
           "circle"
          ]
         },
         "mode": "markers",
         "name": "38",
         "text": [
          "v_PSB - Before (8828366 A3).wav",
          "v_PSB - Before (8828366 A3).wav",
          "v_PSB - Before (8828366 A3).wav",
          "v_PSB - Before (8828366 A3).wav",
          "v_PSB - Before (8828366 A3).wav",
          "v_PSB - Before (8828366 A3).wav",
          "v_PSB - Before (8828366 A3).wav",
          "v_PSB - Before (8828366 A3).wav",
          "v_PSB - Before (8828366 A3).wav",
          "v_PSB - Before (8828366 A3).wav"
         ],
         "type": "scatter",
         "x": [
          -0.0323651871580174,
          0.3195111231460485,
          0.6167595126626045,
          0.28753974493667733,
          0.21340667083617035,
          0.05117276900366259,
          -0.11432873884250508,
          -0.09899922656738987,
          0.4399212791741547,
          0.13985078222644237
         ],
         "y": [
          0.0017063333208224797,
          -0.13223472496132516,
          -0.18908919059684734,
          0.02311488164349225,
          -0.3959141157420796,
          0.3532299222258789,
          -0.0711200287629308,
          0.13386572913374484,
          -0.23119553316484584,
          0.3620805377197365
         ]
        },
        {
         "customdata": [
          [
           -0.19361932273599328,
           0.21637246588335315,
           0,
           "v_PSB - Before (8828366 B1).wav",
           "circle",
           "#0044FF"
          ],
          [
           -0.16674290715418946,
           0.31917637237329355,
           0,
           "v_PSB - Before (8828366 B1).wav",
           "circle",
           "#0044FF"
          ],
          [
           0.01284848244153835,
           -0.23090906561152766,
           0,
           "v_PSB - Before (8828366 B1).wav",
           "circle",
           "#0044FF"
          ],
          [
           0.25618212559829834,
           -0.28205108216717106,
           0,
           "v_PSB - Before (8828366 B1).wav",
           "circle",
           "#0044FF"
          ],
          [
           0.21661852966619025,
           -0.18713619257367148,
           0,
           "v_PSB - Before (8828366 B1).wav",
           "circle",
           "#0044FF"
          ],
          [
           0.23847543902787818,
           -0.17402810173300878,
           0,
           "v_PSB - Before (8828366 B1).wav",
           "circle",
           "#0044FF"
          ],
          [
           0.5102014718450573,
           0.691466048208386,
           0,
           "v_PSB - Before (8828366 B1).wav",
           "circle",
           "#0044FF"
          ],
          [
           0.6325426711715058,
           0.4080949859197196,
           0,
           "v_PSB - Before (8828366 B1).wav",
           "circle",
           "#0044FF"
          ],
          [
           -0.052712581965711956,
           -0.08508234154015724,
           0,
           "v_PSB - Before (8828366 B1).wav",
           "circle",
           "#0044FF"
          ],
          [
           0.00036067394178052276,
           -0.10122751305110249,
           0,
           "v_PSB - Before (8828366 B1).wav",
           "circle",
           "#0044FF"
          ]
         ],
         "hovertemplate": "<b>%{customdata[3]}</b><br>(%{x:.3f},%{y:.3f})<extra>%{customdata[2]}</extra>",
         "marker": {
          "color": [
           "#0044FF",
           "#0044FF",
           "#0044FF",
           "#0044FF",
           "#0044FF",
           "#0044FF",
           "#0044FF",
           "#0044FF",
           "#0044FF",
           "#0044FF"
          ],
          "symbol": [
           "circle",
           "circle",
           "circle",
           "circle",
           "circle",
           "circle",
           "circle",
           "circle",
           "circle",
           "circle"
          ]
         },
         "mode": "markers",
         "name": "39",
         "text": [
          "v_PSB - Before (8828366 B1).wav",
          "v_PSB - Before (8828366 B1).wav",
          "v_PSB - Before (8828366 B1).wav",
          "v_PSB - Before (8828366 B1).wav",
          "v_PSB - Before (8828366 B1).wav",
          "v_PSB - Before (8828366 B1).wav",
          "v_PSB - Before (8828366 B1).wav",
          "v_PSB - Before (8828366 B1).wav",
          "v_PSB - Before (8828366 B1).wav",
          "v_PSB - Before (8828366 B1).wav"
         ],
         "type": "scatter",
         "x": [
          -0.19361932273599328,
          -0.16674290715418946,
          0.01284848244153835,
          0.25618212559829834,
          0.21661852966619025,
          0.23847543902787818,
          0.5102014718450573,
          0.6325426711715058,
          -0.052712581965711956,
          0.00036067394178052276
         ],
         "y": [
          0.21637246588335315,
          0.31917637237329355,
          -0.23090906561152766,
          -0.28205108216717106,
          -0.18713619257367148,
          -0.17402810173300878,
          0.691466048208386,
          0.4080949859197196,
          -0.08508234154015724,
          -0.10122751305110249
         ]
        },
        {
         "customdata": [
          [
           0.021184620548562516,
           0.6149617021928542,
           2,
           "v_PSB - Before (8828366 B2).wav",
           "circle",
           "#48a832"
          ],
          [
           -0.22753995528911636,
           -0.03824074764801717,
           2,
           "v_PSB - Before (8828366 B2).wav",
           "circle",
           "#48a832"
          ],
          [
           -0.6327202987542081,
           0.27892556080934017,
           2,
           "v_PSB - Before (8828366 B2).wav",
           "circle",
           "#48a832"
          ],
          [
           0.10503866025604038,
           -0.04655777438270579,
           2,
           "v_PSB - Before (8828366 B2).wav",
           "circle",
           "#48a832"
          ],
          [
           -0.7828762578791912,
           0.3592079898636574,
           2,
           "v_PSB - Before (8828366 B2).wav",
           "circle",
           "#48a832"
          ],
          [
           -0.11593087216702547,
           -0.012318424315153313,
           2,
           "v_PSB - Before (8828366 B2).wav",
           "circle",
           "#48a832"
          ],
          [
           0.42845254781788056,
           -0.43087234068286395,
           2,
           "v_PSB - Before (8828366 B2).wav",
           "circle",
           "#48a832"
          ],
          [
           0.2693629481729273,
           -0.31133539904781415,
           2,
           "v_PSB - Before (8828366 B2).wav",
           "circle",
           "#48a832"
          ],
          [
           -0.3395103799840513,
           -0.1648088799090861,
           2,
           "v_PSB - Before (8828366 B2).wav",
           "circle",
           "#48a832"
          ],
          [
           0.19259703772404038,
           -0.18455156700582212,
           2,
           "v_PSB - Before (8828366 B2).wav",
           "circle",
           "#48a832"
          ],
          [
           -0.01510601798735698,
           -0.060076812461145476,
           2,
           "v_PSB - Before (8828366 B2).wav",
           "circle",
           "#48a832"
          ],
          [
           0.0334859790807653,
           0.6680771302954364,
           2,
           "v_PSB - Before (8828366 B2).wav",
           "circle",
           "#48a832"
          ],
          [
           -0.030624113598497725,
           0.04390878496987011,
           2,
           "v_PSB - Before (8828366 B2).wav",
           "circle",
           "#48a832"
          ],
          [
           -0.0625697509675153,
           0.04062020705113608,
           2,
           "v_PSB - Before (8828366 B2).wav",
           "circle",
           "#48a832"
          ]
         ],
         "hovertemplate": "<b>%{customdata[3]}</b><br>(%{x:.3f},%{y:.3f})<extra>%{customdata[2]}</extra>",
         "marker": {
          "color": [
           "#48a832",
           "#48a832",
           "#48a832",
           "#48a832",
           "#48a832",
           "#48a832",
           "#48a832",
           "#48a832",
           "#48a832",
           "#48a832",
           "#48a832",
           "#48a832",
           "#48a832",
           "#48a832"
          ],
          "symbol": [
           "circle",
           "circle",
           "circle",
           "circle",
           "circle",
           "circle",
           "circle",
           "circle",
           "circle",
           "circle",
           "circle",
           "circle",
           "circle",
           "circle"
          ]
         },
         "mode": "markers",
         "name": "40",
         "text": [
          "v_PSB - Before (8828366 B2).wav",
          "v_PSB - Before (8828366 B2).wav",
          "v_PSB - Before (8828366 B2).wav",
          "v_PSB - Before (8828366 B2).wav",
          "v_PSB - Before (8828366 B2).wav",
          "v_PSB - Before (8828366 B2).wav",
          "v_PSB - Before (8828366 B2).wav",
          "v_PSB - Before (8828366 B2).wav",
          "v_PSB - Before (8828366 B2).wav",
          "v_PSB - Before (8828366 B2).wav",
          "v_PSB - Before (8828366 B2).wav",
          "v_PSB - Before (8828366 B2).wav",
          "v_PSB - Before (8828366 B2).wav",
          "v_PSB - Before (8828366 B2).wav"
         ],
         "type": "scatter",
         "x": [
          0.021184620548562516,
          -0.22753995528911636,
          -0.6327202987542081,
          0.10503866025604038,
          -0.7828762578791912,
          -0.11593087216702547,
          0.42845254781788056,
          0.2693629481729273,
          -0.3395103799840513,
          0.19259703772404038,
          -0.01510601798735698,
          0.0334859790807653,
          -0.030624113598497725,
          -0.0625697509675153
         ],
         "y": [
          0.6149617021928542,
          -0.03824074764801717,
          0.27892556080934017,
          -0.04655777438270579,
          0.3592079898636574,
          -0.012318424315153313,
          -0.43087234068286395,
          -0.31133539904781415,
          -0.1648088799090861,
          -0.18455156700582212,
          -0.060076812461145476,
          0.6680771302954364,
          0.04390878496987011,
          0.04062020705113608
         ]
        },
        {
         "customdata": [
          [
           -0.24426895977772756,
           0.1770510959253241,
           1,
           "v_PSB - Before (8828366 B3).wav",
           "circle",
           "#751017"
          ],
          [
           0.07610393984427116,
           -0.078812895712906,
           1,
           "v_PSB - Before (8828366 B3).wav",
           "circle",
           "#751017"
          ],
          [
           0.40972372607971824,
           -0.04463485250469762,
           1,
           "v_PSB - Before (8828366 B3).wav",
           "circle",
           "#751017"
          ],
          [
           0.162105531903977,
           -0.05616886222337274,
           1,
           "v_PSB - Before (8828366 B3).wav",
           "circle",
           "#751017"
          ],
          [
           -0.13922510022415494,
           0.13630872168010624,
           1,
           "v_PSB - Before (8828366 B3).wav",
           "circle",
           "#751017"
          ],
          [
           0.14500054435546528,
           -0.0845439488052846,
           1,
           "v_PSB - Before (8828366 B3).wav",
           "circle",
           "#751017"
          ],
          [
           0.09992306611957008,
           -0.044762211240735435,
           1,
           "v_PSB - Before (8828366 B3).wav",
           "circle",
           "#751017"
          ]
         ],
         "hovertemplate": "<b>%{customdata[3]}</b><br>(%{x:.3f},%{y:.3f})<extra>%{customdata[2]}</extra>",
         "marker": {
          "color": [
           "#751017",
           "#751017",
           "#751017",
           "#751017",
           "#751017",
           "#751017",
           "#751017"
          ],
          "symbol": [
           "circle",
           "circle",
           "circle",
           "circle",
           "circle",
           "circle",
           "circle"
          ]
         },
         "mode": "markers",
         "name": "41",
         "text": [
          "v_PSB - Before (8828366 B3).wav",
          "v_PSB - Before (8828366 B3).wav",
          "v_PSB - Before (8828366 B3).wav",
          "v_PSB - Before (8828366 B3).wav",
          "v_PSB - Before (8828366 B3).wav",
          "v_PSB - Before (8828366 B3).wav",
          "v_PSB - Before (8828366 B3).wav"
         ],
         "type": "scatter",
         "x": [
          -0.24426895977772756,
          0.07610393984427116,
          0.40972372607971824,
          0.162105531903977,
          -0.13922510022415494,
          0.14500054435546528,
          0.09992306611957008
         ],
         "y": [
          0.1770510959253241,
          -0.078812895712906,
          -0.04463485250469762,
          -0.05616886222337274,
          0.13630872168010624,
          -0.0845439488052846,
          -0.044762211240735435
         ]
        },
        {
         "customdata": [
          [
           -0.016324750731792608,
           -0.11322532778691391,
           1,
           "v_PSB - Before (RLH 6443 B).wav",
           "circle",
           "#751017"
          ],
          [
           -0.3434145251911196,
           -0.20099497762557533,
           1,
           "v_PSB - Before (RLH 6443 B).wav",
           "circle",
           "#751017"
          ],
          [
           0.08243086191551378,
           0.05334865981647178,
           1,
           "v_PSB - Before (RLH 6443 B).wav",
           "circle",
           "#751017"
          ],
          [
           0.9474628560547054,
           0.35023932904984045,
           1,
           "v_PSB - Before (RLH 6443 B).wav",
           "circle",
           "#751017"
          ],
          [
           0.09348196487404355,
           -0.0586386821041698,
           1,
           "v_PSB - Before (RLH 6443 B).wav",
           "circle",
           "#751017"
          ],
          [
           -0.25635449523437354,
           -0.11317092710514286,
           1,
           "v_PSB - Before (RLH 6443 B).wav",
           "circle",
           "#751017"
          ]
         ],
         "hovertemplate": "<b>%{customdata[3]}</b><br>(%{x:.3f},%{y:.3f})<extra>%{customdata[2]}</extra>",
         "marker": {
          "color": [
           "#751017",
           "#751017",
           "#751017",
           "#751017",
           "#751017",
           "#751017"
          ],
          "symbol": [
           "circle",
           "circle",
           "circle",
           "circle",
           "circle",
           "circle"
          ]
         },
         "mode": "markers",
         "name": "42",
         "text": [
          "v_PSB - Before (RLH 6443 B).wav",
          "v_PSB - Before (RLH 6443 B).wav",
          "v_PSB - Before (RLH 6443 B).wav",
          "v_PSB - Before (RLH 6443 B).wav",
          "v_PSB - Before (RLH 6443 B).wav",
          "v_PSB - Before (RLH 6443 B).wav"
         ],
         "type": "scatter",
         "x": [
          -0.016324750731792608,
          -0.3434145251911196,
          0.08243086191551378,
          0.9474628560547054,
          0.09348196487404355,
          -0.25635449523437354
         ],
         "y": [
          -0.11322532778691391,
          -0.20099497762557533,
          0.05334865981647178,
          0.35023932904984045,
          -0.0586386821041698,
          -0.11317092710514286
         ]
        },
        {
         "customdata": [
          [
           0.6423377288375383,
           0.3047026803038093,
           2,
           "v_Urban Blues Project pres Michael Procter - Love Don't Live (U.B.P. Classic Mix).wav",
           "circle",
           "#48a832"
          ],
          [
           -0.24932798369537057,
           -0.363189819591359,
           2,
           "v_Urban Blues Project pres Michael Procter - Love Don't Live (U.B.P. Classic Mix).wav",
           "circle",
           "#48a832"
          ],
          [
           -0.0712028253624808,
           -0.014318129459403773,
           2,
           "v_Urban Blues Project pres Michael Procter - Love Don't Live (U.B.P. Classic Mix).wav",
           "circle",
           "#48a832"
          ],
          [
           -0.006328005316109401,
           -0.17134841641548565,
           2,
           "v_Urban Blues Project pres Michael Procter - Love Don't Live (U.B.P. Classic Mix).wav",
           "circle",
           "#48a832"
          ],
          [
           -0.3593560943345944,
           0.5489084511263868,
           2,
           "v_Urban Blues Project pres Michael Procter - Love Don't Live (U.B.P. Classic Mix).wav",
           "circle",
           "#48a832"
          ],
          [
           -0.11113553506945001,
           0.04701141750250639,
           2,
           "v_Urban Blues Project pres Michael Procter - Love Don't Live (U.B.P. Classic Mix).wav",
           "circle",
           "#48a832"
          ],
          [
           0.08071487706019019,
           -0.25573022124803835,
           2,
           "v_Urban Blues Project pres Michael Procter - Love Don't Live (U.B.P. Classic Mix).wav",
           "circle",
           "#48a832"
          ],
          [
           0.1355643435835923,
           -0.15016519636903508,
           2,
           "v_Urban Blues Project pres Michael Procter - Love Don't Live (U.B.P. Classic Mix).wav",
           "circle",
           "#48a832"
          ],
          [
           -0.37967977085188365,
           -0.10006898692133154,
           2,
           "v_Urban Blues Project pres Michael Procter - Love Don't Live (U.B.P. Classic Mix).wav",
           "circle",
           "#48a832"
          ],
          [
           -0.10513489410032917,
           0.3616301088166573,
           2,
           "v_Urban Blues Project pres Michael Procter - Love Don't Live (U.B.P. Classic Mix).wav",
           "circle",
           "#48a832"
          ],
          [
           -0.19492051397344218,
           0.046402873812068944,
           2,
           "v_Urban Blues Project pres Michael Procter - Love Don't Live (U.B.P. Classic Mix).wav",
           "circle",
           "#48a832"
          ],
          [
           -0.05488877895171921,
           -0.1147856782038075,
           2,
           "v_Urban Blues Project pres Michael Procter - Love Don't Live (U.B.P. Classic Mix).wav",
           "circle",
           "#48a832"
          ]
         ],
         "hovertemplate": "<b>%{customdata[3]}</b><br>(%{x:.3f},%{y:.3f})<extra>%{customdata[2]}</extra>",
         "marker": {
          "color": [
           "#48a832",
           "#48a832",
           "#48a832",
           "#48a832",
           "#48a832",
           "#48a832",
           "#48a832",
           "#48a832",
           "#48a832",
           "#48a832",
           "#48a832",
           "#48a832"
          ],
          "symbol": [
           "circle",
           "circle",
           "circle",
           "circle",
           "circle",
           "circle",
           "circle",
           "circle",
           "circle",
           "circle",
           "circle",
           "circle"
          ]
         },
         "mode": "markers",
         "name": "43",
         "text": [
          "v_Urban Blues Project pres Michael Procter - Love Don't Live (U.B.P. Classic Mix).wav",
          "v_Urban Blues Project pres Michael Procter - Love Don't Live (U.B.P. Classic Mix).wav",
          "v_Urban Blues Project pres Michael Procter - Love Don't Live (U.B.P. Classic Mix).wav",
          "v_Urban Blues Project pres Michael Procter - Love Don't Live (U.B.P. Classic Mix).wav",
          "v_Urban Blues Project pres Michael Procter - Love Don't Live (U.B.P. Classic Mix).wav",
          "v_Urban Blues Project pres Michael Procter - Love Don't Live (U.B.P. Classic Mix).wav",
          "v_Urban Blues Project pres Michael Procter - Love Don't Live (U.B.P. Classic Mix).wav",
          "v_Urban Blues Project pres Michael Procter - Love Don't Live (U.B.P. Classic Mix).wav",
          "v_Urban Blues Project pres Michael Procter - Love Don't Live (U.B.P. Classic Mix).wav",
          "v_Urban Blues Project pres Michael Procter - Love Don't Live (U.B.P. Classic Mix).wav",
          "v_Urban Blues Project pres Michael Procter - Love Don't Live (U.B.P. Classic Mix).wav",
          "v_Urban Blues Project pres Michael Procter - Love Don't Live (U.B.P. Classic Mix).wav"
         ],
         "type": "scatter",
         "x": [
          0.6423377288375383,
          -0.24932798369537057,
          -0.0712028253624808,
          -0.006328005316109401,
          -0.3593560943345944,
          -0.11113553506945001,
          0.08071487706019019,
          0.1355643435835923,
          -0.37967977085188365,
          -0.10513489410032917,
          -0.19492051397344218,
          -0.05488877895171921
         ],
         "y": [
          0.3047026803038093,
          -0.363189819591359,
          -0.014318129459403773,
          -0.17134841641548565,
          0.5489084511263868,
          0.04701141750250639,
          -0.25573022124803835,
          -0.15016519636903508,
          -0.10006898692133154,
          0.3616301088166573,
          0.046402873812068944,
          -0.1147856782038075
         ]
        },
        {
         "customdata": [
          [
           -0.33929015178592276,
           -0.1960599837998216,
           0,
           "v_Urban Blues Project pres. Michael Procter - Love Don't Live (Accapella).wav",
           "circle",
           "#0044FF"
          ],
          [
           0.3454601131543817,
           -0.08927068429739449,
           0,
           "v_Urban Blues Project pres. Michael Procter - Love Don't Live (Accapella).wav",
           "circle",
           "#0044FF"
          ],
          [
           -0.0003990598805198979,
           0.5459607202313869,
           0,
           "v_Urban Blues Project pres. Michael Procter - Love Don't Live (Accapella).wav",
           "circle",
           "#0044FF"
          ],
          [
           0.09469164726132304,
           0.06675209033804007,
           0,
           "v_Urban Blues Project pres. Michael Procter - Love Don't Live (Accapella).wav",
           "circle",
           "#0044FF"
          ]
         ],
         "hovertemplate": "<b>%{customdata[3]}</b><br>(%{x:.3f},%{y:.3f})<extra>%{customdata[2]}</extra>",
         "marker": {
          "color": [
           "#0044FF",
           "#0044FF",
           "#0044FF",
           "#0044FF"
          ],
          "symbol": [
           "circle",
           "circle",
           "circle",
           "circle"
          ]
         },
         "mode": "markers",
         "name": "44",
         "text": [
          "v_Urban Blues Project pres. Michael Procter - Love Don't Live (Accapella).wav",
          "v_Urban Blues Project pres. Michael Procter - Love Don't Live (Accapella).wav",
          "v_Urban Blues Project pres. Michael Procter - Love Don't Live (Accapella).wav",
          "v_Urban Blues Project pres. Michael Procter - Love Don't Live (Accapella).wav"
         ],
         "type": "scatter",
         "x": [
          -0.33929015178592276,
          0.3454601131543817,
          -0.0003990598805198979,
          0.09469164726132304
         ],
         "y": [
          -0.1960599837998216,
          -0.08927068429739449,
          0.5459607202313869,
          0.06675209033804007
         ]
        },
        {
         "customdata": [
          [
           -0.5322089256454587,
           -0.29231558152458154,
           1,
           "v_Urban Blues Project pres. Michael Procter - Love Don't Live (CJ Hard Dub).wav",
           "circle",
           "#751017"
          ],
          [
           -0.023652348846751905,
           0.3830505893138007,
           1,
           "v_Urban Blues Project pres. Michael Procter - Love Don't Live (CJ Hard Dub).wav",
           "circle",
           "#751017"
          ],
          [
           0.05389356630386017,
           -0.03960710312372674,
           1,
           "v_Urban Blues Project pres. Michael Procter - Love Don't Live (CJ Hard Dub).wav",
           "circle",
           "#751017"
          ],
          [
           0.6171465449594445,
           0.20749304217034933,
           1,
           "v_Urban Blues Project pres. Michael Procter - Love Don't Live (CJ Hard Dub).wav",
           "circle",
           "#751017"
          ],
          [
           0.1294793572935748,
           -0.03143001699846415,
           1,
           "v_Urban Blues Project pres. Michael Procter - Love Don't Live (CJ Hard Dub).wav",
           "circle",
           "#751017"
          ],
          [
           -0.05303389457739426,
           0.02289754954798861,
           1,
           "v_Urban Blues Project pres. Michael Procter - Love Don't Live (CJ Hard Dub).wav",
           "circle",
           "#751017"
          ],
          [
           -0.31138365442357774,
           0.36668227986776764,
           1,
           "v_Urban Blues Project pres. Michael Procter - Love Don't Live (CJ Hard Dub).wav",
           "circle",
           "#751017"
          ],
          [
           0.09053836628276808,
           -0.2788503891046117,
           1,
           "v_Urban Blues Project pres. Michael Procter - Love Don't Live (CJ Hard Dub).wav",
           "circle",
           "#751017"
          ],
          [
           -0.15873803995787839,
           0.06939785884651081,
           1,
           "v_Urban Blues Project pres. Michael Procter - Love Don't Live (CJ Hard Dub).wav",
           "circle",
           "#751017"
          ],
          [
           -0.3910574053058064,
           -0.03798594263743518,
           1,
           "v_Urban Blues Project pres. Michael Procter - Love Don't Live (CJ Hard Dub).wav",
           "circle",
           "#751017"
          ]
         ],
         "hovertemplate": "<b>%{customdata[3]}</b><br>(%{x:.3f},%{y:.3f})<extra>%{customdata[2]}</extra>",
         "marker": {
          "color": [
           "#751017",
           "#751017",
           "#751017",
           "#751017",
           "#751017",
           "#751017",
           "#751017",
           "#751017",
           "#751017",
           "#751017"
          ],
          "symbol": [
           "circle",
           "circle",
           "circle",
           "circle",
           "circle",
           "circle",
           "circle",
           "circle",
           "circle",
           "circle"
          ]
         },
         "mode": "markers",
         "name": "45",
         "text": [
          "v_Urban Blues Project pres. Michael Procter - Love Don't Live (CJ Hard Dub).wav",
          "v_Urban Blues Project pres. Michael Procter - Love Don't Live (CJ Hard Dub).wav",
          "v_Urban Blues Project pres. Michael Procter - Love Don't Live (CJ Hard Dub).wav",
          "v_Urban Blues Project pres. Michael Procter - Love Don't Live (CJ Hard Dub).wav",
          "v_Urban Blues Project pres. Michael Procter - Love Don't Live (CJ Hard Dub).wav",
          "v_Urban Blues Project pres. Michael Procter - Love Don't Live (CJ Hard Dub).wav",
          "v_Urban Blues Project pres. Michael Procter - Love Don't Live (CJ Hard Dub).wav",
          "v_Urban Blues Project pres. Michael Procter - Love Don't Live (CJ Hard Dub).wav",
          "v_Urban Blues Project pres. Michael Procter - Love Don't Live (CJ Hard Dub).wav",
          "v_Urban Blues Project pres. Michael Procter - Love Don't Live (CJ Hard Dub).wav"
         ],
         "type": "scatter",
         "x": [
          -0.5322089256454587,
          -0.023652348846751905,
          0.05389356630386017,
          0.6171465449594445,
          0.1294793572935748,
          -0.05303389457739426,
          -0.31138365442357774,
          0.09053836628276808,
          -0.15873803995787839,
          -0.3910574053058064
         ],
         "y": [
          -0.29231558152458154,
          0.3830505893138007,
          -0.03960710312372674,
          0.20749304217034933,
          -0.03143001699846415,
          0.02289754954798861,
          0.36668227986776764,
          -0.2788503891046117,
          0.06939785884651081,
          -0.03798594263743518
         ]
        },
        {
         "customdata": [
          [
           -0.12044325374435168,
           0.09056619655733951,
           0,
           "v_Urban Blues Project pres. Michael Procter - Love Don't Live (CJ Hard Vocal).wav",
           "circle",
           "#0044FF"
          ],
          [
           -0.1359305494857082,
           -0.033374978652948216,
           0,
           "v_Urban Blues Project pres. Michael Procter - Love Don't Live (CJ Hard Vocal).wav",
           "circle",
           "#0044FF"
          ],
          [
           -0.29753908520784283,
           0.4584689977912625,
           0,
           "v_Urban Blues Project pres. Michael Procter - Love Don't Live (CJ Hard Vocal).wav",
           "circle",
           "#0044FF"
          ],
          [
           -0.37640030593986584,
           0.3453542562735927,
           0,
           "v_Urban Blues Project pres. Michael Procter - Love Don't Live (CJ Hard Vocal).wav",
           "circle",
           "#0044FF"
          ],
          [
           -0.16713920317673767,
           0.4293066272572647,
           0,
           "v_Urban Blues Project pres. Michael Procter - Love Don't Live (CJ Hard Vocal).wav",
           "circle",
           "#0044FF"
          ],
          [
           -0.2046773214490954,
           0.0832213677054477,
           0,
           "v_Urban Blues Project pres. Michael Procter - Love Don't Live (CJ Hard Vocal).wav",
           "circle",
           "#0044FF"
          ],
          [
           0.6072635906939139,
           -0.2928752220146559,
           0,
           "v_Urban Blues Project pres. Michael Procter - Love Don't Live (CJ Hard Vocal).wav",
           "circle",
           "#0044FF"
          ],
          [
           -0.6605074171555994,
           -0.13533765958252283,
           0,
           "v_Urban Blues Project pres. Michael Procter - Love Don't Live (CJ Hard Vocal).wav",
           "circle",
           "#0044FF"
          ],
          [
           -0.1466907891467821,
           -0.03613224524940952,
           0,
           "v_Urban Blues Project pres. Michael Procter - Love Don't Live (CJ Hard Vocal).wav",
           "circle",
           "#0044FF"
          ],
          [
           0.41908899647330533,
           0.3225542011444245,
           0,
           "v_Urban Blues Project pres. Michael Procter - Love Don't Live (CJ Hard Vocal).wav",
           "circle",
           "#0044FF"
          ]
         ],
         "hovertemplate": "<b>%{customdata[3]}</b><br>(%{x:.3f},%{y:.3f})<extra>%{customdata[2]}</extra>",
         "marker": {
          "color": [
           "#0044FF",
           "#0044FF",
           "#0044FF",
           "#0044FF",
           "#0044FF",
           "#0044FF",
           "#0044FF",
           "#0044FF",
           "#0044FF",
           "#0044FF"
          ],
          "symbol": [
           "circle",
           "circle",
           "circle",
           "circle",
           "circle",
           "circle",
           "circle",
           "circle",
           "circle",
           "circle"
          ]
         },
         "mode": "markers",
         "name": "46",
         "text": [
          "v_Urban Blues Project pres. Michael Procter - Love Don't Live (CJ Hard Vocal).wav",
          "v_Urban Blues Project pres. Michael Procter - Love Don't Live (CJ Hard Vocal).wav",
          "v_Urban Blues Project pres. Michael Procter - Love Don't Live (CJ Hard Vocal).wav",
          "v_Urban Blues Project pres. Michael Procter - Love Don't Live (CJ Hard Vocal).wav",
          "v_Urban Blues Project pres. Michael Procter - Love Don't Live (CJ Hard Vocal).wav",
          "v_Urban Blues Project pres. Michael Procter - Love Don't Live (CJ Hard Vocal).wav",
          "v_Urban Blues Project pres. Michael Procter - Love Don't Live (CJ Hard Vocal).wav",
          "v_Urban Blues Project pres. Michael Procter - Love Don't Live (CJ Hard Vocal).wav",
          "v_Urban Blues Project pres. Michael Procter - Love Don't Live (CJ Hard Vocal).wav",
          "v_Urban Blues Project pres. Michael Procter - Love Don't Live (CJ Hard Vocal).wav"
         ],
         "type": "scatter",
         "x": [
          -0.12044325374435168,
          -0.1359305494857082,
          -0.29753908520784283,
          -0.37640030593986584,
          -0.16713920317673767,
          -0.2046773214490954,
          0.6072635906939139,
          -0.6605074171555994,
          -0.1466907891467821,
          0.41908899647330533
         ],
         "y": [
          0.09056619655733951,
          -0.033374978652948216,
          0.4584689977912625,
          0.3453542562735927,
          0.4293066272572647,
          0.0832213677054477,
          -0.2928752220146559,
          -0.13533765958252283,
          -0.03613224524940952,
          0.3225542011444245
         ]
        },
        {
         "customdata": [
          [
           0.4406707080226027,
           -0.32864510263571095,
           1,
           "v_Urban Blues Project pres. Michael Procter - Love Don't Live (Cosmack Mix).wav",
           "circle",
           "#751017"
          ],
          [
           -0.16552541431050044,
           0.03748522613480284,
           1,
           "v_Urban Blues Project pres. Michael Procter - Love Don't Live (Cosmack Mix).wav",
           "circle",
           "#751017"
          ],
          [
           0.1667178785909158,
           -0.18346414505194814,
           1,
           "v_Urban Blues Project pres. Michael Procter - Love Don't Live (Cosmack Mix).wav",
           "circle",
           "#751017"
          ],
          [
           -0.07774418942697663,
           -0.1416131328390971,
           1,
           "v_Urban Blues Project pres. Michael Procter - Love Don't Live (Cosmack Mix).wav",
           "circle",
           "#751017"
          ],
          [
           0.213216651630227,
           0.021686131732233133,
           1,
           "v_Urban Blues Project pres. Michael Procter - Love Don't Live (Cosmack Mix).wav",
           "circle",
           "#751017"
          ],
          [
           0.1712662414924994,
           -0.019855647938284232,
           1,
           "v_Urban Blues Project pres. Michael Procter - Love Don't Live (Cosmack Mix).wav",
           "circle",
           "#751017"
          ],
          [
           -0.06222760518151836,
           0.009186992900298181,
           1,
           "v_Urban Blues Project pres. Michael Procter - Love Don't Live (Cosmack Mix).wav",
           "circle",
           "#751017"
          ],
          [
           -0.05383383142035127,
           -0.11365751163058531,
           1,
           "v_Urban Blues Project pres. Michael Procter - Love Don't Live (Cosmack Mix).wav",
           "circle",
           "#751017"
          ],
          [
           -0.14889674419566196,
           0.2719583983014013,
           1,
           "v_Urban Blues Project pres. Michael Procter - Love Don't Live (Cosmack Mix).wav",
           "circle",
           "#751017"
          ],
          [
           0.02100199552339897,
           0.16945725065686104,
           1,
           "v_Urban Blues Project pres. Michael Procter - Love Don't Live (Cosmack Mix).wav",
           "circle",
           "#751017"
          ],
          [
           0.062027400689224105,
           -0.06450695505733178,
           1,
           "v_Urban Blues Project pres. Michael Procter - Love Don't Live (Cosmack Mix).wav",
           "circle",
           "#751017"
          ],
          [
           -0.16789330053067078,
           -0.12948039802086458,
           1,
           "v_Urban Blues Project pres. Michael Procter - Love Don't Live (Cosmack Mix).wav",
           "circle",
           "#751017"
          ]
         ],
         "hovertemplate": "<b>%{customdata[3]}</b><br>(%{x:.3f},%{y:.3f})<extra>%{customdata[2]}</extra>",
         "marker": {
          "color": [
           "#751017",
           "#751017",
           "#751017",
           "#751017",
           "#751017",
           "#751017",
           "#751017",
           "#751017",
           "#751017",
           "#751017",
           "#751017",
           "#751017"
          ],
          "symbol": [
           "circle",
           "circle",
           "circle",
           "circle",
           "circle",
           "circle",
           "circle",
           "circle",
           "circle",
           "circle",
           "circle",
           "circle"
          ]
         },
         "mode": "markers",
         "name": "47",
         "text": [
          "v_Urban Blues Project pres. Michael Procter - Love Don't Live (Cosmack Mix).wav",
          "v_Urban Blues Project pres. Michael Procter - Love Don't Live (Cosmack Mix).wav",
          "v_Urban Blues Project pres. Michael Procter - Love Don't Live (Cosmack Mix).wav",
          "v_Urban Blues Project pres. Michael Procter - Love Don't Live (Cosmack Mix).wav",
          "v_Urban Blues Project pres. Michael Procter - Love Don't Live (Cosmack Mix).wav",
          "v_Urban Blues Project pres. Michael Procter - Love Don't Live (Cosmack Mix).wav",
          "v_Urban Blues Project pres. Michael Procter - Love Don't Live (Cosmack Mix).wav",
          "v_Urban Blues Project pres. Michael Procter - Love Don't Live (Cosmack Mix).wav",
          "v_Urban Blues Project pres. Michael Procter - Love Don't Live (Cosmack Mix).wav",
          "v_Urban Blues Project pres. Michael Procter - Love Don't Live (Cosmack Mix).wav",
          "v_Urban Blues Project pres. Michael Procter - Love Don't Live (Cosmack Mix).wav",
          "v_Urban Blues Project pres. Michael Procter - Love Don't Live (Cosmack Mix).wav"
         ],
         "type": "scatter",
         "x": [
          0.4406707080226027,
          -0.16552541431050044,
          0.1667178785909158,
          -0.07774418942697663,
          0.213216651630227,
          0.1712662414924994,
          -0.06222760518151836,
          -0.05383383142035127,
          -0.14889674419566196,
          0.02100199552339897,
          0.062027400689224105,
          -0.16789330053067078
         ],
         "y": [
          -0.32864510263571095,
          0.03748522613480284,
          -0.18346414505194814,
          -0.1416131328390971,
          0.021686131732233133,
          -0.019855647938284232,
          0.009186992900298181,
          -0.11365751163058531,
          0.2719583983014013,
          0.16945725065686104,
          -0.06450695505733178,
          -0.12948039802086458
         ]
        },
        {
         "customdata": [
          [
           0.021002032537996936,
           -0.03823412436343844,
           1,
           "v_Urban Blues Project pres. Michael Procter - Love Don't Live (New Birth (Mix) UK Re-Edit).wav",
           "circle",
           "#751017"
          ],
          [
           0.5716864041251467,
           0.6573212689106435,
           1,
           "v_Urban Blues Project pres. Michael Procter - Love Don't Live (New Birth (Mix) UK Re-Edit).wav",
           "circle",
           "#751017"
          ],
          [
           0.2178376018545114,
           0.23903546062644074,
           1,
           "v_Urban Blues Project pres. Michael Procter - Love Don't Live (New Birth (Mix) UK Re-Edit).wav",
           "circle",
           "#751017"
          ],
          [
           -0.5487101585942941,
           0.30072243549707584,
           1,
           "v_Urban Blues Project pres. Michael Procter - Love Don't Live (New Birth (Mix) UK Re-Edit).wav",
           "circle",
           "#751017"
          ],
          [
           -0.17686653475627823,
           0.47505408986264963,
           1,
           "v_Urban Blues Project pres. Michael Procter - Love Don't Live (New Birth (Mix) UK Re-Edit).wav",
           "circle",
           "#751017"
          ],
          [
           -0.038777809389683164,
           0.5630847589432487,
           1,
           "v_Urban Blues Project pres. Michael Procter - Love Don't Live (New Birth (Mix) UK Re-Edit).wav",
           "circle",
           "#751017"
          ],
          [
           -0.16022117775032516,
           -0.0533663215997248,
           1,
           "v_Urban Blues Project pres. Michael Procter - Love Don't Live (New Birth (Mix) UK Re-Edit).wav",
           "circle",
           "#751017"
          ],
          [
           0.11333302658743595,
           -0.2757122382525464,
           1,
           "v_Urban Blues Project pres. Michael Procter - Love Don't Live (New Birth (Mix) UK Re-Edit).wav",
           "circle",
           "#751017"
          ],
          [
           -0.011100697444363088,
           -0.10075000767348159,
           1,
           "v_Urban Blues Project pres. Michael Procter - Love Don't Live (New Birth (Mix) UK Re-Edit).wav",
           "circle",
           "#751017"
          ],
          [
           0.07493568503676526,
           -0.27860211270207813,
           1,
           "v_Urban Blues Project pres. Michael Procter - Love Don't Live (New Birth (Mix) UK Re-Edit).wav",
           "circle",
           "#751017"
          ],
          [
           -0.04624016490344128,
           -0.09146514140407028,
           1,
           "v_Urban Blues Project pres. Michael Procter - Love Don't Live (New Birth (Mix) UK Re-Edit).wav",
           "circle",
           "#751017"
          ],
          [
           -0.09625219859751606,
           -0.3906857246282811,
           1,
           "v_Urban Blues Project pres. Michael Procter - Love Don't Live (New Birth (Mix) UK Re-Edit).wav",
           "circle",
           "#751017"
          ],
          [
           -0.38794388562736243,
           0.31403823934284797,
           1,
           "v_Urban Blues Project pres. Michael Procter - Love Don't Live (New Birth (Mix) UK Re-Edit).wav",
           "circle",
           "#751017"
          ],
          [
           -0.40694300049294685,
           0.34873833706590274,
           1,
           "v_Urban Blues Project pres. Michael Procter - Love Don't Live (New Birth (Mix) UK Re-Edit).wav",
           "circle",
           "#751017"
          ],
          [
           -0.19689022357270075,
           0.3184045153598642,
           1,
           "v_Urban Blues Project pres. Michael Procter - Love Don't Live (New Birth (Mix) UK Re-Edit).wav",
           "circle",
           "#751017"
          ],
          [
           -0.14348824961123008,
           -0.3687010122117048,
           1,
           "v_Urban Blues Project pres. Michael Procter - Love Don't Live (New Birth (Mix) UK Re-Edit).wav",
           "circle",
           "#751017"
          ],
          [
           -0.10437567991053037,
           0.16127075677893693,
           1,
           "v_Urban Blues Project pres. Michael Procter - Love Don't Live (New Birth (Mix) UK Re-Edit).wav",
           "circle",
           "#751017"
          ]
         ],
         "hovertemplate": "<b>%{customdata[3]}</b><br>(%{x:.3f},%{y:.3f})<extra>%{customdata[2]}</extra>",
         "marker": {
          "color": [
           "#751017",
           "#751017",
           "#751017",
           "#751017",
           "#751017",
           "#751017",
           "#751017",
           "#751017",
           "#751017",
           "#751017",
           "#751017",
           "#751017",
           "#751017",
           "#751017",
           "#751017",
           "#751017",
           "#751017"
          ],
          "symbol": [
           "circle",
           "circle",
           "circle",
           "circle",
           "circle",
           "circle",
           "circle",
           "circle",
           "circle",
           "circle",
           "circle",
           "circle",
           "circle",
           "circle",
           "circle",
           "circle",
           "circle"
          ]
         },
         "mode": "markers",
         "name": "48",
         "text": [
          "v_Urban Blues Project pres. Michael Procter - Love Don't Live (New Birth (Mix) UK Re-Edit).wav",
          "v_Urban Blues Project pres. Michael Procter - Love Don't Live (New Birth (Mix) UK Re-Edit).wav",
          "v_Urban Blues Project pres. Michael Procter - Love Don't Live (New Birth (Mix) UK Re-Edit).wav",
          "v_Urban Blues Project pres. Michael Procter - Love Don't Live (New Birth (Mix) UK Re-Edit).wav",
          "v_Urban Blues Project pres. Michael Procter - Love Don't Live (New Birth (Mix) UK Re-Edit).wav",
          "v_Urban Blues Project pres. Michael Procter - Love Don't Live (New Birth (Mix) UK Re-Edit).wav",
          "v_Urban Blues Project pres. Michael Procter - Love Don't Live (New Birth (Mix) UK Re-Edit).wav",
          "v_Urban Blues Project pres. Michael Procter - Love Don't Live (New Birth (Mix) UK Re-Edit).wav",
          "v_Urban Blues Project pres. Michael Procter - Love Don't Live (New Birth (Mix) UK Re-Edit).wav",
          "v_Urban Blues Project pres. Michael Procter - Love Don't Live (New Birth (Mix) UK Re-Edit).wav",
          "v_Urban Blues Project pres. Michael Procter - Love Don't Live (New Birth (Mix) UK Re-Edit).wav",
          "v_Urban Blues Project pres. Michael Procter - Love Don't Live (New Birth (Mix) UK Re-Edit).wav",
          "v_Urban Blues Project pres. Michael Procter - Love Don't Live (New Birth (Mix) UK Re-Edit).wav",
          "v_Urban Blues Project pres. Michael Procter - Love Don't Live (New Birth (Mix) UK Re-Edit).wav",
          "v_Urban Blues Project pres. Michael Procter - Love Don't Live (New Birth (Mix) UK Re-Edit).wav",
          "v_Urban Blues Project pres. Michael Procter - Love Don't Live (New Birth (Mix) UK Re-Edit).wav",
          "v_Urban Blues Project pres. Michael Procter - Love Don't Live (New Birth (Mix) UK Re-Edit).wav"
         ],
         "type": "scatter",
         "x": [
          0.021002032537996936,
          0.5716864041251467,
          0.2178376018545114,
          -0.5487101585942941,
          -0.17686653475627823,
          -0.038777809389683164,
          -0.16022117775032516,
          0.11333302658743595,
          -0.011100697444363088,
          0.07493568503676526,
          -0.04624016490344128,
          -0.09625219859751606,
          -0.38794388562736243,
          -0.40694300049294685,
          -0.19689022357270075,
          -0.14348824961123008,
          -0.10437567991053037
         ],
         "y": [
          -0.03823412436343844,
          0.6573212689106435,
          0.23903546062644074,
          0.30072243549707584,
          0.47505408986264963,
          0.5630847589432487,
          -0.0533663215997248,
          -0.2757122382525464,
          -0.10075000767348159,
          -0.27860211270207813,
          -0.09146514140407028,
          -0.3906857246282811,
          0.31403823934284797,
          0.34873833706590274,
          0.3184045153598642,
          -0.3687010122117048,
          0.16127075677893693
         ]
        },
        {
         "customdata": [
          [
           -0.06432688738323886,
           -0.27286104226741215,
           1,
           "v_Urban Blues Project pres. Michael Procter - Love Don't Live (Original Vibe Mix).wav",
           "circle",
           "#751017"
          ],
          [
           0.08652940178244854,
           -0.19024378760730704,
           1,
           "v_Urban Blues Project pres. Michael Procter - Love Don't Live (Original Vibe Mix).wav",
           "circle",
           "#751017"
          ],
          [
           -0.10160310263327119,
           0.41538698186232176,
           1,
           "v_Urban Blues Project pres. Michael Procter - Love Don't Live (Original Vibe Mix).wav",
           "circle",
           "#751017"
          ],
          [
           0.053022918035172464,
           0.007218649847762719,
           1,
           "v_Urban Blues Project pres. Michael Procter - Love Don't Live (Original Vibe Mix).wav",
           "circle",
           "#751017"
          ],
          [
           0.06888928965458002,
           -0.1144903104632108,
           1,
           "v_Urban Blues Project pres. Michael Procter - Love Don't Live (Original Vibe Mix).wav",
           "circle",
           "#751017"
          ],
          [
           -0.7090817359310486,
           0.3742228624994008,
           1,
           "v_Urban Blues Project pres. Michael Procter - Love Don't Live (Original Vibe Mix).wav",
           "circle",
           "#751017"
          ],
          [
           -0.27525246517789775,
           -0.19440704821356053,
           1,
           "v_Urban Blues Project pres. Michael Procter - Love Don't Live (Original Vibe Mix).wav",
           "circle",
           "#751017"
          ],
          [
           -0.37952255203234936,
           0.47087797689098226,
           1,
           "v_Urban Blues Project pres. Michael Procter - Love Don't Live (Original Vibe Mix).wav",
           "circle",
           "#751017"
          ],
          [
           0.05037866123647548,
           -0.14781834231241814,
           1,
           "v_Urban Blues Project pres. Michael Procter - Love Don't Live (Original Vibe Mix).wav",
           "circle",
           "#751017"
          ],
          [
           0.7478933566218129,
           0.8092505385009308,
           1,
           "v_Urban Blues Project pres. Michael Procter - Love Don't Live (Original Vibe Mix).wav",
           "circle",
           "#751017"
          ],
          [
           -0.0628345422515029,
           -0.008038905228830457,
           1,
           "v_Urban Blues Project pres. Michael Procter - Love Don't Live (Original Vibe Mix).wav",
           "circle",
           "#751017"
          ],
          [
           -0.12632683733023056,
           0.04455980460500086,
           1,
           "v_Urban Blues Project pres. Michael Procter - Love Don't Live (Original Vibe Mix).wav",
           "circle",
           "#751017"
          ],
          [
           0.06034594483124085,
           -0.09377333042374106,
           1,
           "v_Urban Blues Project pres. Michael Procter - Love Don't Live (Original Vibe Mix).wav",
           "circle",
           "#751017"
          ]
         ],
         "hovertemplate": "<b>%{customdata[3]}</b><br>(%{x:.3f},%{y:.3f})<extra>%{customdata[2]}</extra>",
         "marker": {
          "color": [
           "#751017",
           "#751017",
           "#751017",
           "#751017",
           "#751017",
           "#751017",
           "#751017",
           "#751017",
           "#751017",
           "#751017",
           "#751017",
           "#751017",
           "#751017"
          ],
          "symbol": [
           "circle",
           "circle",
           "circle",
           "circle",
           "circle",
           "circle",
           "circle",
           "circle",
           "circle",
           "circle",
           "circle",
           "circle",
           "circle"
          ]
         },
         "mode": "markers",
         "name": "49",
         "text": [
          "v_Urban Blues Project pres. Michael Procter - Love Don't Live (Original Vibe Mix).wav",
          "v_Urban Blues Project pres. Michael Procter - Love Don't Live (Original Vibe Mix).wav",
          "v_Urban Blues Project pres. Michael Procter - Love Don't Live (Original Vibe Mix).wav",
          "v_Urban Blues Project pres. Michael Procter - Love Don't Live (Original Vibe Mix).wav",
          "v_Urban Blues Project pres. Michael Procter - Love Don't Live (Original Vibe Mix).wav",
          "v_Urban Blues Project pres. Michael Procter - Love Don't Live (Original Vibe Mix).wav",
          "v_Urban Blues Project pres. Michael Procter - Love Don't Live (Original Vibe Mix).wav",
          "v_Urban Blues Project pres. Michael Procter - Love Don't Live (Original Vibe Mix).wav",
          "v_Urban Blues Project pres. Michael Procter - Love Don't Live (Original Vibe Mix).wav",
          "v_Urban Blues Project pres. Michael Procter - Love Don't Live (Original Vibe Mix).wav",
          "v_Urban Blues Project pres. Michael Procter - Love Don't Live (Original Vibe Mix).wav",
          "v_Urban Blues Project pres. Michael Procter - Love Don't Live (Original Vibe Mix).wav",
          "v_Urban Blues Project pres. Michael Procter - Love Don't Live (Original Vibe Mix).wav"
         ],
         "type": "scatter",
         "x": [
          -0.06432688738323886,
          0.08652940178244854,
          -0.10160310263327119,
          0.053022918035172464,
          0.06888928965458002,
          -0.7090817359310486,
          -0.27525246517789775,
          -0.37952255203234936,
          0.05037866123647548,
          0.7478933566218129,
          -0.0628345422515029,
          -0.12632683733023056,
          0.06034594483124085
         ],
         "y": [
          -0.27286104226741215,
          -0.19024378760730704,
          0.41538698186232176,
          0.007218649847762719,
          -0.1144903104632108,
          0.3742228624994008,
          -0.19440704821356053,
          0.47087797689098226,
          -0.14781834231241814,
          0.8092505385009308,
          -0.008038905228830457,
          0.04455980460500086,
          -0.09377333042374106
         ]
        },
        {
         "customdata": [
          [
           -0.49325601996018925,
           0.3000031957204319,
           0,
           "v_Urban Blues Project pres. Michael Procter - Love Don't Live (Soulfuruc Dub).wav",
           "circle",
           "#0044FF"
          ],
          [
           -0.07750781508751235,
           0.018318313424140375,
           0,
           "v_Urban Blues Project pres. Michael Procter - Love Don't Live (Soulfuruc Dub).wav",
           "circle",
           "#0044FF"
          ],
          [
           0.16139942559241602,
           -0.12782433253241735,
           0,
           "v_Urban Blues Project pres. Michael Procter - Love Don't Live (Soulfuruc Dub).wav",
           "circle",
           "#0044FF"
          ],
          [
           -0.04312657893457772,
           -0.007070942703974952,
           0,
           "v_Urban Blues Project pres. Michael Procter - Love Don't Live (Soulfuruc Dub).wav",
           "circle",
           "#0044FF"
          ],
          [
           -0.22319939007350414,
           0.11732532637916623,
           0,
           "v_Urban Blues Project pres. Michael Procter - Love Don't Live (Soulfuruc Dub).wav",
           "circle",
           "#0044FF"
          ],
          [
           -0.3569243601274344,
           0.31712725525018814,
           0,
           "v_Urban Blues Project pres. Michael Procter - Love Don't Live (Soulfuruc Dub).wav",
           "circle",
           "#0044FF"
          ],
          [
           1.4366539086262795,
           0.3874370438476781,
           0,
           "v_Urban Blues Project pres. Michael Procter - Love Don't Live (Soulfuruc Dub).wav",
           "circle",
           "#0044FF"
          ],
          [
           -0.0681136611917464,
           -0.4712932683765832,
           0,
           "v_Urban Blues Project pres. Michael Procter - Love Don't Live (Soulfuruc Dub).wav",
           "circle",
           "#0044FF"
          ],
          [
           -0.11873822158509707,
           0.5514731610318623,
           0,
           "v_Urban Blues Project pres. Michael Procter - Love Don't Live (Soulfuruc Dub).wav",
           "circle",
           "#0044FF"
          ],
          [
           0.47779149575164753,
           -0.28102248004682906,
           0,
           "v_Urban Blues Project pres. Michael Procter - Love Don't Live (Soulfuruc Dub).wav",
           "circle",
           "#0044FF"
          ],
          [
           0.10025385040182364,
           -0.21466555342592705,
           0,
           "v_Urban Blues Project pres. Michael Procter - Love Don't Live (Soulfuruc Dub).wav",
           "circle",
           "#0044FF"
          ]
         ],
         "hovertemplate": "<b>%{customdata[3]}</b><br>(%{x:.3f},%{y:.3f})<extra>%{customdata[2]}</extra>",
         "marker": {
          "color": [
           "#0044FF",
           "#0044FF",
           "#0044FF",
           "#0044FF",
           "#0044FF",
           "#0044FF",
           "#0044FF",
           "#0044FF",
           "#0044FF",
           "#0044FF",
           "#0044FF"
          ],
          "symbol": [
           "circle",
           "circle",
           "circle",
           "circle",
           "circle",
           "circle",
           "circle",
           "circle",
           "circle",
           "circle",
           "circle"
          ]
         },
         "mode": "markers",
         "name": "50",
         "text": [
          "v_Urban Blues Project pres. Michael Procter - Love Don't Live (Soulfuruc Dub).wav",
          "v_Urban Blues Project pres. Michael Procter - Love Don't Live (Soulfuruc Dub).wav",
          "v_Urban Blues Project pres. Michael Procter - Love Don't Live (Soulfuruc Dub).wav",
          "v_Urban Blues Project pres. Michael Procter - Love Don't Live (Soulfuruc Dub).wav",
          "v_Urban Blues Project pres. Michael Procter - Love Don't Live (Soulfuruc Dub).wav",
          "v_Urban Blues Project pres. Michael Procter - Love Don't Live (Soulfuruc Dub).wav",
          "v_Urban Blues Project pres. Michael Procter - Love Don't Live (Soulfuruc Dub).wav",
          "v_Urban Blues Project pres. Michael Procter - Love Don't Live (Soulfuruc Dub).wav",
          "v_Urban Blues Project pres. Michael Procter - Love Don't Live (Soulfuruc Dub).wav",
          "v_Urban Blues Project pres. Michael Procter - Love Don't Live (Soulfuruc Dub).wav",
          "v_Urban Blues Project pres. Michael Procter - Love Don't Live (Soulfuruc Dub).wav"
         ],
         "type": "scatter",
         "x": [
          -0.49325601996018925,
          -0.07750781508751235,
          0.16139942559241602,
          -0.04312657893457772,
          -0.22319939007350414,
          -0.3569243601274344,
          1.4366539086262795,
          -0.0681136611917464,
          -0.11873822158509707,
          0.47779149575164753,
          0.10025385040182364
         ],
         "y": [
          0.3000031957204319,
          0.018318313424140375,
          -0.12782433253241735,
          -0.007070942703974952,
          0.11732532637916623,
          0.31712725525018814,
          0.3874370438476781,
          -0.4712932683765832,
          0.5514731610318623,
          -0.28102248004682906,
          -0.21466555342592705
         ]
        },
        {
         "customdata": [
          [
           0.7678462391427162,
           0.790630719947973,
           2,
           "Weisz2 & Aladin Anyebe - Ko Si Eda To Mola (Henrik Schwarz Remix).wav",
           "circle",
           "#48a832"
          ],
          [
           -0.19133472903762364,
           -0.04554144581563374,
           2,
           "Weisz2 & Aladin Anyebe - Ko Si Eda To Mola (Henrik Schwarz Remix).wav",
           "circle",
           "#48a832"
          ],
          [
           0.6456334748879783,
           0.40932399544083997,
           2,
           "Weisz2 & Aladin Anyebe - Ko Si Eda To Mola (Henrik Schwarz Remix).wav",
           "circle",
           "#48a832"
          ],
          [
           -0.2779879148678147,
           -0.029618253087213466,
           2,
           "Weisz2 & Aladin Anyebe - Ko Si Eda To Mola (Henrik Schwarz Remix).wav",
           "circle",
           "#48a832"
          ],
          [
           0.04411827440402559,
           0.26233805023291196,
           2,
           "Weisz2 & Aladin Anyebe - Ko Si Eda To Mola (Henrik Schwarz Remix).wav",
           "circle",
           "#48a832"
          ],
          [
           0.09277864441826493,
           -0.08511694876004597,
           2,
           "Weisz2 & Aladin Anyebe - Ko Si Eda To Mola (Henrik Schwarz Remix).wav",
           "circle",
           "#48a832"
          ],
          [
           0.15935161819766075,
           -0.03673490617530819,
           2,
           "Weisz2 & Aladin Anyebe - Ko Si Eda To Mola (Henrik Schwarz Remix).wav",
           "circle",
           "#48a832"
          ],
          [
           -0.278035457166902,
           0.32430116522662644,
           2,
           "Weisz2 & Aladin Anyebe - Ko Si Eda To Mola (Henrik Schwarz Remix).wav",
           "circle",
           "#48a832"
          ],
          [
           -0.19272228931741134,
           0.34373221356060485,
           2,
           "Weisz2 & Aladin Anyebe - Ko Si Eda To Mola (Henrik Schwarz Remix).wav",
           "circle",
           "#48a832"
          ],
          [
           -0.038448730032368816,
           0.5787774295065276,
           2,
           "Weisz2 & Aladin Anyebe - Ko Si Eda To Mola (Henrik Schwarz Remix).wav",
           "circle",
           "#48a832"
          ],
          [
           0.3641143588176598,
           0.19727310730698933,
           2,
           "Weisz2 & Aladin Anyebe - Ko Si Eda To Mola (Henrik Schwarz Remix).wav",
           "circle",
           "#48a832"
          ],
          [
           -0.4289735856908994,
           -0.5351446064896427,
           2,
           "Weisz2 & Aladin Anyebe - Ko Si Eda To Mola (Henrik Schwarz Remix).wav",
           "circle",
           "#48a832"
          ],
          [
           -0.6829553109544702,
           0.3838273239727641,
           2,
           "Weisz2 & Aladin Anyebe - Ko Si Eda To Mola (Henrik Schwarz Remix).wav",
           "circle",
           "#48a832"
          ],
          [
           0.40813783763761,
           -0.38282001071668137,
           2,
           "Weisz2 & Aladin Anyebe - Ko Si Eda To Mola (Henrik Schwarz Remix).wav",
           "circle",
           "#48a832"
          ],
          [
           0.6967893092015685,
           -0.2590256084120362,
           2,
           "Weisz2 & Aladin Anyebe - Ko Si Eda To Mola (Henrik Schwarz Remix).wav",
           "circle",
           "#48a832"
          ]
         ],
         "hovertemplate": "<b>%{customdata[3]}</b><br>(%{x:.3f},%{y:.3f})<extra>%{customdata[2]}</extra>",
         "marker": {
          "color": [
           "#48a832",
           "#48a832",
           "#48a832",
           "#48a832",
           "#48a832",
           "#48a832",
           "#48a832",
           "#48a832",
           "#48a832",
           "#48a832",
           "#48a832",
           "#48a832",
           "#48a832",
           "#48a832",
           "#48a832"
          ],
          "symbol": [
           "circle",
           "circle",
           "circle",
           "circle",
           "circle",
           "circle",
           "circle",
           "circle",
           "circle",
           "circle",
           "circle",
           "circle",
           "circle",
           "circle",
           "circle"
          ]
         },
         "mode": "markers",
         "name": "51",
         "text": [
          "Weisz2 & Aladin Anyebe - Ko Si Eda To Mola (Henrik Schwarz Remix).wav",
          "Weisz2 & Aladin Anyebe - Ko Si Eda To Mola (Henrik Schwarz Remix).wav",
          "Weisz2 & Aladin Anyebe - Ko Si Eda To Mola (Henrik Schwarz Remix).wav",
          "Weisz2 & Aladin Anyebe - Ko Si Eda To Mola (Henrik Schwarz Remix).wav",
          "Weisz2 & Aladin Anyebe - Ko Si Eda To Mola (Henrik Schwarz Remix).wav",
          "Weisz2 & Aladin Anyebe - Ko Si Eda To Mola (Henrik Schwarz Remix).wav",
          "Weisz2 & Aladin Anyebe - Ko Si Eda To Mola (Henrik Schwarz Remix).wav",
          "Weisz2 & Aladin Anyebe - Ko Si Eda To Mola (Henrik Schwarz Remix).wav",
          "Weisz2 & Aladin Anyebe - Ko Si Eda To Mola (Henrik Schwarz Remix).wav",
          "Weisz2 & Aladin Anyebe - Ko Si Eda To Mola (Henrik Schwarz Remix).wav",
          "Weisz2 & Aladin Anyebe - Ko Si Eda To Mola (Henrik Schwarz Remix).wav",
          "Weisz2 & Aladin Anyebe - Ko Si Eda To Mola (Henrik Schwarz Remix).wav",
          "Weisz2 & Aladin Anyebe - Ko Si Eda To Mola (Henrik Schwarz Remix).wav",
          "Weisz2 & Aladin Anyebe - Ko Si Eda To Mola (Henrik Schwarz Remix).wav",
          "Weisz2 & Aladin Anyebe - Ko Si Eda To Mola (Henrik Schwarz Remix).wav"
         ],
         "type": "scatter",
         "x": [
          0.7678462391427162,
          -0.19133472903762364,
          0.6456334748879783,
          -0.2779879148678147,
          0.04411827440402559,
          0.09277864441826493,
          0.15935161819766075,
          -0.278035457166902,
          -0.19272228931741134,
          -0.038448730032368816,
          0.3641143588176598,
          -0.4289735856908994,
          -0.6829553109544702,
          0.40813783763761,
          0.6967893092015685
         ],
         "y": [
          0.790630719947973,
          -0.04554144581563374,
          0.40932399544083997,
          -0.029618253087213466,
          0.26233805023291196,
          -0.08511694876004597,
          -0.03673490617530819,
          0.32430116522662644,
          0.34373221356060485,
          0.5787774295065276,
          0.19727310730698933,
          -0.5351446064896427,
          0.3838273239727641,
          -0.38282001071668137,
          -0.2590256084120362
         ]
        }
       ],
       "layout": {
        "clickmode": "event+select",
        "legend": {
         "bgcolor": "LightBlue",
         "bordercolor": "Black",
         "borderwidth": 1,
         "font": {
          "color": "black",
          "family": "Courier",
          "size": 10
         }
        },
        "template": {
         "data": {
          "bar": [
           {
            "error_x": {
             "color": "#2a3f5f"
            },
            "error_y": {
             "color": "#2a3f5f"
            },
            "marker": {
             "line": {
              "color": "#E5ECF6",
              "width": 0.5
             }
            },
            "type": "bar"
           }
          ],
          "barpolar": [
           {
            "marker": {
             "line": {
              "color": "#E5ECF6",
              "width": 0.5
             }
            },
            "type": "barpolar"
           }
          ],
          "carpet": [
           {
            "aaxis": {
             "endlinecolor": "#2a3f5f",
             "gridcolor": "white",
             "linecolor": "white",
             "minorgridcolor": "white",
             "startlinecolor": "#2a3f5f"
            },
            "baxis": {
             "endlinecolor": "#2a3f5f",
             "gridcolor": "white",
             "linecolor": "white",
             "minorgridcolor": "white",
             "startlinecolor": "#2a3f5f"
            },
            "type": "carpet"
           }
          ],
          "choropleth": [
           {
            "colorbar": {
             "outlinewidth": 0,
             "ticks": ""
            },
            "type": "choropleth"
           }
          ],
          "contour": [
           {
            "colorbar": {
             "outlinewidth": 0,
             "ticks": ""
            },
            "colorscale": [
             [
              0,
              "#0d0887"
             ],
             [
              0.1111111111111111,
              "#46039f"
             ],
             [
              0.2222222222222222,
              "#7201a8"
             ],
             [
              0.3333333333333333,
              "#9c179e"
             ],
             [
              0.4444444444444444,
              "#bd3786"
             ],
             [
              0.5555555555555556,
              "#d8576b"
             ],
             [
              0.6666666666666666,
              "#ed7953"
             ],
             [
              0.7777777777777778,
              "#fb9f3a"
             ],
             [
              0.8888888888888888,
              "#fdca26"
             ],
             [
              1,
              "#f0f921"
             ]
            ],
            "type": "contour"
           }
          ],
          "contourcarpet": [
           {
            "colorbar": {
             "outlinewidth": 0,
             "ticks": ""
            },
            "type": "contourcarpet"
           }
          ],
          "heatmap": [
           {
            "colorbar": {
             "outlinewidth": 0,
             "ticks": ""
            },
            "colorscale": [
             [
              0,
              "#0d0887"
             ],
             [
              0.1111111111111111,
              "#46039f"
             ],
             [
              0.2222222222222222,
              "#7201a8"
             ],
             [
              0.3333333333333333,
              "#9c179e"
             ],
             [
              0.4444444444444444,
              "#bd3786"
             ],
             [
              0.5555555555555556,
              "#d8576b"
             ],
             [
              0.6666666666666666,
              "#ed7953"
             ],
             [
              0.7777777777777778,
              "#fb9f3a"
             ],
             [
              0.8888888888888888,
              "#fdca26"
             ],
             [
              1,
              "#f0f921"
             ]
            ],
            "type": "heatmap"
           }
          ],
          "heatmapgl": [
           {
            "colorbar": {
             "outlinewidth": 0,
             "ticks": ""
            },
            "colorscale": [
             [
              0,
              "#0d0887"
             ],
             [
              0.1111111111111111,
              "#46039f"
             ],
             [
              0.2222222222222222,
              "#7201a8"
             ],
             [
              0.3333333333333333,
              "#9c179e"
             ],
             [
              0.4444444444444444,
              "#bd3786"
             ],
             [
              0.5555555555555556,
              "#d8576b"
             ],
             [
              0.6666666666666666,
              "#ed7953"
             ],
             [
              0.7777777777777778,
              "#fb9f3a"
             ],
             [
              0.8888888888888888,
              "#fdca26"
             ],
             [
              1,
              "#f0f921"
             ]
            ],
            "type": "heatmapgl"
           }
          ],
          "histogram": [
           {
            "marker": {
             "colorbar": {
              "outlinewidth": 0,
              "ticks": ""
             }
            },
            "type": "histogram"
           }
          ],
          "histogram2d": [
           {
            "colorbar": {
             "outlinewidth": 0,
             "ticks": ""
            },
            "colorscale": [
             [
              0,
              "#0d0887"
             ],
             [
              0.1111111111111111,
              "#46039f"
             ],
             [
              0.2222222222222222,
              "#7201a8"
             ],
             [
              0.3333333333333333,
              "#9c179e"
             ],
             [
              0.4444444444444444,
              "#bd3786"
             ],
             [
              0.5555555555555556,
              "#d8576b"
             ],
             [
              0.6666666666666666,
              "#ed7953"
             ],
             [
              0.7777777777777778,
              "#fb9f3a"
             ],
             [
              0.8888888888888888,
              "#fdca26"
             ],
             [
              1,
              "#f0f921"
             ]
            ],
            "type": "histogram2d"
           }
          ],
          "histogram2dcontour": [
           {
            "colorbar": {
             "outlinewidth": 0,
             "ticks": ""
            },
            "colorscale": [
             [
              0,
              "#0d0887"
             ],
             [
              0.1111111111111111,
              "#46039f"
             ],
             [
              0.2222222222222222,
              "#7201a8"
             ],
             [
              0.3333333333333333,
              "#9c179e"
             ],
             [
              0.4444444444444444,
              "#bd3786"
             ],
             [
              0.5555555555555556,
              "#d8576b"
             ],
             [
              0.6666666666666666,
              "#ed7953"
             ],
             [
              0.7777777777777778,
              "#fb9f3a"
             ],
             [
              0.8888888888888888,
              "#fdca26"
             ],
             [
              1,
              "#f0f921"
             ]
            ],
            "type": "histogram2dcontour"
           }
          ],
          "mesh3d": [
           {
            "colorbar": {
             "outlinewidth": 0,
             "ticks": ""
            },
            "type": "mesh3d"
           }
          ],
          "parcoords": [
           {
            "line": {
             "colorbar": {
              "outlinewidth": 0,
              "ticks": ""
             }
            },
            "type": "parcoords"
           }
          ],
          "scatter": [
           {
            "marker": {
             "colorbar": {
              "outlinewidth": 0,
              "ticks": ""
             }
            },
            "type": "scatter"
           }
          ],
          "scatter3d": [
           {
            "line": {
             "colorbar": {
              "outlinewidth": 0,
              "ticks": ""
             }
            },
            "marker": {
             "colorbar": {
              "outlinewidth": 0,
              "ticks": ""
             }
            },
            "type": "scatter3d"
           }
          ],
          "scattercarpet": [
           {
            "marker": {
             "colorbar": {
              "outlinewidth": 0,
              "ticks": ""
             }
            },
            "type": "scattercarpet"
           }
          ],
          "scattergeo": [
           {
            "marker": {
             "colorbar": {
              "outlinewidth": 0,
              "ticks": ""
             }
            },
            "type": "scattergeo"
           }
          ],
          "scattergl": [
           {
            "marker": {
             "colorbar": {
              "outlinewidth": 0,
              "ticks": ""
             }
            },
            "type": "scattergl"
           }
          ],
          "scattermapbox": [
           {
            "marker": {
             "colorbar": {
              "outlinewidth": 0,
              "ticks": ""
             }
            },
            "type": "scattermapbox"
           }
          ],
          "scatterpolar": [
           {
            "marker": {
             "colorbar": {
              "outlinewidth": 0,
              "ticks": ""
             }
            },
            "type": "scatterpolar"
           }
          ],
          "scatterpolargl": [
           {
            "marker": {
             "colorbar": {
              "outlinewidth": 0,
              "ticks": ""
             }
            },
            "type": "scatterpolargl"
           }
          ],
          "scatterternary": [
           {
            "marker": {
             "colorbar": {
              "outlinewidth": 0,
              "ticks": ""
             }
            },
            "type": "scatterternary"
           }
          ],
          "surface": [
           {
            "colorbar": {
             "outlinewidth": 0,
             "ticks": ""
            },
            "colorscale": [
             [
              0,
              "#0d0887"
             ],
             [
              0.1111111111111111,
              "#46039f"
             ],
             [
              0.2222222222222222,
              "#7201a8"
             ],
             [
              0.3333333333333333,
              "#9c179e"
             ],
             [
              0.4444444444444444,
              "#bd3786"
             ],
             [
              0.5555555555555556,
              "#d8576b"
             ],
             [
              0.6666666666666666,
              "#ed7953"
             ],
             [
              0.7777777777777778,
              "#fb9f3a"
             ],
             [
              0.8888888888888888,
              "#fdca26"
             ],
             [
              1,
              "#f0f921"
             ]
            ],
            "type": "surface"
           }
          ],
          "table": [
           {
            "cells": {
             "fill": {
              "color": "#EBF0F8"
             },
             "line": {
              "color": "white"
             }
            },
            "header": {
             "fill": {
              "color": "#C8D4E3"
             },
             "line": {
              "color": "white"
             }
            },
            "type": "table"
           }
          ]
         },
         "layout": {
          "annotationdefaults": {
           "arrowcolor": "#2a3f5f",
           "arrowhead": 0,
           "arrowwidth": 1
          },
          "colorscale": {
           "diverging": [
            [
             0,
             "#8e0152"
            ],
            [
             0.1,
             "#c51b7d"
            ],
            [
             0.2,
             "#de77ae"
            ],
            [
             0.3,
             "#f1b6da"
            ],
            [
             0.4,
             "#fde0ef"
            ],
            [
             0.5,
             "#f7f7f7"
            ],
            [
             0.6,
             "#e6f5d0"
            ],
            [
             0.7,
             "#b8e186"
            ],
            [
             0.8,
             "#7fbc41"
            ],
            [
             0.9,
             "#4d9221"
            ],
            [
             1,
             "#276419"
            ]
           ],
           "sequential": [
            [
             0,
             "#0d0887"
            ],
            [
             0.1111111111111111,
             "#46039f"
            ],
            [
             0.2222222222222222,
             "#7201a8"
            ],
            [
             0.3333333333333333,
             "#9c179e"
            ],
            [
             0.4444444444444444,
             "#bd3786"
            ],
            [
             0.5555555555555556,
             "#d8576b"
            ],
            [
             0.6666666666666666,
             "#ed7953"
            ],
            [
             0.7777777777777778,
             "#fb9f3a"
            ],
            [
             0.8888888888888888,
             "#fdca26"
            ],
            [
             1,
             "#f0f921"
            ]
           ],
           "sequentialminus": [
            [
             0,
             "#0d0887"
            ],
            [
             0.1111111111111111,
             "#46039f"
            ],
            [
             0.2222222222222222,
             "#7201a8"
            ],
            [
             0.3333333333333333,
             "#9c179e"
            ],
            [
             0.4444444444444444,
             "#bd3786"
            ],
            [
             0.5555555555555556,
             "#d8576b"
            ],
            [
             0.6666666666666666,
             "#ed7953"
            ],
            [
             0.7777777777777778,
             "#fb9f3a"
            ],
            [
             0.8888888888888888,
             "#fdca26"
            ],
            [
             1,
             "#f0f921"
            ]
           ]
          },
          "colorway": [
           "#636efa",
           "#EF553B",
           "#00cc96",
           "#ab63fa",
           "#FFA15A",
           "#19d3f3",
           "#FF6692",
           "#B6E880",
           "#FF97FF",
           "#FECB52"
          ],
          "font": {
           "color": "#2a3f5f"
          },
          "geo": {
           "bgcolor": "white",
           "lakecolor": "white",
           "landcolor": "#E5ECF6",
           "showlakes": true,
           "showland": true,
           "subunitcolor": "white"
          },
          "hoverlabel": {
           "align": "left"
          },
          "hovermode": "closest",
          "mapbox": {
           "style": "light"
          },
          "paper_bgcolor": "white",
          "plot_bgcolor": "#E5ECF6",
          "polar": {
           "angularaxis": {
            "gridcolor": "white",
            "linecolor": "white",
            "ticks": ""
           },
           "bgcolor": "#E5ECF6",
           "radialaxis": {
            "gridcolor": "white",
            "linecolor": "white",
            "ticks": ""
           }
          },
          "scene": {
           "xaxis": {
            "backgroundcolor": "#E5ECF6",
            "gridcolor": "white",
            "gridwidth": 2,
            "linecolor": "white",
            "showbackground": true,
            "ticks": "",
            "zerolinecolor": "white"
           },
           "yaxis": {
            "backgroundcolor": "#E5ECF6",
            "gridcolor": "white",
            "gridwidth": 2,
            "linecolor": "white",
            "showbackground": true,
            "ticks": "",
            "zerolinecolor": "white"
           },
           "zaxis": {
            "backgroundcolor": "#E5ECF6",
            "gridcolor": "white",
            "gridwidth": 2,
            "linecolor": "white",
            "showbackground": true,
            "ticks": "",
            "zerolinecolor": "white"
           }
          },
          "shapedefaults": {
           "line": {
            "color": "#2a3f5f"
           }
          },
          "ternary": {
           "aaxis": {
            "gridcolor": "white",
            "linecolor": "white",
            "ticks": ""
           },
           "baxis": {
            "gridcolor": "white",
            "linecolor": "white",
            "ticks": ""
           },
           "bgcolor": "#E5ECF6",
           "caxis": {
            "gridcolor": "white",
            "linecolor": "white",
            "ticks": ""
           }
          },
          "title": {
           "x": 0.05
          },
          "xaxis": {
           "automargin": true,
           "gridcolor": "white",
           "linecolor": "white",
           "ticks": "",
           "zerolinecolor": "white",
           "zerolinewidth": 2
          },
          "yaxis": {
           "automargin": true,
           "gridcolor": "white",
           "linecolor": "white",
           "ticks": "",
           "zerolinecolor": "white",
           "zerolinewidth": 2
          }
         }
        },
        "title": {
         "text": "Clasificación de secciones importantes de canciones"
        },
        "xaxis": {
         "range": [
          -1.0066581402013948,
          1.5852126220139269
         ]
        },
        "yaxis": {
         "range": [
          -0.9438714117343324,
          1.0105325627510047
         ]
        }
       }
      },
      "text/html": [
       "<div>\n",
       "        \n",
       "        \n",
       "            <div id=\"4c34a512-8468-4d68-b634-ae2db5eabd1c\" class=\"plotly-graph-div\" style=\"height:525px; width:100%;\"></div>\n",
       "            <script type=\"text/javascript\">\n",
       "                require([\"plotly\"], function(Plotly) {\n",
       "                    window.PLOTLYENV=window.PLOTLYENV || {};\n",
       "                    \n",
       "                if (document.getElementById(\"4c34a512-8468-4d68-b634-ae2db5eabd1c\")) {\n",
       "                    Plotly.newPlot(\n",
       "                        '4c34a512-8468-4d68-b634-ae2db5eabd1c',\n",
       "                        [{\"customdata\": [[-0.3367076025603395, -0.13155422573522402, 0, \"Death on the Balcony - Tempt Of Fate.wav\", \"circle\", \"#0044FF\"], [0.18854352609405453, 0.4468232268275252, 0, \"Death on the Balcony - Tempt Of Fate.wav\", \"circle\", \"#0044FF\"], [-0.09508387448095464, -0.3555365249447886, 0, \"Death on the Balcony - Tempt Of Fate.wav\", \"circle\", \"#0044FF\"], [-0.055656114611694354, -0.12294737059760016, 0, \"Death on the Balcony - Tempt Of Fate.wav\", \"circle\", \"#0044FF\"], [-0.029994651341115206, -0.1164089535407332, 0, \"Death on the Balcony - Tempt Of Fate.wav\", \"circle\", \"#0044FF\"], [-0.19213267518308855, -0.3614811051715214, 0, \"Death on the Balcony - Tempt Of Fate.wav\", \"circle\", \"#0044FF\"], [-0.16804946774984925, 0.07232867721225777, 0, \"Death on the Balcony - Tempt Of Fate.wav\", \"circle\", \"#0044FF\"], [0.2043629234461415, -0.3603948871683418, 0, \"Death on the Balcony - Tempt Of Fate.wav\", \"circle\", \"#0044FF\"], [-0.09334316146302869, -0.14858218179962585, 0, \"Death on the Balcony - Tempt Of Fate.wav\", \"circle\", \"#0044FF\"], [-0.07402257884260201, -0.10444996148426448, 0, \"Death on the Balcony - Tempt Of Fate.wav\", \"circle\", \"#0044FF\"], [-0.15319041928310556, 0.07678649338722777, 1, \"Death on the Balcony - Tempt Of Fate.wav\", \"x\", \"#751017\"], [0.014603712145763097, 0.1642112008155044, 0, \"Death on the Balcony - Tempt Of Fate.wav\", \"x\", \"#0044FF\"], [0.3313067814884628, -0.022948847155993754, 1, \"Death on the Balcony - Tempt Of Fate.wav\", \"x\", \"#751017\"], [0.3880620172730879, 0.012357694316355387, 1, \"Death on the Balcony - Tempt Of Fate.wav\", \"x\", \"#751017\"], [0.30442741754343833, -0.0923551306765735, 1, \"Death on the Balcony - Tempt Of Fate.wav\", \"x\", \"#751017\"], [0.2166608714471727, 0.5005883214558078, 0, \"Death on the Balcony - Tempt Of Fate.wav\", \"x\", \"#0044FF\"], [0.0313924414132578, 0.06796402926363444, 3, \"Death on the Balcony - Tempt Of Fate.wav\", \"x\", \"#6b1075\"], [-0.02160692579019205, 0.24027814879325513, 2, \"Death on the Balcony - Tempt Of Fate.wav\", \"x\", \"#48a832\"], [0.004073069994493144, 0.06177411453561114, 2, \"Death on the Balcony - Tempt Of Fate.wav\", \"x\", \"#48a832\"], [0.14826570437144745, -0.05611614118144774, 1, \"Death on the Balcony - Tempt Of Fate.wav\", \"x\", \"#751017\"]], \"hovertemplate\": \"<b>%{customdata[3]}</b><br>(%{x:.3f},%{y:.3f})<extra>%{customdata[2]}</extra>\", \"marker\": {\"color\": [\"#0044FF\", \"#0044FF\", \"#0044FF\", \"#0044FF\", \"#0044FF\", \"#0044FF\", \"#0044FF\", \"#0044FF\", \"#0044FF\", \"#0044FF\", \"#751017\", \"#0044FF\", \"#751017\", \"#751017\", \"#751017\", \"#0044FF\", \"#6b1075\", \"#48a832\", \"#48a832\", \"#751017\"], \"symbol\": [\"circle\", \"circle\", \"circle\", \"circle\", \"circle\", \"circle\", \"circle\", \"circle\", \"circle\", \"circle\", \"x\", \"x\", \"x\", \"x\", \"x\", \"x\", \"x\", \"x\", \"x\", \"x\"]}, \"mode\": \"markers\", \"name\": \"0\", \"text\": [\"Death on the Balcony - Tempt Of Fate.wav\", \"Death on the Balcony - Tempt Of Fate.wav\", \"Death on the Balcony - Tempt Of Fate.wav\", \"Death on the Balcony - Tempt Of Fate.wav\", \"Death on the Balcony - Tempt Of Fate.wav\", \"Death on the Balcony - Tempt Of Fate.wav\", \"Death on the Balcony - Tempt Of Fate.wav\", \"Death on the Balcony - Tempt Of Fate.wav\", \"Death on the Balcony - Tempt Of Fate.wav\", \"Death on the Balcony - Tempt Of Fate.wav\", \"Death on the Balcony - Tempt Of Fate.wav\", \"Death on the Balcony - Tempt Of Fate.wav\", \"Death on the Balcony - Tempt Of Fate.wav\", \"Death on the Balcony - Tempt Of Fate.wav\", \"Death on the Balcony - Tempt Of Fate.wav\", \"Death on the Balcony - Tempt Of Fate.wav\", \"Death on the Balcony - Tempt Of Fate.wav\", \"Death on the Balcony - Tempt Of Fate.wav\", \"Death on the Balcony - Tempt Of Fate.wav\", \"Death on the Balcony - Tempt Of Fate.wav\"], \"type\": \"scatter\", \"x\": [-0.3367076025603395, 0.18854352609405453, -0.09508387448095464, -0.055656114611694354, -0.029994651341115206, -0.19213267518308855, -0.16804946774984925, 0.2043629234461415, -0.09334316146302869, -0.07402257884260201, -0.15319041928310556, 0.014603712145763097, 0.3313067814884628, 0.3880620172730879, 0.30442741754343833, 0.2166608714471727, 0.0313924414132578, -0.02160692579019205, 0.004073069994493144, 0.14826570437144745], \"y\": [-0.13155422573522402, 0.4468232268275252, -0.3555365249447886, -0.12294737059760016, -0.1164089535407332, -0.3614811051715214, 0.07232867721225777, -0.3603948871683418, -0.14858218179962585, -0.10444996148426448, 0.07678649338722777, 0.1642112008155044, -0.022948847155993754, 0.012357694316355387, -0.0923551306765735, 0.5005883214558078, 0.06796402926363444, 0.24027814879325513, 0.06177411453561114, -0.05611614118144774]}, {\"customdata\": [[-0.07824992598094171, 0.14148169526956292, 1, \"Detlef - Kinky Tail.wav\", \"circle\", \"#751017\"], [-0.1908940355921832, 0.45369873946480327, 1, \"Detlef - Kinky Tail.wav\", \"circle\", \"#751017\"], [0.20826504888654584, -0.21159098933129178, 1, \"Detlef - Kinky Tail.wav\", \"circle\", \"#751017\"], [-0.2811599103261965, 0.5178904589032622, 1, \"Detlef - Kinky Tail.wav\", \"circle\", \"#751017\"], [-0.0765980279583952, -0.1766908278179292, 1, \"Detlef - Kinky Tail.wav\", \"circle\", \"#751017\"], [-0.16579653992842747, -0.2252948472022602, 1, \"Detlef - Kinky Tail.wav\", \"circle\", \"#751017\"], [0.0956350046468532, -0.04790274292456259, 1, \"Detlef - Kinky Tail.wav\", \"circle\", \"#751017\"], [-0.2087997534722006, 0.1073361459966492, 1, \"Detlef - Kinky Tail.wav\", \"circle\", \"#751017\"], [-0.2598257423679903, 0.4574826120570055, 1, \"Detlef - Kinky Tail.wav\", \"circle\", \"#751017\"], [0.49238019947295913, -0.3752297272890821, 1, \"Detlef - Kinky Tail.wav\", \"circle\", \"#751017\"], [-0.0428159719376126, -0.1949150102400854, 1, \"Detlef - Kinky Tail.wav\", \"x\", \"#751017\"], [-0.4919455515006657, -0.29471944798831023, 0, \"Detlef - Kinky Tail.wav\", \"x\", \"#0044FF\"], [0.08352750613444748, 0.051026337140182634, 1, \"Detlef - Kinky Tail.wav\", \"x\", \"#751017\"], [-0.23999515320848427, 0.2783128908393267, 3, \"Detlef - Kinky Tail.wav\", \"x\", \"#6b1075\"], [0.4062258420658834, -0.036618663116046196, 1, \"Detlef - Kinky Tail.wav\", \"x\", \"#751017\"], [-0.0030005346266055387, 0.34799091038258506, 0, \"Detlef - Kinky Tail.wav\", \"x\", \"#0044FF\"], [0.02718124620582358, -0.01955184519842718, 3, \"Detlef - Kinky Tail.wav\", \"x\", \"#6b1075\"], [0.07259327303851398, -0.04297360873903879, 1, \"Detlef - Kinky Tail.wav\", \"x\", \"#751017\"], [0.5468633817827563, -0.39551664584327195, 0, \"Detlef - Kinky Tail.wav\", \"x\", \"#0044FF\"], [0.6462457007942417, 0.1392927666253729, 0, \"Detlef - Kinky Tail.wav\", \"x\", \"#0044FF\"]], \"hovertemplate\": \"<b>%{customdata[3]}</b><br>(%{x:.3f},%{y:.3f})<extra>%{customdata[2]}</extra>\", \"marker\": {\"color\": [\"#751017\", \"#751017\", \"#751017\", \"#751017\", \"#751017\", \"#751017\", \"#751017\", \"#751017\", \"#751017\", \"#751017\", \"#751017\", \"#0044FF\", \"#751017\", \"#6b1075\", \"#751017\", \"#0044FF\", \"#6b1075\", \"#751017\", \"#0044FF\", \"#0044FF\"], \"symbol\": [\"circle\", \"circle\", \"circle\", \"circle\", \"circle\", \"circle\", \"circle\", \"circle\", \"circle\", \"circle\", \"x\", \"x\", \"x\", \"x\", \"x\", \"x\", \"x\", \"x\", \"x\", \"x\"]}, \"mode\": \"markers\", \"name\": \"1\", \"text\": [\"Detlef - Kinky Tail.wav\", \"Detlef - Kinky Tail.wav\", \"Detlef - Kinky Tail.wav\", \"Detlef - Kinky Tail.wav\", \"Detlef - Kinky Tail.wav\", \"Detlef - Kinky Tail.wav\", \"Detlef - Kinky Tail.wav\", \"Detlef - Kinky Tail.wav\", \"Detlef - Kinky Tail.wav\", \"Detlef - Kinky Tail.wav\", \"Detlef - Kinky Tail.wav\", \"Detlef - Kinky Tail.wav\", \"Detlef - Kinky Tail.wav\", \"Detlef - Kinky Tail.wav\", \"Detlef - Kinky Tail.wav\", \"Detlef - Kinky Tail.wav\", \"Detlef - Kinky Tail.wav\", \"Detlef - Kinky Tail.wav\", \"Detlef - Kinky Tail.wav\", \"Detlef - Kinky Tail.wav\"], \"type\": \"scatter\", \"x\": [-0.07824992598094171, -0.1908940355921832, 0.20826504888654584, -0.2811599103261965, -0.0765980279583952, -0.16579653992842747, 0.0956350046468532, -0.2087997534722006, -0.2598257423679903, 0.49238019947295913, -0.0428159719376126, -0.4919455515006657, 0.08352750613444748, -0.23999515320848427, 0.4062258420658834, -0.0030005346266055387, 0.02718124620582358, 0.07259327303851398, 0.5468633817827563, 0.6462457007942417], \"y\": [0.14148169526956292, 0.45369873946480327, -0.21159098933129178, 0.5178904589032622, -0.1766908278179292, -0.2252948472022602, -0.04790274292456259, 0.1073361459966492, 0.4574826120570055, -0.3752297272890821, -0.1949150102400854, -0.29471944798831023, 0.051026337140182634, 0.2783128908393267, -0.036618663116046196, 0.34799091038258506, -0.01955184519842718, -0.04297360873903879, -0.39551664584327195, 0.1392927666253729]}, {\"customdata\": [[-0.0802354307085237, -0.16607595947363693, 0, \"Ebo Taylor & Pat Thomas & Henrik Schwarz -  Ene Nyame 'A' Mensuro (Henrik Schwarz Blend).wav\", \"circle\", \"#0044FF\"], [0.6470982375038586, 0.4037653649485385, 0, \"Ebo Taylor & Pat Thomas & Henrik Schwarz -  Ene Nyame 'A' Mensuro (Henrik Schwarz Blend).wav\", \"circle\", \"#0044FF\"], [0.1119167521371902, -0.20807222458005176, 0, \"Ebo Taylor & Pat Thomas & Henrik Schwarz -  Ene Nyame 'A' Mensuro (Henrik Schwarz Blend).wav\", \"circle\", \"#0044FF\"], [0.0917536429757319, -0.028473789481617915, 0, \"Ebo Taylor & Pat Thomas & Henrik Schwarz -  Ene Nyame 'A' Mensuro (Henrik Schwarz Blend).wav\", \"circle\", \"#0044FF\"], [-0.7348441608899666, 0.2716948289775202, 0, \"Ebo Taylor & Pat Thomas & Henrik Schwarz -  Ene Nyame 'A' Mensuro (Henrik Schwarz Blend).wav\", \"circle\", \"#0044FF\"], [-0.3824087158620301, -0.1422157716715037, 0, \"Ebo Taylor & Pat Thomas & Henrik Schwarz -  Ene Nyame 'A' Mensuro (Henrik Schwarz Blend).wav\", \"circle\", \"#0044FF\"], [-0.2043881358137045, -0.17206469942291405, 0, \"Ebo Taylor & Pat Thomas & Henrik Schwarz -  Ene Nyame 'A' Mensuro (Henrik Schwarz Blend).wav\", \"circle\", \"#0044FF\"], [0.2476514860985597, -0.47227961759246045, 0, \"Ebo Taylor & Pat Thomas & Henrik Schwarz -  Ene Nyame 'A' Mensuro (Henrik Schwarz Blend).wav\", \"circle\", \"#0044FF\"], [1.4852126220139268, 0.4688290383274623, 0, \"Ebo Taylor & Pat Thomas & Henrik Schwarz -  Ene Nyame 'A' Mensuro (Henrik Schwarz Blend).wav\", \"circle\", \"#0044FF\"], [-0.020456658501719554, -0.16850125503988922, 0, \"Ebo Taylor & Pat Thomas & Henrik Schwarz -  Ene Nyame 'A' Mensuro (Henrik Schwarz Blend).wav\", \"circle\", \"#0044FF\"], [-0.11775476619644105, -0.35187865968977156, 0, \"Ebo Taylor & Pat Thomas & Henrik Schwarz -  Ene Nyame 'A' Mensuro (Henrik Schwarz Blend).wav\", \"circle\", \"#0044FF\"], [0.012911931256103416, -0.22081112531103353, 0, \"Ebo Taylor & Pat Thomas & Henrik Schwarz -  Ene Nyame 'A' Mensuro (Henrik Schwarz Blend).wav\", \"circle\", \"#0044FF\"], [0.03638968042528831, -0.08858950784262883, 0, \"Ebo Taylor & Pat Thomas & Henrik Schwarz -  Ene Nyame 'A' Mensuro (Henrik Schwarz Blend).wav\", \"circle\", \"#0044FF\"], [-0.04335164305385253, -0.00016191381815797238, 1, \"Ebo Taylor & Pat Thomas & Henrik Schwarz -  Ene Nyame 'A' Mensuro (Henrik Schwarz Blend).wav\", \"x\", \"#751017\"], [-0.16570511083461997, -0.18790099439785055, 2, \"Ebo Taylor & Pat Thomas & Henrik Schwarz -  Ene Nyame 'A' Mensuro (Henrik Schwarz Blend).wav\", \"x\", \"#48a832\"], [0.18939002402173416, 0.11655144345768705, 2, \"Ebo Taylor & Pat Thomas & Henrik Schwarz -  Ene Nyame 'A' Mensuro (Henrik Schwarz Blend).wav\", \"x\", \"#48a832\"], [-0.8901210573570258, -1.3497104740181067e-05, 0, \"Ebo Taylor & Pat Thomas & Henrik Schwarz -  Ene Nyame 'A' Mensuro (Henrik Schwarz Blend).wav\", \"x\", \"#0044FF\"], [-0.1588212334455725, -0.3942325428947609, 0, \"Ebo Taylor & Pat Thomas & Henrik Schwarz -  Ene Nyame 'A' Mensuro (Henrik Schwarz Blend).wav\", \"x\", \"#0044FF\"], [-0.242528863880495, -0.6905248422930589, 0, \"Ebo Taylor & Pat Thomas & Henrik Schwarz -  Ene Nyame 'A' Mensuro (Henrik Schwarz Blend).wav\", \"x\", \"#0044FF\"], [-0.2767195053734809, -0.4165087123908388, 0, \"Ebo Taylor & Pat Thomas & Henrik Schwarz -  Ene Nyame 'A' Mensuro (Henrik Schwarz Blend).wav\", \"x\", \"#0044FF\"], [-0.026312205630815405, 0.06245812083265595, 2, \"Ebo Taylor & Pat Thomas & Henrik Schwarz -  Ene Nyame 'A' Mensuro (Henrik Schwarz Blend).wav\", \"x\", \"#48a832\"], [0.3106811307910648, 0.05166599639628557, 1, \"Ebo Taylor & Pat Thomas & Henrik Schwarz -  Ene Nyame 'A' Mensuro (Henrik Schwarz Blend).wav\", \"x\", \"#751017\"], [0.2595322131462502, -0.003414361940466784, 2, \"Ebo Taylor & Pat Thomas & Henrik Schwarz -  Ene Nyame 'A' Mensuro (Henrik Schwarz Blend).wav\", \"x\", \"#48a832\"], [-0.1520254017748551, 0.2559811708039671, 1, \"Ebo Taylor & Pat Thomas & Henrik Schwarz -  Ene Nyame 'A' Mensuro (Henrik Schwarz Blend).wav\", \"x\", \"#751017\"], [0.20293608995073878, 0.11266335566194191, 1, \"Ebo Taylor & Pat Thomas & Henrik Schwarz -  Ene Nyame 'A' Mensuro (Henrik Schwarz Blend).wav\", \"x\", \"#751017\"], [-0.38292401367161394, 0.4310525993587091, 3, \"Ebo Taylor & Pat Thomas & Henrik Schwarz -  Ene Nyame 'A' Mensuro (Henrik Schwarz Blend).wav\", \"x\", \"#6b1075\"]], \"hovertemplate\": \"<b>%{customdata[3]}</b><br>(%{x:.3f},%{y:.3f})<extra>%{customdata[2]}</extra>\", \"marker\": {\"color\": [\"#0044FF\", \"#0044FF\", \"#0044FF\", \"#0044FF\", \"#0044FF\", \"#0044FF\", \"#0044FF\", \"#0044FF\", \"#0044FF\", \"#0044FF\", \"#0044FF\", \"#0044FF\", \"#0044FF\", \"#751017\", \"#48a832\", \"#48a832\", \"#0044FF\", \"#0044FF\", \"#0044FF\", \"#0044FF\", \"#48a832\", \"#751017\", \"#48a832\", \"#751017\", \"#751017\", \"#6b1075\"], \"symbol\": [\"circle\", \"circle\", \"circle\", \"circle\", \"circle\", \"circle\", \"circle\", \"circle\", \"circle\", \"circle\", \"circle\", \"circle\", \"circle\", \"x\", \"x\", \"x\", \"x\", \"x\", \"x\", \"x\", \"x\", \"x\", \"x\", \"x\", \"x\", \"x\"]}, \"mode\": \"markers\", \"name\": \"2\", \"text\": [\"Ebo Taylor & Pat Thomas & Henrik Schwarz -  Ene Nyame 'A' Mensuro (Henrik Schwarz Blend).wav\", \"Ebo Taylor & Pat Thomas & Henrik Schwarz -  Ene Nyame 'A' Mensuro (Henrik Schwarz Blend).wav\", \"Ebo Taylor & Pat Thomas & Henrik Schwarz -  Ene Nyame 'A' Mensuro (Henrik Schwarz Blend).wav\", \"Ebo Taylor & Pat Thomas & Henrik Schwarz -  Ene Nyame 'A' Mensuro (Henrik Schwarz Blend).wav\", \"Ebo Taylor & Pat Thomas & Henrik Schwarz -  Ene Nyame 'A' Mensuro (Henrik Schwarz Blend).wav\", \"Ebo Taylor & Pat Thomas & Henrik Schwarz -  Ene Nyame 'A' Mensuro (Henrik Schwarz Blend).wav\", \"Ebo Taylor & Pat Thomas & Henrik Schwarz -  Ene Nyame 'A' Mensuro (Henrik Schwarz Blend).wav\", \"Ebo Taylor & Pat Thomas & Henrik Schwarz -  Ene Nyame 'A' Mensuro (Henrik Schwarz Blend).wav\", \"Ebo Taylor & Pat Thomas & Henrik Schwarz -  Ene Nyame 'A' Mensuro (Henrik Schwarz Blend).wav\", \"Ebo Taylor & Pat Thomas & Henrik Schwarz -  Ene Nyame 'A' Mensuro (Henrik Schwarz Blend).wav\", \"Ebo Taylor & Pat Thomas & Henrik Schwarz -  Ene Nyame 'A' Mensuro (Henrik Schwarz Blend).wav\", \"Ebo Taylor & Pat Thomas & Henrik Schwarz -  Ene Nyame 'A' Mensuro (Henrik Schwarz Blend).wav\", \"Ebo Taylor & Pat Thomas & Henrik Schwarz -  Ene Nyame 'A' Mensuro (Henrik Schwarz Blend).wav\", \"Ebo Taylor & Pat Thomas & Henrik Schwarz -  Ene Nyame 'A' Mensuro (Henrik Schwarz Blend).wav\", \"Ebo Taylor & Pat Thomas & Henrik Schwarz -  Ene Nyame 'A' Mensuro (Henrik Schwarz Blend).wav\", \"Ebo Taylor & Pat Thomas & Henrik Schwarz -  Ene Nyame 'A' Mensuro (Henrik Schwarz Blend).wav\", \"Ebo Taylor & Pat Thomas & Henrik Schwarz -  Ene Nyame 'A' Mensuro (Henrik Schwarz Blend).wav\", \"Ebo Taylor & Pat Thomas & Henrik Schwarz -  Ene Nyame 'A' Mensuro (Henrik Schwarz Blend).wav\", \"Ebo Taylor & Pat Thomas & Henrik Schwarz -  Ene Nyame 'A' Mensuro (Henrik Schwarz Blend).wav\", \"Ebo Taylor & Pat Thomas & Henrik Schwarz -  Ene Nyame 'A' Mensuro (Henrik Schwarz Blend).wav\", \"Ebo Taylor & Pat Thomas & Henrik Schwarz -  Ene Nyame 'A' Mensuro (Henrik Schwarz Blend).wav\", \"Ebo Taylor & Pat Thomas & Henrik Schwarz -  Ene Nyame 'A' Mensuro (Henrik Schwarz Blend).wav\", \"Ebo Taylor & Pat Thomas & Henrik Schwarz -  Ene Nyame 'A' Mensuro (Henrik Schwarz Blend).wav\", \"Ebo Taylor & Pat Thomas & Henrik Schwarz -  Ene Nyame 'A' Mensuro (Henrik Schwarz Blend).wav\", \"Ebo Taylor & Pat Thomas & Henrik Schwarz -  Ene Nyame 'A' Mensuro (Henrik Schwarz Blend).wav\", \"Ebo Taylor & Pat Thomas & Henrik Schwarz -  Ene Nyame 'A' Mensuro (Henrik Schwarz Blend).wav\"], \"type\": \"scatter\", \"x\": [-0.0802354307085237, 0.6470982375038586, 0.1119167521371902, 0.0917536429757319, -0.7348441608899666, -0.3824087158620301, -0.2043881358137045, 0.2476514860985597, 1.4852126220139268, -0.020456658501719554, -0.11775476619644105, 0.012911931256103416, 0.03638968042528831, -0.04335164305385253, -0.16570511083461997, 0.18939002402173416, -0.8901210573570258, -0.1588212334455725, -0.242528863880495, -0.2767195053734809, -0.026312205630815405, 0.3106811307910648, 0.2595322131462502, -0.1520254017748551, 0.20293608995073878, -0.38292401367161394], \"y\": [-0.16607595947363693, 0.4037653649485385, -0.20807222458005176, -0.028473789481617915, 0.2716948289775202, -0.1422157716715037, -0.17206469942291405, -0.47227961759246045, 0.4688290383274623, -0.16850125503988922, -0.35187865968977156, -0.22081112531103353, -0.08858950784262883, -0.00016191381815797238, -0.18790099439785055, 0.11655144345768705, -1.3497104740181067e-05, -0.3942325428947609, -0.6905248422930589, -0.4165087123908388, 0.06245812083265595, 0.05166599639628557, -0.003414361940466784, 0.2559811708039671, 0.11266335566194191, 0.4310525993587091]}, {\"customdata\": [[-0.24448909509828876, -0.07033533826541624, 0, \"Hot Since 82 - Play The Room.wav\", \"circle\", \"#0044FF\"], [-0.14714814066506351, -0.11945458280261144, 0, \"Hot Since 82 - Play The Room.wav\", \"circle\", \"#0044FF\"], [-0.2067734183800922, -0.055917044185421844, 0, \"Hot Since 82 - Play The Room.wav\", \"circle\", \"#0044FF\"], [0.0339127496969304, -0.19000707497716182, 0, \"Hot Since 82 - Play The Room.wav\", \"circle\", \"#0044FF\"], [0.07996511540852132, -0.03250954546752108, 0, \"Hot Since 82 - Play The Room.wav\", \"circle\", \"#0044FF\"], [-0.14356046419991314, 0.4759917041934254, 0, \"Hot Since 82 - Play The Room.wav\", \"circle\", \"#0044FF\"], [-0.2565086431818425, -0.2348067753633853, 0, \"Hot Since 82 - Play The Room.wav\", \"circle\", \"#0044FF\"], [-0.30017877829172274, 0.4780370825613999, 0, \"Hot Since 82 - Play The Room.wav\", \"circle\", \"#0044FF\"], [0.43412567233817356, 0.08244334966082967, 0, \"Hot Since 82 - Play The Room.wav\", \"circle\", \"#0044FF\"], [-0.6630347940413857, -0.10485945626246695, 0, \"Hot Since 82 - Play The Room.wav\", \"circle\", \"#0044FF\"], [0.10306209509051095, -0.1007076001084811, 0, \"Hot Since 82 - Play The Room.wav\", \"circle\", \"#0044FF\"], [0.14627701669286702, 0.017859755240697994, 0, \"Hot Since 82 - Play The Room.wav\", \"circle\", \"#0044FF\"], [-0.16509932343473543, 0.32169079191601324, 0, \"Hot Since 82 - Play The Room.wav\", \"circle\", \"#0044FF\"], [-0.1971774654218814, -0.33698876135166944, 0, \"Hot Since 82 - Play The Room.wav\", \"circle\", \"#0044FF\"], [-0.2122206018804677, -0.12149258829379503, 0, \"Hot Since 82 - Play The Room.wav\", \"circle\", \"#0044FF\"], [0.3661403403373175, 0.268924175600537, 0, \"Hot Since 82 - Play The Room.wav\", \"circle\", \"#0044FF\"], [0.11764219322770754, -0.07924756228038622, 1, \"Hot Since 82 - Play The Room.wav\", \"x\", \"#751017\"], [0.4168628664235634, -0.049010028696575614, 1, \"Hot Since 82 - Play The Room.wav\", \"x\", \"#751017\"], [-0.06598313579494011, 0.06807806124151881, 3, \"Hot Since 82 - Play The Room.wav\", \"x\", \"#6b1075\"], [0.344010636607291, -0.059840998674115804, 2, \"Hot Since 82 - Play The Room.wav\", \"x\", \"#48a832\"], [0.20944881434995577, -0.004429374211875229, 3, \"Hot Since 82 - Play The Room.wav\", \"x\", \"#6b1075\"], [0.12738266370769177, 0.21424253640959529, 1, \"Hot Since 82 - Play The Room.wav\", \"x\", \"#751017\"], [-0.2307734547494021, 0.11282989967448631, 1, \"Hot Since 82 - Play The Room.wav\", \"x\", \"#751017\"], [0.22579033558446782, 0.019171622947167052, 2, \"Hot Since 82 - Play The Room.wav\", \"x\", \"#48a832\"], [-0.2452093541329985, -0.40234183085974096, 2, \"Hot Since 82 - Play The Room.wav\", \"x\", \"#48a832\"], [0.2619710741594396, 0.6515099225766383, 0, \"Hot Since 82 - Play The Room.wav\", \"x\", \"#0044FF\"], [0.038540417300920324, -0.16011586805774794, 1, \"Hot Since 82 - Play The Room.wav\", \"x\", \"#751017\"], [-0.22197381201071967, -0.42989557467441886, 2, \"Hot Since 82 - Play The Room.wav\", \"x\", \"#48a832\"], [0.5330521348218719, -0.2546670195914705, 0, \"Hot Since 82 - Play The Room.wav\", \"x\", \"#0044FF\"], [0.09105137673158245, -0.027238654374880628, 1, \"Hot Since 82 - Play The Room.wav\", \"x\", \"#751017\"], [-0.02590543609741255, 0.15118053651395044, 1, \"Hot Since 82 - Play The Room.wav\", \"x\", \"#751017\"], [0.6641677393188862, 0.030191930976573148, 0, \"Hot Since 82 - Play The Room.wav\", \"x\", \"#0044FF\"]], \"hovertemplate\": \"<b>%{customdata[3]}</b><br>(%{x:.3f},%{y:.3f})<extra>%{customdata[2]}</extra>\", \"marker\": {\"color\": [\"#0044FF\", \"#0044FF\", \"#0044FF\", \"#0044FF\", \"#0044FF\", \"#0044FF\", \"#0044FF\", \"#0044FF\", \"#0044FF\", \"#0044FF\", \"#0044FF\", \"#0044FF\", \"#0044FF\", \"#0044FF\", \"#0044FF\", \"#0044FF\", \"#751017\", \"#751017\", \"#6b1075\", \"#48a832\", \"#6b1075\", \"#751017\", \"#751017\", \"#48a832\", \"#48a832\", \"#0044FF\", \"#751017\", \"#48a832\", \"#0044FF\", \"#751017\", \"#751017\", \"#0044FF\"], \"symbol\": [\"circle\", \"circle\", \"circle\", \"circle\", \"circle\", \"circle\", \"circle\", \"circle\", \"circle\", \"circle\", \"circle\", \"circle\", \"circle\", \"circle\", \"circle\", \"circle\", \"x\", \"x\", \"x\", \"x\", \"x\", \"x\", \"x\", \"x\", \"x\", \"x\", \"x\", \"x\", \"x\", \"x\", \"x\", \"x\"]}, \"mode\": \"markers\", \"name\": \"3\", \"text\": [\"Hot Since 82 - Play The Room.wav\", \"Hot Since 82 - Play The Room.wav\", \"Hot Since 82 - Play The Room.wav\", \"Hot Since 82 - Play The Room.wav\", \"Hot Since 82 - Play The Room.wav\", \"Hot Since 82 - Play The Room.wav\", \"Hot Since 82 - Play The Room.wav\", \"Hot Since 82 - Play The Room.wav\", \"Hot Since 82 - Play The Room.wav\", \"Hot Since 82 - Play The Room.wav\", \"Hot Since 82 - Play The Room.wav\", \"Hot Since 82 - Play The Room.wav\", \"Hot Since 82 - Play The Room.wav\", \"Hot Since 82 - Play The Room.wav\", \"Hot Since 82 - Play The Room.wav\", \"Hot Since 82 - Play The Room.wav\", \"Hot Since 82 - Play The Room.wav\", \"Hot Since 82 - Play The Room.wav\", \"Hot Since 82 - Play The Room.wav\", \"Hot Since 82 - Play The Room.wav\", \"Hot Since 82 - Play The Room.wav\", \"Hot Since 82 - Play The Room.wav\", \"Hot Since 82 - Play The Room.wav\", \"Hot Since 82 - Play The Room.wav\", \"Hot Since 82 - Play The Room.wav\", \"Hot Since 82 - Play The Room.wav\", \"Hot Since 82 - Play The Room.wav\", \"Hot Since 82 - Play The Room.wav\", \"Hot Since 82 - Play The Room.wav\", \"Hot Since 82 - Play The Room.wav\", \"Hot Since 82 - Play The Room.wav\", \"Hot Since 82 - Play The Room.wav\"], \"type\": \"scatter\", \"x\": [-0.24448909509828876, -0.14714814066506351, -0.2067734183800922, 0.0339127496969304, 0.07996511540852132, -0.14356046419991314, -0.2565086431818425, -0.30017877829172274, 0.43412567233817356, -0.6630347940413857, 0.10306209509051095, 0.14627701669286702, -0.16509932343473543, -0.1971774654218814, -0.2122206018804677, 0.3661403403373175, 0.11764219322770754, 0.4168628664235634, -0.06598313579494011, 0.344010636607291, 0.20944881434995577, 0.12738266370769177, -0.2307734547494021, 0.22579033558446782, -0.2452093541329985, 0.2619710741594396, 0.038540417300920324, -0.22197381201071967, 0.5330521348218719, 0.09105137673158245, -0.02590543609741255, 0.6641677393188862], \"y\": [-0.07033533826541624, -0.11945458280261144, -0.055917044185421844, -0.19000707497716182, -0.03250954546752108, 0.4759917041934254, -0.2348067753633853, 0.4780370825613999, 0.08244334966082967, -0.10485945626246695, -0.1007076001084811, 0.017859755240697994, 0.32169079191601324, -0.33698876135166944, -0.12149258829379503, 0.268924175600537, -0.07924756228038622, -0.049010028696575614, 0.06807806124151881, -0.059840998674115804, -0.004429374211875229, 0.21424253640959529, 0.11282989967448631, 0.019171622947167052, -0.40234183085974096, 0.6515099225766383, -0.16011586805774794, -0.42989557467441886, -0.2546670195914705, -0.027238654374880628, 0.15118053651395044, 0.030191930976573148]}, {\"customdata\": [[-0.7375960126347227, 0.4723270550981914, 0, \"Hot Since 82 - Veins.wav\", \"circle\", \"#0044FF\"], [-0.13678581755764965, 0.24006035082163718, 0, \"Hot Since 82 - Veins.wav\", \"circle\", \"#0044FF\"], [0.017193589434104994, -0.11763321145962208, 0, \"Hot Since 82 - Veins.wav\", \"circle\", \"#0044FF\"], [0.0964920380629949, 0.0038493812029820025, 0, \"Hot Since 82 - Veins.wav\", \"circle\", \"#0044FF\"], [-0.07423978720548823, 0.09949390663124344, 0, \"Hot Since 82 - Veins.wav\", \"circle\", \"#0044FF\"], [-0.17323496044940534, 0.47172751414689124, 0, \"Hot Since 82 - Veins.wav\", \"circle\", \"#0044FF\"], [0.02035430305550605, -0.24957886138719207, 0, \"Hot Since 82 - Veins.wav\", \"circle\", \"#0044FF\"], [0.06506592493486751, -0.15911134833472831, 0, \"Hot Since 82 - Veins.wav\", \"circle\", \"#0044FF\"], [-0.026520047058377134, -0.08640576373958575, 0, \"Hot Since 82 - Veins.wav\", \"circle\", \"#0044FF\"], [0.16932261206765764, -0.11544276106624694, 0, \"Hot Since 82 - Veins.wav\", \"circle\", \"#0044FF\"], [0.025801187414652024, 0.012508496250135632, 0, \"Hot Since 82 - Veins.wav\", \"circle\", \"#0044FF\"], [0.23329304228611264, -0.16967312477352128, 0, \"Hot Since 82 - Veins.wav\", \"circle\", \"#0044FF\"], [0.02670356947752794, -0.029577931740206367, 3, \"Hot Since 82 - Veins.wav\", \"x\", \"#6b1075\"], [-0.9009652396339507, 0.011250738765469484, 0, \"Hot Since 82 - Veins.wav\", \"x\", \"#0044FF\"], [-0.2049361222139954, 0.2804157702271403, 0, \"Hot Since 82 - Veins.wav\", \"x\", \"#0044FF\"], [-0.43846902219153644, -0.28794016788877286, 0, \"Hot Since 82 - Veins.wav\", \"x\", \"#0044FF\"], [0.007333328068622968, 0.29797927278984, 0, \"Hot Since 82 - Veins.wav\", \"x\", \"#0044FF\"], [-0.22679563940858252, 0.09138705567746783, 1, \"Hot Since 82 - Veins.wav\", \"x\", \"#751017\"], [-0.1013971410516314, 0.034029000885569274, 3, \"Hot Since 82 - Veins.wav\", \"x\", \"#6b1075\"], [-0.16211057411535976, 0.09144978514412992, 1, \"Hot Since 82 - Veins.wav\", \"x\", \"#751017\"], [0.3500223426579206, 0.023630210941730283, 2, \"Hot Since 82 - Veins.wav\", \"x\", \"#48a832\"], [-0.08971288466405676, -0.3888506739770985, 2, \"Hot Since 82 - Veins.wav\", \"x\", \"#48a832\"], [-0.06059300204775357, 0.04978834611629684, 3, \"Hot Since 82 - Veins.wav\", \"x\", \"#6b1075\"], [0.414266889748157, -0.4322294518284802, 0, \"Hot Since 82 - Veins.wav\", \"x\", \"#0044FF\"]], \"hovertemplate\": \"<b>%{customdata[3]}</b><br>(%{x:.3f},%{y:.3f})<extra>%{customdata[2]}</extra>\", \"marker\": {\"color\": [\"#0044FF\", \"#0044FF\", \"#0044FF\", \"#0044FF\", \"#0044FF\", \"#0044FF\", \"#0044FF\", \"#0044FF\", \"#0044FF\", \"#0044FF\", \"#0044FF\", \"#0044FF\", \"#6b1075\", \"#0044FF\", \"#0044FF\", \"#0044FF\", \"#0044FF\", \"#751017\", \"#6b1075\", \"#751017\", \"#48a832\", \"#48a832\", \"#6b1075\", \"#0044FF\"], \"symbol\": [\"circle\", \"circle\", \"circle\", \"circle\", \"circle\", \"circle\", \"circle\", \"circle\", \"circle\", \"circle\", \"circle\", \"circle\", \"x\", \"x\", \"x\", \"x\", \"x\", \"x\", \"x\", \"x\", \"x\", \"x\", \"x\", \"x\"]}, \"mode\": \"markers\", \"name\": \"4\", \"text\": [\"Hot Since 82 - Veins.wav\", \"Hot Since 82 - Veins.wav\", \"Hot Since 82 - Veins.wav\", \"Hot Since 82 - Veins.wav\", \"Hot Since 82 - Veins.wav\", \"Hot Since 82 - Veins.wav\", \"Hot Since 82 - Veins.wav\", \"Hot Since 82 - Veins.wav\", \"Hot Since 82 - Veins.wav\", \"Hot Since 82 - Veins.wav\", \"Hot Since 82 - Veins.wav\", \"Hot Since 82 - Veins.wav\", \"Hot Since 82 - Veins.wav\", \"Hot Since 82 - Veins.wav\", \"Hot Since 82 - Veins.wav\", \"Hot Since 82 - Veins.wav\", \"Hot Since 82 - Veins.wav\", \"Hot Since 82 - Veins.wav\", \"Hot Since 82 - Veins.wav\", \"Hot Since 82 - Veins.wav\", \"Hot Since 82 - Veins.wav\", \"Hot Since 82 - Veins.wav\", \"Hot Since 82 - Veins.wav\", \"Hot Since 82 - Veins.wav\"], \"type\": \"scatter\", \"x\": [-0.7375960126347227, -0.13678581755764965, 0.017193589434104994, 0.0964920380629949, -0.07423978720548823, -0.17323496044940534, 0.02035430305550605, 0.06506592493486751, -0.026520047058377134, 0.16932261206765764, 0.025801187414652024, 0.23329304228611264, 0.02670356947752794, -0.9009652396339507, -0.2049361222139954, -0.43846902219153644, 0.007333328068622968, -0.22679563940858252, -0.1013971410516314, -0.16211057411535976, 0.3500223426579206, -0.08971288466405676, -0.06059300204775357, 0.414266889748157], \"y\": [0.4723270550981914, 0.24006035082163718, -0.11763321145962208, 0.0038493812029820025, 0.09949390663124344, 0.47172751414689124, -0.24957886138719207, -0.15911134833472831, -0.08640576373958575, -0.11544276106624694, 0.012508496250135632, -0.16967312477352128, -0.029577931740206367, 0.011250738765469484, 0.2804157702271403, -0.28794016788877286, 0.29797927278984, 0.09138705567746783, 0.034029000885569274, 0.09144978514412992, 0.023630210941730283, -0.3888506739770985, 0.04978834611629684, -0.4322294518284802]}, {\"customdata\": [[-0.08811048261187558, 0.0825838595325399, 0, \"Hot Since 82 ft Alex Mills - The Core.wav\", \"circle\", \"#0044FF\"], [0.5956167587325868, 0.06392856759339664, 0, \"Hot Since 82 ft Alex Mills - The Core.wav\", \"circle\", \"#0044FF\"], [-0.07427017981722187, -0.09011154314674236, 0, \"Hot Since 82 ft Alex Mills - The Core.wav\", \"circle\", \"#0044FF\"], [-0.1255405492331486, 0.07724646368797157, 0, \"Hot Since 82 ft Alex Mills - The Core.wav\", \"circle\", \"#0044FF\"], [0.735766115105658, 0.09030231426342104, 0, \"Hot Since 82 ft Alex Mills - The Core.wav\", \"circle\", \"#0044FF\"], [-0.0033536824557025445, 0.18809151645051603, 0, \"Hot Since 82 ft Alex Mills - The Core.wav\", \"circle\", \"#0044FF\"], [-0.3124149592660817, 0.49583678943543363, 0, \"Hot Since 82 ft Alex Mills - The Core.wav\", \"circle\", \"#0044FF\"], [0.05320176777317227, 0.2581898903396823, 0, \"Hot Since 82 ft Alex Mills - The Core.wav\", \"circle\", \"#0044FF\"], [-0.26398759969201213, -0.13791759939409207, 0, \"Hot Since 82 ft Alex Mills - The Core.wav\", \"circle\", \"#0044FF\"], [-0.11150028431171927, -0.13598255961342773, 0, \"Hot Since 82 ft Alex Mills - The Core.wav\", \"circle\", \"#0044FF\"], [0.22173506430053067, -0.22424544448390965, 0, \"Hot Since 82 ft Alex Mills - The Core.wav\", \"circle\", \"#0044FF\"], [-0.34156995076177454, -0.4220356334270255, 0, \"Hot Since 82 ft Alex Mills - The Core.wav\", \"circle\", \"#0044FF\"], [0.04878714493653392, -0.16461475854661725, 0, \"Hot Since 82 ft Alex Mills - The Core.wav\", \"x\", \"#0044FF\"], [-0.024859444318550694, 0.026738422499497202, 3, \"Hot Since 82 ft Alex Mills - The Core.wav\", \"x\", \"#6b1075\"], [0.02175860528287172, 0.007235160859169165, 3, \"Hot Since 82 ft Alex Mills - The Core.wav\", \"x\", \"#6b1075\"], [0.1409127178921833, 0.3264187918793256, 0, \"Hot Since 82 ft Alex Mills - The Core.wav\", \"x\", \"#0044FF\"], [-0.04475641714402722, 0.14727732723515252, 1, \"Hot Since 82 ft Alex Mills - The Core.wav\", \"x\", \"#751017\"], [0.22472327813424153, 0.05325141858205197, 2, \"Hot Since 82 ft Alex Mills - The Core.wav\", \"x\", \"#48a832\"], [0.33064114827457863, -0.31296833577845196, 2, \"Hot Since 82 ft Alex Mills - The Core.wav\", \"x\", \"#48a832\"], [-0.11502173454527034, -0.09414481669230561, 3, \"Hot Since 82 ft Alex Mills - The Core.wav\", \"x\", \"#6b1075\"], [-0.14775566472964435, 0.339133544923908, 0, \"Hot Since 82 ft Alex Mills - The Core.wav\", \"x\", \"#0044FF\"], [0.039158887987937804, 0.06890130999984925, 3, \"Hot Since 82 ft Alex Mills - The Core.wav\", \"x\", \"#6b1075\"], [-0.1911223710794637, 0.04075754604497913, 1, \"Hot Since 82 ft Alex Mills - The Core.wav\", \"x\", \"#751017\"], [0.3548399700698964, 0.2586003149884289, 0, \"Hot Since 82 ft Alex Mills - The Core.wav\", \"x\", \"#0044FF\"]], \"hovertemplate\": \"<b>%{customdata[3]}</b><br>(%{x:.3f},%{y:.3f})<extra>%{customdata[2]}</extra>\", \"marker\": {\"color\": [\"#0044FF\", \"#0044FF\", \"#0044FF\", \"#0044FF\", \"#0044FF\", \"#0044FF\", \"#0044FF\", \"#0044FF\", \"#0044FF\", \"#0044FF\", \"#0044FF\", \"#0044FF\", \"#0044FF\", \"#6b1075\", \"#6b1075\", \"#0044FF\", \"#751017\", \"#48a832\", \"#48a832\", \"#6b1075\", \"#0044FF\", \"#6b1075\", \"#751017\", \"#0044FF\"], \"symbol\": [\"circle\", \"circle\", \"circle\", \"circle\", \"circle\", \"circle\", \"circle\", \"circle\", \"circle\", \"circle\", \"circle\", \"circle\", \"x\", \"x\", \"x\", \"x\", \"x\", \"x\", \"x\", \"x\", \"x\", \"x\", \"x\", \"x\"]}, \"mode\": \"markers\", \"name\": \"5\", \"text\": [\"Hot Since 82 ft Alex Mills - The Core.wav\", \"Hot Since 82 ft Alex Mills - The Core.wav\", \"Hot Since 82 ft Alex Mills - The Core.wav\", \"Hot Since 82 ft Alex Mills - The Core.wav\", \"Hot Since 82 ft Alex Mills - The Core.wav\", \"Hot Since 82 ft Alex Mills - The Core.wav\", \"Hot Since 82 ft Alex Mills - The Core.wav\", \"Hot Since 82 ft Alex Mills - The Core.wav\", \"Hot Since 82 ft Alex Mills - The Core.wav\", \"Hot Since 82 ft Alex Mills - The Core.wav\", \"Hot Since 82 ft Alex Mills - The Core.wav\", \"Hot Since 82 ft Alex Mills - The Core.wav\", \"Hot Since 82 ft Alex Mills - The Core.wav\", \"Hot Since 82 ft Alex Mills - The Core.wav\", \"Hot Since 82 ft Alex Mills - The Core.wav\", \"Hot Since 82 ft Alex Mills - The Core.wav\", \"Hot Since 82 ft Alex Mills - The Core.wav\", \"Hot Since 82 ft Alex Mills - The Core.wav\", \"Hot Since 82 ft Alex Mills - The Core.wav\", \"Hot Since 82 ft Alex Mills - The Core.wav\", \"Hot Since 82 ft Alex Mills - The Core.wav\", \"Hot Since 82 ft Alex Mills - The Core.wav\", \"Hot Since 82 ft Alex Mills - The Core.wav\", \"Hot Since 82 ft Alex Mills - The Core.wav\"], \"type\": \"scatter\", \"x\": [-0.08811048261187558, 0.5956167587325868, -0.07427017981722187, -0.1255405492331486, 0.735766115105658, -0.0033536824557025445, -0.3124149592660817, 0.05320176777317227, -0.26398759969201213, -0.11150028431171927, 0.22173506430053067, -0.34156995076177454, 0.04878714493653392, -0.024859444318550694, 0.02175860528287172, 0.1409127178921833, -0.04475641714402722, 0.22472327813424153, 0.33064114827457863, -0.11502173454527034, -0.14775566472964435, 0.039158887987937804, -0.1911223710794637, 0.3548399700698964], \"y\": [0.0825838595325399, 0.06392856759339664, -0.09011154314674236, 0.07724646368797157, 0.09030231426342104, 0.18809151645051603, 0.49583678943543363, 0.2581898903396823, -0.13791759939409207, -0.13598255961342773, -0.22424544448390965, -0.4220356334270255, -0.16461475854661725, 0.026738422499497202, 0.007235160859169165, 0.3264187918793256, 0.14727732723515252, 0.05325141858205197, -0.31296833577845196, -0.09414481669230561, 0.339133544923908, 0.06890130999984925, 0.04075754604497913, 0.2586003149884289]}, {\"customdata\": [[-0.15892445739493005, -0.08888509086431287, 0, \"Onur Ozman - I Am Crying (Hot Since 82 Remix).wav\", \"circle\", \"#0044FF\"], [0.4206917423389683, 0.060287770135263395, 0, \"Onur Ozman - I Am Crying (Hot Since 82 Remix).wav\", \"circle\", \"#0044FF\"], [-0.14902529047293117, 0.009787782809451738, 0, \"Onur Ozman - I Am Crying (Hot Since 82 Remix).wav\", \"circle\", \"#0044FF\"], [0.4423340445454686, -0.14922853492923405, 0, \"Onur Ozman - I Am Crying (Hot Since 82 Remix).wav\", \"circle\", \"#0044FF\"], [-0.08890082309099384, 0.05997662319123395, 0, \"Onur Ozman - I Am Crying (Hot Since 82 Remix).wav\", \"circle\", \"#0044FF\"], [-0.34145089721057187, 0.35494136426147843, 0, \"Onur Ozman - I Am Crying (Hot Since 82 Remix).wav\", \"circle\", \"#0044FF\"], [0.38179815374203097, -0.23545116677252728, 0, \"Onur Ozman - I Am Crying (Hot Since 82 Remix).wav\", \"circle\", \"#0044FF\"], [0.2988601551186572, -0.3341740789435468, 0, \"Onur Ozman - I Am Crying (Hot Since 82 Remix).wav\", \"circle\", \"#0044FF\"], [-0.25781262257175197, -0.24084733499909458, 0, \"Onur Ozman - I Am Crying (Hot Since 82 Remix).wav\", \"circle\", \"#0044FF\"], [0.022596079463733237, 0.019250899924209065, 1, \"Onur Ozman - I Am Crying (Hot Since 82 Remix).wav\", \"x\", \"#751017\"], [-0.1104214471663276, 0.25576436294321653, 2, \"Onur Ozman - I Am Crying (Hot Since 82 Remix).wav\", \"x\", \"#48a832\"], [0.16344013577266633, 0.015506301914867208, 2, \"Onur Ozman - I Am Crying (Hot Since 82 Remix).wav\", \"x\", \"#48a832\"], [-0.03700457396871794, 0.10569473455788228, 3, \"Onur Ozman - I Am Crying (Hot Since 82 Remix).wav\", \"x\", \"#6b1075\"], [0.6636724024642232, 0.28736464390923405, 0, \"Onur Ozman - I Am Crying (Hot Since 82 Remix).wav\", \"x\", \"#0044FF\"], [-0.679875789501221, -0.18662125557657477, 0, \"Onur Ozman - I Am Crying (Hot Since 82 Remix).wav\", \"x\", \"#0044FF\"], [-0.5606488271146961, 0.235607564161329, 2, \"Onur Ozman - I Am Crying (Hot Since 82 Remix).wav\", \"x\", \"#48a832\"], [-0.23848811730999614, 0.2355606471500346, 0, \"Onur Ozman - I Am Crying (Hot Since 82 Remix).wav\", \"x\", \"#0044FF\"], [-0.13148324847216486, -0.10083357364847957, 3, \"Onur Ozman - I Am Crying (Hot Since 82 Remix).wav\", \"x\", \"#6b1075\"]], \"hovertemplate\": \"<b>%{customdata[3]}</b><br>(%{x:.3f},%{y:.3f})<extra>%{customdata[2]}</extra>\", \"marker\": {\"color\": [\"#0044FF\", \"#0044FF\", \"#0044FF\", \"#0044FF\", \"#0044FF\", \"#0044FF\", \"#0044FF\", \"#0044FF\", \"#0044FF\", \"#751017\", \"#48a832\", \"#48a832\", \"#6b1075\", \"#0044FF\", \"#0044FF\", \"#48a832\", \"#0044FF\", \"#6b1075\"], \"symbol\": [\"circle\", \"circle\", \"circle\", \"circle\", \"circle\", \"circle\", \"circle\", \"circle\", \"circle\", \"x\", \"x\", \"x\", \"x\", \"x\", \"x\", \"x\", \"x\", \"x\"]}, \"mode\": \"markers\", \"name\": \"6\", \"text\": [\"Onur Ozman - I Am Crying (Hot Since 82 Remix).wav\", \"Onur Ozman - I Am Crying (Hot Since 82 Remix).wav\", \"Onur Ozman - I Am Crying (Hot Since 82 Remix).wav\", \"Onur Ozman - I Am Crying (Hot Since 82 Remix).wav\", \"Onur Ozman - I Am Crying (Hot Since 82 Remix).wav\", \"Onur Ozman - I Am Crying (Hot Since 82 Remix).wav\", \"Onur Ozman - I Am Crying (Hot Since 82 Remix).wav\", \"Onur Ozman - I Am Crying (Hot Since 82 Remix).wav\", \"Onur Ozman - I Am Crying (Hot Since 82 Remix).wav\", \"Onur Ozman - I Am Crying (Hot Since 82 Remix).wav\", \"Onur Ozman - I Am Crying (Hot Since 82 Remix).wav\", \"Onur Ozman - I Am Crying (Hot Since 82 Remix).wav\", \"Onur Ozman - I Am Crying (Hot Since 82 Remix).wav\", \"Onur Ozman - I Am Crying (Hot Since 82 Remix).wav\", \"Onur Ozman - I Am Crying (Hot Since 82 Remix).wav\", \"Onur Ozman - I Am Crying (Hot Since 82 Remix).wav\", \"Onur Ozman - I Am Crying (Hot Since 82 Remix).wav\", \"Onur Ozman - I Am Crying (Hot Since 82 Remix).wav\"], \"type\": \"scatter\", \"x\": [-0.15892445739493005, 0.4206917423389683, -0.14902529047293117, 0.4423340445454686, -0.08890082309099384, -0.34145089721057187, 0.38179815374203097, 0.2988601551186572, -0.25781262257175197, 0.022596079463733237, -0.1104214471663276, 0.16344013577266633, -0.03700457396871794, 0.6636724024642232, -0.679875789501221, -0.5606488271146961, -0.23848811730999614, -0.13148324847216486], \"y\": [-0.08888509086431287, 0.060287770135263395, 0.009787782809451738, -0.14922853492923405, 0.05997662319123395, 0.35494136426147843, -0.23545116677252728, -0.3341740789435468, -0.24084733499909458, 0.019250899924209065, 0.25576436294321653, 0.015506301914867208, 0.10569473455788228, 0.28736464390923405, -0.18662125557657477, 0.235607564161329, 0.2355606471500346, -0.10083357364847957]}, {\"customdata\": [[-0.33038977461089203, -0.32019077670996815, 1, \"Pet Shop Boys - Twenty Something (Kornel Kovacs remix).wav\", \"circle\", \"#751017\"], [0.09423321641808448, -0.38185969601320285, 1, \"Pet Shop Boys - Twenty Something (Kornel Kovacs remix).wav\", \"circle\", \"#751017\"], [0.07407673004094274, -0.06595146489433099, 1, \"Pet Shop Boys - Twenty Something (Kornel Kovacs remix).wav\", \"circle\", \"#751017\"], [0.10691257058904963, -0.07574120960435692, 1, \"Pet Shop Boys - Twenty Something (Kornel Kovacs remix).wav\", \"circle\", \"#751017\"], [-0.40595654838458173, -0.5574645784588284, 1, \"Pet Shop Boys - Twenty Something (Kornel Kovacs remix).wav\", \"circle\", \"#751017\"], [0.00710519436365804, 0.4168692823636002, 1, \"Pet Shop Boys - Twenty Something (Kornel Kovacs remix).wav\", \"circle\", \"#751017\"], [-0.7120390322673976, 0.2706470563752887, 1, \"Pet Shop Boys - Twenty Something (Kornel Kovacs remix).wav\", \"circle\", \"#751017\"], [-0.14807668159118084, -0.0729151200018574, 1, \"Pet Shop Boys - Twenty Something (Kornel Kovacs remix).wav\", \"circle\", \"#751017\"], [-0.24782591228765316, -0.19801920784132215, 1, \"Pet Shop Boys - Twenty Something (Kornel Kovacs remix).wav\", \"circle\", \"#751017\"], [-0.07877316390460426, 0.1334594120975545, 3, \"Pet Shop Boys - Twenty Something (Kornel Kovacs remix).wav\", \"x\", \"#6b1075\"], [0.23204964817037296, -0.08652294527330597, 3, \"Pet Shop Boys - Twenty Something (Kornel Kovacs remix).wav\", \"x\", \"#6b1075\"], [0.4084988012822491, -0.8438714117343324, 0, \"Pet Shop Boys - Twenty Something (Kornel Kovacs remix).wav\", \"x\", \"#0044FF\"], [-0.17916938095258458, 0.2705483772981416, 3, \"Pet Shop Boys - Twenty Something (Kornel Kovacs remix).wav\", \"x\", \"#6b1075\"], [0.6956821322532478, -0.08508296633788573, 0, \"Pet Shop Boys - Twenty Something (Kornel Kovacs remix).wav\", \"x\", \"#0044FF\"], [-0.13796522352213994, 0.02015148487512632, 1, \"Pet Shop Boys - Twenty Something (Kornel Kovacs remix).wav\", \"x\", \"#751017\"], [0.2711277102670966, 0.10835171137164433, 2, \"Pet Shop Boys - Twenty Something (Kornel Kovacs remix).wav\", \"x\", \"#48a832\"], [-0.1198355270885773, -0.23959332041303827, 1, \"Pet Shop Boys - Twenty Something (Kornel Kovacs remix).wav\", \"x\", \"#751017\"], [0.703604254848113, -0.06288528045595819, 0, \"Pet Shop Boys - Twenty Something (Kornel Kovacs remix).wav\", \"x\", \"#0044FF\"]], \"hovertemplate\": \"<b>%{customdata[3]}</b><br>(%{x:.3f},%{y:.3f})<extra>%{customdata[2]}</extra>\", \"marker\": {\"color\": [\"#751017\", \"#751017\", \"#751017\", \"#751017\", \"#751017\", \"#751017\", \"#751017\", \"#751017\", \"#751017\", \"#6b1075\", \"#6b1075\", \"#0044FF\", \"#6b1075\", \"#0044FF\", \"#751017\", \"#48a832\", \"#751017\", \"#0044FF\"], \"symbol\": [\"circle\", \"circle\", \"circle\", \"circle\", \"circle\", \"circle\", \"circle\", \"circle\", \"circle\", \"x\", \"x\", \"x\", \"x\", \"x\", \"x\", \"x\", \"x\", \"x\"]}, \"mode\": \"markers\", \"name\": \"7\", \"text\": [\"Pet Shop Boys - Twenty Something (Kornel Kovacs remix).wav\", \"Pet Shop Boys - Twenty Something (Kornel Kovacs remix).wav\", \"Pet Shop Boys - Twenty Something (Kornel Kovacs remix).wav\", \"Pet Shop Boys - Twenty Something (Kornel Kovacs remix).wav\", \"Pet Shop Boys - Twenty Something (Kornel Kovacs remix).wav\", \"Pet Shop Boys - Twenty Something (Kornel Kovacs remix).wav\", \"Pet Shop Boys - Twenty Something (Kornel Kovacs remix).wav\", \"Pet Shop Boys - Twenty Something (Kornel Kovacs remix).wav\", \"Pet Shop Boys - Twenty Something (Kornel Kovacs remix).wav\", \"Pet Shop Boys - Twenty Something (Kornel Kovacs remix).wav\", \"Pet Shop Boys - Twenty Something (Kornel Kovacs remix).wav\", \"Pet Shop Boys - Twenty Something (Kornel Kovacs remix).wav\", \"Pet Shop Boys - Twenty Something (Kornel Kovacs remix).wav\", \"Pet Shop Boys - Twenty Something (Kornel Kovacs remix).wav\", \"Pet Shop Boys - Twenty Something (Kornel Kovacs remix).wav\", \"Pet Shop Boys - Twenty Something (Kornel Kovacs remix).wav\", \"Pet Shop Boys - Twenty Something (Kornel Kovacs remix).wav\", \"Pet Shop Boys - Twenty Something (Kornel Kovacs remix).wav\"], \"type\": \"scatter\", \"x\": [-0.33038977461089203, 0.09423321641808448, 0.07407673004094274, 0.10691257058904963, -0.40595654838458173, 0.00710519436365804, -0.7120390322673976, -0.14807668159118084, -0.24782591228765316, -0.07877316390460426, 0.23204964817037296, 0.4084988012822491, -0.17916938095258458, 0.6956821322532478, -0.13796522352213994, 0.2711277102670966, -0.1198355270885773, 0.703604254848113], \"y\": [-0.32019077670996815, -0.38185969601320285, -0.06595146489433099, -0.07574120960435692, -0.5574645784588284, 0.4168692823636002, 0.2706470563752887, -0.0729151200018574, -0.19801920784132215, 0.1334594120975545, -0.08652294527330597, -0.8438714117343324, 0.2705483772981416, -0.08508296633788573, 0.02015148487512632, 0.10835171137164433, -0.23959332041303827, -0.06288528045595819]}, {\"customdata\": [[0.07424051892975075, 0.042783694894038674, 1, \"Phil Weeks - Love 2 Love.wav\", \"circle\", \"#751017\"], [-0.05223867343166072, -0.10529255814551039, 1, \"Phil Weeks - Love 2 Love.wav\", \"circle\", \"#751017\"], [-0.18442896489799726, 0.2164748309843483, 1, \"Phil Weeks - Love 2 Love.wav\", \"circle\", \"#751017\"], [0.43127715745837253, -0.2380168402337692, 1, \"Phil Weeks - Love 2 Love.wav\", \"circle\", \"#751017\"], [-0.24666964972934807, -0.05109101783246938, 1, \"Phil Weeks - Love 2 Love.wav\", \"circle\", \"#751017\"], [-0.10000241367380847, -0.3032740266894161, 1, \"Phil Weeks - Love 2 Love.wav\", \"circle\", \"#751017\"], [-0.010083926469216842, -0.11453947491270905, 1, \"Phil Weeks - Love 2 Love.wav\", \"circle\", \"#751017\"], [-0.10132558929489759, -0.22678465624594757, 1, \"Phil Weeks - Love 2 Love.wav\", \"circle\", \"#751017\"], [-0.1014409500789767, -0.09037840207427612, 1, \"Phil Weeks - Love 2 Love.wav\", \"circle\", \"#751017\"], [0.03728972087050422, -0.2768680297629406, 1, \"Phil Weeks - Love 2 Love.wav\", \"circle\", \"#751017\"], [0.08224195066380231, -0.22092599731818927, 1, \"Phil Weeks - Love 2 Love.wav\", \"circle\", \"#751017\"], [-0.10433281148344044, 0.15923771070067733, 1, \"Phil Weeks - Love 2 Love.wav\", \"circle\", \"#751017\"], [-0.15002385676334243, -0.009764966793115542, 1, \"Phil Weeks - Love 2 Love.wav\", \"x\", \"#751017\"], [-0.6170069756628532, -0.3245305550275655, 0, \"Phil Weeks - Love 2 Love.wav\", \"x\", \"#0044FF\"], [-0.6161981898387431, 0.3635762384501778, 3, \"Phil Weeks - Love 2 Love.wav\", \"x\", \"#6b1075\"], [0.030346028007761087, -0.04095921802213332, 2, \"Phil Weeks - Love 2 Love.wav\", \"x\", \"#48a832\"], [0.15848021781367191, -0.004395935148347557, 1, \"Phil Weeks - Love 2 Love.wav\", \"x\", \"#751017\"], [-0.00573025796523541, 0.0025826318471935204, 3, \"Phil Weeks - Love 2 Love.wav\", \"x\", \"#6b1075\"], [-0.02599447703018142, 0.3502089342890967, 0, \"Phil Weeks - Love 2 Love.wav\", \"x\", \"#0044FF\"], [-0.05603547000164174, -0.16712821642527811, 1, \"Phil Weeks - Love 2 Love.wav\", \"x\", \"#751017\"], [-0.1786767375647323, -0.2685019144148514, 2, \"Phil Weeks - Love 2 Love.wav\", \"x\", \"#48a832\"], [-0.09735525418387808, 0.23033154669222383, 0, \"Phil Weeks - Love 2 Love.wav\", \"x\", \"#0044FF\"], [-0.25649906547303086, -0.30025361805852147, 0, \"Phil Weeks - Love 2 Love.wav\", \"x\", \"#0044FF\"], [-0.10529322780036524, 0.16173443908332064, 1, \"Phil Weeks - Love 2 Love.wav\", \"x\", \"#751017\"]], \"hovertemplate\": \"<b>%{customdata[3]}</b><br>(%{x:.3f},%{y:.3f})<extra>%{customdata[2]}</extra>\", \"marker\": {\"color\": [\"#751017\", \"#751017\", \"#751017\", \"#751017\", \"#751017\", \"#751017\", \"#751017\", \"#751017\", \"#751017\", \"#751017\", \"#751017\", \"#751017\", \"#751017\", \"#0044FF\", \"#6b1075\", \"#48a832\", \"#751017\", \"#6b1075\", \"#0044FF\", \"#751017\", \"#48a832\", \"#0044FF\", \"#0044FF\", \"#751017\"], \"symbol\": [\"circle\", \"circle\", \"circle\", \"circle\", \"circle\", \"circle\", \"circle\", \"circle\", \"circle\", \"circle\", \"circle\", \"circle\", \"x\", \"x\", \"x\", \"x\", \"x\", \"x\", \"x\", \"x\", \"x\", \"x\", \"x\", \"x\"]}, \"mode\": \"markers\", \"name\": \"8\", \"text\": [\"Phil Weeks - Love 2 Love.wav\", \"Phil Weeks - Love 2 Love.wav\", \"Phil Weeks - Love 2 Love.wav\", \"Phil Weeks - Love 2 Love.wav\", \"Phil Weeks - Love 2 Love.wav\", \"Phil Weeks - Love 2 Love.wav\", \"Phil Weeks - Love 2 Love.wav\", \"Phil Weeks - Love 2 Love.wav\", \"Phil Weeks - Love 2 Love.wav\", \"Phil Weeks - Love 2 Love.wav\", \"Phil Weeks - Love 2 Love.wav\", \"Phil Weeks - Love 2 Love.wav\", \"Phil Weeks - Love 2 Love.wav\", \"Phil Weeks - Love 2 Love.wav\", \"Phil Weeks - Love 2 Love.wav\", \"Phil Weeks - Love 2 Love.wav\", \"Phil Weeks - Love 2 Love.wav\", \"Phil Weeks - Love 2 Love.wav\", \"Phil Weeks - Love 2 Love.wav\", \"Phil Weeks - Love 2 Love.wav\", \"Phil Weeks - Love 2 Love.wav\", \"Phil Weeks - Love 2 Love.wav\", \"Phil Weeks - Love 2 Love.wav\", \"Phil Weeks - Love 2 Love.wav\"], \"type\": \"scatter\", \"x\": [0.07424051892975075, -0.05223867343166072, -0.18442896489799726, 0.43127715745837253, -0.24666964972934807, -0.10000241367380847, -0.010083926469216842, -0.10132558929489759, -0.1014409500789767, 0.03728972087050422, 0.08224195066380231, -0.10433281148344044, -0.15002385676334243, -0.6170069756628532, -0.6161981898387431, 0.030346028007761087, 0.15848021781367191, -0.00573025796523541, -0.02599447703018142, -0.05603547000164174, -0.1786767375647323, -0.09735525418387808, -0.25649906547303086, -0.10529322780036524], \"y\": [0.042783694894038674, -0.10529255814551039, 0.2164748309843483, -0.2380168402337692, -0.05109101783246938, -0.3032740266894161, -0.11453947491270905, -0.22678465624594757, -0.09037840207427612, -0.2768680297629406, -0.22092599731818927, 0.15923771070067733, -0.009764966793115542, -0.3245305550275655, 0.3635762384501778, -0.04095921802213332, -0.004395935148347557, 0.0025826318471935204, 0.3502089342890967, -0.16712821642527811, -0.2685019144148514, 0.23033154669222383, -0.30025361805852147, 0.16173443908332064]}, {\"customdata\": [[0.08441766453369155, -0.14460447145838934, 1, \"Prunk - Another Vibe (Original Mix).wav\", \"circle\", \"#751017\"], [-0.1155764856388708, -0.20784729353077555, 1, \"Prunk - Another Vibe (Original Mix).wav\", \"circle\", \"#751017\"], [-0.009540938715339328, -0.18166736318477247, 1, \"Prunk - Another Vibe (Original Mix).wav\", \"circle\", \"#751017\"], [0.041938136917758814, -0.143839691394676, 1, \"Prunk - Another Vibe (Original Mix).wav\", \"circle\", \"#751017\"], [-0.012872192199282489, 0.07916473955236261, 1, \"Prunk - Another Vibe (Original Mix).wav\", \"circle\", \"#751017\"], [-0.2591429271731225, -0.040637439599402546, 1, \"Prunk - Another Vibe (Original Mix).wav\", \"circle\", \"#751017\"], [0.03782757997683255, -0.07179429324665723, 1, \"Prunk - Another Vibe (Original Mix).wav\", \"circle\", \"#751017\"], [0.18971582546783333, -0.2857776237246537, 1, \"Prunk - Another Vibe (Original Mix).wav\", \"circle\", \"#751017\"], [0.5735921225785516, -0.32695667493292924, 1, \"Prunk - Another Vibe (Original Mix).wav\", \"circle\", \"#751017\"], [0.723126444538587, 0.14744289692707455, 1, \"Prunk - Another Vibe (Original Mix).wav\", \"circle\", \"#751017\"], [-0.6566421941216707, -0.16318438278495284, 1, \"Prunk - Another Vibe (Original Mix).wav\", \"circle\", \"#751017\"], [0.5599264810646953, -0.3917813830738838, 1, \"Prunk - Another Vibe (Original Mix).wav\", \"circle\", \"#751017\"], [-0.7054498387599228, 0.32404580267461686, 1, \"Prunk - Another Vibe (Original Mix).wav\", \"circle\", \"#751017\"], [-0.26840238923545057, 0.17672235988941998, 3, \"Prunk - Another Vibe (Original Mix).wav\", \"x\", \"#6b1075\"], [0.035964696228847085, -0.025432987572638625, 1, \"Prunk - Another Vibe (Original Mix).wav\", \"x\", \"#751017\"], [-0.18963934946392746, -0.47896371735869997, 0, \"Prunk - Another Vibe (Original Mix).wav\", \"x\", \"#0044FF\"], [0.16995845554574196, -0.38815628502075433, 0, \"Prunk - Another Vibe (Original Mix).wav\", \"x\", \"#0044FF\"], [-0.08337358582386932, 0.04187463567868962, 3, \"Prunk - Another Vibe (Original Mix).wav\", \"x\", \"#6b1075\"], [0.4404194211160816, -0.377434279007666, 3, \"Prunk - Another Vibe (Original Mix).wav\", \"x\", \"#6b1075\"], [0.2874350826447944, 0.09462793670358205, 1, \"Prunk - Another Vibe (Original Mix).wav\", \"x\", \"#751017\"], [-0.1312658248925353, -0.33324406896771874, 0, \"Prunk - Another Vibe (Original Mix).wav\", \"x\", \"#0044FF\"], [0.01989967772690051, -0.007508621712715275, 1, \"Prunk - Another Vibe (Original Mix).wav\", \"x\", \"#751017\"], [0.31880087283835257, -0.6079829089276417, 0, \"Prunk - Another Vibe (Original Mix).wav\", \"x\", \"#0044FF\"], [0.06456582692457427, -0.4055119250623834, 0, \"Prunk - Another Vibe (Original Mix).wav\", \"x\", \"#0044FF\"], [-0.26380604961403814, 0.29164912336208937, 0, \"Prunk - Another Vibe (Original Mix).wav\", \"x\", \"#0044FF\"], [0.31436676624646126, -0.05687650576053646, 3, \"Prunk - Another Vibe (Original Mix).wav\", \"x\", \"#6b1075\"]], \"hovertemplate\": \"<b>%{customdata[3]}</b><br>(%{x:.3f},%{y:.3f})<extra>%{customdata[2]}</extra>\", \"marker\": {\"color\": [\"#751017\", \"#751017\", \"#751017\", \"#751017\", \"#751017\", \"#751017\", \"#751017\", \"#751017\", \"#751017\", \"#751017\", \"#751017\", \"#751017\", \"#751017\", \"#6b1075\", \"#751017\", \"#0044FF\", \"#0044FF\", \"#6b1075\", \"#6b1075\", \"#751017\", \"#0044FF\", \"#751017\", \"#0044FF\", \"#0044FF\", \"#0044FF\", \"#6b1075\"], \"symbol\": [\"circle\", \"circle\", \"circle\", \"circle\", \"circle\", \"circle\", \"circle\", \"circle\", \"circle\", \"circle\", \"circle\", \"circle\", \"circle\", \"x\", \"x\", \"x\", \"x\", \"x\", \"x\", \"x\", \"x\", \"x\", \"x\", \"x\", \"x\", \"x\"]}, \"mode\": \"markers\", \"name\": \"9\", \"text\": [\"Prunk - Another Vibe (Original Mix).wav\", \"Prunk - Another Vibe (Original Mix).wav\", \"Prunk - Another Vibe (Original Mix).wav\", \"Prunk - Another Vibe (Original Mix).wav\", \"Prunk - Another Vibe (Original Mix).wav\", \"Prunk - Another Vibe (Original Mix).wav\", \"Prunk - Another Vibe (Original Mix).wav\", \"Prunk - Another Vibe (Original Mix).wav\", \"Prunk - Another Vibe (Original Mix).wav\", \"Prunk - Another Vibe (Original Mix).wav\", \"Prunk - Another Vibe (Original Mix).wav\", \"Prunk - Another Vibe (Original Mix).wav\", \"Prunk - Another Vibe (Original Mix).wav\", \"Prunk - Another Vibe (Original Mix).wav\", \"Prunk - Another Vibe (Original Mix).wav\", \"Prunk - Another Vibe (Original Mix).wav\", \"Prunk - Another Vibe (Original Mix).wav\", \"Prunk - Another Vibe (Original Mix).wav\", \"Prunk - Another Vibe (Original Mix).wav\", \"Prunk - Another Vibe (Original Mix).wav\", \"Prunk - Another Vibe (Original Mix).wav\", \"Prunk - Another Vibe (Original Mix).wav\", \"Prunk - Another Vibe (Original Mix).wav\", \"Prunk - Another Vibe (Original Mix).wav\", \"Prunk - Another Vibe (Original Mix).wav\", \"Prunk - Another Vibe (Original Mix).wav\"], \"type\": \"scatter\", \"x\": [0.08441766453369155, -0.1155764856388708, -0.009540938715339328, 0.041938136917758814, -0.012872192199282489, -0.2591429271731225, 0.03782757997683255, 0.18971582546783333, 0.5735921225785516, 0.723126444538587, -0.6566421941216707, 0.5599264810646953, -0.7054498387599228, -0.26840238923545057, 0.035964696228847085, -0.18963934946392746, 0.16995845554574196, -0.08337358582386932, 0.4404194211160816, 0.2874350826447944, -0.1312658248925353, 0.01989967772690051, 0.31880087283835257, 0.06456582692457427, -0.26380604961403814, 0.31436676624646126], \"y\": [-0.14460447145838934, -0.20784729353077555, -0.18166736318477247, -0.143839691394676, 0.07916473955236261, -0.040637439599402546, -0.07179429324665723, -0.2857776237246537, -0.32695667493292924, 0.14744289692707455, -0.16318438278495284, -0.3917813830738838, 0.32404580267461686, 0.17672235988941998, -0.025432987572638625, -0.47896371735869997, -0.38815628502075433, 0.04187463567868962, -0.377434279007666, 0.09462793670358205, -0.33324406896771874, -0.007508621712715275, -0.6079829089276417, -0.4055119250623834, 0.29164912336208937, -0.05687650576053646]}, {\"customdata\": [[-0.04233151055278039, 0.2841390796204114, 2, \"Sabb & Forrest - One Of Us (Dennis Ferrer Remix).wav\", \"circle\", \"#48a832\"], [-0.17462702657137227, -0.29648903051728737, 2, \"Sabb & Forrest - One Of Us (Dennis Ferrer Remix).wav\", \"circle\", \"#48a832\"], [-0.44365282681384305, -0.08591916970519486, 2, \"Sabb & Forrest - One Of Us (Dennis Ferrer Remix).wav\", \"circle\", \"#48a832\"], [0.0639525000020347, -0.08937277419543264, 2, \"Sabb & Forrest - One Of Us (Dennis Ferrer Remix).wav\", \"circle\", \"#48a832\"], [0.46148189378829835, -0.21902860288148357, 2, \"Sabb & Forrest - One Of Us (Dennis Ferrer Remix).wav\", \"circle\", \"#48a832\"], [-0.09530104269632662, -0.0022928585011118244, 2, \"Sabb & Forrest - One Of Us (Dennis Ferrer Remix).wav\", \"circle\", \"#48a832\"], [0.10765195292020596, 0.1749282609176431, 2, \"Sabb & Forrest - One Of Us (Dennis Ferrer Remix).wav\", \"circle\", \"#48a832\"], [-0.10116040560699502, 0.3952135810544849, 2, \"Sabb & Forrest - One Of Us (Dennis Ferrer Remix).wav\", \"circle\", \"#48a832\"], [0.471365459067009, -0.31580858734219697, 2, \"Sabb & Forrest - One Of Us (Dennis Ferrer Remix).wav\", \"circle\", \"#48a832\"], [-0.3052943800531652, 0.2752832449345254, 2, \"Sabb & Forrest - One Of Us (Dennis Ferrer Remix).wav\", \"circle\", \"#48a832\"], [0.39531939247411657, -0.17546218548266784, 2, \"Sabb & Forrest - One Of Us (Dennis Ferrer Remix).wav\", \"circle\", \"#48a832\"], [0.031141303449170054, 0.007133278751353137, 2, \"Sabb & Forrest - One Of Us (Dennis Ferrer Remix).wav\", \"x\", \"#48a832\"], [0.47515647109469905, 0.3815512371964486, 0, \"Sabb & Forrest - One Of Us (Dennis Ferrer Remix).wav\", \"x\", \"#0044FF\"], [0.006948244982712072, 0.179586760882992, 1, \"Sabb & Forrest - One Of Us (Dennis Ferrer Remix).wav\", \"x\", \"#751017\"], [-0.1445678759814109, 0.06173050922089401, 1, \"Sabb & Forrest - One Of Us (Dennis Ferrer Remix).wav\", \"x\", \"#751017\"], [-0.5408412263923364, -0.026655945607938148, 0, \"Sabb & Forrest - One Of Us (Dennis Ferrer Remix).wav\", \"x\", \"#0044FF\"], [0.14191829862933672, -0.1368879458584817, 3, \"Sabb & Forrest - One Of Us (Dennis Ferrer Remix).wav\", \"x\", \"#6b1075\"], [0.09084478251591185, 0.162891568883315, 1, \"Sabb & Forrest - One Of Us (Dennis Ferrer Remix).wav\", \"x\", \"#751017\"], [-0.3925463873784888, 0.4074566234345395, 3, \"Sabb & Forrest - One Of Us (Dennis Ferrer Remix).wav\", \"x\", \"#6b1075\"], [-0.15642495615826452, 0.22307747177512824, 1, \"Sabb & Forrest - One Of Us (Dennis Ferrer Remix).wav\", \"x\", \"#751017\"], [-0.09062405994594183, -0.04843178237277447, 3, \"Sabb & Forrest - One Of Us (Dennis Ferrer Remix).wav\", \"x\", \"#6b1075\"], [-0.10997304835627714, 0.482366260953138, 2, \"Sabb & Forrest - One Of Us (Dennis Ferrer Remix).wav\", \"x\", \"#48a832\"]], \"hovertemplate\": \"<b>%{customdata[3]}</b><br>(%{x:.3f},%{y:.3f})<extra>%{customdata[2]}</extra>\", \"marker\": {\"color\": [\"#48a832\", \"#48a832\", \"#48a832\", \"#48a832\", \"#48a832\", \"#48a832\", \"#48a832\", \"#48a832\", \"#48a832\", \"#48a832\", \"#48a832\", \"#48a832\", \"#0044FF\", \"#751017\", \"#751017\", \"#0044FF\", \"#6b1075\", \"#751017\", \"#6b1075\", \"#751017\", \"#6b1075\", \"#48a832\"], \"symbol\": [\"circle\", \"circle\", \"circle\", \"circle\", \"circle\", \"circle\", \"circle\", \"circle\", \"circle\", \"circle\", \"circle\", \"x\", \"x\", \"x\", \"x\", \"x\", \"x\", \"x\", \"x\", \"x\", \"x\", \"x\"]}, \"mode\": \"markers\", \"name\": \"10\", \"text\": [\"Sabb & Forrest - One Of Us (Dennis Ferrer Remix).wav\", \"Sabb & Forrest - One Of Us (Dennis Ferrer Remix).wav\", \"Sabb & Forrest - One Of Us (Dennis Ferrer Remix).wav\", \"Sabb & Forrest - One Of Us (Dennis Ferrer Remix).wav\", \"Sabb & Forrest - One Of Us (Dennis Ferrer Remix).wav\", \"Sabb & Forrest - One Of Us (Dennis Ferrer Remix).wav\", \"Sabb & Forrest - One Of Us (Dennis Ferrer Remix).wav\", \"Sabb & Forrest - One Of Us (Dennis Ferrer Remix).wav\", \"Sabb & Forrest - One Of Us (Dennis Ferrer Remix).wav\", \"Sabb & Forrest - One Of Us (Dennis Ferrer Remix).wav\", \"Sabb & Forrest - One Of Us (Dennis Ferrer Remix).wav\", \"Sabb & Forrest - One Of Us (Dennis Ferrer Remix).wav\", \"Sabb & Forrest - One Of Us (Dennis Ferrer Remix).wav\", \"Sabb & Forrest - One Of Us (Dennis Ferrer Remix).wav\", \"Sabb & Forrest - One Of Us (Dennis Ferrer Remix).wav\", \"Sabb & Forrest - One Of Us (Dennis Ferrer Remix).wav\", \"Sabb & Forrest - One Of Us (Dennis Ferrer Remix).wav\", \"Sabb & Forrest - One Of Us (Dennis Ferrer Remix).wav\", \"Sabb & Forrest - One Of Us (Dennis Ferrer Remix).wav\", \"Sabb & Forrest - One Of Us (Dennis Ferrer Remix).wav\", \"Sabb & Forrest - One Of Us (Dennis Ferrer Remix).wav\", \"Sabb & Forrest - One Of Us (Dennis Ferrer Remix).wav\"], \"type\": \"scatter\", \"x\": [-0.04233151055278039, -0.17462702657137227, -0.44365282681384305, 0.0639525000020347, 0.46148189378829835, -0.09530104269632662, 0.10765195292020596, -0.10116040560699502, 0.471365459067009, -0.3052943800531652, 0.39531939247411657, 0.031141303449170054, 0.47515647109469905, 0.006948244982712072, -0.1445678759814109, -0.5408412263923364, 0.14191829862933672, 0.09084478251591185, -0.3925463873784888, -0.15642495615826452, -0.09062405994594183, -0.10997304835627714], \"y\": [0.2841390796204114, -0.29648903051728737, -0.08591916970519486, -0.08937277419543264, -0.21902860288148357, -0.0022928585011118244, 0.1749282609176431, 0.3952135810544849, -0.31580858734219697, 0.2752832449345254, -0.17546218548266784, 0.007133278751353137, 0.3815512371964486, 0.179586760882992, 0.06173050922089401, -0.026655945607938148, -0.1368879458584817, 0.162891568883315, 0.4074566234345395, 0.22307747177512824, -0.04843178237277447, 0.482366260953138]}, {\"customdata\": [[0.02707836176476396, 0.3761800443957655, 2, \"Sade - Pearls (Timo Jahns Remix).wav\", \"circle\", \"#48a832\"], [-0.16509295194573576, 0.07626833209030288, 2, \"Sade - Pearls (Timo Jahns Remix).wav\", \"circle\", \"#48a832\"], [0.2219289388854499, -0.3773574664340459, 2, \"Sade - Pearls (Timo Jahns Remix).wav\", \"circle\", \"#48a832\"], [-0.48309139691993, -0.1546491405093262, 2, \"Sade - Pearls (Timo Jahns Remix).wav\", \"circle\", \"#48a832\"], [0.019552460822000975, 0.3455679581865035, 2, \"Sade - Pearls (Timo Jahns Remix).wav\", \"circle\", \"#48a832\"], [0.26629963460762385, -0.12177319777298752, 2, \"Sade - Pearls (Timo Jahns Remix).wav\", \"circle\", \"#48a832\"], [-0.07193037924613245, -0.40524319769152894, 2, \"Sade - Pearls (Timo Jahns Remix).wav\", \"circle\", \"#48a832\"], [-0.07588501897960348, -0.03154558882608476, 2, \"Sade - Pearls (Timo Jahns Remix).wav\", \"circle\", \"#48a832\"], [-0.08169332781095992, -0.042446697112344806, 2, \"Sade - Pearls (Timo Jahns Remix).wav\", \"circle\", \"#48a832\"], [-0.14434145216715216, 0.4819596639640862, 2, \"Sade - Pearls (Timo Jahns Remix).wav\", \"circle\", \"#48a832\"], [0.12331442030372858, 0.5864499445036678, 2, \"Sade - Pearls (Timo Jahns Remix).wav\", \"circle\", \"#48a832\"], [0.13257597069976867, -0.011566473051687341, 2, \"Sade - Pearls (Timo Jahns Remix).wav\", \"circle\", \"#48a832\"], [0.0638086246307533, -0.20567207475718938, 2, \"Sade - Pearls (Timo Jahns Remix).wav\", \"circle\", \"#48a832\"], [-0.23536550072473308, -0.3868098427417697, 2, \"Sade - Pearls (Timo Jahns Remix).wav\", \"x\", \"#48a832\"], [-0.34640138273413207, -0.32510241180369515, 2, \"Sade - Pearls (Timo Jahns Remix).wav\", \"x\", \"#48a832\"], [0.16321082638507695, 0.03997967576832114, 3, \"Sade - Pearls (Timo Jahns Remix).wav\", \"x\", \"#6b1075\"], [0.07070007564909625, 0.11977055655350385, 0, \"Sade - Pearls (Timo Jahns Remix).wav\", \"x\", \"#0044FF\"], [0.5794500586238787, -0.0462203216441537, 3, \"Sade - Pearls (Timo Jahns Remix).wav\", \"x\", \"#6b1075\"], [0.22575001023527466, 0.09880445252812883, 1, \"Sade - Pearls (Timo Jahns Remix).wav\", \"x\", \"#751017\"], [-0.8516442958111315, -0.026958984066746537, 0, \"Sade - Pearls (Timo Jahns Remix).wav\", \"x\", \"#0044FF\"], [-0.46429259482987456, -0.24917244893850463, 2, \"Sade - Pearls (Timo Jahns Remix).wav\", \"x\", \"#48a832\"], [-0.12317539410905343, 0.20769005484836944, 1, \"Sade - Pearls (Timo Jahns Remix).wav\", \"x\", \"#751017\"], [-0.18243447099323473, 0.0979638577575447, 3, \"Sade - Pearls (Timo Jahns Remix).wav\", \"x\", \"#6b1075\"], [-0.7694400291568787, -0.14622676169119617, 0, \"Sade - Pearls (Timo Jahns Remix).wav\", \"x\", \"#0044FF\"], [0.080950528577295, 0.8779201743332131, 0, \"Sade - Pearls (Timo Jahns Remix).wav\", \"x\", \"#0044FF\"], [0.241141353601746, 0.246318238768971, 0, \"Sade - Pearls (Timo Jahns Remix).wav\", \"x\", \"#0044FF\"]], \"hovertemplate\": \"<b>%{customdata[3]}</b><br>(%{x:.3f},%{y:.3f})<extra>%{customdata[2]}</extra>\", \"marker\": {\"color\": [\"#48a832\", \"#48a832\", \"#48a832\", \"#48a832\", \"#48a832\", \"#48a832\", \"#48a832\", \"#48a832\", \"#48a832\", \"#48a832\", \"#48a832\", \"#48a832\", \"#48a832\", \"#48a832\", \"#48a832\", \"#6b1075\", \"#0044FF\", \"#6b1075\", \"#751017\", \"#0044FF\", \"#48a832\", \"#751017\", \"#6b1075\", \"#0044FF\", \"#0044FF\", \"#0044FF\"], \"symbol\": [\"circle\", \"circle\", \"circle\", \"circle\", \"circle\", \"circle\", \"circle\", \"circle\", \"circle\", \"circle\", \"circle\", \"circle\", \"circle\", \"x\", \"x\", \"x\", \"x\", \"x\", \"x\", \"x\", \"x\", \"x\", \"x\", \"x\", \"x\", \"x\"]}, \"mode\": \"markers\", \"name\": \"11\", \"text\": [\"Sade - Pearls (Timo Jahns Remix).wav\", \"Sade - Pearls (Timo Jahns Remix).wav\", \"Sade - Pearls (Timo Jahns Remix).wav\", \"Sade - Pearls (Timo Jahns Remix).wav\", \"Sade - Pearls (Timo Jahns Remix).wav\", \"Sade - Pearls (Timo Jahns Remix).wav\", \"Sade - Pearls (Timo Jahns Remix).wav\", \"Sade - Pearls (Timo Jahns Remix).wav\", \"Sade - Pearls (Timo Jahns Remix).wav\", \"Sade - Pearls (Timo Jahns Remix).wav\", \"Sade - Pearls (Timo Jahns Remix).wav\", \"Sade - Pearls (Timo Jahns Remix).wav\", \"Sade - Pearls (Timo Jahns Remix).wav\", \"Sade - Pearls (Timo Jahns Remix).wav\", \"Sade - Pearls (Timo Jahns Remix).wav\", \"Sade - Pearls (Timo Jahns Remix).wav\", \"Sade - Pearls (Timo Jahns Remix).wav\", \"Sade - Pearls (Timo Jahns Remix).wav\", \"Sade - Pearls (Timo Jahns Remix).wav\", \"Sade - Pearls (Timo Jahns Remix).wav\", \"Sade - Pearls (Timo Jahns Remix).wav\", \"Sade - Pearls (Timo Jahns Remix).wav\", \"Sade - Pearls (Timo Jahns Remix).wav\", \"Sade - Pearls (Timo Jahns Remix).wav\", \"Sade - Pearls (Timo Jahns Remix).wav\", \"Sade - Pearls (Timo Jahns Remix).wav\"], \"type\": \"scatter\", \"x\": [0.02707836176476396, -0.16509295194573576, 0.2219289388854499, -0.48309139691993, 0.019552460822000975, 0.26629963460762385, -0.07193037924613245, -0.07588501897960348, -0.08169332781095992, -0.14434145216715216, 0.12331442030372858, 0.13257597069976867, 0.0638086246307533, -0.23536550072473308, -0.34640138273413207, 0.16321082638507695, 0.07070007564909625, 0.5794500586238787, 0.22575001023527466, -0.8516442958111315, -0.46429259482987456, -0.12317539410905343, -0.18243447099323473, -0.7694400291568787, 0.080950528577295, 0.241141353601746], \"y\": [0.3761800443957655, 0.07626833209030288, -0.3773574664340459, -0.1546491405093262, 0.3455679581865035, -0.12177319777298752, -0.40524319769152894, -0.03154558882608476, -0.042446697112344806, 0.4819596639640862, 0.5864499445036678, -0.011566473051687341, -0.20567207475718938, -0.3868098427417697, -0.32510241180369515, 0.03997967576832114, 0.11977055655350385, -0.0462203216441537, 0.09880445252812883, -0.026958984066746537, -0.24917244893850463, 0.20769005484836944, 0.0979638577575447, -0.14622676169119617, 0.8779201743332131, 0.246318238768971]}, {\"customdata\": [[-0.19765079664779195, -0.3561218835171933, 0, \"Siopis ft Metrika - Linda (Lemos & Pan Remix).wav\", \"circle\", \"#0044FF\"], [-0.020099724581226164, 0.27985832517802883, 0, \"Siopis ft Metrika - Linda (Lemos & Pan Remix).wav\", \"circle\", \"#0044FF\"], [0.1831520022679391, -0.1562647934854294, 0, \"Siopis ft Metrika - Linda (Lemos & Pan Remix).wav\", \"circle\", \"#0044FF\"], [-0.1413933678759956, -0.3850413560083611, 0, \"Siopis ft Metrika - Linda (Lemos & Pan Remix).wav\", \"circle\", \"#0044FF\"], [0.35760582109547534, -0.018346424705594777, 0, \"Siopis ft Metrika - Linda (Lemos & Pan Remix).wav\", \"circle\", \"#0044FF\"], [-0.10421509686161712, 0.18493998012745058, 0, \"Siopis ft Metrika - Linda (Lemos & Pan Remix).wav\", \"circle\", \"#0044FF\"], [0.20543242625935465, -0.06485494800195975, 0, \"Siopis ft Metrika - Linda (Lemos & Pan Remix).wav\", \"circle\", \"#0044FF\"], [0.812493411800553, 0.834445391321115, 0, \"Siopis ft Metrika - Linda (Lemos & Pan Remix).wav\", \"circle\", \"#0044FF\"], [-0.3171556074120491, 0.3374031174407748, 0, \"Siopis ft Metrika - Linda (Lemos & Pan Remix).wav\", \"circle\", \"#0044FF\"], [-0.49155597936056566, 0.3241473768983962, 3, \"Siopis ft Metrika - Linda (Lemos & Pan Remix).wav\", \"x\", \"#6b1075\"], [0.3076850370893468, 0.11497134940070858, 2, \"Siopis ft Metrika - Linda (Lemos & Pan Remix).wav\", \"x\", \"#48a832\"], [-0.007064011480152552, 0.026072378222612238, 1, \"Siopis ft Metrika - Linda (Lemos & Pan Remix).wav\", \"x\", \"#751017\"], [0.017796519537594452, 0.0422395357815777, 1, \"Siopis ft Metrika - Linda (Lemos & Pan Remix).wav\", \"x\", \"#751017\"], [-0.20889200145843212, 0.3285983734455684, 0, \"Siopis ft Metrika - Linda (Lemos & Pan Remix).wav\", \"x\", \"#0044FF\"], [0.6753709228470045, -0.03833570758395962, 0, \"Siopis ft Metrika - Linda (Lemos & Pan Remix).wav\", \"x\", \"#0044FF\"], [-0.24775138434365895, 0.27310751998811866, 2, \"Siopis ft Metrika - Linda (Lemos & Pan Remix).wav\", \"x\", \"#48a832\"], [0.11937905218487337, -0.05868865638105454, 3, \"Siopis ft Metrika - Linda (Lemos & Pan Remix).wav\", \"x\", \"#6b1075\"], [0.6280089249923965, -0.4129383352008332, 0, \"Siopis ft Metrika - Linda (Lemos & Pan Remix).wav\", \"x\", \"#0044FF\"]], \"hovertemplate\": \"<b>%{customdata[3]}</b><br>(%{x:.3f},%{y:.3f})<extra>%{customdata[2]}</extra>\", \"marker\": {\"color\": [\"#0044FF\", \"#0044FF\", \"#0044FF\", \"#0044FF\", \"#0044FF\", \"#0044FF\", \"#0044FF\", \"#0044FF\", \"#0044FF\", \"#6b1075\", \"#48a832\", \"#751017\", \"#751017\", \"#0044FF\", \"#0044FF\", \"#48a832\", \"#6b1075\", \"#0044FF\"], \"symbol\": [\"circle\", \"circle\", \"circle\", \"circle\", \"circle\", \"circle\", \"circle\", \"circle\", \"circle\", \"x\", \"x\", \"x\", \"x\", \"x\", \"x\", \"x\", \"x\", \"x\"]}, \"mode\": \"markers\", \"name\": \"12\", \"text\": [\"Siopis ft Metrika - Linda (Lemos & Pan Remix).wav\", \"Siopis ft Metrika - Linda (Lemos & Pan Remix).wav\", \"Siopis ft Metrika - Linda (Lemos & Pan Remix).wav\", \"Siopis ft Metrika - Linda (Lemos & Pan Remix).wav\", \"Siopis ft Metrika - Linda (Lemos & Pan Remix).wav\", \"Siopis ft Metrika - Linda (Lemos & Pan Remix).wav\", \"Siopis ft Metrika - Linda (Lemos & Pan Remix).wav\", \"Siopis ft Metrika - Linda (Lemos & Pan Remix).wav\", \"Siopis ft Metrika - Linda (Lemos & Pan Remix).wav\", \"Siopis ft Metrika - Linda (Lemos & Pan Remix).wav\", \"Siopis ft Metrika - Linda (Lemos & Pan Remix).wav\", \"Siopis ft Metrika - Linda (Lemos & Pan Remix).wav\", \"Siopis ft Metrika - Linda (Lemos & Pan Remix).wav\", \"Siopis ft Metrika - Linda (Lemos & Pan Remix).wav\", \"Siopis ft Metrika - Linda (Lemos & Pan Remix).wav\", \"Siopis ft Metrika - Linda (Lemos & Pan Remix).wav\", \"Siopis ft Metrika - Linda (Lemos & Pan Remix).wav\", \"Siopis ft Metrika - Linda (Lemos & Pan Remix).wav\"], \"type\": \"scatter\", \"x\": [-0.19765079664779195, -0.020099724581226164, 0.1831520022679391, -0.1413933678759956, 0.35760582109547534, -0.10421509686161712, 0.20543242625935465, 0.812493411800553, -0.3171556074120491, -0.49155597936056566, 0.3076850370893468, -0.007064011480152552, 0.017796519537594452, -0.20889200145843212, 0.6753709228470045, -0.24775138434365895, 0.11937905218487337, 0.6280089249923965], \"y\": [-0.3561218835171933, 0.27985832517802883, -0.1562647934854294, -0.3850413560083611, -0.018346424705594777, 0.18493998012745058, -0.06485494800195975, 0.834445391321115, 0.3374031174407748, 0.3241473768983962, 0.11497134940070858, 0.026072378222612238, 0.0422395357815777, 0.3285983734455684, -0.03833570758395962, 0.27310751998811866, -0.05868865638105454, -0.4129383352008332]}, {\"customdata\": [[0.07861365895590063, -0.05890542026433598, 2, \"Soule & Marshall Booze Jr - Walk On By.wav\", \"circle\", \"#48a832\"], [0.5642665432142676, 0.01289659478950541, 2, \"Soule & Marshall Booze Jr - Walk On By.wav\", \"circle\", \"#48a832\"], [-0.0047666001043591335, -0.11016452991659954, 2, \"Soule & Marshall Booze Jr - Walk On By.wav\", \"circle\", \"#48a832\"], [-0.2537833207125253, -0.1728409932776713, 2, \"Soule & Marshall Booze Jr - Walk On By.wav\", \"circle\", \"#48a832\"], [-0.035157198741509854, -0.09682888490330628, 2, \"Soule & Marshall Booze Jr - Walk On By.wav\", \"circle\", \"#48a832\"], [0.17869910115196735, -0.10486847335433377, 2, \"Soule & Marshall Booze Jr - Walk On By.wav\", \"circle\", \"#48a832\"], [0.3548020341275401, -0.13343397147904992, 2, \"Soule & Marshall Booze Jr - Walk On By.wav\", \"x\", \"#48a832\"], [0.7436968724115441, -0.08335898019583844, 0, \"Soule & Marshall Booze Jr - Walk On By.wav\", \"x\", \"#0044FF\"], [-0.2704288282060751, -0.35946328812578093, 0, \"Soule & Marshall Booze Jr - Walk On By.wav\", \"x\", \"#0044FF\"], [0.0751482703726295, -0.07407933991795497, 1, \"Soule & Marshall Booze Jr - Walk On By.wav\", \"x\", \"#751017\"], [-0.14442154892577244, -0.08170525097092471, 3, \"Soule & Marshall Booze Jr - Walk On By.wav\", \"x\", \"#6b1075\"], [0.08223007410544475, -0.1318825168902596, 1, \"Soule & Marshall Booze Jr - Walk On By.wav\", \"x\", \"#751017\"]], \"hovertemplate\": \"<b>%{customdata[3]}</b><br>(%{x:.3f},%{y:.3f})<extra>%{customdata[2]}</extra>\", \"marker\": {\"color\": [\"#48a832\", \"#48a832\", \"#48a832\", \"#48a832\", \"#48a832\", \"#48a832\", \"#48a832\", \"#0044FF\", \"#0044FF\", \"#751017\", \"#6b1075\", \"#751017\"], \"symbol\": [\"circle\", \"circle\", \"circle\", \"circle\", \"circle\", \"circle\", \"x\", \"x\", \"x\", \"x\", \"x\", \"x\"]}, \"mode\": \"markers\", \"name\": \"13\", \"text\": [\"Soule & Marshall Booze Jr - Walk On By.wav\", \"Soule & Marshall Booze Jr - Walk On By.wav\", \"Soule & Marshall Booze Jr - Walk On By.wav\", \"Soule & Marshall Booze Jr - Walk On By.wav\", \"Soule & Marshall Booze Jr - Walk On By.wav\", \"Soule & Marshall Booze Jr - Walk On By.wav\", \"Soule & Marshall Booze Jr - Walk On By.wav\", \"Soule & Marshall Booze Jr - Walk On By.wav\", \"Soule & Marshall Booze Jr - Walk On By.wav\", \"Soule & Marshall Booze Jr - Walk On By.wav\", \"Soule & Marshall Booze Jr - Walk On By.wav\", \"Soule & Marshall Booze Jr - Walk On By.wav\"], \"type\": \"scatter\", \"x\": [0.07861365895590063, 0.5642665432142676, -0.0047666001043591335, -0.2537833207125253, -0.035157198741509854, 0.17869910115196735, 0.3548020341275401, 0.7436968724115441, -0.2704288282060751, 0.0751482703726295, -0.14442154892577244, 0.08223007410544475], \"y\": [-0.05890542026433598, 0.01289659478950541, -0.11016452991659954, -0.1728409932776713, -0.09682888490330628, -0.10486847335433377, -0.13343397147904992, -0.08335898019583844, -0.35946328812578093, -0.07407933991795497, -0.08170525097092471, -0.1318825168902596]}, {\"customdata\": [[-0.018359019719064024, -0.03575363971672141, 2, \"The Fog - Been A Long Time (Rhythm Masters Main Mix).wav\", \"circle\", \"#48a832\"], [-0.6606605585378771, -0.00843715101516801, 2, \"The Fog - Been A Long Time (Rhythm Masters Main Mix).wav\", \"circle\", \"#48a832\"], [-0.06532814921865406, 0.3753236715862346, 2, \"The Fog - Been A Long Time (Rhythm Masters Main Mix).wav\", \"circle\", \"#48a832\"], [-0.14872033536131699, -0.06607828601857334, 2, \"The Fog - Been A Long Time (Rhythm Masters Main Mix).wav\", \"circle\", \"#48a832\"], [-0.09211474675658274, -0.11318306744139574, 2, \"The Fog - Been A Long Time (Rhythm Masters Main Mix).wav\", \"circle\", \"#48a832\"], [-0.25775281018886387, -0.2005255654220951, 2, \"The Fog - Been A Long Time (Rhythm Masters Main Mix).wav\", \"circle\", \"#48a832\"], [0.38556545985080115, -0.5117411011524184, 2, \"The Fog - Been A Long Time (Rhythm Masters Main Mix).wav\", \"circle\", \"#48a832\"], [0.2847695043530844, -0.22881209980239628, 2, \"The Fog - Been A Long Time (Rhythm Masters Main Mix).wav\", \"circle\", \"#48a832\"], [0.005440421234094457, -0.15878256397059304, 2, \"The Fog - Been A Long Time (Rhythm Masters Main Mix).wav\", \"circle\", \"#48a832\"], [-0.0450666621393584, 0.363286044060166, 2, \"The Fog - Been A Long Time (Rhythm Masters Main Mix).wav\", \"circle\", \"#48a832\"], [-0.28529725415206314, 0.15120971740082093, 2, \"The Fog - Been A Long Time (Rhythm Masters Main Mix).wav\", \"circle\", \"#48a832\"], [-0.2069989379001273, 0.07920398230601035, 2, \"The Fog - Been A Long Time (Rhythm Masters Main Mix).wav\", \"circle\", \"#48a832\"], [0.2140153261649499, -0.04090100699719442, 2, \"The Fog - Been A Long Time (Rhythm Masters Main Mix).wav\", \"x\", \"#48a832\"], [0.6233177726556416, -0.1812479016510992, 1, \"The Fog - Been A Long Time (Rhythm Masters Main Mix).wav\", \"x\", \"#751017\"], [-0.7131975101543696, -0.2947972111759542, 0, \"The Fog - Been A Long Time (Rhythm Masters Main Mix).wav\", \"x\", \"#0044FF\"], [-0.45167921160709057, -0.19488145858938427, 2, \"The Fog - Been A Long Time (Rhythm Masters Main Mix).wav\", \"x\", \"#48a832\"], [-0.7874816215367026, -0.04193417239708985, 0, \"The Fog - Been A Long Time (Rhythm Masters Main Mix).wav\", \"x\", \"#0044FF\"], [0.09388061279978213, -0.0016133867593985597, 2, \"The Fog - Been A Long Time (Rhythm Masters Main Mix).wav\", \"x\", \"#48a832\"], [0.03488036080524997, -0.018803677328259, 2, \"The Fog - Been A Long Time (Rhythm Masters Main Mix).wav\", \"x\", \"#48a832\"], [0.840903899582665, -0.1925238069914063, 0, \"The Fog - Been A Long Time (Rhythm Masters Main Mix).wav\", \"x\", \"#0044FF\"], [0.69776031059393, 0.013520835357073435, 0, \"The Fog - Been A Long Time (Rhythm Masters Main Mix).wav\", \"x\", \"#0044FF\"], [-0.18169637924959317, -0.0612827113158108, 3, \"The Fog - Been A Long Time (Rhythm Masters Main Mix).wav\", \"x\", \"#6b1075\"], [0.03797487619586056, 0.36312599474817936, 0, \"The Fog - Been A Long Time (Rhythm Masters Main Mix).wav\", \"x\", \"#0044FF\"], [0.006528031264102572, 0.32922205919537567, 0, \"The Fog - Been A Long Time (Rhythm Masters Main Mix).wav\", \"x\", \"#0044FF\"]], \"hovertemplate\": \"<b>%{customdata[3]}</b><br>(%{x:.3f},%{y:.3f})<extra>%{customdata[2]}</extra>\", \"marker\": {\"color\": [\"#48a832\", \"#48a832\", \"#48a832\", \"#48a832\", \"#48a832\", \"#48a832\", \"#48a832\", \"#48a832\", \"#48a832\", \"#48a832\", \"#48a832\", \"#48a832\", \"#48a832\", \"#751017\", \"#0044FF\", \"#48a832\", \"#0044FF\", \"#48a832\", \"#48a832\", \"#0044FF\", \"#0044FF\", \"#6b1075\", \"#0044FF\", \"#0044FF\"], \"symbol\": [\"circle\", \"circle\", \"circle\", \"circle\", \"circle\", \"circle\", \"circle\", \"circle\", \"circle\", \"circle\", \"circle\", \"circle\", \"x\", \"x\", \"x\", \"x\", \"x\", \"x\", \"x\", \"x\", \"x\", \"x\", \"x\", \"x\"]}, \"mode\": \"markers\", \"name\": \"14\", \"text\": [\"The Fog - Been A Long Time (Rhythm Masters Main Mix).wav\", \"The Fog - Been A Long Time (Rhythm Masters Main Mix).wav\", \"The Fog - Been A Long Time (Rhythm Masters Main Mix).wav\", \"The Fog - Been A Long Time (Rhythm Masters Main Mix).wav\", \"The Fog - Been A Long Time (Rhythm Masters Main Mix).wav\", \"The Fog - Been A Long Time (Rhythm Masters Main Mix).wav\", \"The Fog - Been A Long Time (Rhythm Masters Main Mix).wav\", \"The Fog - Been A Long Time (Rhythm Masters Main Mix).wav\", \"The Fog - Been A Long Time (Rhythm Masters Main Mix).wav\", \"The Fog - Been A Long Time (Rhythm Masters Main Mix).wav\", \"The Fog - Been A Long Time (Rhythm Masters Main Mix).wav\", \"The Fog - Been A Long Time (Rhythm Masters Main Mix).wav\", \"The Fog - Been A Long Time (Rhythm Masters Main Mix).wav\", \"The Fog - Been A Long Time (Rhythm Masters Main Mix).wav\", \"The Fog - Been A Long Time (Rhythm Masters Main Mix).wav\", \"The Fog - Been A Long Time (Rhythm Masters Main Mix).wav\", \"The Fog - Been A Long Time (Rhythm Masters Main Mix).wav\", \"The Fog - Been A Long Time (Rhythm Masters Main Mix).wav\", \"The Fog - Been A Long Time (Rhythm Masters Main Mix).wav\", \"The Fog - Been A Long Time (Rhythm Masters Main Mix).wav\", \"The Fog - Been A Long Time (Rhythm Masters Main Mix).wav\", \"The Fog - Been A Long Time (Rhythm Masters Main Mix).wav\", \"The Fog - Been A Long Time (Rhythm Masters Main Mix).wav\", \"The Fog - Been A Long Time (Rhythm Masters Main Mix).wav\"], \"type\": \"scatter\", \"x\": [-0.018359019719064024, -0.6606605585378771, -0.06532814921865406, -0.14872033536131699, -0.09211474675658274, -0.25775281018886387, 0.38556545985080115, 0.2847695043530844, 0.005440421234094457, -0.0450666621393584, -0.28529725415206314, -0.2069989379001273, 0.2140153261649499, 0.6233177726556416, -0.7131975101543696, -0.45167921160709057, -0.7874816215367026, 0.09388061279978213, 0.03488036080524997, 0.840903899582665, 0.69776031059393, -0.18169637924959317, 0.03797487619586056, 0.006528031264102572], \"y\": [-0.03575363971672141, -0.00843715101516801, 0.3753236715862346, -0.06607828601857334, -0.11318306744139574, -0.2005255654220951, -0.5117411011524184, -0.22881209980239628, -0.15878256397059304, 0.363286044060166, 0.15120971740082093, 0.07920398230601035, -0.04090100699719442, -0.1812479016510992, -0.2947972111759542, -0.19488145858938427, -0.04193417239708985, -0.0016133867593985597, -0.018803677328259, -0.1925238069914063, 0.013520835357073435, -0.0612827113158108, 0.36312599474817936, 0.32922205919537567]}, {\"customdata\": [[-0.496111097104312, -0.3110624219049059, 0, \"v_Full Intention - America (I Love America) (Dub American Style).wav\", \"circle\", \"#0044FF\"], [0.12361657712545637, -0.18063642051302667, 0, \"v_Full Intention - America (I Love America) (Dub American Style).wav\", \"circle\", \"#0044FF\"], [0.17523798932509643, -0.20251804500298495, 0, \"v_Full Intention - America (I Love America) (Dub American Style).wav\", \"circle\", \"#0044FF\"], [-0.16023464705100274, -0.18477485057306675, 0, \"v_Full Intention - America (I Love America) (Dub American Style).wav\", \"circle\", \"#0044FF\"], [0.06377702449116877, -0.1797490190132866, 0, \"v_Full Intention - America (I Love America) (Dub American Style).wav\", \"circle\", \"#0044FF\"], [-0.11606594320154881, -0.012080116262602731, 0, \"v_Full Intention - America (I Love America) (Dub American Style).wav\", \"circle\", \"#0044FF\"], [-0.4995250957183734, -0.7474543289384853, 0, \"v_Full Intention - America (I Love America) (Dub American Style).wav\", \"circle\", \"#0044FF\"], [-0.36085461356874654, -0.2812859621315522, 0, \"v_Full Intention - America (I Love America) (Dub American Style).wav\", \"circle\", \"#0044FF\"], [-0.2254801613533651, -0.17083934013574348, 0, \"v_Full Intention - America (I Love America) (Dub American Style).wav\", \"circle\", \"#0044FF\"], [0.16752746451804992, -0.0408636891301531, 0, \"v_Full Intention - America (I Love America) (Dub American Style).wav\", \"circle\", \"#0044FF\"], [0.46493254678657464, 0.629147179559154, 0, \"v_Full Intention - America (I Love America) (Dub American Style).wav\", \"circle\", \"#0044FF\"], [-0.15766256663531805, -0.0991598403666497, 0, \"v_Full Intention - America (I Love America) (Dub American Style).wav\", \"circle\", \"#0044FF\"], [-0.20717134485422672, 0.18573403513121384, 0, \"v_Full Intention - America (I Love America) (Dub American Style).wav\", \"circle\", \"#0044FF\"], [0.429926023416483, -0.23002104868254528, 0, \"v_Full Intention - America (I Love America) (Dub American Style).wav\", \"circle\", \"#0044FF\"], [0.10784931342685344, -0.057441364841373084, 0, \"v_Full Intention - America (I Love America) (Dub American Style).wav\", \"circle\", \"#0044FF\"], [-0.021847992306363424, 0.2385749431861426, 0, \"v_Full Intention - America (I Love America) (Dub American Style).wav\", \"x\", \"#0044FF\"], [0.032261202924489626, -0.013255462941003798, 1, \"v_Full Intention - America (I Love America) (Dub American Style).wav\", \"x\", \"#751017\"], [-0.17893483141923586, 0.09196008307805016, 1, \"v_Full Intention - America (I Love America) (Dub American Style).wav\", \"x\", \"#751017\"], [-0.2577039643243943, -0.6916782780698649, 0, \"v_Full Intention - America (I Love America) (Dub American Style).wav\", \"x\", \"#0044FF\"], [0.03553475165588297, 0.31000206925160073, 0, \"v_Full Intention - America (I Love America) (Dub American Style).wav\", \"x\", \"#0044FF\"], [-0.15924891729077711, 0.32697722417951913, 3, \"v_Full Intention - America (I Love America) (Dub American Style).wav\", \"x\", \"#6b1075\"], [0.23965584850844474, -0.0793026622131529, 1, \"v_Full Intention - America (I Love America) (Dub American Style).wav\", \"x\", \"#751017\"], [-0.15408146126027272, -0.022614960574794944, 3, \"v_Full Intention - America (I Love America) (Dub American Style).wav\", \"x\", \"#6b1075\"], [0.5111568310210807, -0.14124328416986154, 3, \"v_Full Intention - America (I Love America) (Dub American Style).wav\", \"x\", \"#6b1075\"], [-0.16842245139436726, 0.14217629517431912, 3, \"v_Full Intention - America (I Love America) (Dub American Style).wav\", \"x\", \"#6b1075\"], [-0.03674989400201669, -0.323409226733862, 2, \"v_Full Intention - America (I Love America) (Dub American Style).wav\", \"x\", \"#48a832\"], [-0.541970283046084, 0.29824952610103067, 3, \"v_Full Intention - America (I Love America) (Dub American Style).wav\", \"x\", \"#6b1075\"], [-0.8121818014668735, -0.09737437903829264, 0, \"v_Full Intention - America (I Love America) (Dub American Style).wav\", \"x\", \"#0044FF\"], [-0.9066581402013947, 0.08580870061729075, 0, \"v_Full Intention - America (I Love America) (Dub American Style).wav\", \"x\", \"#0044FF\"], [-0.01193596006677306, 0.02989238874471614, 1, \"v_Full Intention - America (I Love America) (Dub American Style).wav\", \"x\", \"#751017\"]], \"hovertemplate\": \"<b>%{customdata[3]}</b><br>(%{x:.3f},%{y:.3f})<extra>%{customdata[2]}</extra>\", \"marker\": {\"color\": [\"#0044FF\", \"#0044FF\", \"#0044FF\", \"#0044FF\", \"#0044FF\", \"#0044FF\", \"#0044FF\", \"#0044FF\", \"#0044FF\", \"#0044FF\", \"#0044FF\", \"#0044FF\", \"#0044FF\", \"#0044FF\", \"#0044FF\", \"#0044FF\", \"#751017\", \"#751017\", \"#0044FF\", \"#0044FF\", \"#6b1075\", \"#751017\", \"#6b1075\", \"#6b1075\", \"#6b1075\", \"#48a832\", \"#6b1075\", \"#0044FF\", \"#0044FF\", \"#751017\"], \"symbol\": [\"circle\", \"circle\", \"circle\", \"circle\", \"circle\", \"circle\", \"circle\", \"circle\", \"circle\", \"circle\", \"circle\", \"circle\", \"circle\", \"circle\", \"circle\", \"x\", \"x\", \"x\", \"x\", \"x\", \"x\", \"x\", \"x\", \"x\", \"x\", \"x\", \"x\", \"x\", \"x\", \"x\"]}, \"mode\": \"markers\", \"name\": \"15\", \"text\": [\"v_Full Intention - America (I Love America) (Dub American Style).wav\", \"v_Full Intention - America (I Love America) (Dub American Style).wav\", \"v_Full Intention - America (I Love America) (Dub American Style).wav\", \"v_Full Intention - America (I Love America) (Dub American Style).wav\", \"v_Full Intention - America (I Love America) (Dub American Style).wav\", \"v_Full Intention - America (I Love America) (Dub American Style).wav\", \"v_Full Intention - America (I Love America) (Dub American Style).wav\", \"v_Full Intention - America (I Love America) (Dub American Style).wav\", \"v_Full Intention - America (I Love America) (Dub American Style).wav\", \"v_Full Intention - America (I Love America) (Dub American Style).wav\", \"v_Full Intention - America (I Love America) (Dub American Style).wav\", \"v_Full Intention - America (I Love America) (Dub American Style).wav\", \"v_Full Intention - America (I Love America) (Dub American Style).wav\", \"v_Full Intention - America (I Love America) (Dub American Style).wav\", \"v_Full Intention - America (I Love America) (Dub American Style).wav\", \"v_Full Intention - America (I Love America) (Dub American Style).wav\", \"v_Full Intention - America (I Love America) (Dub American Style).wav\", \"v_Full Intention - America (I Love America) (Dub American Style).wav\", \"v_Full Intention - America (I Love America) (Dub American Style).wav\", \"v_Full Intention - America (I Love America) (Dub American Style).wav\", \"v_Full Intention - America (I Love America) (Dub American Style).wav\", \"v_Full Intention - America (I Love America) (Dub American Style).wav\", \"v_Full Intention - America (I Love America) (Dub American Style).wav\", \"v_Full Intention - America (I Love America) (Dub American Style).wav\", \"v_Full Intention - America (I Love America) (Dub American Style).wav\", \"v_Full Intention - America (I Love America) (Dub American Style).wav\", \"v_Full Intention - America (I Love America) (Dub American Style).wav\", \"v_Full Intention - America (I Love America) (Dub American Style).wav\", \"v_Full Intention - America (I Love America) (Dub American Style).wav\", \"v_Full Intention - America (I Love America) (Dub American Style).wav\"], \"type\": \"scatter\", \"x\": [-0.496111097104312, 0.12361657712545637, 0.17523798932509643, -0.16023464705100274, 0.06377702449116877, -0.11606594320154881, -0.4995250957183734, -0.36085461356874654, -0.2254801613533651, 0.16752746451804992, 0.46493254678657464, -0.15766256663531805, -0.20717134485422672, 0.429926023416483, 0.10784931342685344, -0.021847992306363424, 0.032261202924489626, -0.17893483141923586, -0.2577039643243943, 0.03553475165588297, -0.15924891729077711, 0.23965584850844474, -0.15408146126027272, 0.5111568310210807, -0.16842245139436726, -0.03674989400201669, -0.541970283046084, -0.8121818014668735, -0.9066581402013947, -0.01193596006677306], \"y\": [-0.3110624219049059, -0.18063642051302667, -0.20251804500298495, -0.18477485057306675, -0.1797490190132866, -0.012080116262602731, -0.7474543289384853, -0.2812859621315522, -0.17083934013574348, -0.0408636891301531, 0.629147179559154, -0.0991598403666497, 0.18573403513121384, -0.23002104868254528, -0.057441364841373084, 0.2385749431861426, -0.013255462941003798, 0.09196008307805016, -0.6916782780698649, 0.31000206925160073, 0.32697722417951913, -0.0793026622131529, -0.022614960574794944, -0.14124328416986154, 0.14217629517431912, -0.323409226733862, 0.29824952610103067, -0.09737437903829264, 0.08580870061729075, 0.02989238874471614]}, {\"customdata\": [[-0.31265088616028447, 0.2033257379205665, 3, \"v_Full Intention - America (I Love America) (Full Length 12_ Vocal Mix).wav\", \"circle\", \"#6b1075\"], [-0.07438505889534773, -0.12163648417170933, 3, \"v_Full Intention - America (I Love America) (Full Length 12_ Vocal Mix).wav\", \"circle\", \"#6b1075\"], [-0.22788958385889624, -0.03494259466579443, 3, \"v_Full Intention - America (I Love America) (Full Length 12_ Vocal Mix).wav\", \"circle\", \"#6b1075\"], [-0.036881352387779856, -0.21539166092867365, 3, \"v_Full Intention - America (I Love America) (Full Length 12_ Vocal Mix).wav\", \"circle\", \"#6b1075\"], [-0.15016264011031477, 0.05628362604169268, 3, \"v_Full Intention - America (I Love America) (Full Length 12_ Vocal Mix).wav\", \"circle\", \"#6b1075\"], [0.7618754225664266, 0.6452214520630551, 3, \"v_Full Intention - America (I Love America) (Full Length 12_ Vocal Mix).wav\", \"circle\", \"#6b1075\"], [-0.22826963106483714, -0.12156589693672148, 3, \"v_Full Intention - America (I Love America) (Full Length 12_ Vocal Mix).wav\", \"circle\", \"#6b1075\"], [-0.08660199000609856, -0.0730393021152382, 3, \"v_Full Intention - America (I Love America) (Full Length 12_ Vocal Mix).wav\", \"circle\", \"#6b1075\"], [-0.8190809140056255, -0.07792116538790943, 0, \"v_Full Intention - America (I Love America) (Full Length 12_ Vocal Mix).wav\", \"x\", \"#0044FF\"], [0.2268408713267798, -0.12205624725241039, 2, \"v_Full Intention - America (I Love America) (Full Length 12_ Vocal Mix).wav\", \"x\", \"#48a832\"], [0.3655027039154034, -0.010131407199924575, 2, \"v_Full Intention - America (I Love America) (Full Length 12_ Vocal Mix).wav\", \"x\", \"#48a832\"], [-0.004937377499797743, 0.06769465117652684, 1, \"v_Full Intention - America (I Love America) (Full Length 12_ Vocal Mix).wav\", \"x\", \"#751017\"], [0.027097616513375132, 0.05307608203173248, 1, \"v_Full Intention - America (I Love America) (Full Length 12_ Vocal Mix).wav\", \"x\", \"#751017\"], [-0.3669459239892822, 0.3433774789837645, 3, \"v_Full Intention - America (I Love America) (Full Length 12_ Vocal Mix).wav\", \"x\", \"#6b1075\"], [0.32325551619877724, 0.14127139253736698, 0, \"v_Full Intention - America (I Love America) (Full Length 12_ Vocal Mix).wav\", \"x\", \"#0044FF\"], [0.7194834033000089, 0.061266833665045706, 0, \"v_Full Intention - America (I Love America) (Full Length 12_ Vocal Mix).wav\", \"x\", \"#0044FF\"]], \"hovertemplate\": \"<b>%{customdata[3]}</b><br>(%{x:.3f},%{y:.3f})<extra>%{customdata[2]}</extra>\", \"marker\": {\"color\": [\"#6b1075\", \"#6b1075\", \"#6b1075\", \"#6b1075\", \"#6b1075\", \"#6b1075\", \"#6b1075\", \"#6b1075\", \"#0044FF\", \"#48a832\", \"#48a832\", \"#751017\", \"#751017\", \"#6b1075\", \"#0044FF\", \"#0044FF\"], \"symbol\": [\"circle\", \"circle\", \"circle\", \"circle\", \"circle\", \"circle\", \"circle\", \"circle\", \"x\", \"x\", \"x\", \"x\", \"x\", \"x\", \"x\", \"x\"]}, \"mode\": \"markers\", \"name\": \"16\", \"text\": [\"v_Full Intention - America (I Love America) (Full Length 12_ Vocal Mix).wav\", \"v_Full Intention - America (I Love America) (Full Length 12_ Vocal Mix).wav\", \"v_Full Intention - America (I Love America) (Full Length 12_ Vocal Mix).wav\", \"v_Full Intention - America (I Love America) (Full Length 12_ Vocal Mix).wav\", \"v_Full Intention - America (I Love America) (Full Length 12_ Vocal Mix).wav\", \"v_Full Intention - America (I Love America) (Full Length 12_ Vocal Mix).wav\", \"v_Full Intention - America (I Love America) (Full Length 12_ Vocal Mix).wav\", \"v_Full Intention - America (I Love America) (Full Length 12_ Vocal Mix).wav\", \"v_Full Intention - America (I Love America) (Full Length 12_ Vocal Mix).wav\", \"v_Full Intention - America (I Love America) (Full Length 12_ Vocal Mix).wav\", \"v_Full Intention - America (I Love America) (Full Length 12_ Vocal Mix).wav\", \"v_Full Intention - America (I Love America) (Full Length 12_ Vocal Mix).wav\", \"v_Full Intention - America (I Love America) (Full Length 12_ Vocal Mix).wav\", \"v_Full Intention - America (I Love America) (Full Length 12_ Vocal Mix).wav\", \"v_Full Intention - America (I Love America) (Full Length 12_ Vocal Mix).wav\", \"v_Full Intention - America (I Love America) (Full Length 12_ Vocal Mix).wav\"], \"type\": \"scatter\", \"x\": [-0.31265088616028447, -0.07438505889534773, -0.22788958385889624, -0.036881352387779856, -0.15016264011031477, 0.7618754225664266, -0.22826963106483714, -0.08660199000609856, -0.8190809140056255, 0.2268408713267798, 0.3655027039154034, -0.004937377499797743, 0.027097616513375132, -0.3669459239892822, 0.32325551619877724, 0.7194834033000089], \"y\": [0.2033257379205665, -0.12163648417170933, -0.03494259466579443, -0.21539166092867365, 0.05628362604169268, 0.6452214520630551, -0.12156589693672148, -0.0730393021152382, -0.07792116538790943, -0.12205624725241039, -0.010131407199924575, 0.06769465117652684, 0.05307608203173248, 0.3433774789837645, 0.14127139253736698, 0.061266833665045706]}, {\"customdata\": [[-0.11598900867935474, 0.04988789071099636, 3, \"v_Full Intention - America (I Love America) (Johnick Henry St. Captain Mix).wav\", \"circle\", \"#6b1075\"], [-0.4527405835181799, 0.33664667916149743, 3, \"v_Full Intention - America (I Love America) (Johnick Henry St. Captain Mix).wav\", \"circle\", \"#6b1075\"], [0.2652204477430536, -0.12500432461306824, 3, \"v_Full Intention - America (I Love America) (Johnick Henry St. Captain Mix).wav\", \"circle\", \"#6b1075\"], [0.04862736678376704, -0.3516875456115541, 3, \"v_Full Intention - America (I Love America) (Johnick Henry St. Captain Mix).wav\", \"circle\", \"#6b1075\"], [0.04504864277487248, -0.0630582130006498, 3, \"v_Full Intention - America (I Love America) (Johnick Henry St. Captain Mix).wav\", \"circle\", \"#6b1075\"], [0.24482571496440114, -0.20576916965459133, 3, \"v_Full Intention - America (I Love America) (Johnick Henry St. Captain Mix).wav\", \"circle\", \"#6b1075\"], [0.3055923048880003, 0.7235667341893822, 3, \"v_Full Intention - America (I Love America) (Johnick Henry St. Captain Mix).wav\", \"circle\", \"#6b1075\"], [-0.18563267922124344, -0.09435811319003032, 3, \"v_Full Intention - America (I Love America) (Johnick Henry St. Captain Mix).wav\", \"circle\", \"#6b1075\"], [0.02768592565009301, -0.12466175905070431, 3, \"v_Full Intention - America (I Love America) (Johnick Henry St. Captain Mix).wav\", \"circle\", \"#6b1075\"], [-0.7408520572782703, 0.040385332957113045, 0, \"v_Full Intention - America (I Love America) (Johnick Henry St. Captain Mix).wav\", \"x\", \"#0044FF\"], [0.07296274685684327, 0.8806352721393963, 0, \"v_Full Intention - America (I Love America) (Johnick Henry St. Captain Mix).wav\", \"x\", \"#0044FF\"], [0.5086518992897461, 0.296506027853758, 0, \"v_Full Intention - America (I Love America) (Johnick Henry St. Captain Mix).wav\", \"x\", \"#0044FF\"], [-0.031754149109731976, 0.07268417308073961, 3, \"v_Full Intention - America (I Love America) (Johnick Henry St. Captain Mix).wav\", \"x\", \"#6b1075\"], [0.5308269154202945, 0.3563309805382184, 0, \"v_Full Intention - America (I Love America) (Johnick Henry St. Captain Mix).wav\", \"x\", \"#0044FF\"], [-0.14825550428318748, 0.0036518545114942965, 1, \"v_Full Intention - America (I Love America) (Johnick Henry St. Captain Mix).wav\", \"x\", \"#751017\"], [-0.8670720472651932, 0.002763518177840385, 0, \"v_Full Intention - America (I Love America) (Johnick Henry St. Captain Mix).wav\", \"x\", \"#0044FF\"], [-0.13941431053483314, 0.05211946204168804, 1, \"v_Full Intention - America (I Love America) (Johnick Henry St. Captain Mix).wav\", \"x\", \"#751017\"], [0.14589686545562972, 0.08663810248187208, 3, \"v_Full Intention - America (I Love America) (Johnick Henry St. Captain Mix).wav\", \"x\", \"#6b1075\"]], \"hovertemplate\": \"<b>%{customdata[3]}</b><br>(%{x:.3f},%{y:.3f})<extra>%{customdata[2]}</extra>\", \"marker\": {\"color\": [\"#6b1075\", \"#6b1075\", \"#6b1075\", \"#6b1075\", \"#6b1075\", \"#6b1075\", \"#6b1075\", \"#6b1075\", \"#6b1075\", \"#0044FF\", \"#0044FF\", \"#0044FF\", \"#6b1075\", \"#0044FF\", \"#751017\", \"#0044FF\", \"#751017\", \"#6b1075\"], \"symbol\": [\"circle\", \"circle\", \"circle\", \"circle\", \"circle\", \"circle\", \"circle\", \"circle\", \"circle\", \"x\", \"x\", \"x\", \"x\", \"x\", \"x\", \"x\", \"x\", \"x\"]}, \"mode\": \"markers\", \"name\": \"17\", \"text\": [\"v_Full Intention - America (I Love America) (Johnick Henry St. Captain Mix).wav\", \"v_Full Intention - America (I Love America) (Johnick Henry St. Captain Mix).wav\", \"v_Full Intention - America (I Love America) (Johnick Henry St. Captain Mix).wav\", \"v_Full Intention - America (I Love America) (Johnick Henry St. Captain Mix).wav\", \"v_Full Intention - America (I Love America) (Johnick Henry St. Captain Mix).wav\", \"v_Full Intention - America (I Love America) (Johnick Henry St. Captain Mix).wav\", \"v_Full Intention - America (I Love America) (Johnick Henry St. Captain Mix).wav\", \"v_Full Intention - America (I Love America) (Johnick Henry St. Captain Mix).wav\", \"v_Full Intention - America (I Love America) (Johnick Henry St. Captain Mix).wav\", \"v_Full Intention - America (I Love America) (Johnick Henry St. Captain Mix).wav\", \"v_Full Intention - America (I Love America) (Johnick Henry St. Captain Mix).wav\", \"v_Full Intention - America (I Love America) (Johnick Henry St. Captain Mix).wav\", \"v_Full Intention - America (I Love America) (Johnick Henry St. Captain Mix).wav\", \"v_Full Intention - America (I Love America) (Johnick Henry St. Captain Mix).wav\", \"v_Full Intention - America (I Love America) (Johnick Henry St. Captain Mix).wav\", \"v_Full Intention - America (I Love America) (Johnick Henry St. Captain Mix).wav\", \"v_Full Intention - America (I Love America) (Johnick Henry St. Captain Mix).wav\", \"v_Full Intention - America (I Love America) (Johnick Henry St. Captain Mix).wav\"], \"type\": \"scatter\", \"x\": [-0.11598900867935474, -0.4527405835181799, 0.2652204477430536, 0.04862736678376704, 0.04504864277487248, 0.24482571496440114, 0.3055923048880003, -0.18563267922124344, 0.02768592565009301, -0.7408520572782703, 0.07296274685684327, 0.5086518992897461, -0.031754149109731976, 0.5308269154202945, -0.14825550428318748, -0.8670720472651932, -0.13941431053483314, 0.14589686545562972], \"y\": [0.04988789071099636, 0.33664667916149743, -0.12500432461306824, -0.3516875456115541, -0.0630582130006498, -0.20576916965459133, 0.7235667341893822, -0.09435811319003032, -0.12466175905070431, 0.040385332957113045, 0.8806352721393963, 0.296506027853758, 0.07268417308073961, 0.3563309805382184, 0.0036518545114942965, 0.002763518177840385, 0.05211946204168804, 0.08663810248187208]}, {\"customdata\": [[0.45995242786134133, -0.24795365019608553, 3, \"v_Full Intention - America (I Love America) (Nevins Goldfinger Mix).wav\", \"circle\", \"#6b1075\"], [-0.14276834117893467, 0.05701419938604119, 3, \"v_Full Intention - America (I Love America) (Nevins Goldfinger Mix).wav\", \"circle\", \"#6b1075\"], [0.7827874280536998, -0.21144233528093173, 3, \"v_Full Intention - America (I Love America) (Nevins Goldfinger Mix).wav\", \"circle\", \"#6b1075\"], [0.4549414884248452, 0.07293013311502182, 3, \"v_Full Intention - America (I Love America) (Nevins Goldfinger Mix).wav\", \"circle\", \"#6b1075\"], [-0.042584441376343506, 0.3088187782959669, 3, \"v_Full Intention - America (I Love America) (Nevins Goldfinger Mix).wav\", \"circle\", \"#6b1075\"], [-0.19137674384702177, -0.06713614433956623, 3, \"v_Full Intention - America (I Love America) (Nevins Goldfinger Mix).wav\", \"circle\", \"#6b1075\"], [0.22515157709096376, -0.17452430213706208, 3, \"v_Full Intention - America (I Love America) (Nevins Goldfinger Mix).wav\", \"circle\", \"#6b1075\"], [-0.3552284551962617, -0.1792238105224958, 3, \"v_Full Intention - America (I Love America) (Nevins Goldfinger Mix).wav\", \"circle\", \"#6b1075\"], [0.3204216046846983, 0.1479627967952669, 3, \"v_Full Intention - America (I Love America) (Nevins Goldfinger Mix).wav\", \"circle\", \"#6b1075\"], [-0.19864416953428962, -0.0969969182786065, 3, \"v_Full Intention - America (I Love America) (Nevins Goldfinger Mix).wav\", \"circle\", \"#6b1075\"], [-0.22314922045094654, 0.24555493693535266, 3, \"v_Full Intention - America (I Love America) (Nevins Goldfinger Mix).wav\", \"circle\", \"#6b1075\"], [-0.6639707519648331, 0.5709072445842832, 3, \"v_Full Intention - America (I Love America) (Nevins Goldfinger Mix).wav\", \"circle\", \"#6b1075\"], [-0.01888347487115254, -0.11646124634464813, 3, \"v_Full Intention - America (I Love America) (Nevins Goldfinger Mix).wav\", \"x\", \"#6b1075\"], [0.11712508479337988, 0.11725770795108194, 1, \"v_Full Intention - America (I Love America) (Nevins Goldfinger Mix).wav\", \"x\", \"#751017\"], [0.24151510378918242, -0.1436077851696084, 1, \"v_Full Intention - America (I Love America) (Nevins Goldfinger Mix).wav\", \"x\", \"#751017\"], [0.4007224377472321, 0.2918506863181685, 0, \"v_Full Intention - America (I Love America) (Nevins Goldfinger Mix).wav\", \"x\", \"#0044FF\"], [-0.2784890788154111, -0.4654812783139827, 2, \"v_Full Intention - America (I Love America) (Nevins Goldfinger Mix).wav\", \"x\", \"#48a832\"], [0.1110987774297108, -0.05847553480252873, 0, \"v_Full Intention - America (I Love America) (Nevins Goldfinger Mix).wav\", \"x\", \"#0044FF\"], [-0.42145135048825016, 0.285266351982415, 1, \"v_Full Intention - America (I Love America) (Nevins Goldfinger Mix).wav\", \"x\", \"#751017\"], [0.6374021958166719, -0.3541671117547799, 0, \"v_Full Intention - America (I Love America) (Nevins Goldfinger Mix).wav\", \"x\", \"#0044FF\"], [0.11113074810676654, 0.02758265848326815, 1, \"v_Full Intention - America (I Love America) (Nevins Goldfinger Mix).wav\", \"x\", \"#751017\"], [0.015722518265178186, 0.040168710388287045, 1, \"v_Full Intention - America (I Love America) (Nevins Goldfinger Mix).wav\", \"x\", \"#751017\"], [0.07323380708891696, 0.15706076522177423, 1, \"v_Full Intention - America (I Love America) (Nevins Goldfinger Mix).wav\", \"x\", \"#751017\"], [-0.19447880019488664, -0.406933177022288, 0, \"v_Full Intention - America (I Love America) (Nevins Goldfinger Mix).wav\", \"x\", \"#0044FF\"]], \"hovertemplate\": \"<b>%{customdata[3]}</b><br>(%{x:.3f},%{y:.3f})<extra>%{customdata[2]}</extra>\", \"marker\": {\"color\": [\"#6b1075\", \"#6b1075\", \"#6b1075\", \"#6b1075\", \"#6b1075\", \"#6b1075\", \"#6b1075\", \"#6b1075\", \"#6b1075\", \"#6b1075\", \"#6b1075\", \"#6b1075\", \"#6b1075\", \"#751017\", \"#751017\", \"#0044FF\", \"#48a832\", \"#0044FF\", \"#751017\", \"#0044FF\", \"#751017\", \"#751017\", \"#751017\", \"#0044FF\"], \"symbol\": [\"circle\", \"circle\", \"circle\", \"circle\", \"circle\", \"circle\", \"circle\", \"circle\", \"circle\", \"circle\", \"circle\", \"circle\", \"x\", \"x\", \"x\", \"x\", \"x\", \"x\", \"x\", \"x\", \"x\", \"x\", \"x\", \"x\"]}, \"mode\": \"markers\", \"name\": \"18\", \"text\": [\"v_Full Intention - America (I Love America) (Nevins Goldfinger Mix).wav\", \"v_Full Intention - America (I Love America) (Nevins Goldfinger Mix).wav\", \"v_Full Intention - America (I Love America) (Nevins Goldfinger Mix).wav\", \"v_Full Intention - America (I Love America) (Nevins Goldfinger Mix).wav\", \"v_Full Intention - America (I Love America) (Nevins Goldfinger Mix).wav\", \"v_Full Intention - America (I Love America) (Nevins Goldfinger Mix).wav\", \"v_Full Intention - America (I Love America) (Nevins Goldfinger Mix).wav\", \"v_Full Intention - America (I Love America) (Nevins Goldfinger Mix).wav\", \"v_Full Intention - America (I Love America) (Nevins Goldfinger Mix).wav\", \"v_Full Intention - America (I Love America) (Nevins Goldfinger Mix).wav\", \"v_Full Intention - America (I Love America) (Nevins Goldfinger Mix).wav\", \"v_Full Intention - America (I Love America) (Nevins Goldfinger Mix).wav\", \"v_Full Intention - America (I Love America) (Nevins Goldfinger Mix).wav\", \"v_Full Intention - America (I Love America) (Nevins Goldfinger Mix).wav\", \"v_Full Intention - America (I Love America) (Nevins Goldfinger Mix).wav\", \"v_Full Intention - America (I Love America) (Nevins Goldfinger Mix).wav\", \"v_Full Intention - America (I Love America) (Nevins Goldfinger Mix).wav\", \"v_Full Intention - America (I Love America) (Nevins Goldfinger Mix).wav\", \"v_Full Intention - America (I Love America) (Nevins Goldfinger Mix).wav\", \"v_Full Intention - America (I Love America) (Nevins Goldfinger Mix).wav\", \"v_Full Intention - America (I Love America) (Nevins Goldfinger Mix).wav\", \"v_Full Intention - America (I Love America) (Nevins Goldfinger Mix).wav\", \"v_Full Intention - America (I Love America) (Nevins Goldfinger Mix).wav\", \"v_Full Intention - America (I Love America) (Nevins Goldfinger Mix).wav\"], \"type\": \"scatter\", \"x\": [0.45995242786134133, -0.14276834117893467, 0.7827874280536998, 0.4549414884248452, -0.042584441376343506, -0.19137674384702177, 0.22515157709096376, -0.3552284551962617, 0.3204216046846983, -0.19864416953428962, -0.22314922045094654, -0.6639707519648331, -0.01888347487115254, 0.11712508479337988, 0.24151510378918242, 0.4007224377472321, -0.2784890788154111, 0.1110987774297108, -0.42145135048825016, 0.6374021958166719, 0.11113074810676654, 0.015722518265178186, 0.07323380708891696, -0.19447880019488664], \"y\": [-0.24795365019608553, 0.05701419938604119, -0.21144233528093173, 0.07293013311502182, 0.3088187782959669, -0.06713614433956623, -0.17452430213706208, -0.1792238105224958, 0.1479627967952669, -0.0969969182786065, 0.24555493693535266, 0.5709072445842832, -0.11646124634464813, 0.11725770795108194, -0.1436077851696084, 0.2918506863181685, -0.4654812783139827, -0.05847553480252873, 0.285266351982415, -0.3541671117547799, 0.02758265848326815, 0.040168710388287045, 0.15706076522177423, -0.406933177022288]}, {\"customdata\": [[0.5797723861971947, -0.5215905479065737, 3, \"v_Full Intention - America (I Love America) (Original Sugar Daddy 12_ Mix).wav\", \"circle\", \"#6b1075\"], [-0.046029201086901395, -0.059719280662921655, 3, \"v_Full Intention - America (I Love America) (Original Sugar Daddy 12_ Mix).wav\", \"circle\", \"#6b1075\"], [-4.6313121594813356e-05, -0.07639158787551797, 3, \"v_Full Intention - America (I Love America) (Original Sugar Daddy 12_ Mix).wav\", \"circle\", \"#6b1075\"], [-0.043887244362905975, -0.1256129955047074, 3, \"v_Full Intention - America (I Love America) (Original Sugar Daddy 12_ Mix).wav\", \"circle\", \"#6b1075\"], [-0.1305373617350619, 0.10706563353371745, 3, \"v_Full Intention - America (I Love America) (Original Sugar Daddy 12_ Mix).wav\", \"circle\", \"#6b1075\"], [0.0653885641382378, -0.35633576257231797, 3, \"v_Full Intention - America (I Love America) (Original Sugar Daddy 12_ Mix).wav\", \"circle\", \"#6b1075\"], [-0.0877542780027324, -0.157547887525474, 3, \"v_Full Intention - America (I Love America) (Original Sugar Daddy 12_ Mix).wav\", \"circle\", \"#6b1075\"], [0.11659929033664113, -0.17538186714232246, 3, \"v_Full Intention - America (I Love America) (Original Sugar Daddy 12_ Mix).wav\", \"circle\", \"#6b1075\"], [-0.012624053168079546, -0.10331959868319875, 3, \"v_Full Intention - America (I Love America) (Original Sugar Daddy 12_ Mix).wav\", \"circle\", \"#6b1075\"], [-0.00804644388078538, 0.006592756284535318, 3, \"v_Full Intention - America (I Love America) (Original Sugar Daddy 12_ Mix).wav\", \"circle\", \"#6b1075\"], [-0.673546237023344, -0.058132798356716704, 3, \"v_Full Intention - America (I Love America) (Original Sugar Daddy 12_ Mix).wav\", \"circle\", \"#6b1075\"], [0.07433407632282446, -0.2545151879780155, 3, \"v_Full Intention - America (I Love America) (Original Sugar Daddy 12_ Mix).wav\", \"circle\", \"#6b1075\"], [0.04298622428583459, -0.24809864934675963, 3, \"v_Full Intention - America (I Love America) (Original Sugar Daddy 12_ Mix).wav\", \"circle\", \"#6b1075\"], [-0.06018514927266556, -0.009458010026026954, 3, \"v_Full Intention - America (I Love America) (Original Sugar Daddy 12_ Mix).wav\", \"circle\", \"#6b1075\"], [-0.08962630380662076, -0.41771309564038384, 0, \"v_Full Intention - America (I Love America) (Original Sugar Daddy 12_ Mix).wav\", \"x\", \"#0044FF\"], [0.03855812049020802, 0.1567046846719184, 1, \"v_Full Intention - America (I Love America) (Original Sugar Daddy 12_ Mix).wav\", \"x\", \"#751017\"], [-0.3918879125116548, -0.2784998564208836, 2, \"v_Full Intention - America (I Love America) (Original Sugar Daddy 12_ Mix).wav\", \"x\", \"#48a832\"], [-0.45813623125221997, -0.10762998501232043, 0, \"v_Full Intention - America (I Love America) (Original Sugar Daddy 12_ Mix).wav\", \"x\", \"#0044FF\"], [0.03754431761126795, 0.043191285970493716, 3, \"v_Full Intention - America (I Love America) (Original Sugar Daddy 12_ Mix).wav\", \"x\", \"#6b1075\"], [-0.23067008909970219, 0.16326901292030305, 0, \"v_Full Intention - America (I Love America) (Original Sugar Daddy 12_ Mix).wav\", \"x\", \"#0044FF\"], [-0.14786312514755173, -0.31148734071051726, 2, \"v_Full Intention - America (I Love America) (Original Sugar Daddy 12_ Mix).wav\", \"x\", \"#48a832\"], [-0.20515471833243715, -0.21810350785455018, 0, \"v_Full Intention - America (I Love America) (Original Sugar Daddy 12_ Mix).wav\", \"x\", \"#0044FF\"], [0.0863827635980365, 0.03300741511285302, 2, \"v_Full Intention - America (I Love America) (Original Sugar Daddy 12_ Mix).wav\", \"x\", \"#48a832\"], [0.12304132109169845, 0.09267034560698159, 3, \"v_Full Intention - America (I Love America) (Original Sugar Daddy 12_ Mix).wav\", \"x\", \"#6b1075\"], [-0.18254072813683642, 0.3069973920055513, 0, \"v_Full Intention - America (I Love America) (Original Sugar Daddy 12_ Mix).wav\", \"x\", \"#0044FF\"], [0.1474093243845052, -0.23302790189026057, 0, \"v_Full Intention - America (I Love America) (Original Sugar Daddy 12_ Mix).wav\", \"x\", \"#0044FF\"], [-0.4117220470920123, 0.00301440168663121, 2, \"v_Full Intention - America (I Love America) (Original Sugar Daddy 12_ Mix).wav\", \"x\", \"#48a832\"], [-0.20269229071242922, 0.30190123472387553, 0, \"v_Full Intention - America (I Love America) (Original Sugar Daddy 12_ Mix).wav\", \"x\", \"#0044FF\"]], \"hovertemplate\": \"<b>%{customdata[3]}</b><br>(%{x:.3f},%{y:.3f})<extra>%{customdata[2]}</extra>\", \"marker\": {\"color\": [\"#6b1075\", \"#6b1075\", \"#6b1075\", \"#6b1075\", \"#6b1075\", \"#6b1075\", \"#6b1075\", \"#6b1075\", \"#6b1075\", \"#6b1075\", \"#6b1075\", \"#6b1075\", \"#6b1075\", \"#6b1075\", \"#0044FF\", \"#751017\", \"#48a832\", \"#0044FF\", \"#6b1075\", \"#0044FF\", \"#48a832\", \"#0044FF\", \"#48a832\", \"#6b1075\", \"#0044FF\", \"#0044FF\", \"#48a832\", \"#0044FF\"], \"symbol\": [\"circle\", \"circle\", \"circle\", \"circle\", \"circle\", \"circle\", \"circle\", \"circle\", \"circle\", \"circle\", \"circle\", \"circle\", \"circle\", \"circle\", \"x\", \"x\", \"x\", \"x\", \"x\", \"x\", \"x\", \"x\", \"x\", \"x\", \"x\", \"x\", \"x\", \"x\"]}, \"mode\": \"markers\", \"name\": \"19\", \"text\": [\"v_Full Intention - America (I Love America) (Original Sugar Daddy 12_ Mix).wav\", \"v_Full Intention - America (I Love America) (Original Sugar Daddy 12_ Mix).wav\", \"v_Full Intention - America (I Love America) (Original Sugar Daddy 12_ Mix).wav\", \"v_Full Intention - America (I Love America) (Original Sugar Daddy 12_ Mix).wav\", \"v_Full Intention - America (I Love America) (Original Sugar Daddy 12_ Mix).wav\", \"v_Full Intention - America (I Love America) (Original Sugar Daddy 12_ Mix).wav\", \"v_Full Intention - America (I Love America) (Original Sugar Daddy 12_ Mix).wav\", \"v_Full Intention - America (I Love America) (Original Sugar Daddy 12_ Mix).wav\", \"v_Full Intention - America (I Love America) (Original Sugar Daddy 12_ Mix).wav\", \"v_Full Intention - America (I Love America) (Original Sugar Daddy 12_ Mix).wav\", \"v_Full Intention - America (I Love America) (Original Sugar Daddy 12_ Mix).wav\", \"v_Full Intention - America (I Love America) (Original Sugar Daddy 12_ Mix).wav\", \"v_Full Intention - America (I Love America) (Original Sugar Daddy 12_ Mix).wav\", \"v_Full Intention - America (I Love America) (Original Sugar Daddy 12_ Mix).wav\", \"v_Full Intention - America (I Love America) (Original Sugar Daddy 12_ Mix).wav\", \"v_Full Intention - America (I Love America) (Original Sugar Daddy 12_ Mix).wav\", \"v_Full Intention - America (I Love America) (Original Sugar Daddy 12_ Mix).wav\", \"v_Full Intention - America (I Love America) (Original Sugar Daddy 12_ Mix).wav\", \"v_Full Intention - America (I Love America) (Original Sugar Daddy 12_ Mix).wav\", \"v_Full Intention - America (I Love America) (Original Sugar Daddy 12_ Mix).wav\", \"v_Full Intention - America (I Love America) (Original Sugar Daddy 12_ Mix).wav\", \"v_Full Intention - America (I Love America) (Original Sugar Daddy 12_ Mix).wav\", \"v_Full Intention - America (I Love America) (Original Sugar Daddy 12_ Mix).wav\", \"v_Full Intention - America (I Love America) (Original Sugar Daddy 12_ Mix).wav\", \"v_Full Intention - America (I Love America) (Original Sugar Daddy 12_ Mix).wav\", \"v_Full Intention - America (I Love America) (Original Sugar Daddy 12_ Mix).wav\", \"v_Full Intention - America (I Love America) (Original Sugar Daddy 12_ Mix).wav\", \"v_Full Intention - America (I Love America) (Original Sugar Daddy 12_ Mix).wav\"], \"type\": \"scatter\", \"x\": [0.5797723861971947, -0.046029201086901395, -4.6313121594813356e-05, -0.043887244362905975, -0.1305373617350619, 0.0653885641382378, -0.0877542780027324, 0.11659929033664113, -0.012624053168079546, -0.00804644388078538, -0.673546237023344, 0.07433407632282446, 0.04298622428583459, -0.06018514927266556, -0.08962630380662076, 0.03855812049020802, -0.3918879125116548, -0.45813623125221997, 0.03754431761126795, -0.23067008909970219, -0.14786312514755173, -0.20515471833243715, 0.0863827635980365, 0.12304132109169845, -0.18254072813683642, 0.1474093243845052, -0.4117220470920123, -0.20269229071242922], \"y\": [-0.5215905479065737, -0.059719280662921655, -0.07639158787551797, -0.1256129955047074, 0.10706563353371745, -0.35633576257231797, -0.157547887525474, -0.17538186714232246, -0.10331959868319875, 0.006592756284535318, -0.058132798356716704, -0.2545151879780155, -0.24809864934675963, -0.009458010026026954, -0.41771309564038384, 0.1567046846719184, -0.2784998564208836, -0.10762998501232043, 0.043191285970493716, 0.16326901292030305, -0.31148734071051726, -0.21810350785455018, 0.03300741511285302, 0.09267034560698159, 0.3069973920055513, -0.23302790189026057, 0.00301440168663121, 0.30190123472387553]}, {\"customdata\": [[0.10635060394641105, -0.05994932290739569, 3, \"v_Full Intention - America (I Love America) (The Don's Hands Across America Mix).wav\", \"circle\", \"#6b1075\"], [0.6147703291695078, 0.6064139135966731, 3, \"v_Full Intention - America (I Love America) (The Don's Hands Across America Mix).wav\", \"circle\", \"#6b1075\"], [-0.09555195168935757, 0.4708176029422123, 3, \"v_Full Intention - America (I Love America) (The Don's Hands Across America Mix).wav\", \"circle\", \"#6b1075\"], [-0.4685541171278257, -0.021084435323127922, 3, \"v_Full Intention - America (I Love America) (The Don's Hands Across America Mix).wav\", \"circle\", \"#6b1075\"], [-0.17530714656089427, -0.3477237988432361, 3, \"v_Full Intention - America (I Love America) (The Don's Hands Across America Mix).wav\", \"circle\", \"#6b1075\"], [-0.23631016422103057, 0.16348760863289105, 3, \"v_Full Intention - America (I Love America) (The Don's Hands Across America Mix).wav\", \"x\", \"#6b1075\"], [-0.821871009733362, -0.17534586621857984, 0, \"v_Full Intention - America (I Love America) (The Don's Hands Across America Mix).wav\", \"x\", \"#0044FF\"], [-0.4511955152047517, -0.41791896640395826, 2, \"v_Full Intention - America (I Love America) (The Don's Hands Across America Mix).wav\", \"x\", \"#48a832\"], [0.1563469540606633, -0.13661466080782586, 3, \"v_Full Intention - America (I Love America) (The Don's Hands Across America Mix).wav\", \"x\", \"#6b1075\"], [-0.055306156433074065, 0.05112184124101414, 3, \"v_Full Intention - America (I Love America) (The Don's Hands Across America Mix).wav\", \"x\", \"#6b1075\"]], \"hovertemplate\": \"<b>%{customdata[3]}</b><br>(%{x:.3f},%{y:.3f})<extra>%{customdata[2]}</extra>\", \"marker\": {\"color\": [\"#6b1075\", \"#6b1075\", \"#6b1075\", \"#6b1075\", \"#6b1075\", \"#6b1075\", \"#0044FF\", \"#48a832\", \"#6b1075\", \"#6b1075\"], \"symbol\": [\"circle\", \"circle\", \"circle\", \"circle\", \"circle\", \"x\", \"x\", \"x\", \"x\", \"x\"]}, \"mode\": \"markers\", \"name\": \"20\", \"text\": [\"v_Full Intention - America (I Love America) (The Don's Hands Across America Mix).wav\", \"v_Full Intention - America (I Love America) (The Don's Hands Across America Mix).wav\", \"v_Full Intention - America (I Love America) (The Don's Hands Across America Mix).wav\", \"v_Full Intention - America (I Love America) (The Don's Hands Across America Mix).wav\", \"v_Full Intention - America (I Love America) (The Don's Hands Across America Mix).wav\", \"v_Full Intention - America (I Love America) (The Don's Hands Across America Mix).wav\", \"v_Full Intention - America (I Love America) (The Don's Hands Across America Mix).wav\", \"v_Full Intention - America (I Love America) (The Don's Hands Across America Mix).wav\", \"v_Full Intention - America (I Love America) (The Don's Hands Across America Mix).wav\", \"v_Full Intention - America (I Love America) (The Don's Hands Across America Mix).wav\"], \"type\": \"scatter\", \"x\": [0.10635060394641105, 0.6147703291695078, -0.09555195168935757, -0.4685541171278257, -0.17530714656089427, -0.23631016422103057, -0.821871009733362, -0.4511955152047517, 0.1563469540606633, -0.055306156433074065], \"y\": [-0.05994932290739569, 0.6064139135966731, 0.4708176029422123, -0.021084435323127922, -0.3477237988432361, 0.16348760863289105, -0.17534586621857984, -0.41791896640395826, -0.13661466080782586, 0.05112184124101414]}, {\"customdata\": [[0.2645969529508306, -0.24454037453926122, 3, \"v_Full Intention - America (I Love America) (Todd Terry Mix).wav\", \"circle\", \"#6b1075\"], [0.09589868720234793, -0.19626952306539422, 3, \"v_Full Intention - America (I Love America) (Todd Terry Mix).wav\", \"circle\", \"#6b1075\"], [0.16790835367267837, -0.17043057861427427, 3, \"v_Full Intention - America (I Love America) (Todd Terry Mix).wav\", \"circle\", \"#6b1075\"], [0.10255521313000904, -0.08714637839086899, 3, \"v_Full Intention - America (I Love America) (Todd Terry Mix).wav\", \"circle\", \"#6b1075\"], [-0.08265804484455584, -0.1189034297019472, 3, \"v_Full Intention - America (I Love America) (Todd Terry Mix).wav\", \"circle\", \"#6b1075\"], [0.0071883535206107825, -0.006860051479745066, 3, \"v_Full Intention - America (I Love America) (Todd Terry Mix).wav\", \"circle\", \"#6b1075\"], [0.0415447784240952, -0.45380677005900294, 0, \"v_Full Intention - America (I Love America) (Todd Terry Mix).wav\", \"x\", \"#0044FF\"], [0.2270175569519465, 0.10227888742966067, 2, \"v_Full Intention - America (I Love America) (Todd Terry Mix).wav\", \"x\", \"#48a832\"], [-0.2002881616868249, -0.02403252466899333, 3, \"v_Full Intention - America (I Love America) (Todd Terry Mix).wav\", \"x\", \"#6b1075\"], [0.34262510770670757, -0.12297614271543032, 3, \"v_Full Intention - America (I Love America) (Todd Terry Mix).wav\", \"x\", \"#6b1075\"], [-0.05416766774774408, 0.11597498040513873, 1, \"v_Full Intention - America (I Love America) (Todd Terry Mix).wav\", \"x\", \"#751017\"], [0.9609817441127556, -0.19564883989612833, 0, \"v_Full Intention - America (I Love America) (Todd Terry Mix).wav\", \"x\", \"#0044FF\"]], \"hovertemplate\": \"<b>%{customdata[3]}</b><br>(%{x:.3f},%{y:.3f})<extra>%{customdata[2]}</extra>\", \"marker\": {\"color\": [\"#6b1075\", \"#6b1075\", \"#6b1075\", \"#6b1075\", \"#6b1075\", \"#6b1075\", \"#0044FF\", \"#48a832\", \"#6b1075\", \"#6b1075\", \"#751017\", \"#0044FF\"], \"symbol\": [\"circle\", \"circle\", \"circle\", \"circle\", \"circle\", \"circle\", \"x\", \"x\", \"x\", \"x\", \"x\", \"x\"]}, \"mode\": \"markers\", \"name\": \"21\", \"text\": [\"v_Full Intention - America (I Love America) (Todd Terry Mix).wav\", \"v_Full Intention - America (I Love America) (Todd Terry Mix).wav\", \"v_Full Intention - America (I Love America) (Todd Terry Mix).wav\", \"v_Full Intention - America (I Love America) (Todd Terry Mix).wav\", \"v_Full Intention - America (I Love America) (Todd Terry Mix).wav\", \"v_Full Intention - America (I Love America) (Todd Terry Mix).wav\", \"v_Full Intention - America (I Love America) (Todd Terry Mix).wav\", \"v_Full Intention - America (I Love America) (Todd Terry Mix).wav\", \"v_Full Intention - America (I Love America) (Todd Terry Mix).wav\", \"v_Full Intention - America (I Love America) (Todd Terry Mix).wav\", \"v_Full Intention - America (I Love America) (Todd Terry Mix).wav\", \"v_Full Intention - America (I Love America) (Todd Terry Mix).wav\"], \"type\": \"scatter\", \"x\": [0.2645969529508306, 0.09589868720234793, 0.16790835367267837, 0.10255521313000904, -0.08265804484455584, 0.0071883535206107825, 0.0415447784240952, 0.2270175569519465, -0.2002881616868249, 0.34262510770670757, -0.05416766774774408, 0.9609817441127556], \"y\": [-0.24454037453926122, -0.19626952306539422, -0.17043057861427427, -0.08714637839086899, -0.1189034297019472, -0.006860051479745066, -0.45380677005900294, 0.10227888742966067, -0.02403252466899333, -0.12297614271543032, 0.11597498040513873, -0.19564883989612833]}, {\"customdata\": [[-0.03612682060395798, -0.070050377627957, 3, \"v_Full Intention - America (I Love America) (UBQ's State Side Mix).wav\", \"circle\", \"#6b1075\"], [0.06373040589823083, -0.18743927844837563, 3, \"v_Full Intention - America (I Love America) (UBQ's State Side Mix).wav\", \"circle\", \"#6b1075\"], [-0.1575264980310497, 0.4634146233685834, 3, \"v_Full Intention - America (I Love America) (UBQ's State Side Mix).wav\", \"circle\", \"#6b1075\"], [-0.27504143003202847, -0.409656584803678, 3, \"v_Full Intention - America (I Love America) (UBQ's State Side Mix).wav\", \"circle\", \"#6b1075\"], [0.6974130756115536, 0.6452709074930016, 3, \"v_Full Intention - America (I Love America) (UBQ's State Side Mix).wav\", \"circle\", \"#6b1075\"], [-0.8345570679539299, 0.32924418847472264, 3, \"v_Full Intention - America (I Love America) (UBQ's State Side Mix).wav\", \"circle\", \"#6b1075\"], [-0.018133718720376422, -0.21229550190532245, 3, \"v_Full Intention - America (I Love America) (UBQ's State Side Mix).wav\", \"circle\", \"#6b1075\"], [-0.23321755215609422, 0.40116649151317085, 3, \"v_Full Intention - America (I Love America) (UBQ's State Side Mix).wav\", \"circle\", \"#6b1075\"], [-0.117915705700879, -0.08347229367802861, 3, \"v_Full Intention - America (I Love America) (UBQ's State Side Mix).wav\", \"circle\", \"#6b1075\"], [0.6824895851775691, -0.3867326480857655, 3, \"v_Full Intention - America (I Love America) (UBQ's State Side Mix).wav\", \"circle\", \"#6b1075\"], [-0.05292395050589486, -0.26635102152917445, 3, \"v_Full Intention - America (I Love America) (UBQ's State Side Mix).wav\", \"circle\", \"#6b1075\"], [0.24516654284550474, 0.2774287720581527, 1, \"v_Full Intention - America (I Love America) (UBQ's State Side Mix).wav\", \"x\", \"#751017\"], [0.3696128950956355, 0.19826229948319332, 0, \"v_Full Intention - America (I Love America) (UBQ's State Side Mix).wav\", \"x\", \"#0044FF\"], [0.1824363916687658, 0.3941651712449933, 0, \"v_Full Intention - America (I Love America) (UBQ's State Side Mix).wav\", \"x\", \"#0044FF\"], [0.6562208511219808, 0.28301852307429226, 0, \"v_Full Intention - America (I Love America) (UBQ's State Side Mix).wav\", \"x\", \"#0044FF\"], [0.04848148633317798, -0.7608248080733905, 0, \"v_Full Intention - America (I Love America) (UBQ's State Side Mix).wav\", \"x\", \"#0044FF\"], [0.49606893635692184, -0.5642183543707163, 3, \"v_Full Intention - America (I Love America) (UBQ's State Side Mix).wav\", \"x\", \"#6b1075\"]], \"hovertemplate\": \"<b>%{customdata[3]}</b><br>(%{x:.3f},%{y:.3f})<extra>%{customdata[2]}</extra>\", \"marker\": {\"color\": [\"#6b1075\", \"#6b1075\", \"#6b1075\", \"#6b1075\", \"#6b1075\", \"#6b1075\", \"#6b1075\", \"#6b1075\", \"#6b1075\", \"#6b1075\", \"#6b1075\", \"#751017\", \"#0044FF\", \"#0044FF\", \"#0044FF\", \"#0044FF\", \"#6b1075\"], \"symbol\": [\"circle\", \"circle\", \"circle\", \"circle\", \"circle\", \"circle\", \"circle\", \"circle\", \"circle\", \"circle\", \"circle\", \"x\", \"x\", \"x\", \"x\", \"x\", \"x\"]}, \"mode\": \"markers\", \"name\": \"22\", \"text\": [\"v_Full Intention - America (I Love America) (UBQ's State Side Mix).wav\", \"v_Full Intention - America (I Love America) (UBQ's State Side Mix).wav\", \"v_Full Intention - America (I Love America) (UBQ's State Side Mix).wav\", \"v_Full Intention - America (I Love America) (UBQ's State Side Mix).wav\", \"v_Full Intention - America (I Love America) (UBQ's State Side Mix).wav\", \"v_Full Intention - America (I Love America) (UBQ's State Side Mix).wav\", \"v_Full Intention - America (I Love America) (UBQ's State Side Mix).wav\", \"v_Full Intention - America (I Love America) (UBQ's State Side Mix).wav\", \"v_Full Intention - America (I Love America) (UBQ's State Side Mix).wav\", \"v_Full Intention - America (I Love America) (UBQ's State Side Mix).wav\", \"v_Full Intention - America (I Love America) (UBQ's State Side Mix).wav\", \"v_Full Intention - America (I Love America) (UBQ's State Side Mix).wav\", \"v_Full Intention - America (I Love America) (UBQ's State Side Mix).wav\", \"v_Full Intention - America (I Love America) (UBQ's State Side Mix).wav\", \"v_Full Intention - America (I Love America) (UBQ's State Side Mix).wav\", \"v_Full Intention - America (I Love America) (UBQ's State Side Mix).wav\", \"v_Full Intention - America (I Love America) (UBQ's State Side Mix).wav\"], \"type\": \"scatter\", \"x\": [-0.03612682060395798, 0.06373040589823083, -0.1575264980310497, -0.27504143003202847, 0.6974130756115536, -0.8345570679539299, -0.018133718720376422, -0.23321755215609422, -0.117915705700879, 0.6824895851775691, -0.05292395050589486, 0.24516654284550474, 0.3696128950956355, 0.1824363916687658, 0.6562208511219808, 0.04848148633317798, 0.49606893635692184], \"y\": [-0.070050377627957, -0.18743927844837563, 0.4634146233685834, -0.409656584803678, 0.6452709074930016, 0.32924418847472264, -0.21229550190532245, 0.40116649151317085, -0.08347229367802861, -0.3867326480857655, -0.26635102152917445, 0.2774287720581527, 0.19826229948319332, 0.3941651712449933, 0.28301852307429226, -0.7608248080733905, -0.5642183543707163]}, {\"customdata\": [[-0.11329025425094814, 0.023487877709054136, 3, \"v_Full Intention - America (I Love America) (_Rude Dog_ Mix).wav\", \"circle\", \"#6b1075\"], [0.011629848304696912, 0.022525558827498845, 3, \"v_Full Intention - America (I Love America) (_Rude Dog_ Mix).wav\", \"circle\", \"#6b1075\"], [0.05912863365257048, -0.10181729242951709, 3, \"v_Full Intention - America (I Love America) (_Rude Dog_ Mix).wav\", \"circle\", \"#6b1075\"], [-0.22397163261175154, -0.1334704986941263, 3, \"v_Full Intention - America (I Love America) (_Rude Dog_ Mix).wav\", \"circle\", \"#6b1075\"], [0.21680559346270137, 0.7636258107990226, 3, \"v_Full Intention - America (I Love America) (_Rude Dog_ Mix).wav\", \"circle\", \"#6b1075\"], [0.09082322002092628, -0.2981744638712986, 3, \"v_Full Intention - America (I Love America) (_Rude Dog_ Mix).wav\", \"circle\", \"#6b1075\"], [-0.03907682715894277, -0.027243440861891323, 3, \"v_Full Intention - America (I Love America) (_Rude Dog_ Mix).wav\", \"circle\", \"#6b1075\"], [-0.2411396992327476, -0.11175139475517554, 3, \"v_Full Intention - America (I Love America) (_Rude Dog_ Mix).wav\", \"circle\", \"#6b1075\"]], \"hovertemplate\": \"<b>%{customdata[3]}</b><br>(%{x:.3f},%{y:.3f})<extra>%{customdata[2]}</extra>\", \"marker\": {\"color\": [\"#6b1075\", \"#6b1075\", \"#6b1075\", \"#6b1075\", \"#6b1075\", \"#6b1075\", \"#6b1075\", \"#6b1075\"], \"symbol\": [\"circle\", \"circle\", \"circle\", \"circle\", \"circle\", \"circle\", \"circle\", \"circle\"]}, \"mode\": \"markers\", \"name\": \"23\", \"text\": [\"v_Full Intention - America (I Love America) (_Rude Dog_ Mix).wav\", \"v_Full Intention - America (I Love America) (_Rude Dog_ Mix).wav\", \"v_Full Intention - America (I Love America) (_Rude Dog_ Mix).wav\", \"v_Full Intention - America (I Love America) (_Rude Dog_ Mix).wav\", \"v_Full Intention - America (I Love America) (_Rude Dog_ Mix).wav\", \"v_Full Intention - America (I Love America) (_Rude Dog_ Mix).wav\", \"v_Full Intention - America (I Love America) (_Rude Dog_ Mix).wav\", \"v_Full Intention - America (I Love America) (_Rude Dog_ Mix).wav\"], \"type\": \"scatter\", \"x\": [-0.11329025425094814, 0.011629848304696912, 0.05912863365257048, -0.22397163261175154, 0.21680559346270137, 0.09082322002092628, -0.03907682715894277, -0.2411396992327476], \"y\": [0.023487877709054136, 0.022525558827498845, -0.10181729242951709, -0.1334704986941263, 0.7636258107990226, -0.2981744638712986, -0.027243440861891323, -0.11175139475517554]}, {\"customdata\": [[-0.09144068626166027, -0.297966213516242, 0, \"v_Future Force - What You Want (Alex Neri Dub Experience).wav\", \"circle\", \"#0044FF\"], [-0.26054387306210935, 0.2267065285854151, 0, \"v_Future Force - What You Want (Alex Neri Dub Experience).wav\", \"circle\", \"#0044FF\"], [-0.176429124729526, 0.23790864212042448, 0, \"v_Future Force - What You Want (Alex Neri Dub Experience).wav\", \"circle\", \"#0044FF\"], [0.534378226144179, -0.15850530000025637, 0, \"v_Future Force - What You Want (Alex Neri Dub Experience).wav\", \"circle\", \"#0044FF\"], [-0.05919858601102445, -0.14603728616014958, 0, \"v_Future Force - What You Want (Alex Neri Dub Experience).wav\", \"circle\", \"#0044FF\"], [-0.029323968158826222, -0.2960024459702025, 0, \"v_Future Force - What You Want (Alex Neri Dub Experience).wav\", \"circle\", \"#0044FF\"], [-0.051260160417830145, -0.13817814752094382, 0, \"v_Future Force - What You Want (Alex Neri Dub Experience).wav\", \"circle\", \"#0044FF\"], [-0.22892030853608986, -0.11209141159988048, 0, \"v_Future Force - What You Want (Alex Neri Dub Experience).wav\", \"circle\", \"#0044FF\"], [-0.011672428870707005, -0.06542756675132196, 0, \"v_Future Force - What You Want (Alex Neri Dub Experience).wav\", \"circle\", \"#0044FF\"], [-0.15828996763440759, 0.02629030175383842, 0, \"v_Future Force - What You Want (Alex Neri Dub Experience).wav\", \"circle\", \"#0044FF\"], [0.08937937523420188, 0.014288333452014308, 0, \"v_Future Force - What You Want (Alex Neri Dub Experience).wav\", \"circle\", \"#0044FF\"], [0.04223292781875341, -0.20332504901056211, 0, \"v_Future Force - What You Want (Alex Neri Dub Experience).wav\", \"circle\", \"#0044FF\"]], \"hovertemplate\": \"<b>%{customdata[3]}</b><br>(%{x:.3f},%{y:.3f})<extra>%{customdata[2]}</extra>\", \"marker\": {\"color\": [\"#0044FF\", \"#0044FF\", \"#0044FF\", \"#0044FF\", \"#0044FF\", \"#0044FF\", \"#0044FF\", \"#0044FF\", \"#0044FF\", \"#0044FF\", \"#0044FF\", \"#0044FF\"], \"symbol\": [\"circle\", \"circle\", \"circle\", \"circle\", \"circle\", \"circle\", \"circle\", \"circle\", \"circle\", \"circle\", \"circle\", \"circle\"]}, \"mode\": \"markers\", \"name\": \"24\", \"text\": [\"v_Future Force - What You Want (Alex Neri Dub Experience).wav\", \"v_Future Force - What You Want (Alex Neri Dub Experience).wav\", \"v_Future Force - What You Want (Alex Neri Dub Experience).wav\", \"v_Future Force - What You Want (Alex Neri Dub Experience).wav\", \"v_Future Force - What You Want (Alex Neri Dub Experience).wav\", \"v_Future Force - What You Want (Alex Neri Dub Experience).wav\", \"v_Future Force - What You Want (Alex Neri Dub Experience).wav\", \"v_Future Force - What You Want (Alex Neri Dub Experience).wav\", \"v_Future Force - What You Want (Alex Neri Dub Experience).wav\", \"v_Future Force - What You Want (Alex Neri Dub Experience).wav\", \"v_Future Force - What You Want (Alex Neri Dub Experience).wav\", \"v_Future Force - What You Want (Alex Neri Dub Experience).wav\"], \"type\": \"scatter\", \"x\": [-0.09144068626166027, -0.26054387306210935, -0.176429124729526, 0.534378226144179, -0.05919858601102445, -0.029323968158826222, -0.051260160417830145, -0.22892030853608986, -0.011672428870707005, -0.15828996763440759, 0.08937937523420188, 0.04223292781875341], \"y\": [-0.297966213516242, 0.2267065285854151, 0.23790864212042448, -0.15850530000025637, -0.14603728616014958, -0.2960024459702025, -0.13817814752094382, -0.11209141159988048, -0.06542756675132196, 0.02629030175383842, 0.014288333452014308, -0.20332504901056211]}, {\"customdata\": [[-0.16240093214556495, 0.04598237884190034, 3, \"v_Future Force - What You Want (Karmasutra Funky Express).wav\", \"circle\", \"#6b1075\"], [-0.218624194153118, -0.0811049187204623, 3, \"v_Future Force - What You Want (Karmasutra Funky Express).wav\", \"circle\", \"#6b1075\"], [-0.19188214762193656, -0.2815902908000729, 3, \"v_Future Force - What You Want (Karmasutra Funky Express).wav\", \"circle\", \"#6b1075\"], [0.26800140017857743, -0.16106038897515906, 3, \"v_Future Force - What You Want (Karmasutra Funky Express).wav\", \"circle\", \"#6b1075\"], [0.5046436664969043, 0.716591385863138, 3, \"v_Future Force - What You Want (Karmasutra Funky Express).wav\", \"circle\", \"#6b1075\"], [0.2248173900207766, -0.2584474625716527, 3, \"v_Future Force - What You Want (Karmasutra Funky Express).wav\", \"circle\", \"#6b1075\"], [0.11569179140428215, 0.24718991447741973, 3, \"v_Future Force - What You Want (Karmasutra Funky Express).wav\", \"circle\", \"#6b1075\"], [0.5972524380503152, 0.6620896990274422, 3, \"v_Future Force - What You Want (Karmasutra Funky Express).wav\", \"circle\", \"#6b1075\"], [0.22453296591153957, -0.1711839200615904, 3, \"v_Future Force - What You Want (Karmasutra Funky Express).wav\", \"circle\", \"#6b1075\"], [-0.33580328859977876, -0.18500590552784116, 3, \"v_Future Force - What You Want (Karmasutra Funky Express).wav\", \"circle\", \"#6b1075\"], [-0.03773284980475519, -0.3078864878993876, 3, \"v_Future Force - What You Want (Karmasutra Funky Express).wav\", \"circle\", \"#6b1075\"], [0.06384916638054225, -0.18421395898890558, 3, \"v_Future Force - What You Want (Karmasutra Funky Express).wav\", \"circle\", \"#6b1075\"]], \"hovertemplate\": \"<b>%{customdata[3]}</b><br>(%{x:.3f},%{y:.3f})<extra>%{customdata[2]}</extra>\", \"marker\": {\"color\": [\"#6b1075\", \"#6b1075\", \"#6b1075\", \"#6b1075\", \"#6b1075\", \"#6b1075\", \"#6b1075\", \"#6b1075\", \"#6b1075\", \"#6b1075\", \"#6b1075\", \"#6b1075\"], \"symbol\": [\"circle\", \"circle\", \"circle\", \"circle\", \"circle\", \"circle\", \"circle\", \"circle\", \"circle\", \"circle\", \"circle\", \"circle\"]}, \"mode\": \"markers\", \"name\": \"25\", \"text\": [\"v_Future Force - What You Want (Karmasutra Funky Express).wav\", \"v_Future Force - What You Want (Karmasutra Funky Express).wav\", \"v_Future Force - What You Want (Karmasutra Funky Express).wav\", \"v_Future Force - What You Want (Karmasutra Funky Express).wav\", \"v_Future Force - What You Want (Karmasutra Funky Express).wav\", \"v_Future Force - What You Want (Karmasutra Funky Express).wav\", \"v_Future Force - What You Want (Karmasutra Funky Express).wav\", \"v_Future Force - What You Want (Karmasutra Funky Express).wav\", \"v_Future Force - What You Want (Karmasutra Funky Express).wav\", \"v_Future Force - What You Want (Karmasutra Funky Express).wav\", \"v_Future Force - What You Want (Karmasutra Funky Express).wav\", \"v_Future Force - What You Want (Karmasutra Funky Express).wav\"], \"type\": \"scatter\", \"x\": [-0.16240093214556495, -0.218624194153118, -0.19188214762193656, 0.26800140017857743, 0.5046436664969043, 0.2248173900207766, 0.11569179140428215, 0.5972524380503152, 0.22453296591153957, -0.33580328859977876, -0.03773284980475519, 0.06384916638054225], \"y\": [0.04598237884190034, -0.0811049187204623, -0.2815902908000729, -0.16106038897515906, 0.716591385863138, -0.2584474625716527, 0.24718991447741973, 0.6620896990274422, -0.1711839200615904, -0.18500590552784116, -0.3078864878993876, -0.18421395898890558]}, {\"customdata\": [[-0.7509636772303837, 0.3089156622503182, 1, \"v_Future Force - What You Want (Mark!'s Epic Vocal).wav\", \"circle\", \"#751017\"], [-0.3671806791369792, 0.3503058569215429, 1, \"v_Future Force - What You Want (Mark!'s Epic Vocal).wav\", \"circle\", \"#751017\"], [0.5128718817738983, -0.10289179947107427, 1, \"v_Future Force - What You Want (Mark!'s Epic Vocal).wav\", \"circle\", \"#751017\"], [0.009562359331349432, -0.5234435677499487, 1, \"v_Future Force - What You Want (Mark!'s Epic Vocal).wav\", \"circle\", \"#751017\"], [0.04230632429537842, -0.10141632050530532, 1, \"v_Future Force - What You Want (Mark!'s Epic Vocal).wav\", \"circle\", \"#751017\"], [0.0931392996182487, -0.11762501760490428, 1, \"v_Future Force - What You Want (Mark!'s Epic Vocal).wav\", \"circle\", \"#751017\"], [-0.013277165072586257, -0.11143690832877862, 1, \"v_Future Force - What You Want (Mark!'s Epic Vocal).wav\", \"circle\", \"#751017\"], [-0.039892445226638325, -0.3383331551491162, 1, \"v_Future Force - What You Want (Mark!'s Epic Vocal).wav\", \"circle\", \"#751017\"], [-0.052006066883052086, -0.09606734111859061, 1, \"v_Future Force - What You Want (Mark!'s Epic Vocal).wav\", \"circle\", \"#751017\"], [0.6970571238063892, -0.25641551585174954, 1, \"v_Future Force - What You Want (Mark!'s Epic Vocal).wav\", \"circle\", \"#751017\"], [-0.11502396496027213, -0.022134767099901632, 1, \"v_Future Force - What You Want (Mark!'s Epic Vocal).wav\", \"circle\", \"#751017\"], [0.4818346964070586, -0.14422667033359834, 1, \"v_Future Force - What You Want (Mark!'s Epic Vocal).wav\", \"circle\", \"#751017\"], [0.08923212018472162, -0.09051519244452816, 1, \"v_Future Force - What You Want (Mark!'s Epic Vocal).wav\", \"circle\", \"#751017\"]], \"hovertemplate\": \"<b>%{customdata[3]}</b><br>(%{x:.3f},%{y:.3f})<extra>%{customdata[2]}</extra>\", \"marker\": {\"color\": [\"#751017\", \"#751017\", \"#751017\", \"#751017\", \"#751017\", \"#751017\", \"#751017\", \"#751017\", \"#751017\", \"#751017\", \"#751017\", \"#751017\", \"#751017\"], \"symbol\": [\"circle\", \"circle\", \"circle\", \"circle\", \"circle\", \"circle\", \"circle\", \"circle\", \"circle\", \"circle\", \"circle\", \"circle\", \"circle\"]}, \"mode\": \"markers\", \"name\": \"26\", \"text\": [\"v_Future Force - What You Want (Mark!'s Epic Vocal).wav\", \"v_Future Force - What You Want (Mark!'s Epic Vocal).wav\", \"v_Future Force - What You Want (Mark!'s Epic Vocal).wav\", \"v_Future Force - What You Want (Mark!'s Epic Vocal).wav\", \"v_Future Force - What You Want (Mark!'s Epic Vocal).wav\", \"v_Future Force - What You Want (Mark!'s Epic Vocal).wav\", \"v_Future Force - What You Want (Mark!'s Epic Vocal).wav\", \"v_Future Force - What You Want (Mark!'s Epic Vocal).wav\", \"v_Future Force - What You Want (Mark!'s Epic Vocal).wav\", \"v_Future Force - What You Want (Mark!'s Epic Vocal).wav\", \"v_Future Force - What You Want (Mark!'s Epic Vocal).wav\", \"v_Future Force - What You Want (Mark!'s Epic Vocal).wav\", \"v_Future Force - What You Want (Mark!'s Epic Vocal).wav\"], \"type\": \"scatter\", \"x\": [-0.7509636772303837, -0.3671806791369792, 0.5128718817738983, 0.009562359331349432, 0.04230632429537842, 0.0931392996182487, -0.013277165072586257, -0.039892445226638325, -0.052006066883052086, 0.6970571238063892, -0.11502396496027213, 0.4818346964070586, 0.08923212018472162], \"y\": [0.3089156622503182, 0.3503058569215429, -0.10289179947107427, -0.5234435677499487, -0.10141632050530532, -0.11762501760490428, -0.11143690832877862, -0.3383331551491162, -0.09606734111859061, -0.25641551585174954, -0.022134767099901632, -0.14422667033359834, -0.09051519244452816]}, {\"customdata\": [[0.05976517415067634, -0.06606697069467188, 3, \"v_Future Force - What You Want (Mark!'s Massive Vocal).wav\", \"circle\", \"#6b1075\"], [0.017747724416537308, -0.118896311095844, 3, \"v_Future Force - What You Want (Mark!'s Massive Vocal).wav\", \"circle\", \"#6b1075\"], [0.03294074623634598, -0.04619748773205886, 3, \"v_Future Force - What You Want (Mark!'s Massive Vocal).wav\", \"circle\", \"#6b1075\"], [0.008604268148936004, -0.2542066904698662, 3, \"v_Future Force - What You Want (Mark!'s Massive Vocal).wav\", \"circle\", \"#6b1075\"], [-0.29492103459844876, -0.2663099009037166, 3, \"v_Future Force - What You Want (Mark!'s Massive Vocal).wav\", \"circle\", \"#6b1075\"], [0.12902285797217064, -0.3000641351001804, 3, \"v_Future Force - What You Want (Mark!'s Massive Vocal).wav\", \"circle\", \"#6b1075\"], [0.04060182199341334, -0.0968458394890252, 3, \"v_Future Force - What You Want (Mark!'s Massive Vocal).wav\", \"circle\", \"#6b1075\"], [0.06024789608941834, 0.5191006266499244, 3, \"v_Future Force - What You Want (Mark!'s Massive Vocal).wav\", \"circle\", \"#6b1075\"], [0.11923090731638247, -0.11434455521686955, 3, \"v_Future Force - What You Want (Mark!'s Massive Vocal).wav\", \"circle\", \"#6b1075\"], [0.10114997623410713, -0.11400991291655618, 3, \"v_Future Force - What You Want (Mark!'s Massive Vocal).wav\", \"circle\", \"#6b1075\"], [-0.132358938594678, 0.4887899453395263, 3, \"v_Future Force - What You Want (Mark!'s Massive Vocal).wav\", \"circle\", \"#6b1075\"], [-0.025017709227808195, -0.27803278156033623, 3, \"v_Future Force - What You Want (Mark!'s Massive Vocal).wav\", \"circle\", \"#6b1075\"], [-0.17526019656156866, 0.05663302845566715, 3, \"v_Future Force - What You Want (Mark!'s Massive Vocal).wav\", \"circle\", \"#6b1075\"], [0.3471125360422826, -0.2687538260615061, 3, \"v_Future Force - What You Want (Mark!'s Massive Vocal).wav\", \"circle\", \"#6b1075\"], [0.08470183767310685, 0.02929061818928457, 3, \"v_Future Force - What You Want (Mark!'s Massive Vocal).wav\", \"circle\", \"#6b1075\"], [-0.19511537864488404, -0.12971452939437414, 3, \"v_Future Force - What You Want (Mark!'s Massive Vocal).wav\", \"circle\", \"#6b1075\"], [-0.3008807581349237, 0.3231091026936753, 3, \"v_Future Force - What You Want (Mark!'s Massive Vocal).wav\", \"circle\", \"#6b1075\"], [0.3769305299021617, -0.06996993736748172, 3, \"v_Future Force - What You Want (Mark!'s Massive Vocal).wav\", \"circle\", \"#6b1075\"]], \"hovertemplate\": \"<b>%{customdata[3]}</b><br>(%{x:.3f},%{y:.3f})<extra>%{customdata[2]}</extra>\", \"marker\": {\"color\": [\"#6b1075\", \"#6b1075\", \"#6b1075\", \"#6b1075\", \"#6b1075\", \"#6b1075\", \"#6b1075\", \"#6b1075\", \"#6b1075\", \"#6b1075\", \"#6b1075\", \"#6b1075\", \"#6b1075\", \"#6b1075\", \"#6b1075\", \"#6b1075\", \"#6b1075\", \"#6b1075\"], \"symbol\": [\"circle\", \"circle\", \"circle\", \"circle\", \"circle\", \"circle\", \"circle\", \"circle\", \"circle\", \"circle\", \"circle\", \"circle\", \"circle\", \"circle\", \"circle\", \"circle\", \"circle\", \"circle\"]}, \"mode\": \"markers\", \"name\": \"27\", \"text\": [\"v_Future Force - What You Want (Mark!'s Massive Vocal).wav\", \"v_Future Force - What You Want (Mark!'s Massive Vocal).wav\", \"v_Future Force - What You Want (Mark!'s Massive Vocal).wav\", \"v_Future Force - What You Want (Mark!'s Massive Vocal).wav\", \"v_Future Force - What You Want (Mark!'s Massive Vocal).wav\", \"v_Future Force - What You Want (Mark!'s Massive Vocal).wav\", \"v_Future Force - What You Want (Mark!'s Massive Vocal).wav\", \"v_Future Force - What You Want (Mark!'s Massive Vocal).wav\", \"v_Future Force - What You Want (Mark!'s Massive Vocal).wav\", \"v_Future Force - What You Want (Mark!'s Massive Vocal).wav\", \"v_Future Force - What You Want (Mark!'s Massive Vocal).wav\", \"v_Future Force - What You Want (Mark!'s Massive Vocal).wav\", \"v_Future Force - What You Want (Mark!'s Massive Vocal).wav\", \"v_Future Force - What You Want (Mark!'s Massive Vocal).wav\", \"v_Future Force - What You Want (Mark!'s Massive Vocal).wav\", \"v_Future Force - What You Want (Mark!'s Massive Vocal).wav\", \"v_Future Force - What You Want (Mark!'s Massive Vocal).wav\", \"v_Future Force - What You Want (Mark!'s Massive Vocal).wav\"], \"type\": \"scatter\", \"x\": [0.05976517415067634, 0.017747724416537308, 0.03294074623634598, 0.008604268148936004, -0.29492103459844876, 0.12902285797217064, 0.04060182199341334, 0.06024789608941834, 0.11923090731638247, 0.10114997623410713, -0.132358938594678, -0.025017709227808195, -0.17526019656156866, 0.3471125360422826, 0.08470183767310685, -0.19511537864488404, -0.3008807581349237, 0.3769305299021617], \"y\": [-0.06606697069467188, -0.118896311095844, -0.04619748773205886, -0.2542066904698662, -0.2663099009037166, -0.3000641351001804, -0.0968458394890252, 0.5191006266499244, -0.11434455521686955, -0.11400991291655618, 0.4887899453395263, -0.27803278156033623, 0.05663302845566715, -0.2687538260615061, 0.02929061818928457, -0.12971452939437414, 0.3231091026936753, -0.06996993736748172]}, {\"customdata\": [[0.1317842137549777, -0.038642588902725, 3, \"v_Future Force - What You Want (Richie Jones Club Mix).wav\", \"circle\", \"#6b1075\"], [-0.15056499940351975, -0.029787017549786722, 3, \"v_Future Force - What You Want (Richie Jones Club Mix).wav\", \"circle\", \"#6b1075\"], [-0.038081388557265505, 0.2328853390226196, 3, \"v_Future Force - What You Want (Richie Jones Club Mix).wav\", \"circle\", \"#6b1075\"], [-0.20544042090954348, -0.05768329405408162, 3, \"v_Future Force - What You Want (Richie Jones Club Mix).wav\", \"circle\", \"#6b1075\"], [-0.18055591491654518, -0.35363026747302306, 3, \"v_Future Force - What You Want (Richie Jones Club Mix).wav\", \"circle\", \"#6b1075\"], [-0.2929401770505685, -0.21337055155016185, 3, \"v_Future Force - What You Want (Richie Jones Club Mix).wav\", \"circle\", \"#6b1075\"], [0.2305438060487891, -0.03650940932465289, 3, \"v_Future Force - What You Want (Richie Jones Club Mix).wav\", \"circle\", \"#6b1075\"], [-0.16714490907416285, 0.0981900486579816, 3, \"v_Future Force - What You Want (Richie Jones Club Mix).wav\", \"circle\", \"#6b1075\"], [-0.0005131284376953003, -0.12008044503905119, 3, \"v_Future Force - What You Want (Richie Jones Club Mix).wav\", \"circle\", \"#6b1075\"], [-0.18307745478331347, -0.4656799334964839, 3, \"v_Future Force - What You Want (Richie Jones Club Mix).wav\", \"circle\", \"#6b1075\"], [-0.12065607356253828, 0.09540169944121721, 3, \"v_Future Force - What You Want (Richie Jones Club Mix).wav\", \"circle\", \"#6b1075\"], [-0.10977943514436783, 0.3764737994042077, 3, \"v_Future Force - What You Want (Richie Jones Club Mix).wav\", \"circle\", \"#6b1075\"], [-0.10138466645875942, -0.1440598691443358, 3, \"v_Future Force - What You Want (Richie Jones Club Mix).wav\", \"circle\", \"#6b1075\"]], \"hovertemplate\": \"<b>%{customdata[3]}</b><br>(%{x:.3f},%{y:.3f})<extra>%{customdata[2]}</extra>\", \"marker\": {\"color\": [\"#6b1075\", \"#6b1075\", \"#6b1075\", \"#6b1075\", \"#6b1075\", \"#6b1075\", \"#6b1075\", \"#6b1075\", \"#6b1075\", \"#6b1075\", \"#6b1075\", \"#6b1075\", \"#6b1075\"], \"symbol\": [\"circle\", \"circle\", \"circle\", \"circle\", \"circle\", \"circle\", \"circle\", \"circle\", \"circle\", \"circle\", \"circle\", \"circle\", \"circle\"]}, \"mode\": \"markers\", \"name\": \"28\", \"text\": [\"v_Future Force - What You Want (Richie Jones Club Mix).wav\", \"v_Future Force - What You Want (Richie Jones Club Mix).wav\", \"v_Future Force - What You Want (Richie Jones Club Mix).wav\", \"v_Future Force - What You Want (Richie Jones Club Mix).wav\", \"v_Future Force - What You Want (Richie Jones Club Mix).wav\", \"v_Future Force - What You Want (Richie Jones Club Mix).wav\", \"v_Future Force - What You Want (Richie Jones Club Mix).wav\", \"v_Future Force - What You Want (Richie Jones Club Mix).wav\", \"v_Future Force - What You Want (Richie Jones Club Mix).wav\", \"v_Future Force - What You Want (Richie Jones Club Mix).wav\", \"v_Future Force - What You Want (Richie Jones Club Mix).wav\", \"v_Future Force - What You Want (Richie Jones Club Mix).wav\", \"v_Future Force - What You Want (Richie Jones Club Mix).wav\"], \"type\": \"scatter\", \"x\": [0.1317842137549777, -0.15056499940351975, -0.038081388557265505, -0.20544042090954348, -0.18055591491654518, -0.2929401770505685, 0.2305438060487891, -0.16714490907416285, -0.0005131284376953003, -0.18307745478331347, -0.12065607356253828, -0.10977943514436783, -0.10138466645875942], \"y\": [-0.038642588902725, -0.029787017549786722, 0.2328853390226196, -0.05768329405408162, -0.35363026747302306, -0.21337055155016185, -0.03650940932465289, 0.0981900486579816, -0.12008044503905119, -0.4656799334964839, 0.09540169944121721, 0.3764737994042077, -0.1440598691443358]}, {\"customdata\": [[0.13506981922406097, -0.302039319836954, 2, \"v_Future Force - What You Want (Richie Jones Dub).wav\", \"circle\", \"#48a832\"], [-0.23714441536185576, -0.24423837592429123, 2, \"v_Future Force - What You Want (Richie Jones Dub).wav\", \"circle\", \"#48a832\"], [-0.08260244190931479, -0.14664657006389442, 2, \"v_Future Force - What You Want (Richie Jones Dub).wav\", \"circle\", \"#48a832\"], [0.017682947917813444, -0.11624531437268766, 2, \"v_Future Force - What You Want (Richie Jones Dub).wav\", \"circle\", \"#48a832\"], [-0.2125056069069177, 0.20887253467811834, 2, \"v_Future Force - What You Want (Richie Jones Dub).wav\", \"circle\", \"#48a832\"], [0.028365112938317085, -0.16492264726222575, 2, \"v_Future Force - What You Want (Richie Jones Dub).wav\", \"circle\", \"#48a832\"], [-0.0304563411870366, 0.17258523907443032, 2, \"v_Future Force - What You Want (Richie Jones Dub).wav\", \"circle\", \"#48a832\"], [-0.13657839510201117, 0.039452639551779356, 2, \"v_Future Force - What You Want (Richie Jones Dub).wav\", \"circle\", \"#48a832\"], [-0.44180965710831827, -0.045085355779877816, 2, \"v_Future Force - What You Want (Richie Jones Dub).wav\", \"circle\", \"#48a832\"]], \"hovertemplate\": \"<b>%{customdata[3]}</b><br>(%{x:.3f},%{y:.3f})<extra>%{customdata[2]}</extra>\", \"marker\": {\"color\": [\"#48a832\", \"#48a832\", \"#48a832\", \"#48a832\", \"#48a832\", \"#48a832\", \"#48a832\", \"#48a832\", \"#48a832\"], \"symbol\": [\"circle\", \"circle\", \"circle\", \"circle\", \"circle\", \"circle\", \"circle\", \"circle\", \"circle\"]}, \"mode\": \"markers\", \"name\": \"29\", \"text\": [\"v_Future Force - What You Want (Richie Jones Dub).wav\", \"v_Future Force - What You Want (Richie Jones Dub).wav\", \"v_Future Force - What You Want (Richie Jones Dub).wav\", \"v_Future Force - What You Want (Richie Jones Dub).wav\", \"v_Future Force - What You Want (Richie Jones Dub).wav\", \"v_Future Force - What You Want (Richie Jones Dub).wav\", \"v_Future Force - What You Want (Richie Jones Dub).wav\", \"v_Future Force - What You Want (Richie Jones Dub).wav\", \"v_Future Force - What You Want (Richie Jones Dub).wav\"], \"type\": \"scatter\", \"x\": [0.13506981922406097, -0.23714441536185576, -0.08260244190931479, 0.017682947917813444, -0.2125056069069177, 0.028365112938317085, -0.0304563411870366, -0.13657839510201117, -0.44180965710831827], \"y\": [-0.302039319836954, -0.24423837592429123, -0.14664657006389442, -0.11624531437268766, 0.20887253467811834, -0.16492264726222575, 0.17258523907443032, 0.039452639551779356, -0.045085355779877816]}, {\"customdata\": [[-0.20345532007912795, 0.2632556059316813, 1, \"v_Future Force - What You Want (Rim Job Dub).wav\", \"circle\", \"#751017\"], [0.08648711051572716, 0.13368256984181423, 1, \"v_Future Force - What You Want (Rim Job Dub).wav\", \"circle\", \"#751017\"], [0.1147357086474196, 0.18158915017223418, 1, \"v_Future Force - What You Want (Rim Job Dub).wav\", \"circle\", \"#751017\"], [-0.3460767888901223, 0.3374575160085024, 1, \"v_Future Force - What You Want (Rim Job Dub).wav\", \"circle\", \"#751017\"], [0.3732326037890649, 0.3020327188905881, 1, \"v_Future Force - What You Want (Rim Job Dub).wav\", \"circle\", \"#751017\"]], \"hovertemplate\": \"<b>%{customdata[3]}</b><br>(%{x:.3f},%{y:.3f})<extra>%{customdata[2]}</extra>\", \"marker\": {\"color\": [\"#751017\", \"#751017\", \"#751017\", \"#751017\", \"#751017\"], \"symbol\": [\"circle\", \"circle\", \"circle\", \"circle\", \"circle\"]}, \"mode\": \"markers\", \"name\": \"30\", \"text\": [\"v_Future Force - What You Want (Rim Job Dub).wav\", \"v_Future Force - What You Want (Rim Job Dub).wav\", \"v_Future Force - What You Want (Rim Job Dub).wav\", \"v_Future Force - What You Want (Rim Job Dub).wav\", \"v_Future Force - What You Want (Rim Job Dub).wav\"], \"type\": \"scatter\", \"x\": [-0.20345532007912795, 0.08648711051572716, 0.1147357086474196, -0.3460767888901223, 0.3732326037890649], \"y\": [0.2632556059316813, 0.13368256984181423, 0.18158915017223418, 0.3374575160085024, 0.3020327188905881]}, {\"customdata\": [[-0.011219649298171708, -0.06491132165457607, 1, \"v_PSB - Before (12RDJD 6431 A).wav\", \"circle\", \"#751017\"], [-0.21219260903560158, 0.03771350129358066, 1, \"v_PSB - Before (12RDJD 6431 A).wav\", \"circle\", \"#751017\"], [0.046976744301970755, -0.06214908135131451, 1, \"v_PSB - Before (12RDJD 6431 A).wav\", \"circle\", \"#751017\"], [-0.8278461538685518, 0.26938987800806685, 1, \"v_PSB - Before (12RDJD 6431 A).wav\", \"circle\", \"#751017\"], [-0.22365365735769935, -0.22977276890803738, 1, \"v_PSB - Before (12RDJD 6431 A).wav\", \"circle\", \"#751017\"], [0.03271026926148122, -0.0724743918601422, 1, \"v_PSB - Before (12RDJD 6431 A).wav\", \"circle\", \"#751017\"], [-0.2165746671265789, 0.5426093989583961, 1, \"v_PSB - Before (12RDJD 6431 A).wav\", \"circle\", \"#751017\"], [0.44425095326135283, 0.4769087751576573, 1, \"v_PSB - Before (12RDJD 6431 A).wav\", \"circle\", \"#751017\"], [0.009676601439494933, -0.15478381024593096, 1, \"v_PSB - Before (12RDJD 6431 A).wav\", \"circle\", \"#751017\"], [-0.3376108701773573, 0.3966077993163954, 1, \"v_PSB - Before (12RDJD 6431 A).wav\", \"circle\", \"#751017\"]], \"hovertemplate\": \"<b>%{customdata[3]}</b><br>(%{x:.3f},%{y:.3f})<extra>%{customdata[2]}</extra>\", \"marker\": {\"color\": [\"#751017\", \"#751017\", \"#751017\", \"#751017\", \"#751017\", \"#751017\", \"#751017\", \"#751017\", \"#751017\", \"#751017\"], \"symbol\": [\"circle\", \"circle\", \"circle\", \"circle\", \"circle\", \"circle\", \"circle\", \"circle\", \"circle\", \"circle\"]}, \"mode\": \"markers\", \"name\": \"31\", \"text\": [\"v_PSB - Before (12RDJD 6431 A).wav\", \"v_PSB - Before (12RDJD 6431 A).wav\", \"v_PSB - Before (12RDJD 6431 A).wav\", \"v_PSB - Before (12RDJD 6431 A).wav\", \"v_PSB - Before (12RDJD 6431 A).wav\", \"v_PSB - Before (12RDJD 6431 A).wav\", \"v_PSB - Before (12RDJD 6431 A).wav\", \"v_PSB - Before (12RDJD 6431 A).wav\", \"v_PSB - Before (12RDJD 6431 A).wav\", \"v_PSB - Before (12RDJD 6431 A).wav\"], \"type\": \"scatter\", \"x\": [-0.011219649298171708, -0.21219260903560158, 0.046976744301970755, -0.8278461538685518, -0.22365365735769935, 0.03271026926148122, -0.2165746671265789, 0.44425095326135283, 0.009676601439494933, -0.3376108701773573], \"y\": [-0.06491132165457607, 0.03771350129358066, -0.06214908135131451, 0.26938987800806685, -0.22977276890803738, -0.0724743918601422, 0.5426093989583961, 0.4769087751576573, -0.15478381024593096, 0.3966077993163954]}, {\"customdata\": [[0.03087569259515593, -0.16570044282033128, 1, \"v_PSB - Before (12RDJD 6431 B).wav\", \"circle\", \"#751017\"], [0.30830596712664277, -0.2042677638011252, 1, \"v_PSB - Before (12RDJD 6431 B).wav\", \"circle\", \"#751017\"], [-0.15456284926574174, 0.07762569016648191, 1, \"v_PSB - Before (12RDJD 6431 B).wav\", \"circle\", \"#751017\"], [-0.3915244631125185, -0.2559489096208408, 1, \"v_PSB - Before (12RDJD 6431 B).wav\", \"circle\", \"#751017\"], [-0.4635107896740161, -0.09318727615656551, 1, \"v_PSB - Before (12RDJD 6431 B).wav\", \"circle\", \"#751017\"], [0.0679307311397896, -0.132927152736523, 1, \"v_PSB - Before (12RDJD 6431 B).wav\", \"circle\", \"#751017\"], [0.023860068386741623, -0.09663556561190909, 1, \"v_PSB - Before (12RDJD 6431 B).wav\", \"circle\", \"#751017\"], [-0.16858434599196787, -0.20035608231048252, 1, \"v_PSB - Before (12RDJD 6431 B).wav\", \"circle\", \"#751017\"], [0.7305807958226822, 0.8999985511294059, 1, \"v_PSB - Before (12RDJD 6431 B).wav\", \"circle\", \"#751017\"], [0.1430005181918958, -0.31443553072544916, 1, \"v_PSB - Before (12RDJD 6431 B).wav\", \"circle\", \"#751017\"], [0.7143726643916681, 0.07794368970545776, 1, \"v_PSB - Before (12RDJD 6431 B).wav\", \"circle\", \"#751017\"], [-0.0846667264880219, -0.02822003110046203, 1, \"v_PSB - Before (12RDJD 6431 B).wav\", \"circle\", \"#751017\"], [-0.06601037235975206, -0.1965271107219688, 1, \"v_PSB - Before (12RDJD 6431 B).wav\", \"circle\", \"#751017\"]], \"hovertemplate\": \"<b>%{customdata[3]}</b><br>(%{x:.3f},%{y:.3f})<extra>%{customdata[2]}</extra>\", \"marker\": {\"color\": [\"#751017\", \"#751017\", \"#751017\", \"#751017\", \"#751017\", \"#751017\", \"#751017\", \"#751017\", \"#751017\", \"#751017\", \"#751017\", \"#751017\", \"#751017\"], \"symbol\": [\"circle\", \"circle\", \"circle\", \"circle\", \"circle\", \"circle\", \"circle\", \"circle\", \"circle\", \"circle\", \"circle\", \"circle\", \"circle\"]}, \"mode\": \"markers\", \"name\": \"32\", \"text\": [\"v_PSB - Before (12RDJD 6431 B).wav\", \"v_PSB - Before (12RDJD 6431 B).wav\", \"v_PSB - Before (12RDJD 6431 B).wav\", \"v_PSB - Before (12RDJD 6431 B).wav\", \"v_PSB - Before (12RDJD 6431 B).wav\", \"v_PSB - Before (12RDJD 6431 B).wav\", \"v_PSB - Before (12RDJD 6431 B).wav\", \"v_PSB - Before (12RDJD 6431 B).wav\", \"v_PSB - Before (12RDJD 6431 B).wav\", \"v_PSB - Before (12RDJD 6431 B).wav\", \"v_PSB - Before (12RDJD 6431 B).wav\", \"v_PSB - Before (12RDJD 6431 B).wav\", \"v_PSB - Before (12RDJD 6431 B).wav\"], \"type\": \"scatter\", \"x\": [0.03087569259515593, 0.30830596712664277, -0.15456284926574174, -0.3915244631125185, -0.4635107896740161, 0.0679307311397896, 0.023860068386741623, -0.16858434599196787, 0.7305807958226822, 0.1430005181918958, 0.7143726643916681, -0.0846667264880219, -0.06601037235975206], \"y\": [-0.16570044282033128, -0.2042677638011252, 0.07762569016648191, -0.2559489096208408, -0.09318727615656551, -0.132927152736523, -0.09663556561190909, -0.20035608231048252, 0.8999985511294059, -0.31443553072544916, 0.07794368970545776, -0.02822003110046203, -0.1965271107219688]}, {\"customdata\": [[0.043491148693629626, 0.3703815036707273, 0, \"v_PSB - Before (12RDJD 6431 C1).wav\", \"circle\", \"#0044FF\"], [-0.027314961547288238, -0.10647657478821655, 0, \"v_PSB - Before (12RDJD 6431 C1).wav\", \"circle\", \"#0044FF\"], [0.36370415499389297, -0.10667460121245348, 0, \"v_PSB - Before (12RDJD 6431 C1).wav\", \"circle\", \"#0044FF\"], [0.6613855046190927, -0.23353079905805169, 0, \"v_PSB - Before (12RDJD 6431 C1).wav\", \"circle\", \"#0044FF\"], [0.3449166233590834, 0.2183218342740129, 0, \"v_PSB - Before (12RDJD 6431 C1).wav\", \"circle\", \"#0044FF\"], [-0.287701997011428, 0.1583927843099122, 0, \"v_PSB - Before (12RDJD 6431 C1).wav\", \"circle\", \"#0044FF\"], [-0.16997973551068943, -0.05799632393512222, 0, \"v_PSB - Before (12RDJD 6431 C1).wav\", \"circle\", \"#0044FF\"], [-0.11066750788196292, 0.7820089284848626, 0, \"v_PSB - Before (12RDJD 6431 C1).wav\", \"circle\", \"#0044FF\"], [-0.08903534916969554, -0.12158133281570148, 0, \"v_PSB - Before (12RDJD 6431 C1).wav\", \"circle\", \"#0044FF\"], [-0.032265330788574395, -0.07406882391999306, 0, \"v_PSB - Before (12RDJD 6431 C1).wav\", \"circle\", \"#0044FF\"], [0.6541828024514301, -0.06154513634511676, 0, \"v_PSB - Before (12RDJD 6431 C1).wav\", \"circle\", \"#0044FF\"]], \"hovertemplate\": \"<b>%{customdata[3]}</b><br>(%{x:.3f},%{y:.3f})<extra>%{customdata[2]}</extra>\", \"marker\": {\"color\": [\"#0044FF\", \"#0044FF\", \"#0044FF\", \"#0044FF\", \"#0044FF\", \"#0044FF\", \"#0044FF\", \"#0044FF\", \"#0044FF\", \"#0044FF\", \"#0044FF\"], \"symbol\": [\"circle\", \"circle\", \"circle\", \"circle\", \"circle\", \"circle\", \"circle\", \"circle\", \"circle\", \"circle\", \"circle\"]}, \"mode\": \"markers\", \"name\": \"33\", \"text\": [\"v_PSB - Before (12RDJD 6431 C1).wav\", \"v_PSB - Before (12RDJD 6431 C1).wav\", \"v_PSB - Before (12RDJD 6431 C1).wav\", \"v_PSB - Before (12RDJD 6431 C1).wav\", \"v_PSB - Before (12RDJD 6431 C1).wav\", \"v_PSB - Before (12RDJD 6431 C1).wav\", \"v_PSB - Before (12RDJD 6431 C1).wav\", \"v_PSB - Before (12RDJD 6431 C1).wav\", \"v_PSB - Before (12RDJD 6431 C1).wav\", \"v_PSB - Before (12RDJD 6431 C1).wav\", \"v_PSB - Before (12RDJD 6431 C1).wav\"], \"type\": \"scatter\", \"x\": [0.043491148693629626, -0.027314961547288238, 0.36370415499389297, 0.6613855046190927, 0.3449166233590834, -0.287701997011428, -0.16997973551068943, -0.11066750788196292, -0.08903534916969554, -0.032265330788574395, 0.6541828024514301], \"y\": [0.3703815036707273, -0.10647657478821655, -0.10667460121245348, -0.23353079905805169, 0.2183218342740129, 0.1583927843099122, -0.05799632393512222, 0.7820089284848626, -0.12158133281570148, -0.07406882391999306, -0.06154513634511676]}, {\"customdata\": [[-0.10117746906692864, 0.0075733868514490515, 1, \"v_PSB - Before (12RDJD 6431 C2).wav\", \"circle\", \"#751017\"], [-0.0008863580236808424, -0.019948316815411, 1, \"v_PSB - Before (12RDJD 6431 C2).wav\", \"circle\", \"#751017\"], [0.027633038204435488, 0.16777765711042328, 1, \"v_PSB - Before (12RDJD 6431 C2).wav\", \"circle\", \"#751017\"], [0.6221140015224225, -0.3036566135691983, 1, \"v_PSB - Before (12RDJD 6431 C2).wav\", \"circle\", \"#751017\"], [-0.0415379413157978, -0.04334185273102148, 1, \"v_PSB - Before (12RDJD 6431 C2).wav\", \"circle\", \"#751017\"], [-0.018742078400433605, -0.2007872035078545, 1, \"v_PSB - Before (12RDJD 6431 C2).wav\", \"circle\", \"#751017\"], [0.4302631208363917, 0.7454309367511341, 1, \"v_PSB - Before (12RDJD 6431 C2).wav\", \"circle\", \"#751017\"], [0.650107136381637, -0.19239322643738324, 1, \"v_PSB - Before (12RDJD 6431 C2).wav\", \"circle\", \"#751017\"]], \"hovertemplate\": \"<b>%{customdata[3]}</b><br>(%{x:.3f},%{y:.3f})<extra>%{customdata[2]}</extra>\", \"marker\": {\"color\": [\"#751017\", \"#751017\", \"#751017\", \"#751017\", \"#751017\", \"#751017\", \"#751017\", \"#751017\"], \"symbol\": [\"circle\", \"circle\", \"circle\", \"circle\", \"circle\", \"circle\", \"circle\", \"circle\"]}, \"mode\": \"markers\", \"name\": \"34\", \"text\": [\"v_PSB - Before (12RDJD 6431 C2).wav\", \"v_PSB - Before (12RDJD 6431 C2).wav\", \"v_PSB - Before (12RDJD 6431 C2).wav\", \"v_PSB - Before (12RDJD 6431 C2).wav\", \"v_PSB - Before (12RDJD 6431 C2).wav\", \"v_PSB - Before (12RDJD 6431 C2).wav\", \"v_PSB - Before (12RDJD 6431 C2).wav\", \"v_PSB - Before (12RDJD 6431 C2).wav\"], \"type\": \"scatter\", \"x\": [-0.10117746906692864, -0.0008863580236808424, 0.027633038204435488, 0.6221140015224225, -0.0415379413157978, -0.018742078400433605, 0.4302631208363917, 0.650107136381637], \"y\": [0.0075733868514490515, -0.019948316815411, 0.16777765711042328, -0.3036566135691983, -0.04334185273102148, -0.2007872035078545, 0.7454309367511341, -0.19239322643738324]}, {\"customdata\": [[0.6453674180219069, -0.1675605275241052, 2, \"v_PSB - Before (12RDJD 6431 D).wav\", \"circle\", \"#48a832\"], [0.13325758138844546, -0.2440021752489748, 2, \"v_PSB - Before (12RDJD 6431 D).wav\", \"circle\", \"#48a832\"], [-0.3496815460280463, -0.5111695984509576, 2, \"v_PSB - Before (12RDJD 6431 D).wav\", \"circle\", \"#48a832\"], [0.3079798226046777, -0.21250619128847623, 2, \"v_PSB - Before (12RDJD 6431 D).wav\", \"circle\", \"#48a832\"], [-0.011748847443871082, -0.1851097058311779, 2, \"v_PSB - Before (12RDJD 6431 D).wav\", \"circle\", \"#48a832\"], [-0.12185018412442093, -0.05879841654799582, 2, \"v_PSB - Before (12RDJD 6431 D).wav\", \"circle\", \"#48a832\"], [-0.061066085220092194, -0.003178537269847299, 2, \"v_PSB - Before (12RDJD 6431 D).wav\", \"circle\", \"#48a832\"], [-0.13035609386109206, 0.034803497964782354, 2, \"v_PSB - Before (12RDJD 6431 D).wav\", \"circle\", \"#48a832\"], [-0.12932872100158183, 0.047612763444810684, 2, \"v_PSB - Before (12RDJD 6431 D).wav\", \"circle\", \"#48a832\"], [0.3361855193994323, -0.1376168279203327, 2, \"v_PSB - Before (12RDJD 6431 D).wav\", \"circle\", \"#48a832\"], [0.6619023565243051, -0.3396530292815834, 2, \"v_PSB - Before (12RDJD 6431 D).wav\", \"circle\", \"#48a832\"], [-0.7371539482875965, 0.4850721976820964, 2, \"v_PSB - Before (12RDJD 6431 D).wav\", \"circle\", \"#48a832\"], [-0.07881866553207897, -0.19033845162496482, 2, \"v_PSB - Before (12RDJD 6431 D).wav\", \"circle\", \"#48a832\"]], \"hovertemplate\": \"<b>%{customdata[3]}</b><br>(%{x:.3f},%{y:.3f})<extra>%{customdata[2]}</extra>\", \"marker\": {\"color\": [\"#48a832\", \"#48a832\", \"#48a832\", \"#48a832\", \"#48a832\", \"#48a832\", \"#48a832\", \"#48a832\", \"#48a832\", \"#48a832\", \"#48a832\", \"#48a832\", \"#48a832\"], \"symbol\": [\"circle\", \"circle\", \"circle\", \"circle\", \"circle\", \"circle\", \"circle\", \"circle\", \"circle\", \"circle\", \"circle\", \"circle\", \"circle\"]}, \"mode\": \"markers\", \"name\": \"35\", \"text\": [\"v_PSB - Before (12RDJD 6431 D).wav\", \"v_PSB - Before (12RDJD 6431 D).wav\", \"v_PSB - Before (12RDJD 6431 D).wav\", \"v_PSB - Before (12RDJD 6431 D).wav\", \"v_PSB - Before (12RDJD 6431 D).wav\", \"v_PSB - Before (12RDJD 6431 D).wav\", \"v_PSB - Before (12RDJD 6431 D).wav\", \"v_PSB - Before (12RDJD 6431 D).wav\", \"v_PSB - Before (12RDJD 6431 D).wav\", \"v_PSB - Before (12RDJD 6431 D).wav\", \"v_PSB - Before (12RDJD 6431 D).wav\", \"v_PSB - Before (12RDJD 6431 D).wav\", \"v_PSB - Before (12RDJD 6431 D).wav\"], \"type\": \"scatter\", \"x\": [0.6453674180219069, 0.13325758138844546, -0.3496815460280463, 0.3079798226046777, -0.011748847443871082, -0.12185018412442093, -0.061066085220092194, -0.13035609386109206, -0.12932872100158183, 0.3361855193994323, 0.6619023565243051, -0.7371539482875965, -0.07881866553207897], \"y\": [-0.1675605275241052, -0.2440021752489748, -0.5111695984509576, -0.21250619128847623, -0.1851097058311779, -0.05879841654799582, -0.003178537269847299, 0.034803497964782354, 0.047612763444810684, -0.1376168279203327, -0.3396530292815834, 0.4850721976820964, -0.19033845162496482]}, {\"customdata\": [[-0.42952398951955795, -0.0995687464447702, 1, \"v_PSB - Before (8828366 A1).wav\", \"circle\", \"#751017\"], [-0.12858100737469516, -0.0277110416436426, 1, \"v_PSB - Before (8828366 A1).wav\", \"circle\", \"#751017\"], [0.24301169094744793, 0.9105325627510047, 1, \"v_PSB - Before (8828366 A1).wav\", \"circle\", \"#751017\"], [0.08419102181153237, -0.0400532810612271, 1, \"v_PSB - Before (8828366 A1).wav\", \"circle\", \"#751017\"], [0.07013294945083313, -0.047670249828299815, 1, \"v_PSB - Before (8828366 A1).wav\", \"circle\", \"#751017\"], [-0.22924285924966206, -0.09803531795906369, 1, \"v_PSB - Before (8828366 A1).wav\", \"circle\", \"#751017\"]], \"hovertemplate\": \"<b>%{customdata[3]}</b><br>(%{x:.3f},%{y:.3f})<extra>%{customdata[2]}</extra>\", \"marker\": {\"color\": [\"#751017\", \"#751017\", \"#751017\", \"#751017\", \"#751017\", \"#751017\"], \"symbol\": [\"circle\", \"circle\", \"circle\", \"circle\", \"circle\", \"circle\"]}, \"mode\": \"markers\", \"name\": \"36\", \"text\": [\"v_PSB - Before (8828366 A1).wav\", \"v_PSB - Before (8828366 A1).wav\", \"v_PSB - Before (8828366 A1).wav\", \"v_PSB - Before (8828366 A1).wav\", \"v_PSB - Before (8828366 A1).wav\", \"v_PSB - Before (8828366 A1).wav\"], \"type\": \"scatter\", \"x\": [-0.42952398951955795, -0.12858100737469516, 0.24301169094744793, 0.08419102181153237, 0.07013294945083313, -0.22924285924966206], \"y\": [-0.0995687464447702, -0.0277110416436426, 0.9105325627510047, -0.0400532810612271, -0.047670249828299815, -0.09803531795906369]}, {\"customdata\": [[-0.031162613436728333, 0.3191598725754393, 2, \"v_PSB - Before (8828366 A2).wav\", \"circle\", \"#48a832\"], [-0.26344063425144054, -0.25312444732017336, 2, \"v_PSB - Before (8828366 A2).wav\", \"circle\", \"#48a832\"], [0.13897285824326935, 0.6714214337811764, 2, \"v_PSB - Before (8828366 A2).wav\", \"circle\", \"#48a832\"], [-0.3943027776389443, -0.13981494552399187, 2, \"v_PSB - Before (8828366 A2).wav\", \"circle\", \"#48a832\"], [0.20189554094678427, -0.21688264506288807, 2, \"v_PSB - Before (8828366 A2).wav\", \"circle\", \"#48a832\"], [-0.5949700437891564, 0.11970076991181455, 2, \"v_PSB - Before (8828366 A2).wav\", \"circle\", \"#48a832\"], [0.09168660261483967, -0.06262632321943687, 2, \"v_PSB - Before (8828366 A2).wav\", \"circle\", \"#48a832\"], [0.19707721975130962, 0.5755625657743229, 2, \"v_PSB - Before (8828366 A2).wav\", \"circle\", \"#48a832\"], [0.004573431087676164, -0.028880685266146698, 2, \"v_PSB - Before (8828366 A2).wav\", \"circle\", \"#48a832\"], [-0.0627572777589301, 0.2728601531025858, 2, \"v_PSB - Before (8828366 A2).wav\", \"circle\", \"#48a832\"], [0.16184496044726865, -0.2242371585810977, 2, \"v_PSB - Before (8828366 A2).wav\", \"circle\", \"#48a832\"], [0.1390951438399337, 0.5560616764518026, 2, \"v_PSB - Before (8828366 A2).wav\", \"circle\", \"#48a832\"], [0.014122867479651718, -0.11166044236798975, 2, \"v_PSB - Before (8828366 A2).wav\", \"circle\", \"#48a832\"], [0.12969861242792788, -0.014756140030522736, 2, \"v_PSB - Before (8828366 A2).wav\", \"circle\", \"#48a832\"]], \"hovertemplate\": \"<b>%{customdata[3]}</b><br>(%{x:.3f},%{y:.3f})<extra>%{customdata[2]}</extra>\", \"marker\": {\"color\": [\"#48a832\", \"#48a832\", \"#48a832\", \"#48a832\", \"#48a832\", \"#48a832\", \"#48a832\", \"#48a832\", \"#48a832\", \"#48a832\", \"#48a832\", \"#48a832\", \"#48a832\", \"#48a832\"], \"symbol\": [\"circle\", \"circle\", \"circle\", \"circle\", \"circle\", \"circle\", \"circle\", \"circle\", \"circle\", \"circle\", \"circle\", \"circle\", \"circle\", \"circle\"]}, \"mode\": \"markers\", \"name\": \"37\", \"text\": [\"v_PSB - Before (8828366 A2).wav\", \"v_PSB - Before (8828366 A2).wav\", \"v_PSB - Before (8828366 A2).wav\", \"v_PSB - Before (8828366 A2).wav\", \"v_PSB - Before (8828366 A2).wav\", \"v_PSB - Before (8828366 A2).wav\", \"v_PSB - Before (8828366 A2).wav\", \"v_PSB - Before (8828366 A2).wav\", \"v_PSB - Before (8828366 A2).wav\", \"v_PSB - Before (8828366 A2).wav\", \"v_PSB - Before (8828366 A2).wav\", \"v_PSB - Before (8828366 A2).wav\", \"v_PSB - Before (8828366 A2).wav\", \"v_PSB - Before (8828366 A2).wav\"], \"type\": \"scatter\", \"x\": [-0.031162613436728333, -0.26344063425144054, 0.13897285824326935, -0.3943027776389443, 0.20189554094678427, -0.5949700437891564, 0.09168660261483967, 0.19707721975130962, 0.004573431087676164, -0.0627572777589301, 0.16184496044726865, 0.1390951438399337, 0.014122867479651718, 0.12969861242792788], \"y\": [0.3191598725754393, -0.25312444732017336, 0.6714214337811764, -0.13981494552399187, -0.21688264506288807, 0.11970076991181455, -0.06262632321943687, 0.5755625657743229, -0.028880685266146698, 0.2728601531025858, -0.2242371585810977, 0.5560616764518026, -0.11166044236798975, -0.014756140030522736]}, {\"customdata\": [[-0.0323651871580174, 0.0017063333208224797, 0, \"v_PSB - Before (8828366 A3).wav\", \"circle\", \"#0044FF\"], [0.3195111231460485, -0.13223472496132516, 0, \"v_PSB - Before (8828366 A3).wav\", \"circle\", \"#0044FF\"], [0.6167595126626045, -0.18908919059684734, 0, \"v_PSB - Before (8828366 A3).wav\", \"circle\", \"#0044FF\"], [0.28753974493667733, 0.02311488164349225, 0, \"v_PSB - Before (8828366 A3).wav\", \"circle\", \"#0044FF\"], [0.21340667083617035, -0.3959141157420796, 0, \"v_PSB - Before (8828366 A3).wav\", \"circle\", \"#0044FF\"], [0.05117276900366259, 0.3532299222258789, 0, \"v_PSB - Before (8828366 A3).wav\", \"circle\", \"#0044FF\"], [-0.11432873884250508, -0.0711200287629308, 0, \"v_PSB - Before (8828366 A3).wav\", \"circle\", \"#0044FF\"], [-0.09899922656738987, 0.13386572913374484, 0, \"v_PSB - Before (8828366 A3).wav\", \"circle\", \"#0044FF\"], [0.4399212791741547, -0.23119553316484584, 0, \"v_PSB - Before (8828366 A3).wav\", \"circle\", \"#0044FF\"], [0.13985078222644237, 0.3620805377197365, 0, \"v_PSB - Before (8828366 A3).wav\", \"circle\", \"#0044FF\"]], \"hovertemplate\": \"<b>%{customdata[3]}</b><br>(%{x:.3f},%{y:.3f})<extra>%{customdata[2]}</extra>\", \"marker\": {\"color\": [\"#0044FF\", \"#0044FF\", \"#0044FF\", \"#0044FF\", \"#0044FF\", \"#0044FF\", \"#0044FF\", \"#0044FF\", \"#0044FF\", \"#0044FF\"], \"symbol\": [\"circle\", \"circle\", \"circle\", \"circle\", \"circle\", \"circle\", \"circle\", \"circle\", \"circle\", \"circle\"]}, \"mode\": \"markers\", \"name\": \"38\", \"text\": [\"v_PSB - Before (8828366 A3).wav\", \"v_PSB - Before (8828366 A3).wav\", \"v_PSB - Before (8828366 A3).wav\", \"v_PSB - Before (8828366 A3).wav\", \"v_PSB - Before (8828366 A3).wav\", \"v_PSB - Before (8828366 A3).wav\", \"v_PSB - Before (8828366 A3).wav\", \"v_PSB - Before (8828366 A3).wav\", \"v_PSB - Before (8828366 A3).wav\", \"v_PSB - Before (8828366 A3).wav\"], \"type\": \"scatter\", \"x\": [-0.0323651871580174, 0.3195111231460485, 0.6167595126626045, 0.28753974493667733, 0.21340667083617035, 0.05117276900366259, -0.11432873884250508, -0.09899922656738987, 0.4399212791741547, 0.13985078222644237], \"y\": [0.0017063333208224797, -0.13223472496132516, -0.18908919059684734, 0.02311488164349225, -0.3959141157420796, 0.3532299222258789, -0.0711200287629308, 0.13386572913374484, -0.23119553316484584, 0.3620805377197365]}, {\"customdata\": [[-0.19361932273599328, 0.21637246588335315, 0, \"v_PSB - Before (8828366 B1).wav\", \"circle\", \"#0044FF\"], [-0.16674290715418946, 0.31917637237329355, 0, \"v_PSB - Before (8828366 B1).wav\", \"circle\", \"#0044FF\"], [0.01284848244153835, -0.23090906561152766, 0, \"v_PSB - Before (8828366 B1).wav\", \"circle\", \"#0044FF\"], [0.25618212559829834, -0.28205108216717106, 0, \"v_PSB - Before (8828366 B1).wav\", \"circle\", \"#0044FF\"], [0.21661852966619025, -0.18713619257367148, 0, \"v_PSB - Before (8828366 B1).wav\", \"circle\", \"#0044FF\"], [0.23847543902787818, -0.17402810173300878, 0, \"v_PSB - Before (8828366 B1).wav\", \"circle\", \"#0044FF\"], [0.5102014718450573, 0.691466048208386, 0, \"v_PSB - Before (8828366 B1).wav\", \"circle\", \"#0044FF\"], [0.6325426711715058, 0.4080949859197196, 0, \"v_PSB - Before (8828366 B1).wav\", \"circle\", \"#0044FF\"], [-0.052712581965711956, -0.08508234154015724, 0, \"v_PSB - Before (8828366 B1).wav\", \"circle\", \"#0044FF\"], [0.00036067394178052276, -0.10122751305110249, 0, \"v_PSB - Before (8828366 B1).wav\", \"circle\", \"#0044FF\"]], \"hovertemplate\": \"<b>%{customdata[3]}</b><br>(%{x:.3f},%{y:.3f})<extra>%{customdata[2]}</extra>\", \"marker\": {\"color\": [\"#0044FF\", \"#0044FF\", \"#0044FF\", \"#0044FF\", \"#0044FF\", \"#0044FF\", \"#0044FF\", \"#0044FF\", \"#0044FF\", \"#0044FF\"], \"symbol\": [\"circle\", \"circle\", \"circle\", \"circle\", \"circle\", \"circle\", \"circle\", \"circle\", \"circle\", \"circle\"]}, \"mode\": \"markers\", \"name\": \"39\", \"text\": [\"v_PSB - Before (8828366 B1).wav\", \"v_PSB - Before (8828366 B1).wav\", \"v_PSB - Before (8828366 B1).wav\", \"v_PSB - Before (8828366 B1).wav\", \"v_PSB - Before (8828366 B1).wav\", \"v_PSB - Before (8828366 B1).wav\", \"v_PSB - Before (8828366 B1).wav\", \"v_PSB - Before (8828366 B1).wav\", \"v_PSB - Before (8828366 B1).wav\", \"v_PSB - Before (8828366 B1).wav\"], \"type\": \"scatter\", \"x\": [-0.19361932273599328, -0.16674290715418946, 0.01284848244153835, 0.25618212559829834, 0.21661852966619025, 0.23847543902787818, 0.5102014718450573, 0.6325426711715058, -0.052712581965711956, 0.00036067394178052276], \"y\": [0.21637246588335315, 0.31917637237329355, -0.23090906561152766, -0.28205108216717106, -0.18713619257367148, -0.17402810173300878, 0.691466048208386, 0.4080949859197196, -0.08508234154015724, -0.10122751305110249]}, {\"customdata\": [[0.021184620548562516, 0.6149617021928542, 2, \"v_PSB - Before (8828366 B2).wav\", \"circle\", \"#48a832\"], [-0.22753995528911636, -0.03824074764801717, 2, \"v_PSB - Before (8828366 B2).wav\", \"circle\", \"#48a832\"], [-0.6327202987542081, 0.27892556080934017, 2, \"v_PSB - Before (8828366 B2).wav\", \"circle\", \"#48a832\"], [0.10503866025604038, -0.04655777438270579, 2, \"v_PSB - Before (8828366 B2).wav\", \"circle\", \"#48a832\"], [-0.7828762578791912, 0.3592079898636574, 2, \"v_PSB - Before (8828366 B2).wav\", \"circle\", \"#48a832\"], [-0.11593087216702547, -0.012318424315153313, 2, \"v_PSB - Before (8828366 B2).wav\", \"circle\", \"#48a832\"], [0.42845254781788056, -0.43087234068286395, 2, \"v_PSB - Before (8828366 B2).wav\", \"circle\", \"#48a832\"], [0.2693629481729273, -0.31133539904781415, 2, \"v_PSB - Before (8828366 B2).wav\", \"circle\", \"#48a832\"], [-0.3395103799840513, -0.1648088799090861, 2, \"v_PSB - Before (8828366 B2).wav\", \"circle\", \"#48a832\"], [0.19259703772404038, -0.18455156700582212, 2, \"v_PSB - Before (8828366 B2).wav\", \"circle\", \"#48a832\"], [-0.01510601798735698, -0.060076812461145476, 2, \"v_PSB - Before (8828366 B2).wav\", \"circle\", \"#48a832\"], [0.0334859790807653, 0.6680771302954364, 2, \"v_PSB - Before (8828366 B2).wav\", \"circle\", \"#48a832\"], [-0.030624113598497725, 0.04390878496987011, 2, \"v_PSB - Before (8828366 B2).wav\", \"circle\", \"#48a832\"], [-0.0625697509675153, 0.04062020705113608, 2, \"v_PSB - Before (8828366 B2).wav\", \"circle\", \"#48a832\"]], \"hovertemplate\": \"<b>%{customdata[3]}</b><br>(%{x:.3f},%{y:.3f})<extra>%{customdata[2]}</extra>\", \"marker\": {\"color\": [\"#48a832\", \"#48a832\", \"#48a832\", \"#48a832\", \"#48a832\", \"#48a832\", \"#48a832\", \"#48a832\", \"#48a832\", \"#48a832\", \"#48a832\", \"#48a832\", \"#48a832\", \"#48a832\"], \"symbol\": [\"circle\", \"circle\", \"circle\", \"circle\", \"circle\", \"circle\", \"circle\", \"circle\", \"circle\", \"circle\", \"circle\", \"circle\", \"circle\", \"circle\"]}, \"mode\": \"markers\", \"name\": \"40\", \"text\": [\"v_PSB - Before (8828366 B2).wav\", \"v_PSB - Before (8828366 B2).wav\", \"v_PSB - Before (8828366 B2).wav\", \"v_PSB - Before (8828366 B2).wav\", \"v_PSB - Before (8828366 B2).wav\", \"v_PSB - Before (8828366 B2).wav\", \"v_PSB - Before (8828366 B2).wav\", \"v_PSB - Before (8828366 B2).wav\", \"v_PSB - Before (8828366 B2).wav\", \"v_PSB - Before (8828366 B2).wav\", \"v_PSB - Before (8828366 B2).wav\", \"v_PSB - Before (8828366 B2).wav\", \"v_PSB - Before (8828366 B2).wav\", \"v_PSB - Before (8828366 B2).wav\"], \"type\": \"scatter\", \"x\": [0.021184620548562516, -0.22753995528911636, -0.6327202987542081, 0.10503866025604038, -0.7828762578791912, -0.11593087216702547, 0.42845254781788056, 0.2693629481729273, -0.3395103799840513, 0.19259703772404038, -0.01510601798735698, 0.0334859790807653, -0.030624113598497725, -0.0625697509675153], \"y\": [0.6149617021928542, -0.03824074764801717, 0.27892556080934017, -0.04655777438270579, 0.3592079898636574, -0.012318424315153313, -0.43087234068286395, -0.31133539904781415, -0.1648088799090861, -0.18455156700582212, -0.060076812461145476, 0.6680771302954364, 0.04390878496987011, 0.04062020705113608]}, {\"customdata\": [[-0.24426895977772756, 0.1770510959253241, 1, \"v_PSB - Before (8828366 B3).wav\", \"circle\", \"#751017\"], [0.07610393984427116, -0.078812895712906, 1, \"v_PSB - Before (8828366 B3).wav\", \"circle\", \"#751017\"], [0.40972372607971824, -0.04463485250469762, 1, \"v_PSB - Before (8828366 B3).wav\", \"circle\", \"#751017\"], [0.162105531903977, -0.05616886222337274, 1, \"v_PSB - Before (8828366 B3).wav\", \"circle\", \"#751017\"], [-0.13922510022415494, 0.13630872168010624, 1, \"v_PSB - Before (8828366 B3).wav\", \"circle\", \"#751017\"], [0.14500054435546528, -0.0845439488052846, 1, \"v_PSB - Before (8828366 B3).wav\", \"circle\", \"#751017\"], [0.09992306611957008, -0.044762211240735435, 1, \"v_PSB - Before (8828366 B3).wav\", \"circle\", \"#751017\"]], \"hovertemplate\": \"<b>%{customdata[3]}</b><br>(%{x:.3f},%{y:.3f})<extra>%{customdata[2]}</extra>\", \"marker\": {\"color\": [\"#751017\", \"#751017\", \"#751017\", \"#751017\", \"#751017\", \"#751017\", \"#751017\"], \"symbol\": [\"circle\", \"circle\", \"circle\", \"circle\", \"circle\", \"circle\", \"circle\"]}, \"mode\": \"markers\", \"name\": \"41\", \"text\": [\"v_PSB - Before (8828366 B3).wav\", \"v_PSB - Before (8828366 B3).wav\", \"v_PSB - Before (8828366 B3).wav\", \"v_PSB - Before (8828366 B3).wav\", \"v_PSB - Before (8828366 B3).wav\", \"v_PSB - Before (8828366 B3).wav\", \"v_PSB - Before (8828366 B3).wav\"], \"type\": \"scatter\", \"x\": [-0.24426895977772756, 0.07610393984427116, 0.40972372607971824, 0.162105531903977, -0.13922510022415494, 0.14500054435546528, 0.09992306611957008], \"y\": [0.1770510959253241, -0.078812895712906, -0.04463485250469762, -0.05616886222337274, 0.13630872168010624, -0.0845439488052846, -0.044762211240735435]}, {\"customdata\": [[-0.016324750731792608, -0.11322532778691391, 1, \"v_PSB - Before (RLH 6443 B).wav\", \"circle\", \"#751017\"], [-0.3434145251911196, -0.20099497762557533, 1, \"v_PSB - Before (RLH 6443 B).wav\", \"circle\", \"#751017\"], [0.08243086191551378, 0.05334865981647178, 1, \"v_PSB - Before (RLH 6443 B).wav\", \"circle\", \"#751017\"], [0.9474628560547054, 0.35023932904984045, 1, \"v_PSB - Before (RLH 6443 B).wav\", \"circle\", \"#751017\"], [0.09348196487404355, -0.0586386821041698, 1, \"v_PSB - Before (RLH 6443 B).wav\", \"circle\", \"#751017\"], [-0.25635449523437354, -0.11317092710514286, 1, \"v_PSB - Before (RLH 6443 B).wav\", \"circle\", \"#751017\"]], \"hovertemplate\": \"<b>%{customdata[3]}</b><br>(%{x:.3f},%{y:.3f})<extra>%{customdata[2]}</extra>\", \"marker\": {\"color\": [\"#751017\", \"#751017\", \"#751017\", \"#751017\", \"#751017\", \"#751017\"], \"symbol\": [\"circle\", \"circle\", \"circle\", \"circle\", \"circle\", \"circle\"]}, \"mode\": \"markers\", \"name\": \"42\", \"text\": [\"v_PSB - Before (RLH 6443 B).wav\", \"v_PSB - Before (RLH 6443 B).wav\", \"v_PSB - Before (RLH 6443 B).wav\", \"v_PSB - Before (RLH 6443 B).wav\", \"v_PSB - Before (RLH 6443 B).wav\", \"v_PSB - Before (RLH 6443 B).wav\"], \"type\": \"scatter\", \"x\": [-0.016324750731792608, -0.3434145251911196, 0.08243086191551378, 0.9474628560547054, 0.09348196487404355, -0.25635449523437354], \"y\": [-0.11322532778691391, -0.20099497762557533, 0.05334865981647178, 0.35023932904984045, -0.0586386821041698, -0.11317092710514286]}, {\"customdata\": [[0.6423377288375383, 0.3047026803038093, 2, \"v_Urban Blues Project pres Michael Procter - Love Don't Live (U.B.P. Classic Mix).wav\", \"circle\", \"#48a832\"], [-0.24932798369537057, -0.363189819591359, 2, \"v_Urban Blues Project pres Michael Procter - Love Don't Live (U.B.P. Classic Mix).wav\", \"circle\", \"#48a832\"], [-0.0712028253624808, -0.014318129459403773, 2, \"v_Urban Blues Project pres Michael Procter - Love Don't Live (U.B.P. Classic Mix).wav\", \"circle\", \"#48a832\"], [-0.006328005316109401, -0.17134841641548565, 2, \"v_Urban Blues Project pres Michael Procter - Love Don't Live (U.B.P. Classic Mix).wav\", \"circle\", \"#48a832\"], [-0.3593560943345944, 0.5489084511263868, 2, \"v_Urban Blues Project pres Michael Procter - Love Don't Live (U.B.P. Classic Mix).wav\", \"circle\", \"#48a832\"], [-0.11113553506945001, 0.04701141750250639, 2, \"v_Urban Blues Project pres Michael Procter - Love Don't Live (U.B.P. Classic Mix).wav\", \"circle\", \"#48a832\"], [0.08071487706019019, -0.25573022124803835, 2, \"v_Urban Blues Project pres Michael Procter - Love Don't Live (U.B.P. Classic Mix).wav\", \"circle\", \"#48a832\"], [0.1355643435835923, -0.15016519636903508, 2, \"v_Urban Blues Project pres Michael Procter - Love Don't Live (U.B.P. Classic Mix).wav\", \"circle\", \"#48a832\"], [-0.37967977085188365, -0.10006898692133154, 2, \"v_Urban Blues Project pres Michael Procter - Love Don't Live (U.B.P. Classic Mix).wav\", \"circle\", \"#48a832\"], [-0.10513489410032917, 0.3616301088166573, 2, \"v_Urban Blues Project pres Michael Procter - Love Don't Live (U.B.P. Classic Mix).wav\", \"circle\", \"#48a832\"], [-0.19492051397344218, 0.046402873812068944, 2, \"v_Urban Blues Project pres Michael Procter - Love Don't Live (U.B.P. Classic Mix).wav\", \"circle\", \"#48a832\"], [-0.05488877895171921, -0.1147856782038075, 2, \"v_Urban Blues Project pres Michael Procter - Love Don't Live (U.B.P. Classic Mix).wav\", \"circle\", \"#48a832\"]], \"hovertemplate\": \"<b>%{customdata[3]}</b><br>(%{x:.3f},%{y:.3f})<extra>%{customdata[2]}</extra>\", \"marker\": {\"color\": [\"#48a832\", \"#48a832\", \"#48a832\", \"#48a832\", \"#48a832\", \"#48a832\", \"#48a832\", \"#48a832\", \"#48a832\", \"#48a832\", \"#48a832\", \"#48a832\"], \"symbol\": [\"circle\", \"circle\", \"circle\", \"circle\", \"circle\", \"circle\", \"circle\", \"circle\", \"circle\", \"circle\", \"circle\", \"circle\"]}, \"mode\": \"markers\", \"name\": \"43\", \"text\": [\"v_Urban Blues Project pres Michael Procter - Love Don't Live (U.B.P. Classic Mix).wav\", \"v_Urban Blues Project pres Michael Procter - Love Don't Live (U.B.P. Classic Mix).wav\", \"v_Urban Blues Project pres Michael Procter - Love Don't Live (U.B.P. Classic Mix).wav\", \"v_Urban Blues Project pres Michael Procter - Love Don't Live (U.B.P. Classic Mix).wav\", \"v_Urban Blues Project pres Michael Procter - Love Don't Live (U.B.P. Classic Mix).wav\", \"v_Urban Blues Project pres Michael Procter - Love Don't Live (U.B.P. Classic Mix).wav\", \"v_Urban Blues Project pres Michael Procter - Love Don't Live (U.B.P. Classic Mix).wav\", \"v_Urban Blues Project pres Michael Procter - Love Don't Live (U.B.P. Classic Mix).wav\", \"v_Urban Blues Project pres Michael Procter - Love Don't Live (U.B.P. Classic Mix).wav\", \"v_Urban Blues Project pres Michael Procter - Love Don't Live (U.B.P. Classic Mix).wav\", \"v_Urban Blues Project pres Michael Procter - Love Don't Live (U.B.P. Classic Mix).wav\", \"v_Urban Blues Project pres Michael Procter - Love Don't Live (U.B.P. Classic Mix).wav\"], \"type\": \"scatter\", \"x\": [0.6423377288375383, -0.24932798369537057, -0.0712028253624808, -0.006328005316109401, -0.3593560943345944, -0.11113553506945001, 0.08071487706019019, 0.1355643435835923, -0.37967977085188365, -0.10513489410032917, -0.19492051397344218, -0.05488877895171921], \"y\": [0.3047026803038093, -0.363189819591359, -0.014318129459403773, -0.17134841641548565, 0.5489084511263868, 0.04701141750250639, -0.25573022124803835, -0.15016519636903508, -0.10006898692133154, 0.3616301088166573, 0.046402873812068944, -0.1147856782038075]}, {\"customdata\": [[-0.33929015178592276, -0.1960599837998216, 0, \"v_Urban Blues Project pres. Michael Procter - Love Don't Live (Accapella).wav\", \"circle\", \"#0044FF\"], [0.3454601131543817, -0.08927068429739449, 0, \"v_Urban Blues Project pres. Michael Procter - Love Don't Live (Accapella).wav\", \"circle\", \"#0044FF\"], [-0.0003990598805198979, 0.5459607202313869, 0, \"v_Urban Blues Project pres. Michael Procter - Love Don't Live (Accapella).wav\", \"circle\", \"#0044FF\"], [0.09469164726132304, 0.06675209033804007, 0, \"v_Urban Blues Project pres. Michael Procter - Love Don't Live (Accapella).wav\", \"circle\", \"#0044FF\"]], \"hovertemplate\": \"<b>%{customdata[3]}</b><br>(%{x:.3f},%{y:.3f})<extra>%{customdata[2]}</extra>\", \"marker\": {\"color\": [\"#0044FF\", \"#0044FF\", \"#0044FF\", \"#0044FF\"], \"symbol\": [\"circle\", \"circle\", \"circle\", \"circle\"]}, \"mode\": \"markers\", \"name\": \"44\", \"text\": [\"v_Urban Blues Project pres. Michael Procter - Love Don't Live (Accapella).wav\", \"v_Urban Blues Project pres. Michael Procter - Love Don't Live (Accapella).wav\", \"v_Urban Blues Project pres. Michael Procter - Love Don't Live (Accapella).wav\", \"v_Urban Blues Project pres. Michael Procter - Love Don't Live (Accapella).wav\"], \"type\": \"scatter\", \"x\": [-0.33929015178592276, 0.3454601131543817, -0.0003990598805198979, 0.09469164726132304], \"y\": [-0.1960599837998216, -0.08927068429739449, 0.5459607202313869, 0.06675209033804007]}, {\"customdata\": [[-0.5322089256454587, -0.29231558152458154, 1, \"v_Urban Blues Project pres. Michael Procter - Love Don't Live (CJ Hard Dub).wav\", \"circle\", \"#751017\"], [-0.023652348846751905, 0.3830505893138007, 1, \"v_Urban Blues Project pres. Michael Procter - Love Don't Live (CJ Hard Dub).wav\", \"circle\", \"#751017\"], [0.05389356630386017, -0.03960710312372674, 1, \"v_Urban Blues Project pres. Michael Procter - Love Don't Live (CJ Hard Dub).wav\", \"circle\", \"#751017\"], [0.6171465449594445, 0.20749304217034933, 1, \"v_Urban Blues Project pres. Michael Procter - Love Don't Live (CJ Hard Dub).wav\", \"circle\", \"#751017\"], [0.1294793572935748, -0.03143001699846415, 1, \"v_Urban Blues Project pres. Michael Procter - Love Don't Live (CJ Hard Dub).wav\", \"circle\", \"#751017\"], [-0.05303389457739426, 0.02289754954798861, 1, \"v_Urban Blues Project pres. Michael Procter - Love Don't Live (CJ Hard Dub).wav\", \"circle\", \"#751017\"], [-0.31138365442357774, 0.36668227986776764, 1, \"v_Urban Blues Project pres. Michael Procter - Love Don't Live (CJ Hard Dub).wav\", \"circle\", \"#751017\"], [0.09053836628276808, -0.2788503891046117, 1, \"v_Urban Blues Project pres. Michael Procter - Love Don't Live (CJ Hard Dub).wav\", \"circle\", \"#751017\"], [-0.15873803995787839, 0.06939785884651081, 1, \"v_Urban Blues Project pres. Michael Procter - Love Don't Live (CJ Hard Dub).wav\", \"circle\", \"#751017\"], [-0.3910574053058064, -0.03798594263743518, 1, \"v_Urban Blues Project pres. Michael Procter - Love Don't Live (CJ Hard Dub).wav\", \"circle\", \"#751017\"]], \"hovertemplate\": \"<b>%{customdata[3]}</b><br>(%{x:.3f},%{y:.3f})<extra>%{customdata[2]}</extra>\", \"marker\": {\"color\": [\"#751017\", \"#751017\", \"#751017\", \"#751017\", \"#751017\", \"#751017\", \"#751017\", \"#751017\", \"#751017\", \"#751017\"], \"symbol\": [\"circle\", \"circle\", \"circle\", \"circle\", \"circle\", \"circle\", \"circle\", \"circle\", \"circle\", \"circle\"]}, \"mode\": \"markers\", \"name\": \"45\", \"text\": [\"v_Urban Blues Project pres. Michael Procter - Love Don't Live (CJ Hard Dub).wav\", \"v_Urban Blues Project pres. Michael Procter - Love Don't Live (CJ Hard Dub).wav\", \"v_Urban Blues Project pres. Michael Procter - Love Don't Live (CJ Hard Dub).wav\", \"v_Urban Blues Project pres. Michael Procter - Love Don't Live (CJ Hard Dub).wav\", \"v_Urban Blues Project pres. Michael Procter - Love Don't Live (CJ Hard Dub).wav\", \"v_Urban Blues Project pres. Michael Procter - Love Don't Live (CJ Hard Dub).wav\", \"v_Urban Blues Project pres. Michael Procter - Love Don't Live (CJ Hard Dub).wav\", \"v_Urban Blues Project pres. Michael Procter - Love Don't Live (CJ Hard Dub).wav\", \"v_Urban Blues Project pres. Michael Procter - Love Don't Live (CJ Hard Dub).wav\", \"v_Urban Blues Project pres. Michael Procter - Love Don't Live (CJ Hard Dub).wav\"], \"type\": \"scatter\", \"x\": [-0.5322089256454587, -0.023652348846751905, 0.05389356630386017, 0.6171465449594445, 0.1294793572935748, -0.05303389457739426, -0.31138365442357774, 0.09053836628276808, -0.15873803995787839, -0.3910574053058064], \"y\": [-0.29231558152458154, 0.3830505893138007, -0.03960710312372674, 0.20749304217034933, -0.03143001699846415, 0.02289754954798861, 0.36668227986776764, -0.2788503891046117, 0.06939785884651081, -0.03798594263743518]}, {\"customdata\": [[-0.12044325374435168, 0.09056619655733951, 0, \"v_Urban Blues Project pres. Michael Procter - Love Don't Live (CJ Hard Vocal).wav\", \"circle\", \"#0044FF\"], [-0.1359305494857082, -0.033374978652948216, 0, \"v_Urban Blues Project pres. Michael Procter - Love Don't Live (CJ Hard Vocal).wav\", \"circle\", \"#0044FF\"], [-0.29753908520784283, 0.4584689977912625, 0, \"v_Urban Blues Project pres. Michael Procter - Love Don't Live (CJ Hard Vocal).wav\", \"circle\", \"#0044FF\"], [-0.37640030593986584, 0.3453542562735927, 0, \"v_Urban Blues Project pres. Michael Procter - Love Don't Live (CJ Hard Vocal).wav\", \"circle\", \"#0044FF\"], [-0.16713920317673767, 0.4293066272572647, 0, \"v_Urban Blues Project pres. Michael Procter - Love Don't Live (CJ Hard Vocal).wav\", \"circle\", \"#0044FF\"], [-0.2046773214490954, 0.0832213677054477, 0, \"v_Urban Blues Project pres. Michael Procter - Love Don't Live (CJ Hard Vocal).wav\", \"circle\", \"#0044FF\"], [0.6072635906939139, -0.2928752220146559, 0, \"v_Urban Blues Project pres. Michael Procter - Love Don't Live (CJ Hard Vocal).wav\", \"circle\", \"#0044FF\"], [-0.6605074171555994, -0.13533765958252283, 0, \"v_Urban Blues Project pres. Michael Procter - Love Don't Live (CJ Hard Vocal).wav\", \"circle\", \"#0044FF\"], [-0.1466907891467821, -0.03613224524940952, 0, \"v_Urban Blues Project pres. Michael Procter - Love Don't Live (CJ Hard Vocal).wav\", \"circle\", \"#0044FF\"], [0.41908899647330533, 0.3225542011444245, 0, \"v_Urban Blues Project pres. Michael Procter - Love Don't Live (CJ Hard Vocal).wav\", \"circle\", \"#0044FF\"]], \"hovertemplate\": \"<b>%{customdata[3]}</b><br>(%{x:.3f},%{y:.3f})<extra>%{customdata[2]}</extra>\", \"marker\": {\"color\": [\"#0044FF\", \"#0044FF\", \"#0044FF\", \"#0044FF\", \"#0044FF\", \"#0044FF\", \"#0044FF\", \"#0044FF\", \"#0044FF\", \"#0044FF\"], \"symbol\": [\"circle\", \"circle\", \"circle\", \"circle\", \"circle\", \"circle\", \"circle\", \"circle\", \"circle\", \"circle\"]}, \"mode\": \"markers\", \"name\": \"46\", \"text\": [\"v_Urban Blues Project pres. Michael Procter - Love Don't Live (CJ Hard Vocal).wav\", \"v_Urban Blues Project pres. Michael Procter - Love Don't Live (CJ Hard Vocal).wav\", \"v_Urban Blues Project pres. Michael Procter - Love Don't Live (CJ Hard Vocal).wav\", \"v_Urban Blues Project pres. Michael Procter - Love Don't Live (CJ Hard Vocal).wav\", \"v_Urban Blues Project pres. Michael Procter - Love Don't Live (CJ Hard Vocal).wav\", \"v_Urban Blues Project pres. Michael Procter - Love Don't Live (CJ Hard Vocal).wav\", \"v_Urban Blues Project pres. Michael Procter - Love Don't Live (CJ Hard Vocal).wav\", \"v_Urban Blues Project pres. Michael Procter - Love Don't Live (CJ Hard Vocal).wav\", \"v_Urban Blues Project pres. Michael Procter - Love Don't Live (CJ Hard Vocal).wav\", \"v_Urban Blues Project pres. Michael Procter - Love Don't Live (CJ Hard Vocal).wav\"], \"type\": \"scatter\", \"x\": [-0.12044325374435168, -0.1359305494857082, -0.29753908520784283, -0.37640030593986584, -0.16713920317673767, -0.2046773214490954, 0.6072635906939139, -0.6605074171555994, -0.1466907891467821, 0.41908899647330533], \"y\": [0.09056619655733951, -0.033374978652948216, 0.4584689977912625, 0.3453542562735927, 0.4293066272572647, 0.0832213677054477, -0.2928752220146559, -0.13533765958252283, -0.03613224524940952, 0.3225542011444245]}, {\"customdata\": [[0.4406707080226027, -0.32864510263571095, 1, \"v_Urban Blues Project pres. Michael Procter - Love Don't Live (Cosmack Mix).wav\", \"circle\", \"#751017\"], [-0.16552541431050044, 0.03748522613480284, 1, \"v_Urban Blues Project pres. Michael Procter - Love Don't Live (Cosmack Mix).wav\", \"circle\", \"#751017\"], [0.1667178785909158, -0.18346414505194814, 1, \"v_Urban Blues Project pres. Michael Procter - Love Don't Live (Cosmack Mix).wav\", \"circle\", \"#751017\"], [-0.07774418942697663, -0.1416131328390971, 1, \"v_Urban Blues Project pres. Michael Procter - Love Don't Live (Cosmack Mix).wav\", \"circle\", \"#751017\"], [0.213216651630227, 0.021686131732233133, 1, \"v_Urban Blues Project pres. Michael Procter - Love Don't Live (Cosmack Mix).wav\", \"circle\", \"#751017\"], [0.1712662414924994, -0.019855647938284232, 1, \"v_Urban Blues Project pres. Michael Procter - Love Don't Live (Cosmack Mix).wav\", \"circle\", \"#751017\"], [-0.06222760518151836, 0.009186992900298181, 1, \"v_Urban Blues Project pres. Michael Procter - Love Don't Live (Cosmack Mix).wav\", \"circle\", \"#751017\"], [-0.05383383142035127, -0.11365751163058531, 1, \"v_Urban Blues Project pres. Michael Procter - Love Don't Live (Cosmack Mix).wav\", \"circle\", \"#751017\"], [-0.14889674419566196, 0.2719583983014013, 1, \"v_Urban Blues Project pres. Michael Procter - Love Don't Live (Cosmack Mix).wav\", \"circle\", \"#751017\"], [0.02100199552339897, 0.16945725065686104, 1, \"v_Urban Blues Project pres. Michael Procter - Love Don't Live (Cosmack Mix).wav\", \"circle\", \"#751017\"], [0.062027400689224105, -0.06450695505733178, 1, \"v_Urban Blues Project pres. Michael Procter - Love Don't Live (Cosmack Mix).wav\", \"circle\", \"#751017\"], [-0.16789330053067078, -0.12948039802086458, 1, \"v_Urban Blues Project pres. Michael Procter - Love Don't Live (Cosmack Mix).wav\", \"circle\", \"#751017\"]], \"hovertemplate\": \"<b>%{customdata[3]}</b><br>(%{x:.3f},%{y:.3f})<extra>%{customdata[2]}</extra>\", \"marker\": {\"color\": [\"#751017\", \"#751017\", \"#751017\", \"#751017\", \"#751017\", \"#751017\", \"#751017\", \"#751017\", \"#751017\", \"#751017\", \"#751017\", \"#751017\"], \"symbol\": [\"circle\", \"circle\", \"circle\", \"circle\", \"circle\", \"circle\", \"circle\", \"circle\", \"circle\", \"circle\", \"circle\", \"circle\"]}, \"mode\": \"markers\", \"name\": \"47\", \"text\": [\"v_Urban Blues Project pres. Michael Procter - Love Don't Live (Cosmack Mix).wav\", \"v_Urban Blues Project pres. Michael Procter - Love Don't Live (Cosmack Mix).wav\", \"v_Urban Blues Project pres. Michael Procter - Love Don't Live (Cosmack Mix).wav\", \"v_Urban Blues Project pres. Michael Procter - Love Don't Live (Cosmack Mix).wav\", \"v_Urban Blues Project pres. Michael Procter - Love Don't Live (Cosmack Mix).wav\", \"v_Urban Blues Project pres. Michael Procter - Love Don't Live (Cosmack Mix).wav\", \"v_Urban Blues Project pres. Michael Procter - Love Don't Live (Cosmack Mix).wav\", \"v_Urban Blues Project pres. Michael Procter - Love Don't Live (Cosmack Mix).wav\", \"v_Urban Blues Project pres. Michael Procter - Love Don't Live (Cosmack Mix).wav\", \"v_Urban Blues Project pres. Michael Procter - Love Don't Live (Cosmack Mix).wav\", \"v_Urban Blues Project pres. Michael Procter - Love Don't Live (Cosmack Mix).wav\", \"v_Urban Blues Project pres. Michael Procter - Love Don't Live (Cosmack Mix).wav\"], \"type\": \"scatter\", \"x\": [0.4406707080226027, -0.16552541431050044, 0.1667178785909158, -0.07774418942697663, 0.213216651630227, 0.1712662414924994, -0.06222760518151836, -0.05383383142035127, -0.14889674419566196, 0.02100199552339897, 0.062027400689224105, -0.16789330053067078], \"y\": [-0.32864510263571095, 0.03748522613480284, -0.18346414505194814, -0.1416131328390971, 0.021686131732233133, -0.019855647938284232, 0.009186992900298181, -0.11365751163058531, 0.2719583983014013, 0.16945725065686104, -0.06450695505733178, -0.12948039802086458]}, {\"customdata\": [[0.021002032537996936, -0.03823412436343844, 1, \"v_Urban Blues Project pres. Michael Procter - Love Don't Live (New Birth (Mix) UK Re-Edit).wav\", \"circle\", \"#751017\"], [0.5716864041251467, 0.6573212689106435, 1, \"v_Urban Blues Project pres. Michael Procter - Love Don't Live (New Birth (Mix) UK Re-Edit).wav\", \"circle\", \"#751017\"], [0.2178376018545114, 0.23903546062644074, 1, \"v_Urban Blues Project pres. Michael Procter - Love Don't Live (New Birth (Mix) UK Re-Edit).wav\", \"circle\", \"#751017\"], [-0.5487101585942941, 0.30072243549707584, 1, \"v_Urban Blues Project pres. Michael Procter - Love Don't Live (New Birth (Mix) UK Re-Edit).wav\", \"circle\", \"#751017\"], [-0.17686653475627823, 0.47505408986264963, 1, \"v_Urban Blues Project pres. Michael Procter - Love Don't Live (New Birth (Mix) UK Re-Edit).wav\", \"circle\", \"#751017\"], [-0.038777809389683164, 0.5630847589432487, 1, \"v_Urban Blues Project pres. Michael Procter - Love Don't Live (New Birth (Mix) UK Re-Edit).wav\", \"circle\", \"#751017\"], [-0.16022117775032516, -0.0533663215997248, 1, \"v_Urban Blues Project pres. Michael Procter - Love Don't Live (New Birth (Mix) UK Re-Edit).wav\", \"circle\", \"#751017\"], [0.11333302658743595, -0.2757122382525464, 1, \"v_Urban Blues Project pres. Michael Procter - Love Don't Live (New Birth (Mix) UK Re-Edit).wav\", \"circle\", \"#751017\"], [-0.011100697444363088, -0.10075000767348159, 1, \"v_Urban Blues Project pres. Michael Procter - Love Don't Live (New Birth (Mix) UK Re-Edit).wav\", \"circle\", \"#751017\"], [0.07493568503676526, -0.27860211270207813, 1, \"v_Urban Blues Project pres. Michael Procter - Love Don't Live (New Birth (Mix) UK Re-Edit).wav\", \"circle\", \"#751017\"], [-0.04624016490344128, -0.09146514140407028, 1, \"v_Urban Blues Project pres. Michael Procter - Love Don't Live (New Birth (Mix) UK Re-Edit).wav\", \"circle\", \"#751017\"], [-0.09625219859751606, -0.3906857246282811, 1, \"v_Urban Blues Project pres. Michael Procter - Love Don't Live (New Birth (Mix) UK Re-Edit).wav\", \"circle\", \"#751017\"], [-0.38794388562736243, 0.31403823934284797, 1, \"v_Urban Blues Project pres. Michael Procter - Love Don't Live (New Birth (Mix) UK Re-Edit).wav\", \"circle\", \"#751017\"], [-0.40694300049294685, 0.34873833706590274, 1, \"v_Urban Blues Project pres. Michael Procter - Love Don't Live (New Birth (Mix) UK Re-Edit).wav\", \"circle\", \"#751017\"], [-0.19689022357270075, 0.3184045153598642, 1, \"v_Urban Blues Project pres. Michael Procter - Love Don't Live (New Birth (Mix) UK Re-Edit).wav\", \"circle\", \"#751017\"], [-0.14348824961123008, -0.3687010122117048, 1, \"v_Urban Blues Project pres. Michael Procter - Love Don't Live (New Birth (Mix) UK Re-Edit).wav\", \"circle\", \"#751017\"], [-0.10437567991053037, 0.16127075677893693, 1, \"v_Urban Blues Project pres. Michael Procter - Love Don't Live (New Birth (Mix) UK Re-Edit).wav\", \"circle\", \"#751017\"]], \"hovertemplate\": \"<b>%{customdata[3]}</b><br>(%{x:.3f},%{y:.3f})<extra>%{customdata[2]}</extra>\", \"marker\": {\"color\": [\"#751017\", \"#751017\", \"#751017\", \"#751017\", \"#751017\", \"#751017\", \"#751017\", \"#751017\", \"#751017\", \"#751017\", \"#751017\", \"#751017\", \"#751017\", \"#751017\", \"#751017\", \"#751017\", \"#751017\"], \"symbol\": [\"circle\", \"circle\", \"circle\", \"circle\", \"circle\", \"circle\", \"circle\", \"circle\", \"circle\", \"circle\", \"circle\", \"circle\", \"circle\", \"circle\", \"circle\", \"circle\", \"circle\"]}, \"mode\": \"markers\", \"name\": \"48\", \"text\": [\"v_Urban Blues Project pres. Michael Procter - Love Don't Live (New Birth (Mix) UK Re-Edit).wav\", \"v_Urban Blues Project pres. Michael Procter - Love Don't Live (New Birth (Mix) UK Re-Edit).wav\", \"v_Urban Blues Project pres. Michael Procter - Love Don't Live (New Birth (Mix) UK Re-Edit).wav\", \"v_Urban Blues Project pres. Michael Procter - Love Don't Live (New Birth (Mix) UK Re-Edit).wav\", \"v_Urban Blues Project pres. Michael Procter - Love Don't Live (New Birth (Mix) UK Re-Edit).wav\", \"v_Urban Blues Project pres. Michael Procter - Love Don't Live (New Birth (Mix) UK Re-Edit).wav\", \"v_Urban Blues Project pres. Michael Procter - Love Don't Live (New Birth (Mix) UK Re-Edit).wav\", \"v_Urban Blues Project pres. Michael Procter - Love Don't Live (New Birth (Mix) UK Re-Edit).wav\", \"v_Urban Blues Project pres. Michael Procter - Love Don't Live (New Birth (Mix) UK Re-Edit).wav\", \"v_Urban Blues Project pres. Michael Procter - Love Don't Live (New Birth (Mix) UK Re-Edit).wav\", \"v_Urban Blues Project pres. Michael Procter - Love Don't Live (New Birth (Mix) UK Re-Edit).wav\", \"v_Urban Blues Project pres. Michael Procter - Love Don't Live (New Birth (Mix) UK Re-Edit).wav\", \"v_Urban Blues Project pres. Michael Procter - Love Don't Live (New Birth (Mix) UK Re-Edit).wav\", \"v_Urban Blues Project pres. Michael Procter - Love Don't Live (New Birth (Mix) UK Re-Edit).wav\", \"v_Urban Blues Project pres. Michael Procter - Love Don't Live (New Birth (Mix) UK Re-Edit).wav\", \"v_Urban Blues Project pres. Michael Procter - Love Don't Live (New Birth (Mix) UK Re-Edit).wav\", \"v_Urban Blues Project pres. Michael Procter - Love Don't Live (New Birth (Mix) UK Re-Edit).wav\"], \"type\": \"scatter\", \"x\": [0.021002032537996936, 0.5716864041251467, 0.2178376018545114, -0.5487101585942941, -0.17686653475627823, -0.038777809389683164, -0.16022117775032516, 0.11333302658743595, -0.011100697444363088, 0.07493568503676526, -0.04624016490344128, -0.09625219859751606, -0.38794388562736243, -0.40694300049294685, -0.19689022357270075, -0.14348824961123008, -0.10437567991053037], \"y\": [-0.03823412436343844, 0.6573212689106435, 0.23903546062644074, 0.30072243549707584, 0.47505408986264963, 0.5630847589432487, -0.0533663215997248, -0.2757122382525464, -0.10075000767348159, -0.27860211270207813, -0.09146514140407028, -0.3906857246282811, 0.31403823934284797, 0.34873833706590274, 0.3184045153598642, -0.3687010122117048, 0.16127075677893693]}, {\"customdata\": [[-0.06432688738323886, -0.27286104226741215, 1, \"v_Urban Blues Project pres. Michael Procter - Love Don't Live (Original Vibe Mix).wav\", \"circle\", \"#751017\"], [0.08652940178244854, -0.19024378760730704, 1, \"v_Urban Blues Project pres. Michael Procter - Love Don't Live (Original Vibe Mix).wav\", \"circle\", \"#751017\"], [-0.10160310263327119, 0.41538698186232176, 1, \"v_Urban Blues Project pres. Michael Procter - Love Don't Live (Original Vibe Mix).wav\", \"circle\", \"#751017\"], [0.053022918035172464, 0.007218649847762719, 1, \"v_Urban Blues Project pres. Michael Procter - Love Don't Live (Original Vibe Mix).wav\", \"circle\", \"#751017\"], [0.06888928965458002, -0.1144903104632108, 1, \"v_Urban Blues Project pres. Michael Procter - Love Don't Live (Original Vibe Mix).wav\", \"circle\", \"#751017\"], [-0.7090817359310486, 0.3742228624994008, 1, \"v_Urban Blues Project pres. Michael Procter - Love Don't Live (Original Vibe Mix).wav\", \"circle\", \"#751017\"], [-0.27525246517789775, -0.19440704821356053, 1, \"v_Urban Blues Project pres. Michael Procter - Love Don't Live (Original Vibe Mix).wav\", \"circle\", \"#751017\"], [-0.37952255203234936, 0.47087797689098226, 1, \"v_Urban Blues Project pres. Michael Procter - Love Don't Live (Original Vibe Mix).wav\", \"circle\", \"#751017\"], [0.05037866123647548, -0.14781834231241814, 1, \"v_Urban Blues Project pres. Michael Procter - Love Don't Live (Original Vibe Mix).wav\", \"circle\", \"#751017\"], [0.7478933566218129, 0.8092505385009308, 1, \"v_Urban Blues Project pres. Michael Procter - Love Don't Live (Original Vibe Mix).wav\", \"circle\", \"#751017\"], [-0.0628345422515029, -0.008038905228830457, 1, \"v_Urban Blues Project pres. Michael Procter - Love Don't Live (Original Vibe Mix).wav\", \"circle\", \"#751017\"], [-0.12632683733023056, 0.04455980460500086, 1, \"v_Urban Blues Project pres. Michael Procter - Love Don't Live (Original Vibe Mix).wav\", \"circle\", \"#751017\"], [0.06034594483124085, -0.09377333042374106, 1, \"v_Urban Blues Project pres. Michael Procter - Love Don't Live (Original Vibe Mix).wav\", \"circle\", \"#751017\"]], \"hovertemplate\": \"<b>%{customdata[3]}</b><br>(%{x:.3f},%{y:.3f})<extra>%{customdata[2]}</extra>\", \"marker\": {\"color\": [\"#751017\", \"#751017\", \"#751017\", \"#751017\", \"#751017\", \"#751017\", \"#751017\", \"#751017\", \"#751017\", \"#751017\", \"#751017\", \"#751017\", \"#751017\"], \"symbol\": [\"circle\", \"circle\", \"circle\", \"circle\", \"circle\", \"circle\", \"circle\", \"circle\", \"circle\", \"circle\", \"circle\", \"circle\", \"circle\"]}, \"mode\": \"markers\", \"name\": \"49\", \"text\": [\"v_Urban Blues Project pres. Michael Procter - Love Don't Live (Original Vibe Mix).wav\", \"v_Urban Blues Project pres. Michael Procter - Love Don't Live (Original Vibe Mix).wav\", \"v_Urban Blues Project pres. Michael Procter - Love Don't Live (Original Vibe Mix).wav\", \"v_Urban Blues Project pres. Michael Procter - Love Don't Live (Original Vibe Mix).wav\", \"v_Urban Blues Project pres. Michael Procter - Love Don't Live (Original Vibe Mix).wav\", \"v_Urban Blues Project pres. Michael Procter - Love Don't Live (Original Vibe Mix).wav\", \"v_Urban Blues Project pres. Michael Procter - Love Don't Live (Original Vibe Mix).wav\", \"v_Urban Blues Project pres. Michael Procter - Love Don't Live (Original Vibe Mix).wav\", \"v_Urban Blues Project pres. Michael Procter - Love Don't Live (Original Vibe Mix).wav\", \"v_Urban Blues Project pres. Michael Procter - Love Don't Live (Original Vibe Mix).wav\", \"v_Urban Blues Project pres. Michael Procter - Love Don't Live (Original Vibe Mix).wav\", \"v_Urban Blues Project pres. Michael Procter - Love Don't Live (Original Vibe Mix).wav\", \"v_Urban Blues Project pres. Michael Procter - Love Don't Live (Original Vibe Mix).wav\"], \"type\": \"scatter\", \"x\": [-0.06432688738323886, 0.08652940178244854, -0.10160310263327119, 0.053022918035172464, 0.06888928965458002, -0.7090817359310486, -0.27525246517789775, -0.37952255203234936, 0.05037866123647548, 0.7478933566218129, -0.0628345422515029, -0.12632683733023056, 0.06034594483124085], \"y\": [-0.27286104226741215, -0.19024378760730704, 0.41538698186232176, 0.007218649847762719, -0.1144903104632108, 0.3742228624994008, -0.19440704821356053, 0.47087797689098226, -0.14781834231241814, 0.8092505385009308, -0.008038905228830457, 0.04455980460500086, -0.09377333042374106]}, {\"customdata\": [[-0.49325601996018925, 0.3000031957204319, 0, \"v_Urban Blues Project pres. Michael Procter - Love Don't Live (Soulfuruc Dub).wav\", \"circle\", \"#0044FF\"], [-0.07750781508751235, 0.018318313424140375, 0, \"v_Urban Blues Project pres. Michael Procter - Love Don't Live (Soulfuruc Dub).wav\", \"circle\", \"#0044FF\"], [0.16139942559241602, -0.12782433253241735, 0, \"v_Urban Blues Project pres. Michael Procter - Love Don't Live (Soulfuruc Dub).wav\", \"circle\", \"#0044FF\"], [-0.04312657893457772, -0.007070942703974952, 0, \"v_Urban Blues Project pres. Michael Procter - Love Don't Live (Soulfuruc Dub).wav\", \"circle\", \"#0044FF\"], [-0.22319939007350414, 0.11732532637916623, 0, \"v_Urban Blues Project pres. Michael Procter - Love Don't Live (Soulfuruc Dub).wav\", \"circle\", \"#0044FF\"], [-0.3569243601274344, 0.31712725525018814, 0, \"v_Urban Blues Project pres. Michael Procter - Love Don't Live (Soulfuruc Dub).wav\", \"circle\", \"#0044FF\"], [1.4366539086262795, 0.3874370438476781, 0, \"v_Urban Blues Project pres. Michael Procter - Love Don't Live (Soulfuruc Dub).wav\", \"circle\", \"#0044FF\"], [-0.0681136611917464, -0.4712932683765832, 0, \"v_Urban Blues Project pres. Michael Procter - Love Don't Live (Soulfuruc Dub).wav\", \"circle\", \"#0044FF\"], [-0.11873822158509707, 0.5514731610318623, 0, \"v_Urban Blues Project pres. Michael Procter - Love Don't Live (Soulfuruc Dub).wav\", \"circle\", \"#0044FF\"], [0.47779149575164753, -0.28102248004682906, 0, \"v_Urban Blues Project pres. Michael Procter - Love Don't Live (Soulfuruc Dub).wav\", \"circle\", \"#0044FF\"], [0.10025385040182364, -0.21466555342592705, 0, \"v_Urban Blues Project pres. Michael Procter - Love Don't Live (Soulfuruc Dub).wav\", \"circle\", \"#0044FF\"]], \"hovertemplate\": \"<b>%{customdata[3]}</b><br>(%{x:.3f},%{y:.3f})<extra>%{customdata[2]}</extra>\", \"marker\": {\"color\": [\"#0044FF\", \"#0044FF\", \"#0044FF\", \"#0044FF\", \"#0044FF\", \"#0044FF\", \"#0044FF\", \"#0044FF\", \"#0044FF\", \"#0044FF\", \"#0044FF\"], \"symbol\": [\"circle\", \"circle\", \"circle\", \"circle\", \"circle\", \"circle\", \"circle\", \"circle\", \"circle\", \"circle\", \"circle\"]}, \"mode\": \"markers\", \"name\": \"50\", \"text\": [\"v_Urban Blues Project pres. Michael Procter - Love Don't Live (Soulfuruc Dub).wav\", \"v_Urban Blues Project pres. Michael Procter - Love Don't Live (Soulfuruc Dub).wav\", \"v_Urban Blues Project pres. Michael Procter - Love Don't Live (Soulfuruc Dub).wav\", \"v_Urban Blues Project pres. Michael Procter - Love Don't Live (Soulfuruc Dub).wav\", \"v_Urban Blues Project pres. Michael Procter - Love Don't Live (Soulfuruc Dub).wav\", \"v_Urban Blues Project pres. Michael Procter - Love Don't Live (Soulfuruc Dub).wav\", \"v_Urban Blues Project pres. Michael Procter - Love Don't Live (Soulfuruc Dub).wav\", \"v_Urban Blues Project pres. Michael Procter - Love Don't Live (Soulfuruc Dub).wav\", \"v_Urban Blues Project pres. Michael Procter - Love Don't Live (Soulfuruc Dub).wav\", \"v_Urban Blues Project pres. Michael Procter - Love Don't Live (Soulfuruc Dub).wav\", \"v_Urban Blues Project pres. Michael Procter - Love Don't Live (Soulfuruc Dub).wav\"], \"type\": \"scatter\", \"x\": [-0.49325601996018925, -0.07750781508751235, 0.16139942559241602, -0.04312657893457772, -0.22319939007350414, -0.3569243601274344, 1.4366539086262795, -0.0681136611917464, -0.11873822158509707, 0.47779149575164753, 0.10025385040182364], \"y\": [0.3000031957204319, 0.018318313424140375, -0.12782433253241735, -0.007070942703974952, 0.11732532637916623, 0.31712725525018814, 0.3874370438476781, -0.4712932683765832, 0.5514731610318623, -0.28102248004682906, -0.21466555342592705]}, {\"customdata\": [[0.7678462391427162, 0.790630719947973, 2, \"Weisz2 & Aladin Anyebe - Ko Si Eda To Mola (Henrik Schwarz Remix).wav\", \"circle\", \"#48a832\"], [-0.19133472903762364, -0.04554144581563374, 2, \"Weisz2 & Aladin Anyebe - Ko Si Eda To Mola (Henrik Schwarz Remix).wav\", \"circle\", \"#48a832\"], [0.6456334748879783, 0.40932399544083997, 2, \"Weisz2 & Aladin Anyebe - Ko Si Eda To Mola (Henrik Schwarz Remix).wav\", \"circle\", \"#48a832\"], [-0.2779879148678147, -0.029618253087213466, 2, \"Weisz2 & Aladin Anyebe - Ko Si Eda To Mola (Henrik Schwarz Remix).wav\", \"circle\", \"#48a832\"], [0.04411827440402559, 0.26233805023291196, 2, \"Weisz2 & Aladin Anyebe - Ko Si Eda To Mola (Henrik Schwarz Remix).wav\", \"circle\", \"#48a832\"], [0.09277864441826493, -0.08511694876004597, 2, \"Weisz2 & Aladin Anyebe - Ko Si Eda To Mola (Henrik Schwarz Remix).wav\", \"circle\", \"#48a832\"], [0.15935161819766075, -0.03673490617530819, 2, \"Weisz2 & Aladin Anyebe - Ko Si Eda To Mola (Henrik Schwarz Remix).wav\", \"circle\", \"#48a832\"], [-0.278035457166902, 0.32430116522662644, 2, \"Weisz2 & Aladin Anyebe - Ko Si Eda To Mola (Henrik Schwarz Remix).wav\", \"circle\", \"#48a832\"], [-0.19272228931741134, 0.34373221356060485, 2, \"Weisz2 & Aladin Anyebe - Ko Si Eda To Mola (Henrik Schwarz Remix).wav\", \"circle\", \"#48a832\"], [-0.038448730032368816, 0.5787774295065276, 2, \"Weisz2 & Aladin Anyebe - Ko Si Eda To Mola (Henrik Schwarz Remix).wav\", \"circle\", \"#48a832\"], [0.3641143588176598, 0.19727310730698933, 2, \"Weisz2 & Aladin Anyebe - Ko Si Eda To Mola (Henrik Schwarz Remix).wav\", \"circle\", \"#48a832\"], [-0.4289735856908994, -0.5351446064896427, 2, \"Weisz2 & Aladin Anyebe - Ko Si Eda To Mola (Henrik Schwarz Remix).wav\", \"circle\", \"#48a832\"], [-0.6829553109544702, 0.3838273239727641, 2, \"Weisz2 & Aladin Anyebe - Ko Si Eda To Mola (Henrik Schwarz Remix).wav\", \"circle\", \"#48a832\"], [0.40813783763761, -0.38282001071668137, 2, \"Weisz2 & Aladin Anyebe - Ko Si Eda To Mola (Henrik Schwarz Remix).wav\", \"circle\", \"#48a832\"], [0.6967893092015685, -0.2590256084120362, 2, \"Weisz2 & Aladin Anyebe - Ko Si Eda To Mola (Henrik Schwarz Remix).wav\", \"circle\", \"#48a832\"]], \"hovertemplate\": \"<b>%{customdata[3]}</b><br>(%{x:.3f},%{y:.3f})<extra>%{customdata[2]}</extra>\", \"marker\": {\"color\": [\"#48a832\", \"#48a832\", \"#48a832\", \"#48a832\", \"#48a832\", \"#48a832\", \"#48a832\", \"#48a832\", \"#48a832\", \"#48a832\", \"#48a832\", \"#48a832\", \"#48a832\", \"#48a832\", \"#48a832\"], \"symbol\": [\"circle\", \"circle\", \"circle\", \"circle\", \"circle\", \"circle\", \"circle\", \"circle\", \"circle\", \"circle\", \"circle\", \"circle\", \"circle\", \"circle\", \"circle\"]}, \"mode\": \"markers\", \"name\": \"51\", \"text\": [\"Weisz2 & Aladin Anyebe - Ko Si Eda To Mola (Henrik Schwarz Remix).wav\", \"Weisz2 & Aladin Anyebe - Ko Si Eda To Mola (Henrik Schwarz Remix).wav\", \"Weisz2 & Aladin Anyebe - Ko Si Eda To Mola (Henrik Schwarz Remix).wav\", \"Weisz2 & Aladin Anyebe - Ko Si Eda To Mola (Henrik Schwarz Remix).wav\", \"Weisz2 & Aladin Anyebe - Ko Si Eda To Mola (Henrik Schwarz Remix).wav\", \"Weisz2 & Aladin Anyebe - Ko Si Eda To Mola (Henrik Schwarz Remix).wav\", \"Weisz2 & Aladin Anyebe - Ko Si Eda To Mola (Henrik Schwarz Remix).wav\", \"Weisz2 & Aladin Anyebe - Ko Si Eda To Mola (Henrik Schwarz Remix).wav\", \"Weisz2 & Aladin Anyebe - Ko Si Eda To Mola (Henrik Schwarz Remix).wav\", \"Weisz2 & Aladin Anyebe - Ko Si Eda To Mola (Henrik Schwarz Remix).wav\", \"Weisz2 & Aladin Anyebe - Ko Si Eda To Mola (Henrik Schwarz Remix).wav\", \"Weisz2 & Aladin Anyebe - Ko Si Eda To Mola (Henrik Schwarz Remix).wav\", \"Weisz2 & Aladin Anyebe - Ko Si Eda To Mola (Henrik Schwarz Remix).wav\", \"Weisz2 & Aladin Anyebe - Ko Si Eda To Mola (Henrik Schwarz Remix).wav\", \"Weisz2 & Aladin Anyebe - Ko Si Eda To Mola (Henrik Schwarz Remix).wav\"], \"type\": \"scatter\", \"x\": [0.7678462391427162, -0.19133472903762364, 0.6456334748879783, -0.2779879148678147, 0.04411827440402559, 0.09277864441826493, 0.15935161819766075, -0.278035457166902, -0.19272228931741134, -0.038448730032368816, 0.3641143588176598, -0.4289735856908994, -0.6829553109544702, 0.40813783763761, 0.6967893092015685], \"y\": [0.790630719947973, -0.04554144581563374, 0.40932399544083997, -0.029618253087213466, 0.26233805023291196, -0.08511694876004597, -0.03673490617530819, 0.32430116522662644, 0.34373221356060485, 0.5787774295065276, 0.19727310730698933, -0.5351446064896427, 0.3838273239727641, -0.38282001071668137, -0.2590256084120362]}],\n",
       "                        {\"clickmode\": \"event+select\", \"legend\": {\"bgcolor\": \"LightBlue\", \"bordercolor\": \"Black\", \"borderwidth\": 1, \"font\": {\"color\": \"black\", \"family\": \"Courier\", \"size\": 10}}, \"template\": {\"data\": {\"bar\": [{\"error_x\": {\"color\": \"#2a3f5f\"}, \"error_y\": {\"color\": \"#2a3f5f\"}, \"marker\": {\"line\": {\"color\": \"#E5ECF6\", \"width\": 0.5}}, \"type\": \"bar\"}], \"barpolar\": [{\"marker\": {\"line\": {\"color\": \"#E5ECF6\", \"width\": 0.5}}, \"type\": \"barpolar\"}], \"carpet\": [{\"aaxis\": {\"endlinecolor\": \"#2a3f5f\", \"gridcolor\": \"white\", \"linecolor\": \"white\", \"minorgridcolor\": \"white\", \"startlinecolor\": \"#2a3f5f\"}, \"baxis\": {\"endlinecolor\": \"#2a3f5f\", \"gridcolor\": \"white\", \"linecolor\": \"white\", \"minorgridcolor\": \"white\", \"startlinecolor\": \"#2a3f5f\"}, \"type\": \"carpet\"}], \"choropleth\": [{\"colorbar\": {\"outlinewidth\": 0, \"ticks\": \"\"}, \"type\": \"choropleth\"}], \"contour\": [{\"colorbar\": {\"outlinewidth\": 0, \"ticks\": \"\"}, \"colorscale\": [[0.0, \"#0d0887\"], [0.1111111111111111, \"#46039f\"], [0.2222222222222222, \"#7201a8\"], [0.3333333333333333, \"#9c179e\"], [0.4444444444444444, \"#bd3786\"], [0.5555555555555556, \"#d8576b\"], [0.6666666666666666, \"#ed7953\"], [0.7777777777777778, \"#fb9f3a\"], [0.8888888888888888, \"#fdca26\"], [1.0, \"#f0f921\"]], \"type\": \"contour\"}], \"contourcarpet\": [{\"colorbar\": {\"outlinewidth\": 0, \"ticks\": \"\"}, \"type\": \"contourcarpet\"}], \"heatmap\": [{\"colorbar\": {\"outlinewidth\": 0, \"ticks\": \"\"}, \"colorscale\": [[0.0, \"#0d0887\"], [0.1111111111111111, \"#46039f\"], [0.2222222222222222, \"#7201a8\"], [0.3333333333333333, \"#9c179e\"], [0.4444444444444444, \"#bd3786\"], [0.5555555555555556, \"#d8576b\"], [0.6666666666666666, \"#ed7953\"], [0.7777777777777778, \"#fb9f3a\"], [0.8888888888888888, \"#fdca26\"], [1.0, \"#f0f921\"]], \"type\": \"heatmap\"}], \"heatmapgl\": [{\"colorbar\": {\"outlinewidth\": 0, \"ticks\": \"\"}, \"colorscale\": [[0.0, \"#0d0887\"], [0.1111111111111111, \"#46039f\"], [0.2222222222222222, \"#7201a8\"], [0.3333333333333333, \"#9c179e\"], [0.4444444444444444, \"#bd3786\"], [0.5555555555555556, \"#d8576b\"], [0.6666666666666666, \"#ed7953\"], [0.7777777777777778, \"#fb9f3a\"], [0.8888888888888888, \"#fdca26\"], [1.0, \"#f0f921\"]], \"type\": \"heatmapgl\"}], \"histogram\": [{\"marker\": {\"colorbar\": {\"outlinewidth\": 0, \"ticks\": \"\"}}, \"type\": \"histogram\"}], \"histogram2d\": [{\"colorbar\": {\"outlinewidth\": 0, \"ticks\": \"\"}, \"colorscale\": [[0.0, \"#0d0887\"], [0.1111111111111111, \"#46039f\"], [0.2222222222222222, \"#7201a8\"], [0.3333333333333333, \"#9c179e\"], [0.4444444444444444, \"#bd3786\"], [0.5555555555555556, \"#d8576b\"], [0.6666666666666666, \"#ed7953\"], [0.7777777777777778, \"#fb9f3a\"], [0.8888888888888888, \"#fdca26\"], [1.0, \"#f0f921\"]], \"type\": \"histogram2d\"}], \"histogram2dcontour\": [{\"colorbar\": {\"outlinewidth\": 0, \"ticks\": \"\"}, \"colorscale\": [[0.0, \"#0d0887\"], [0.1111111111111111, \"#46039f\"], [0.2222222222222222, \"#7201a8\"], [0.3333333333333333, \"#9c179e\"], [0.4444444444444444, \"#bd3786\"], [0.5555555555555556, \"#d8576b\"], [0.6666666666666666, \"#ed7953\"], [0.7777777777777778, \"#fb9f3a\"], [0.8888888888888888, \"#fdca26\"], [1.0, \"#f0f921\"]], \"type\": \"histogram2dcontour\"}], \"mesh3d\": [{\"colorbar\": {\"outlinewidth\": 0, \"ticks\": \"\"}, \"type\": \"mesh3d\"}], \"parcoords\": [{\"line\": {\"colorbar\": {\"outlinewidth\": 0, \"ticks\": \"\"}}, \"type\": \"parcoords\"}], \"scatter\": [{\"marker\": {\"colorbar\": {\"outlinewidth\": 0, \"ticks\": \"\"}}, \"type\": \"scatter\"}], \"scatter3d\": [{\"line\": {\"colorbar\": {\"outlinewidth\": 0, \"ticks\": \"\"}}, \"marker\": {\"colorbar\": {\"outlinewidth\": 0, \"ticks\": \"\"}}, \"type\": \"scatter3d\"}], \"scattercarpet\": [{\"marker\": {\"colorbar\": {\"outlinewidth\": 0, \"ticks\": \"\"}}, \"type\": \"scattercarpet\"}], \"scattergeo\": [{\"marker\": {\"colorbar\": {\"outlinewidth\": 0, \"ticks\": \"\"}}, \"type\": \"scattergeo\"}], \"scattergl\": [{\"marker\": {\"colorbar\": {\"outlinewidth\": 0, \"ticks\": \"\"}}, \"type\": \"scattergl\"}], \"scattermapbox\": [{\"marker\": {\"colorbar\": {\"outlinewidth\": 0, \"ticks\": \"\"}}, \"type\": \"scattermapbox\"}], \"scatterpolar\": [{\"marker\": {\"colorbar\": {\"outlinewidth\": 0, \"ticks\": \"\"}}, \"type\": \"scatterpolar\"}], \"scatterpolargl\": [{\"marker\": {\"colorbar\": {\"outlinewidth\": 0, \"ticks\": \"\"}}, \"type\": \"scatterpolargl\"}], \"scatterternary\": [{\"marker\": {\"colorbar\": {\"outlinewidth\": 0, \"ticks\": \"\"}}, \"type\": \"scatterternary\"}], \"surface\": [{\"colorbar\": {\"outlinewidth\": 0, \"ticks\": \"\"}, \"colorscale\": [[0.0, \"#0d0887\"], [0.1111111111111111, \"#46039f\"], [0.2222222222222222, \"#7201a8\"], [0.3333333333333333, \"#9c179e\"], [0.4444444444444444, \"#bd3786\"], [0.5555555555555556, \"#d8576b\"], [0.6666666666666666, \"#ed7953\"], [0.7777777777777778, \"#fb9f3a\"], [0.8888888888888888, \"#fdca26\"], [1.0, \"#f0f921\"]], \"type\": \"surface\"}], \"table\": [{\"cells\": {\"fill\": {\"color\": \"#EBF0F8\"}, \"line\": {\"color\": \"white\"}}, \"header\": {\"fill\": {\"color\": \"#C8D4E3\"}, \"line\": {\"color\": \"white\"}}, \"type\": \"table\"}]}, \"layout\": {\"annotationdefaults\": {\"arrowcolor\": \"#2a3f5f\", \"arrowhead\": 0, \"arrowwidth\": 1}, \"colorscale\": {\"diverging\": [[0, \"#8e0152\"], [0.1, \"#c51b7d\"], [0.2, \"#de77ae\"], [0.3, \"#f1b6da\"], [0.4, \"#fde0ef\"], [0.5, \"#f7f7f7\"], [0.6, \"#e6f5d0\"], [0.7, \"#b8e186\"], [0.8, \"#7fbc41\"], [0.9, \"#4d9221\"], [1, \"#276419\"]], \"sequential\": [[0.0, \"#0d0887\"], [0.1111111111111111, \"#46039f\"], [0.2222222222222222, \"#7201a8\"], [0.3333333333333333, \"#9c179e\"], [0.4444444444444444, \"#bd3786\"], [0.5555555555555556, \"#d8576b\"], [0.6666666666666666, \"#ed7953\"], [0.7777777777777778, \"#fb9f3a\"], [0.8888888888888888, \"#fdca26\"], [1.0, \"#f0f921\"]], \"sequentialminus\": [[0.0, \"#0d0887\"], [0.1111111111111111, \"#46039f\"], [0.2222222222222222, \"#7201a8\"], [0.3333333333333333, \"#9c179e\"], [0.4444444444444444, \"#bd3786\"], [0.5555555555555556, \"#d8576b\"], [0.6666666666666666, \"#ed7953\"], [0.7777777777777778, \"#fb9f3a\"], [0.8888888888888888, \"#fdca26\"], [1.0, \"#f0f921\"]]}, \"colorway\": [\"#636efa\", \"#EF553B\", \"#00cc96\", \"#ab63fa\", \"#FFA15A\", \"#19d3f3\", \"#FF6692\", \"#B6E880\", \"#FF97FF\", \"#FECB52\"], \"font\": {\"color\": \"#2a3f5f\"}, \"geo\": {\"bgcolor\": \"white\", \"lakecolor\": \"white\", \"landcolor\": \"#E5ECF6\", \"showlakes\": true, \"showland\": true, \"subunitcolor\": \"white\"}, \"hoverlabel\": {\"align\": \"left\"}, \"hovermode\": \"closest\", \"mapbox\": {\"style\": \"light\"}, \"paper_bgcolor\": \"white\", \"plot_bgcolor\": \"#E5ECF6\", \"polar\": {\"angularaxis\": {\"gridcolor\": \"white\", \"linecolor\": \"white\", \"ticks\": \"\"}, \"bgcolor\": \"#E5ECF6\", \"radialaxis\": {\"gridcolor\": \"white\", \"linecolor\": \"white\", \"ticks\": \"\"}}, \"scene\": {\"xaxis\": {\"backgroundcolor\": \"#E5ECF6\", \"gridcolor\": \"white\", \"gridwidth\": 2, \"linecolor\": \"white\", \"showbackground\": true, \"ticks\": \"\", \"zerolinecolor\": \"white\"}, \"yaxis\": {\"backgroundcolor\": \"#E5ECF6\", \"gridcolor\": \"white\", \"gridwidth\": 2, \"linecolor\": \"white\", \"showbackground\": true, \"ticks\": \"\", \"zerolinecolor\": \"white\"}, \"zaxis\": {\"backgroundcolor\": \"#E5ECF6\", \"gridcolor\": \"white\", \"gridwidth\": 2, \"linecolor\": \"white\", \"showbackground\": true, \"ticks\": \"\", \"zerolinecolor\": \"white\"}}, \"shapedefaults\": {\"line\": {\"color\": \"#2a3f5f\"}}, \"ternary\": {\"aaxis\": {\"gridcolor\": \"white\", \"linecolor\": \"white\", \"ticks\": \"\"}, \"baxis\": {\"gridcolor\": \"white\", \"linecolor\": \"white\", \"ticks\": \"\"}, \"bgcolor\": \"#E5ECF6\", \"caxis\": {\"gridcolor\": \"white\", \"linecolor\": \"white\", \"ticks\": \"\"}}, \"title\": {\"x\": 0.05}, \"xaxis\": {\"automargin\": true, \"gridcolor\": \"white\", \"linecolor\": \"white\", \"ticks\": \"\", \"zerolinecolor\": \"white\", \"zerolinewidth\": 2}, \"yaxis\": {\"automargin\": true, \"gridcolor\": \"white\", \"linecolor\": \"white\", \"ticks\": \"\", \"zerolinecolor\": \"white\", \"zerolinewidth\": 2}}}, \"title\": {\"text\": \"Clasificaci\\u00f3n de secciones importantes de canciones\"}, \"xaxis\": {\"range\": [-1.0066581402013948, 1.5852126220139269]}, \"yaxis\": {\"range\": [-0.9438714117343324, 1.0105325627510047]}},\n",
       "                        {\"responsive\": true}\n",
       "                    ).then(function(){\n",
       "                            \n",
       "var gd = document.getElementById('4c34a512-8468-4d68-b634-ae2db5eabd1c');\n",
       "var x = new MutationObserver(function (mutations, observer) {{\n",
       "        var display = window.getComputedStyle(gd).display;\n",
       "        if (!display || display === 'none') {{\n",
       "            console.log([gd, 'removed!']);\n",
       "            Plotly.purge(gd);\n",
       "            observer.disconnect();\n",
       "        }}\n",
       "}});\n",
       "\n",
       "// Listen for the removal of the full notebook cells\n",
       "var notebookContainer = gd.closest('#notebook-container');\n",
       "if (notebookContainer) {{\n",
       "    x.observe(notebookContainer, {childList: true});\n",
       "}}\n",
       "\n",
       "// Listen for the clearing of the current output cell\n",
       "var outputEl = gd.closest('.output');\n",
       "if (outputEl) {{\n",
       "    x.observe(outputEl, {childList: true});\n",
       "}}\n",
       "\n",
       "                        })\n",
       "                };\n",
       "                });\n",
       "            </script>\n",
       "        </div>"
      ]
     },
     "metadata": {},
     "output_type": "display_data"
    }
   ],
   "source": [
    "import plotly.graph_objects as go\n",
    "\n",
    "fig = go.Figure()\n",
    "colors = {0: '#0044FF', 1:'#751017', 2:'#48a832', 3:'#6b1075'}\n",
    "song_array = reduced_data['f'].unique()\n",
    "for i, song in enumerate(song_array):\n",
    "    tmp = reduced_data.loc[reduced_data['f'] == song, :].copy()\n",
    "    tmp['color'] = tmp['yhat'].apply(lambda x: colors[x])\n",
    "    tmp_fig = go.Scatter(x=tmp['x'], y=tmp['y'], name=str(i), mode='markers', marker_color=tmp['color'],\n",
    "                         marker_symbol=tmp['marker'], text=tmp['f'], customdata = tmp)\n",
    "    fig.add_trace(tmp_fig)\n",
    "    \n",
    "\n",
    "fig.update_traces(hovertemplate='<b>%{customdata[3]}</b><br>(%{x:.3f},%{y:.3f})<extra>%{customdata[2]}</extra>')\n",
    "fig.update_layout(\n",
    "    legend=dict(\n",
    "        font=dict(\n",
    "            family=\"Courier\",\n",
    "            size=10,\n",
    "            color=\"black\"\n",
    "        ),\n",
    "        bgcolor=\"LightBlue\",\n",
    "        bordercolor=\"Black\",\n",
    "        borderwidth=1\n",
    "    ),\n",
    "    clickmode = \"event+select\",\n",
    "    xaxis_range=(reduced_data['x'].min()-0.1, reduced_data['x'].max()+0.1),\n",
    "    yaxis_range=(reduced_data['y'].min()-0.1, reduced_data['y'].max()+0.1),\n",
    "    title=\"Clasificación de secciones importantes de canciones\"\n",
    ")\n",
    "\n",
    "\n",
    "fig.show()"
   ]
  },
  {
   "attachments": {
    "image.png": {
     "image/png": "[encoded data removed]"
    }
   },
   "cell_type": "markdown",
   "metadata": {},
   "source": [
    "## Conclusión\n",
    "\n",
    "Se observa el acercamiento con KNN no es bueno para esta data dado que requiere una clasificación  previa más robusta se observa que una misma canción puede estar demasiado dispersa sin tener ningún patrón, esto se debe a que secciones de una misma canción pueden pertennecer a distintos grupos y la casificación preeliminar notiene en cuenta esto.\n",
    "\n",
    "Esto se puede ver evaluando una canción en el cual de todas las posibles combinaciones, no calsificó de manera correcta en ningún caso:\n",
    "![image.png](attachment:image.png)"
   ]
  }
 ],
 "metadata": {
  "kernelspec": {
   "display_name": "Python 3",
   "language": "python",
   "name": "python3"
  },
  "language_info": {
   "codemirror_mode": {
    "name": "ipython",
    "version": 3
   },
   "file_extension": ".py",
   "mimetype": "text/x-python",
   "name": "python",
   "nbconvert_exporter": "python",
   "pygments_lexer": "ipython3",
   "version": "3.8.10"
  }
 },
 "nbformat": 4,
 "nbformat_minor": 4
}
